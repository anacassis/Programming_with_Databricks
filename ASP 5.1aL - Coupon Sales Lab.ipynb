{
 "cells": [
  {
   "cell_type": "markdown",
   "metadata": {
    "application/vnd.databricks.v1+cell": {
     "cellMetadata": {
      "byteLimit": 2048000,
      "rowLimit": 10000
     },
     "inputWidgets": {},
     "nuid": "152a7e99-87a1-4955-bd1f-142f396c710f",
     "showTitle": false,
     "title": ""
    }
   },
   "source": [
    "\n",
    "<div style=\"text-align: center; line-height: 0; padding-top: 9px;\">\n",
    "  <img src=\"https://databricks.com/wp-content/uploads/2018/03/db-academy-rgb-1200px.png\" alt=\"Databricks Learning\" style=\"width: 600px\">\n",
    "</div>"
   ]
  },
  {
   "cell_type": "markdown",
   "metadata": {
    "application/vnd.databricks.v1+cell": {
     "cellMetadata": {
      "byteLimit": 2048000,
      "rowLimit": 10000
     },
     "inputWidgets": {},
     "nuid": "7d0c4ded-5de7-4b70-a1e3-a9d6757c3732",
     "showTitle": false,
     "title": "--i18n-c22511ee-b15c-4a9f-a051-c905b8e344e9"
    }
   },
   "source": [
    "\n",
    "\n",
    "# Coupon Sales Lab\n",
    "Process and append streaming data on transactions using coupons.\n",
    "1. Read data stream\n",
    "2. Filter for transactions with coupons codes\n",
    "3. Write streaming query results to Delta\n",
    "4. Monitor streaming query\n",
    "5. Stop streaming query\n",
    "\n",
    "##### Classes\n",
    "- <a href=\"https://spark.apache.org/docs/latest/api/python/reference/pyspark.ss/api/pyspark.sql.streaming.DataStreamReader.html\" target=\"_blank\">DataStreamReader</a>\n",
    "- <a href=\"https://spark.apache.org/docs/latest/api/python/reference/pyspark.ss/api/pyspark.sql.streaming.DataStreamWriter.html\" target=\"_blank\">DataStreamWriter</a>\n",
    "- <a href=\"https://spark.apache.org/docs/latest/api/python/reference/pyspark.ss/api/pyspark.sql.streaming.StreamingQuery.html\" target=\"_blank\">StreamingQuery</a>"
   ]
  },
  {
   "cell_type": "code",
   "execution_count": 0,
   "metadata": {
    "application/vnd.databricks.v1+cell": {
     "cellMetadata": {
      "byteLimit": 2048000,
      "rowLimit": 10000
     },
     "inputWidgets": {},
     "nuid": "30f47a03-0f63-4b55-ab94-190f343f4449",
     "showTitle": false,
     "title": ""
    }
   },
   "outputs": [
    {
     "output_type": "stream",
     "name": "stdout",
     "output_type": "stream",
     "text": [
      "Resetting the learning environment:\n| dropping the schema \"anacadriano20_6ryf_da_asp\"...(1 seconds)\n| removing the working directory \"dbfs:/mnt/dbacademy-users/anacadriano20@gmail.com/apache-spark-programming-with-databricks\"...(2 seconds)\n\nSkipping install of existing datasets to \"dbfs:/mnt/dbacademy-datasets/apache-spark-programming-with-databricks/v03\"\n\nValidating the locally installed datasets:\n| listing local files...(3 seconds)\n| validation completed...(3 seconds total)\n\nCreating & using the schema \"anacadriano20_6ryf_da_asp\" in the catalog \"spark_catalog\"...(0 seconds)\n\nPredefined tables in \"anacadriano20_6ryf_da_asp\":\n| -none-\n\nPredefined paths variables:\n| DA.paths.working_dir: dbfs:/mnt/dbacademy-users/anacadriano20@gmail.com/apache-spark-programming-with-databricks\n| DA.paths.user_db:     dbfs:/mnt/dbacademy-users/anacadriano20@gmail.com/apache-spark-programming-with-databricks/database.db\n| DA.paths.datasets:    dbfs:/mnt/dbacademy-datasets/apache-spark-programming-with-databricks/v03\n| DA.paths.checkpoints: dbfs:/mnt/dbacademy-users/anacadriano20@gmail.com/apache-spark-programming-with-databricks/_checkpoints\n\nSetup completed (7 seconds)\n\nPredefined tables in \"anacadriano20_6ryf_da_asp\":\n| -none-\n\nPredefined paths variables:\n| DA.paths.working_dir: dbfs:/mnt/dbacademy-users/anacadriano20@gmail.com/apache-spark-programming-with-databricks\n| DA.paths.user_db:     dbfs:/mnt/dbacademy-users/anacadriano20@gmail.com/apache-spark-programming-with-databricks/database.db\n| DA.paths.datasets:    dbfs:/mnt/dbacademy-datasets/apache-spark-programming-with-databricks/v03\n| DA.paths.checkpoints: dbfs:/mnt/dbacademy-users/anacadriano20@gmail.com/apache-spark-programming-with-databricks/_checkpoints\n| DA.paths.sales:       dbfs:/mnt/dbacademy-datasets/apache-spark-programming-with-databricks/v03/ecommerce/sales/sales.delta\n| DA.paths.users:       dbfs:/mnt/dbacademy-datasets/apache-spark-programming-with-databricks/v03/ecommerce/users/users.delta\n| DA.paths.events:      dbfs:/mnt/dbacademy-datasets/apache-spark-programming-with-databricks/v03/ecommerce/events/events.delta\n| DA.paths.products:    dbfs:/mnt/dbacademy-datasets/apache-spark-programming-with-databricks/v03/products/products.delta\n\nSetup completed (7 seconds)\n"
     ]
    }
   ],
   "source": [
    "%run ../Includes/Classroom-Setup-5.1a"
   ]
  },
  {
   "cell_type": "markdown",
   "metadata": {
    "application/vnd.databricks.v1+cell": {
     "cellMetadata": {
      "byteLimit": 2048000,
      "rowLimit": 10000
     },
     "inputWidgets": {},
     "nuid": "7ce70c75-79be-4cd7-8c9d-90c02997598f",
     "showTitle": false,
     "title": "--i18n-d166abd5-a348-46f9-8134-72f510207bc1"
    }
   },
   "source": [
    "\n",
    "\n",
    "### 1. Read data stream\n",
    "- Set to process 1 file per trigger\n",
    "- Read from Delta files in the source directory specified by **`DA.paths.sales`**\n",
    "\n",
    "Assign the resulting DataFrame to **`df`**."
   ]
  },
  {
   "cell_type": "code",
   "execution_count": 0,
   "metadata": {
    "application/vnd.databricks.v1+cell": {
     "cellMetadata": {
      "byteLimit": 2048000,
      "rowLimit": 10000
     },
     "inputWidgets": {},
     "nuid": "ad1be0cb-3c29-4542-b93c-49a57f9385f2",
     "showTitle": false,
     "title": ""
    }
   },
   "outputs": [],
   "source": [
    "from pyspark.sql.functions import col,when, current_date, date_format,explode,filter\n",
    "import pyspark.sql.functions as F\n",
    "import pyspark as py"
   ]
  },
  {
   "cell_type": "code",
   "execution_count": 0,
   "metadata": {
    "application/vnd.databricks.v1+cell": {
     "cellMetadata": {
      "byteLimit": 2048000,
      "rowLimit": 10000
     },
     "inputWidgets": {},
     "nuid": "5673f915-8c22-4c37-937d-477b341b594e",
     "showTitle": false,
     "title": ""
    }
   },
   "outputs": [],
   "source": [
    "sale_path = DA.paths.sales"
   ]
  },
  {
   "cell_type": "code",
   "execution_count": 0,
   "metadata": {
    "application/vnd.databricks.v1+cell": {
     "cellMetadata": {
      "byteLimit": 2048000,
      "rowLimit": 10000
     },
     "inputWidgets": {},
     "nuid": "03034cbf-0cb2-46c7-88d4-c2d612cf1f65",
     "showTitle": false,
     "title": ""
    }
   },
   "outputs": [],
   "source": [
    "# TODO\n",
    "df = (spark.readStream.load(sale_path)\n",
    ")"
   ]
  },
  {
   "cell_type": "markdown",
   "metadata": {
    "application/vnd.databricks.v1+cell": {
     "cellMetadata": {
      "byteLimit": 2048000,
      "rowLimit": 10000
     },
     "inputWidgets": {},
     "nuid": "83d229c9-8a45-4a1c-8f77-fff77b3511a3",
     "showTitle": false,
     "title": "--i18n-7655ea48-abe2-4ff2-abf3-3d25e728fbe3"
    }
   },
   "source": [
    "\n",
    "\n",
    "\n",
    "**1.1: CHECK YOUR WORK**"
   ]
  },
  {
   "cell_type": "code",
   "execution_count": 0,
   "metadata": {
    "application/vnd.databricks.v1+cell": {
     "cellMetadata": {
      "byteLimit": 2048000,
      "rowLimit": 10000
     },
     "inputWidgets": {},
     "nuid": "e1040395-95e9-4604-a9dc-0b2f04393b42",
     "showTitle": false,
     "title": ""
    }
   },
   "outputs": [
    {
     "output_type": "display_data",
     "data": {
      "text/html": [
       "<style>\n",
       "      table { text-align: left; border-collapse: collapse; margin: 1em; caption-side: bottom; font-family: Sans-Serif; font-size: 16px}\n",
       "      caption { text-align: left; padding: 5px }\n",
       "      th, td { border: 1px solid #ddd; padding: 5px }\n",
       "      th { background-color: #ddd }\n",
       "      .passed { background-color: #97d897 }\n",
       "      .failed { background-color: #e2716c }\n",
       "      .skipped { background-color: #f9d275 }\n",
       "      .results .points { display: none }\n",
       "      .results .message { display: block; font-size:smaller; color:gray }\n",
       "      .results .note { display: block; font-size:smaller; font-decoration:italics }\n",
       "      .results .passed::before  { content: \"Passed\" }\n",
       "      .results .failed::before  { content: \"Failed\" }\n",
       "      .results .skipped::before { content: \"Skipped\" }\n",
       "      .grade .passed  .message:empty::before { content:\"Passed\" }\n",
       "      .grade .failed  .message:empty::before { content:\"Failed\" }\n",
       "      .grade .skipped .message:empty::before { content:\"Skipped\" }\n",
       "    </style>\n",
       "<table class='results'>\n",
       "  <tr><th class='points'>Points</th><th class='test'>Test</th><th class='result'>Result</th></tr>\n",
       "<tr>\n",
       "  <td class='points'>1</td>\n",
       "  <td class='test'>\n",
       "    The query is streaming\n",
       "  </td>\n",
       "  <td class='result passed'></td>\n",
       "</tr>\n",
       "<tr>\n",
       "  <td class='points'>1</td>\n",
       "  <td class='test'>\n",
       "    DataFrame contains all 7 columns\n",
       "  </td>\n",
       "  <td class='result passed'></td>\n",
       "</tr>\n",
       "  <caption class='points'>Score: 2</caption>\n",
       "</table>"
      ]
     },
     "metadata": {
      "application/vnd.databricks.v1+output": {
       "addedWidgets": {},
       "arguments": {},
       "data": "<style>\n      table { text-align: left; border-collapse: collapse; margin: 1em; caption-side: bottom; font-family: Sans-Serif; font-size: 16px}\n      caption { text-align: left; padding: 5px }\n      th, td { border: 1px solid #ddd; padding: 5px }\n      th { background-color: #ddd }\n      .passed { background-color: #97d897 }\n      .failed { background-color: #e2716c }\n      .skipped { background-color: #f9d275 }\n      .results .points { display: none }\n      .results .message { display: block; font-size:smaller; color:gray }\n      .results .note { display: block; font-size:smaller; font-decoration:italics }\n      .results .passed::before  { content: \"Passed\" }\n      .results .failed::before  { content: \"Failed\" }\n      .results .skipped::before { content: \"Skipped\" }\n      .grade .passed  .message:empty::before { content:\"Passed\" }\n      .grade .failed  .message:empty::before { content:\"Failed\" }\n      .grade .skipped .message:empty::before { content:\"Skipped\" }\n    </style>\n<table class='results'>\n  <tr><th class='points'>Points</th><th class='test'>Test</th><th class='result'>Result</th></tr>\n<tr>\n  <td class='points'>1</td>\n  <td class='test'>\n    The query is streaming\n  </td>\n  <td class='result passed'></td>\n</tr>\n<tr>\n  <td class='points'>1</td>\n  <td class='test'>\n    DataFrame contains all 7 columns\n  </td>\n  <td class='result passed'></td>\n</tr>\n  <caption class='points'>Score: 2</caption>\n</table>",
       "datasetInfos": [],
       "metadata": {},
       "removedWidgets": [],
       "textData": null,
       "type": "htmlSandbox"
      }
     },
     "output_type": "display_data"
    }
   ],
   "source": [
    "DA.tests.validate_1_1(df)"
   ]
  },
  {
   "cell_type": "markdown",
   "metadata": {
    "application/vnd.databricks.v1+cell": {
     "cellMetadata": {
      "byteLimit": 2048000,
      "rowLimit": 10000
     },
     "inputWidgets": {},
     "nuid": "7baa1653-17cc-43a3-84bb-ce4dc28315cb",
     "showTitle": false,
     "title": "--i18n-d3f81153-b55d-4ce8-9012-91fd09185880"
    }
   },
   "source": [
    "\n",
    "\n",
    "### 2. Filter for transactions with coupon codes\n",
    "- Explode the **`items`** field in **`df`** with the results replacing the existing **`items`** field\n",
    "- Filter for records where **`items.coupon`** is not null\n",
    "\n",
    "Assign the resulting DataFrame to **`coupon_sales_df`**."
   ]
  },
  {
   "cell_type": "code",
   "execution_count": 0,
   "metadata": {
    "application/vnd.databricks.v1+cell": {
     "cellMetadata": {
      "byteLimit": 2048000,
      "rowLimit": 10000
     },
     "inputWidgets": {},
     "nuid": "884774be-ca16-47e7-a332-f461603ff198",
     "showTitle": false,
     "title": ""
    }
   },
   "outputs": [],
   "source": [
    "#itens_exp = df.explode('items')\n",
    "#df.select(explode(df.items).alias(\"anInt\")).collect()\n",
    "\n",
    "df_explodido = df.select(\"order_id\",explode(\"items\").alias('items'))\n",
    "\n",
    "display(df_explodido)\n"
   ]
  },
  {
   "cell_type": "code",
   "execution_count": 0,
   "metadata": {
    "application/vnd.databricks.v1+cell": {
     "cellMetadata": {
      "byteLimit": 2048000,
      "rowLimit": 10000
     },
     "inputWidgets": {},
     "nuid": "31366194-838a-450f-92df-f210c64f660a",
     "showTitle": false,
     "title": ""
    }
   },
   "outputs": [
    {
     "output_type": "display_data",
     "data": {
      "text/html": [
       "<style scoped>\n",
       "  .table-result-container {\n",
       "    max-height: 300px;\n",
       "    overflow: auto;\n",
       "  }\n",
       "  table, th, td {\n",
       "    border: 1px solid black;\n",
       "    border-collapse: collapse;\n",
       "  }\n",
       "  th, td {\n",
       "    padding: 5px;\n",
       "  }\n",
       "  th {\n",
       "    text-align: left;\n",
       "  }\n",
       "</style><div class='table-result-container'><table class='table-result'><thead style='background-color: white'><tr><th>order_id</th><th>email</th><th>transaction_timestamp</th><th>total_item_quantity</th><th>purchase_revenue_in_usd</th><th>unique_items</th><th>items</th></tr></thead><tbody><tr><td>278205</td><td>christianlee@chambers.com</td><td>1592466913204896</td><td>1</td><td>940.5</td><td>1</td><td>List(NEWBED10, M_STAN_Q, Standard Queen Mattress, 940.5, 1045.0, 1)</td></tr><tr><td>270871</td><td>ahuynh@gmail.com</td><td>1592387393915138</td><td>1</td><td>1615.5</td><td>1</td><td>List(NEWBED10, M_PREM_Q, Premium Queen Mattress, 1615.5, 1795.0, 1)</td></tr><tr><td>287904</td><td>melissa02@yahoo.com</td><td>1592554089814096</td><td>1</td><td>1795.5</td><td>1</td><td>List(NEWBED10, M_PREM_K, Premium King Mattress, 1795.5, 1995.0, 1)</td></tr><tr><td>308305</td><td>christopherflores@hotmail.com</td><td>1592685784726468</td><td>1</td><td>535.5</td><td>1</td><td>List(NEWBED10, M_STAN_T, Standard Twin Mattress, 535.5, 595.0, 1)</td></tr><tr><td>324317</td><td>chenderson@beard.com</td><td>1592798192402749</td><td>2</td><td>957.6</td><td>2</td><td>List(NEWBED10, M_STAN_F, Standard Full Mattress, 850.5, 945.0, 1)</td></tr><tr><td>324317</td><td>chenderson@beard.com</td><td>1592798192402749</td><td>2</td><td>957.6</td><td>2</td><td>List(NEWBED10, P_DOWN_S, Standard Down Pillow, 107.10000000000001, 119.0, 1)</td></tr><tr><td>303906</td><td>cindygonzales@yahoo.com</td><td>1592669747826062</td><td>1</td><td>850.5</td><td>1</td><td>List(NEWBED10, M_STAN_F, Standard Full Mattress, 850.5, 945.0, 1)</td></tr><tr><td>301190</td><td>johnsonmarvin@hotmail.com</td><td>1592657875847204</td><td>1</td><td>940.5</td><td>1</td><td>List(NEWBED10, M_STAN_Q, Standard Queen Mattress, 940.5, 1045.0, 1)</td></tr><tr><td>339214</td><td>garciajeremy@humphrey-taylor.com</td><td>1592921716053610</td><td>1</td><td>940.5</td><td>1</td><td>List(NEWBED10, M_STAN_Q, Standard Queen Mattress, 940.5, 1045.0, 1)</td></tr><tr><td>301498</td><td>gonzalezstephanie@harding.com</td><td>1592659690235783</td><td>1</td><td>850.5</td><td>1</td><td>List(NEWBED10, M_STAN_F, Standard Full Mattress, 850.5, 945.0, 1)</td></tr><tr><td>319568</td><td>tammy7373@gmail.com</td><td>1592766063445565</td><td>1</td><td>1795.5</td><td>1</td><td>List(NEWBED10, M_PREM_K, Premium King Mattress, 1795.5, 1995.0, 1)</td></tr><tr><td>324942</td><td>mcarter@morton.com</td><td>1592808015680554</td><td>1</td><td>985.5</td><td>1</td><td>List(NEWBED10, M_PREM_T, Premium Twin Mattress, 985.5, 1095.0, 1)</td></tr><tr><td>347790</td><td>monroechristopher@copeland.com</td><td>1592967281693581</td><td>2</td><td>1182.6</td><td>2</td><td>List(NEWBED10, M_STAN_K, Standard King Mattress, 1075.5, 1195.0, 1)</td></tr><tr><td>347790</td><td>monroechristopher@copeland.com</td><td>1592967281693581</td><td>2</td><td>1182.6</td><td>2</td><td>List(NEWBED10, P_DOWN_S, Standard Down Pillow, 107.10000000000001, 119.0, 1)</td></tr><tr><td>360091</td><td>robertkrueger@armstrong-hughes.biz</td><td>1593059520982470</td><td>1</td><td>1075.5</td><td>1</td><td>List(NEWBED10, M_STAN_K, Standard King Mattress, 1075.5, 1195.0, 1)</td></tr><tr><td>352038</td><td>bshort@malone.com</td><td>1593009703382903</td><td>1</td><td>940.5</td><td>1</td><td>List(NEWBED10, M_STAN_Q, Standard Queen Mattress, 940.5, 1045.0, 1)</td></tr><tr><td>332202</td><td>lnelson43@hotmail.com</td><td>1592857770954474</td><td>1</td><td>53.1</td><td>1</td><td>List(NEWBED10, P_FOAM_S, Standard Foam Pillow, 53.1, 59.0, 1)</td></tr><tr><td>338628</td><td>bryantdennis@gmail.com</td><td>1592918217460305</td><td>2</td><td>1011.6</td><td>2</td><td>List(NEWBED10, M_STAN_Q, Standard Queen Mattress, 940.5, 1045.0, 1)</td></tr><tr><td>338628</td><td>bryantdennis@gmail.com</td><td>1592918217460305</td><td>2</td><td>1011.6</td><td>2</td><td>List(NEWBED10, P_FOAM_K, King Foam Pillow, 71.10000000000001, 79.0, 1)</td></tr><tr><td>347586</td><td>jeffreyward@hotmail.com</td><td>1592965159902709</td><td>1</td><td>940.5</td><td>1</td><td>List(NEWBED10, M_STAN_Q, Standard Queen Mattress, 940.5, 1045.0, 1)</td></tr><tr><td>361392</td><td>rjacobs@hamilton.com</td><td>1593078117486599</td><td>1</td><td>1615.5</td><td>1</td><td>List(NEWBED10, M_PREM_Q, Premium Queen Mattress, 1615.5, 1795.0, 1)</td></tr><tr><td>363447</td><td>aprilhester@gmail.com</td><td>1593094898279798</td><td>1</td><td>535.5</td><td>1</td><td>List(NEWBED10, M_STAN_T, Standard Twin Mattress, 535.5, 595.0, 1)</td></tr><tr><td>349137</td><td>skelly3@hotmail.com</td><td>1592984481417200</td><td>1</td><td>850.5</td><td>1</td><td>List(NEWBED10, M_STAN_F, Standard Full Mattress, 850.5, 945.0, 1)</td></tr><tr><td>370791</td><td>amyhester@gmail.com</td><td>1593142188459174</td><td>1</td><td>53.1</td><td>1</td><td>List(NEWBED10, P_FOAM_S, Standard Foam Pillow, 53.1, 59.0, 1)</td></tr><tr><td>378932</td><td>wprice@rice.com</td><td>1593205504559754</td><td>1</td><td>535.5</td><td>1</td><td>List(NEWBED10, M_STAN_T, Standard Twin Mattress, 535.5, 595.0, 1)</td></tr><tr><td>380085</td><td>aliciarice@hotmail.com</td><td>1593213259648465</td><td>1</td><td>1615.5</td><td>1</td><td>List(NEWBED10, M_PREM_Q, Premium Queen Mattress, 1615.5, 1795.0, 1)</td></tr><tr><td>414978</td><td>jose53@arellano-ashley.com</td><td>1593478597453250</td><td>1</td><td>940.5</td><td>1</td><td>List(NEWBED10, M_STAN_Q, Standard Queen Mattress, 940.5, 1045.0, 1)</td></tr><tr><td>406688</td><td>brooksmargaret@yahoo.com</td><td>1593423090713477</td><td>1</td><td>1075.5</td><td>1</td><td>List(NEWBED10, M_STAN_K, Standard King Mattress, 1075.5, 1195.0, 1)</td></tr><tr><td>407412</td><td>franciscocampbell@chavez.com</td><td>1593431668657940</td><td>1</td><td>985.5</td><td>1</td><td>List(NEWBED10, M_PREM_T, Premium Twin Mattress, 985.5, 1095.0, 1)</td></tr><tr><td>417135</td><td>joanhudson@stewart.com</td><td>1593509483686739</td><td>3</td><td>1979.1</td><td>3</td><td>List(NEWBED10, M_STAN_Q, Standard Queen Mattress, 940.5, 1045.0, 1)</td></tr><tr><td>417135</td><td>joanhudson@stewart.com</td><td>1593509483686739</td><td>3</td><td>1979.1</td><td>3</td><td>List(NEWBED10, M_PREM_T, Premium Twin Mattress, 985.5, 1095.0, 1)</td></tr><tr><td>417135</td><td>joanhudson@stewart.com</td><td>1593509483686739</td><td>3</td><td>1979.1</td><td>3</td><td>List(NEWBED10, P_FOAM_S, Standard Foam Pillow, 53.1, 59.0, 1)</td></tr><tr><td>407327</td><td>rebecca35@mccormick-jenkins.com</td><td>1593430797909452</td><td>1</td><td>1075.5</td><td>1</td><td>List(NEWBED10, M_STAN_K, Standard King Mattress, 1075.5, 1195.0, 1)</td></tr><tr><td>416522</td><td>nfisher59@hotmail.com</td><td>1593500551954833</td><td>1</td><td>1075.5</td><td>1</td><td>List(NEWBED10, M_STAN_K, Standard King Mattress, 1075.5, 1195.0, 1)</td></tr><tr><td>438588</td><td>william72@hotmail.com</td><td>1593661146025090</td><td>1</td><td>535.5</td><td>1</td><td>List(NEWBED10, M_STAN_T, Standard Twin Mattress, 535.5, 595.0, 1)</td></tr><tr><td>436534</td><td>iharrison@smith.biz</td><td>1593641415253787</td><td>2</td><td>1071.0</td><td>1</td><td>List(NEWBED10, M_STAN_T, Standard Twin Mattress, 1071.0, 595.0, 2)</td></tr><tr><td>427685</td><td>suzannecraig@gordon.com</td><td>1593577385337667</td><td>1</td><td>71.10000000000001</td><td>1</td><td>List(NEWBED10, P_FOAM_K, King Foam Pillow, 71.10000000000001, 79.0, 1)</td></tr><tr><td>436263</td><td>mark91@hotmail.com</td><td>1593639672658413</td><td>2</td><td>1071.0</td><td>1</td><td>List(NEWBED10, M_STAN_T, Standard Twin Mattress, 1071.0, 595.0, 2)</td></tr><tr><td>423381</td><td>crystal49@yahoo.com</td><td>1593544995385123</td><td>2</td><td>1128.6</td><td>2</td><td>List(NEWBED10, M_STAN_K, Standard King Mattress, 1075.5, 1195.0, 1)</td></tr><tr><td>423381</td><td>crystal49@yahoo.com</td><td>1593544995385123</td><td>2</td><td>1128.6</td><td>2</td><td>List(NEWBED10, P_FOAM_S, Standard Foam Pillow, 53.1, 59.0, 1)</td></tr><tr><td>450906</td><td>tylerhernandez@hill.net</td><td>1593745528204242</td><td>2</td><td>2061.0</td><td>2</td><td>List(NEWBED10, M_STAN_K, Standard King Mattress, 1075.5, 1195.0, 1)</td></tr><tr><td>450906</td><td>tylerhernandez@hill.net</td><td>1593745528204242</td><td>2</td><td>2061.0</td><td>2</td><td>List(NEWBED10, M_PREM_T, Premium Twin Mattress, 985.5, 1095.0, 1)</td></tr><tr><td>442494</td><td>oconnorjohn@holland.com</td><td>1593700651137541</td><td>1</td><td>535.5</td><td>1</td><td>List(NEWBED10, M_STAN_T, Standard Twin Mattress, 535.5, 595.0, 1)</td></tr><tr><td>427624</td><td>elizabethcruz@rubio.org</td><td>1593576387939533</td><td>2</td><td>2871.0</td><td>2</td><td>List(NEWBED10, M_PREM_K, Premium King Mattress, 1795.5, 1995.0, 1)</td></tr><tr><td>427624</td><td>elizabethcruz@rubio.org</td><td>1593576387939533</td><td>2</td><td>2871.0</td><td>2</td><td>List(NEWBED10, M_STAN_K, Standard King Mattress, 1075.5, 1195.0, 1)</td></tr><tr><td>451699</td><td>masonmadeline@yahoo.com</td><td>1593757565666209</td><td>1</td><td>850.5</td><td>1</td><td>List(NEWBED10, M_STAN_F, Standard Full Mattress, 850.5, 945.0, 1)</td></tr><tr><td>454294</td><td>miguel24@stanley-reyes.com</td><td>1593786122550978</td><td>1</td><td>535.5</td><td>1</td><td>List(NEWBED10, M_STAN_T, Standard Twin Mattress, 535.5, 595.0, 1)</td></tr><tr><td>451010</td><td>yhall@webb.com</td><td>1593746716392257</td><td>1</td><td>940.5</td><td>1</td><td>List(NEWBED10, M_STAN_Q, Standard Queen Mattress, 940.5, 1045.0, 1)</td></tr><tr><td>462774</td><td>huntmaria@gmail.com</td><td>1593843535785542</td><td>1</td><td>1075.5</td><td>1</td><td>List(NEWBED10, M_STAN_K, Standard King Mattress, 1075.5, 1195.0, 1)</td></tr><tr><td>263995</td><td>guzmansara@yahoo.com</td><td>1592301065042559</td><td>1</td><td>535.5</td><td>1</td><td>List(NEWBED10, M_STAN_T, Standard Twin Mattress, 535.5, 595.0, 1)</td></tr><tr><td>298299</td><td>marknorris@stewart-brown.net</td><td>1592624586395691</td><td>1</td><td>850.5</td><td>1</td><td>List(NEWBED10, M_STAN_F, Standard Full Mattress, 850.5, 945.0, 1)</td></tr><tr><td>287607</td><td>joseph09@gmail.com</td><td>1592548446019115</td><td>1</td><td>535.5</td><td>1</td><td>List(NEWBED10, M_STAN_T, Standard Twin Mattress, 535.5, 595.0, 1)</td></tr><tr><td>306523</td><td>fwilson@edwards-carroll.org</td><td>1592678993944923</td><td>2</td><td>1092.6</td><td>2</td><td>List(NEWBED10, M_PREM_T, Premium Twin Mattress, 985.5, 1095.0, 1)</td></tr><tr><td>306523</td><td>fwilson@edwards-carroll.org</td><td>1592678993944923</td><td>2</td><td>1092.6</td><td>2</td><td>List(NEWBED10, P_DOWN_S, Standard Down Pillow, 107.10000000000001, 119.0, 1)</td></tr><tr><td>348368</td><td>tannerjohnson@gomez-lucero.com</td><td>1592974174851479</td><td>1</td><td>1615.5</td><td>1</td><td>List(NEWBED10, M_PREM_Q, Premium Queen Mattress, 1615.5, 1795.0, 1)</td></tr><tr><td>310728</td><td>jeffrey8311@gmail.com</td><td>1592699353736926</td><td>1</td><td>940.5</td><td>1</td><td>List(NEWBED10, M_STAN_Q, Standard Queen Mattress, 940.5, 1045.0, 1)</td></tr><tr><td>340340</td><td>emorton51@yahoo.com</td><td>1592926935309150</td><td>1</td><td>940.5</td><td>1</td><td>List(NEWBED10, M_STAN_Q, Standard Queen Mattress, 940.5, 1045.0, 1)</td></tr><tr><td>324536</td><td>anthonywilliams@henry-allen.com</td><td>1592801433929042</td><td>1</td><td>1075.5</td><td>1</td><td>List(NEWBED10, M_STAN_K, Standard King Mattress, 1075.5, 1195.0, 1)</td></tr><tr><td>326638</td><td>esoto88@yahoo.com</td><td>1592828826398534</td><td>1</td><td>1075.5</td><td>1</td><td>List(NEWBED10, M_STAN_K, Standard King Mattress, 1075.5, 1195.0, 1)</td></tr><tr><td>331809</td><td>xmathis35@gmail.com</td><td>1592856097621857</td><td>3</td><td>1997.1</td><td>3</td><td>List(NEWBED10, M_STAN_K, Standard King Mattress, 1075.5, 1195.0, 1)</td></tr><tr><td>331809</td><td>xmathis35@gmail.com</td><td>1592856097621857</td><td>3</td><td>1997.1</td><td>3</td><td>List(NEWBED10, M_STAN_F, Standard Full Mattress, 850.5, 945.0, 1)</td></tr><tr><td>331809</td><td>xmathis35@gmail.com</td><td>1592856097621857</td><td>3</td><td>1997.1</td><td>3</td><td>List(NEWBED10, P_FOAM_K, King Foam Pillow, 71.10000000000001, 79.0, 1)</td></tr><tr><td>358824</td><td>logananthony@yahoo.com</td><td>1593044541794470</td><td>1</td><td>535.5</td><td>1</td><td>List(NEWBED10, M_STAN_T, Standard Twin Mattress, 535.5, 595.0, 1)</td></tr><tr><td>327408</td><td>ubrown27@hotmail.com</td><td>1592834444578775</td><td>1</td><td>940.5</td><td>1</td><td>List(NEWBED10, M_STAN_Q, Standard Queen Mattress, 940.5, 1045.0, 1)</td></tr><tr><td>369788</td><td>rpotts@yahoo.com</td><td>1593130379272460</td><td>1</td><td>1615.5</td><td>1</td><td>List(NEWBED10, M_PREM_Q, Premium Queen Mattress, 1615.5, 1795.0, 1)</td></tr><tr><td>371174</td><td>ssmith2@hotmail.com</td><td>1593147930879005</td><td>1</td><td>985.5</td><td>1</td><td>List(NEWBED10, M_PREM_T, Premium Twin Mattress, 985.5, 1095.0, 1)</td></tr><tr><td>370875</td><td>jesseellison@gmail.com</td><td>1593143566218045</td><td>1</td><td>535.5</td><td>1</td><td>List(NEWBED10, M_STAN_T, Standard Twin Mattress, 535.5, 595.0, 1)</td></tr><tr><td>359147</td><td>curtisvalencia@yahoo.com</td><td>1593047676684800</td><td>1</td><td>535.5</td><td>1</td><td>List(NEWBED10, M_STAN_T, Standard Twin Mattress, 535.5, 595.0, 1)</td></tr><tr><td>379941</td><td>robertsanders72@gmail.com</td><td>1593212071294650</td><td>1</td><td>1075.5</td><td>1</td><td>List(NEWBED10, M_STAN_K, Standard King Mattress, 1075.5, 1195.0, 1)</td></tr><tr><td>381714</td><td>angelahughes68@gmail.com</td><td>1593232297123330</td><td>1</td><td>535.5</td><td>1</td><td>List(NEWBED10, M_STAN_T, Standard Twin Mattress, 535.5, 595.0, 1)</td></tr><tr><td>377992</td><td>sandra4487@hotmail.com</td><td>1593200440800651</td><td>1</td><td>850.5</td><td>1</td><td>List(NEWBED10, M_STAN_F, Standard Full Mattress, 850.5, 945.0, 1)</td></tr><tr><td>380259</td><td>mlong@yahoo.com</td><td>1593214717103254</td><td>1</td><td>850.5</td><td>1</td><td>List(NEWBED10, M_STAN_F, Standard Full Mattress, 850.5, 945.0, 1)</td></tr><tr><td>407248</td><td>robertcollins@lawrence-cantrell.com</td><td>1593430048446105</td><td>1</td><td>940.5</td><td>1</td><td>List(NEWBED10, M_STAN_Q, Standard Queen Mattress, 940.5, 1045.0, 1)</td></tr><tr><td>394143</td><td>whitneygoodman@yahoo.com</td><td>1593319854701400</td><td>1</td><td>940.5</td><td>1</td><td>List(NEWBED10, M_STAN_Q, Standard Queen Mattress, 940.5, 1045.0, 1)</td></tr><tr><td>386605</td><td>wjones73@yahoo.com</td><td>1593274433216028</td><td>1</td><td>850.5</td><td>1</td><td>List(NEWBED10, M_STAN_F, Standard Full Mattress, 850.5, 945.0, 1)</td></tr><tr><td>382502</td><td>christophersimmons@gutierrez.com</td><td>1593245308053652</td><td>1</td><td>850.5</td><td>1</td><td>List(NEWBED10, M_STAN_F, Standard Full Mattress, 850.5, 945.0, 1)</td></tr><tr><td>406576</td><td>dennisperez@williamson-osborn.org</td><td>1593421562666250</td><td>1</td><td>53.1</td><td>1</td><td>List(NEWBED10, P_FOAM_S, Standard Foam Pillow, 53.1, 59.0, 1)</td></tr><tr><td>405912</td><td>kreynolds81@hotmail.com</td><td>1593410988614043</td><td>1</td><td>1615.5</td><td>1</td><td>List(NEWBED10, M_PREM_Q, Premium Queen Mattress, 1615.5, 1795.0, 1)</td></tr><tr><td>394336</td><td>alexanderjacobs@gmail.com</td><td>1593323139201725</td><td>1</td><td>940.5</td><td>1</td><td>List(NEWBED10, M_STAN_Q, Standard Queen Mattress, 940.5, 1045.0, 1)</td></tr><tr><td>415392</td><td>kellybrian@roach.net</td><td>1593483480949639</td><td>1</td><td>1525.5</td><td>1</td><td>List(NEWBED10, M_PREM_F, Premium Full Mattress, 1525.5, 1695.0, 1)</td></tr><tr><td>425720</td><td>qedwards@crane.com</td><td>1593557286082663</td><td>1</td><td>535.5</td><td>1</td><td>List(NEWBED10, M_STAN_T, Standard Twin Mattress, 535.5, 595.0, 1)</td></tr><tr><td>415598</td><td>mary83@anderson.biz</td><td>1593486231492268</td><td>1</td><td>535.5</td><td>1</td><td>List(NEWBED10, M_STAN_T, Standard Twin Mattress, 535.5, 595.0, 1)</td></tr><tr><td>430453</td><td>donald03@gmail.com</td><td>1593609348489421</td><td>1</td><td>535.5</td><td>1</td><td>List(NEWBED10, M_STAN_T, Standard Twin Mattress, 535.5, 595.0, 1)</td></tr><tr><td>436737</td><td>evan29@meyers.org</td><td>1593642852183671</td><td>2</td><td>1071.0</td><td>1</td><td>List(NEWBED10, M_STAN_T, Standard Twin Mattress, 1071.0, 595.0, 2)</td></tr><tr><td>415742</td><td>adam42@hotmail.com</td><td>1593488473461232</td><td>1</td><td>535.5</td><td>1</td><td>List(NEWBED10, M_STAN_T, Standard Twin Mattress, 535.5, 595.0, 1)</td></tr><tr><td>414487</td><td>zjoseph@gmail.com</td><td>1593473909453688</td><td>1</td><td>1615.5</td><td>1</td><td>List(NEWBED10, M_PREM_Q, Premium Queen Mattress, 1615.5, 1795.0, 1)</td></tr><tr><td>441936</td><td>robert05@patel-martinez.com</td><td>1593697854098890</td><td>1</td><td>1615.5</td><td>1</td><td>List(NEWBED10, M_PREM_Q, Premium Queen Mattress, 1615.5, 1795.0, 1)</td></tr><tr><td>445681</td><td>briancollier@smith.com</td><td>1593713694977426</td><td>1</td><td>535.5</td><td>1</td><td>List(NEWBED10, M_STAN_T, Standard Twin Mattress, 535.5, 595.0, 1)</td></tr><tr><td>464762</td><td>john4385@gmail.com</td><td>1593865294658656</td><td>1</td><td>1615.5</td><td>1</td><td>List(NEWBED10, M_PREM_Q, Premium Queen Mattress, 1615.5, 1795.0, 1)</td></tr><tr><td>453212</td><td>dsmith@castro.com</td><td>1593778379851073</td><td>1</td><td>940.5</td><td>1</td><td>List(NEWBED10, M_STAN_Q, Standard Queen Mattress, 940.5, 1045.0, 1)</td></tr><tr><td>299800</td><td>newtonlonnie@long.com</td><td>1592647413832764</td><td>1</td><td>535.5</td><td>1</td><td>List(NEWBED10, M_STAN_T, Standard Twin Mattress, 535.5, 595.0, 1)</td></tr><tr><td>312025</td><td>brandon50@burton.com</td><td>1592713107906833</td><td>1</td><td>985.5</td><td>1</td><td>List(NEWBED10, M_PREM_T, Premium Twin Mattress, 985.5, 1095.0, 1)</td></tr><tr><td>298472</td><td>cpierce69@yahoo.com</td><td>1592627485346653</td><td>1</td><td>1615.5</td><td>1</td><td>List(NEWBED10, M_PREM_Q, Premium Queen Mattress, 1615.5, 1795.0, 1)</td></tr><tr><td>295368</td><td>phillip18@mitchell.com</td><td>1592600048066769</td><td>1</td><td>1615.5</td><td>1</td><td>List(NEWBED10, M_PREM_Q, Premium Queen Mattress, 1615.5, 1795.0, 1)</td></tr><tr><td>299316</td><td>benjaminvaldez@walker.com</td><td>1592641550505450</td><td>1</td><td>107.10000000000001</td><td>1</td><td>List(NEWBED10, P_DOWN_S, Standard Down Pillow, 107.10000000000001, 119.0, 1)</td></tr><tr><td>289627</td><td>upena@hotmail.com</td><td>1592572934230332</td><td>1</td><td>535.5</td><td>1</td><td>List(NEWBED10, M_STAN_T, Standard Twin Mattress, 535.5, 595.0, 1)</td></tr><tr><td>309840</td><td>asalazar69@yahoo.com</td><td>1592693373190305</td><td>1</td><td>1795.5</td><td>1</td><td>List(NEWBED10, M_PREM_K, Premium King Mattress, 1795.5, 1995.0, 1)</td></tr><tr><td>298456</td><td>roy47@yahoo.com</td><td>1592627282227416</td><td>1</td><td>850.5</td><td>1</td><td>List(NEWBED10, M_STAN_F, Standard Full Mattress, 850.5, 945.0, 1)</td></tr><tr><td>299914</td><td>rodriguezchris@bennett.org</td><td>1592648559520604</td><td>1</td><td>940.5</td><td>1</td><td>List(NEWBED10, M_STAN_Q, Standard Queen Mattress, 940.5, 1045.0, 1)</td></tr><tr><td>310659</td><td>hwilson29@hotmail.com</td><td>1592698805720566</td><td>1</td><td>1075.5</td><td>1</td><td>List(NEWBED10, M_STAN_K, Standard King Mattress, 1075.5, 1195.0, 1)</td></tr><tr><td>313622</td><td>jasondavis@hotmail.com</td><td>1592735476379412</td><td>1</td><td>535.5</td><td>1</td><td>List(NEWBED10, M_STAN_T, Standard Twin Mattress, 535.5, 595.0, 1)</td></tr><tr><td>324434</td><td>butlervickie@hotmail.com</td><td>1592799900254052</td><td>1</td><td>535.5</td><td>1</td><td>List(NEWBED10, M_STAN_T, Standard Twin Mattress, 535.5, 595.0, 1)</td></tr><tr><td>314979</td><td>cmoran@cervantes-bradford.com</td><td>1592745968104414</td><td>1</td><td>940.5</td><td>1</td><td>List(NEWBED10, M_STAN_Q, Standard Queen Mattress, 940.5, 1045.0, 1)</td></tr><tr><td>326112</td><td>bryan45@meyer.com</td><td>1592824085586009</td><td>1</td><td>1615.5</td><td>1</td><td>List(NEWBED10, M_PREM_Q, Premium Queen Mattress, 1615.5, 1795.0, 1)</td></tr><tr><td>325889</td><td>michelle9132@gmail.com</td><td>1592821609039741</td><td>1</td><td>985.5</td><td>1</td><td>List(NEWBED10, M_PREM_T, Premium Twin Mattress, 985.5, 1095.0, 1)</td></tr><tr><td>337544</td><td>amandalee@yahoo.com</td><td>1592909951916466</td><td>1</td><td>1795.5</td><td>1</td><td>List(NEWBED10, M_PREM_K, Premium King Mattress, 1795.5, 1995.0, 1)</td></tr><tr><td>325281</td><td>webersarah@anderson-garcia.biz</td><td>1592813595715409</td><td>1</td><td>940.5</td><td>1</td><td>List(NEWBED10, M_STAN_Q, Standard Queen Mattress, 940.5, 1045.0, 1)</td></tr><tr><td>342820</td><td>timothymorris@yahoo.com</td><td>1592937441926326</td><td>1</td><td>985.5</td><td>1</td><td>List(NEWBED10, M_PREM_T, Premium Twin Mattress, 985.5, 1095.0, 1)</td></tr><tr><td>338532</td><td>stephanie66@yahoo.com</td><td>1592917586815572</td><td>2</td><td>1476.0</td><td>2</td><td>List(NEWBED10, M_STAN_Q, Standard Queen Mattress, 940.5, 1045.0, 1)</td></tr><tr><td>338532</td><td>stephanie66@yahoo.com</td><td>1592917586815572</td><td>2</td><td>1476.0</td><td>2</td><td>List(NEWBED10, M_STAN_T, Standard Twin Mattress, 535.5, 595.0, 1)</td></tr><tr><td>359814</td><td>kbartlett@yahoo.com</td><td>1593055332196667</td><td>1</td><td>985.5</td><td>1</td><td>List(NEWBED10, M_PREM_T, Premium Twin Mattress, 985.5, 1095.0, 1)</td></tr><tr><td>358451</td><td>stephanie39@martin.biz</td><td>1593041433073760</td><td>1</td><td>940.5</td><td>1</td><td>List(NEWBED10, M_STAN_Q, Standard Queen Mattress, 940.5, 1045.0, 1)</td></tr><tr><td>336103</td><td>palmerjoseph@thompson.com</td><td>1592891606262779</td><td>2</td><td>1902.6</td><td>2</td><td>List(NEWBED10, M_PREM_K, Premium King Mattress, 1795.5, 1995.0, 1)</td></tr><tr><td>336103</td><td>palmerjoseph@thompson.com</td><td>1592891606262779</td><td>2</td><td>1902.6</td><td>2</td><td>List(NEWBED10, P_DOWN_S, Standard Down Pillow, 107.10000000000001, 119.0, 1)</td></tr><tr><td>346214</td><td>kennethbrowning@hotmail.com</td><td>1592953805192366</td><td>1</td><td>1075.5</td><td>1</td><td>List(NEWBED10, M_STAN_K, Standard King Mattress, 1075.5, 1195.0, 1)</td></tr><tr><td>355846</td><td>mgonzalez@davidson.com</td><td>1593026978028331</td><td>1</td><td>535.5</td><td>1</td><td>List(NEWBED10, M_STAN_T, Standard Twin Mattress, 535.5, 595.0, 1)</td></tr><tr><td>360362</td><td>maureen82@hotmail.com</td><td>1593063602375914</td><td>1</td><td>71.10000000000001</td><td>1</td><td>List(NEWBED10, P_FOAM_K, King Foam Pillow, 71.10000000000001, 79.0, 1)</td></tr><tr><td>362657</td><td>michelle60@dunn-frederick.com</td><td>1593089822846229</td><td>3</td><td>2123.1</td><td>3</td><td>List(NEWBED10, M_STAN_Q, Standard Queen Mattress, 940.5, 1045.0, 1)</td></tr><tr><td>362657</td><td>michelle60@dunn-frederick.com</td><td>1593089822846229</td><td>3</td><td>2123.1</td><td>3</td><td>List(NEWBED10, M_STAN_K, Standard King Mattress, 1075.5, 1195.0, 1)</td></tr><tr><td>362657</td><td>michelle60@dunn-frederick.com</td><td>1593089822846229</td><td>3</td><td>2123.1</td><td>3</td><td>List(NEWBED10, P_DOWN_S, Standard Down Pillow, 107.10000000000001, 119.0, 1)</td></tr><tr><td>369598</td><td>jacksoncaleb@thornton-wells.com</td><td>1593128867279012</td><td>1</td><td>1795.5</td><td>1</td><td>List(NEWBED10, M_PREM_K, Premium King Mattress, 1795.5, 1995.0, 1)</td></tr><tr><td>368561</td><td>michelle40@erickson.net</td><td>1593121341954689</td><td>1</td><td>850.5</td><td>1</td><td>List(NEWBED10, M_STAN_F, Standard Full Mattress, 850.5, 945.0, 1)</td></tr><tr><td>381779</td><td>heidi42@diaz.com</td><td>1593233511787467</td><td>1</td><td>940.5</td><td>1</td><td>List(NEWBED10, M_STAN_Q, Standard Queen Mattress, 940.5, 1045.0, 1)</td></tr><tr><td>367355</td><td>travisrussell@price.com</td><td>1593114800762288</td><td>1</td><td>940.5</td><td>1</td><td>List(NEWBED10, M_STAN_Q, Standard Queen Mattress, 940.5, 1045.0, 1)</td></tr><tr><td>370431</td><td>molly79@juarez.com</td><td>1593137508939146</td><td>1</td><td>1615.5</td><td>1</td><td>List(NEWBED10, M_PREM_Q, Premium Queen Mattress, 1615.5, 1795.0, 1)</td></tr><tr><td>380719</td><td>asalazar@yahoo.com</td><td>1593219039089677</td><td>1</td><td>535.5</td><td>1</td><td>List(NEWBED10, M_STAN_T, Standard Twin Mattress, 535.5, 595.0, 1)</td></tr><tr><td>371465</td><td>qwalters@hotmail.com</td><td>1593153105609863</td><td>2</td><td>1071.0</td><td>1</td><td>List(NEWBED10, M_STAN_T, Standard Twin Mattress, 1071.0, 595.0, 2)</td></tr><tr><td>374522</td><td>hudsonmichael@gmail.com</td><td>1593183231360840</td><td>1</td><td>850.5</td><td>1</td><td>List(NEWBED10, M_STAN_F, Standard Full Mattress, 850.5, 945.0, 1)</td></tr><tr><td>381364</td><td>monroemargaret@yahoo.com</td><td>1593227086142707</td><td>1</td><td>940.5</td><td>1</td><td>List(NEWBED10, M_STAN_Q, Standard Queen Mattress, 940.5, 1045.0, 1)</td></tr><tr><td>394546</td><td>alex61@yahoo.com</td><td>1593326537044158</td><td>1</td><td>850.5</td><td>1</td><td>List(NEWBED10, M_STAN_F, Standard Full Mattress, 850.5, 945.0, 1)</td></tr><tr><td>390098</td><td>blackjanet@hotmail.com</td><td>1593287817695921</td><td>1</td><td>1075.5</td><td>1</td><td>List(NEWBED10, M_STAN_K, Standard King Mattress, 1075.5, 1195.0, 1)</td></tr><tr><td>401070</td><td>stephanieparker62@hotmail.com</td><td>1593371323830247</td><td>1</td><td>1075.5</td><td>1</td><td>List(NEWBED10, M_STAN_K, Standard King Mattress, 1075.5, 1195.0, 1)</td></tr><tr><td>421849</td><td>davidho@harris.com</td><td>1593538505465277</td><td>2</td><td>2016.0</td><td>2</td><td>List(NEWBED10, M_STAN_K, Standard King Mattress, 1075.5, 1195.0, 1)</td></tr><tr><td>421849</td><td>davidho@harris.com</td><td>1593538505465277</td><td>2</td><td>2016.0</td><td>2</td><td>List(NEWBED10, M_STAN_Q, Standard Queen Mattress, 940.5, 1045.0, 1)</td></tr><tr><td>429910</td><td>ninanelson@walker.org</td><td>1593605199662674</td><td>1</td><td>850.5</td><td>1</td><td>List(NEWBED10, M_STAN_F, Standard Full Mattress, 850.5, 945.0, 1)</td></tr><tr><td>411134</td><td>bryanttonya@gmail.com</td><td>1593454252458269</td><td>1</td><td>850.5</td><td>1</td><td>List(NEWBED10, M_STAN_F, Standard Full Mattress, 850.5, 945.0, 1)</td></tr><tr><td>417019</td><td>jacobestes@wilkerson-burns.com</td><td>1593507943233413</td><td>2</td><td>993.6</td><td>2</td><td>List(NEWBED10, M_STAN_Q, Standard Queen Mattress, 940.5, 1045.0, 1)</td></tr><tr><td>417019</td><td>jacobestes@wilkerson-burns.com</td><td>1593507943233413</td><td>2</td><td>993.6</td><td>2</td><td>List(NEWBED10, P_FOAM_S, Standard Foam Pillow, 53.1, 59.0, 1)</td></tr><tr><td>427898</td><td>kennethmurray3@hotmail.com</td><td>1593580259100403</td><td>1</td><td>850.5</td><td>1</td><td>List(NEWBED10, M_STAN_F, Standard Full Mattress, 850.5, 945.0, 1)</td></tr><tr><td>404250</td><td>wjacobs@crawford.com</td><td>1593389723940060</td><td>2</td><td>588.6</td><td>2</td><td>List(NEWBED10, M_STAN_T, Standard Twin Mattress, 535.5, 595.0, 1)</td></tr><tr><td>404250</td><td>wjacobs@crawford.com</td><td>1593389723940060</td><td>2</td><td>588.6</td><td>2</td><td>List(NEWBED10, P_FOAM_S, Standard Foam Pillow, 53.1, 59.0, 1)</td></tr><tr><td>436375</td><td>andersonnancy0@gmail.com</td><td>1593640408196762</td><td>1</td><td>1795.5</td><td>1</td><td>List(NEWBED10, M_PREM_K, Premium King Mattress, 1795.5, 1995.0, 1)</td></tr><tr><td>420621</td><td>william42@harris.info</td><td>1593532894791591</td><td>1</td><td>535.5</td><td>1</td><td>List(NEWBED10, M_STAN_T, Standard Twin Mattress, 535.5, 595.0, 1)</td></tr><tr><td>428478</td><td>vanessapotter@hotmail.com</td><td>1593588813459735</td><td>2</td><td>1971.0</td><td>1</td><td>List(NEWBED10, M_PREM_T, Premium Twin Mattress, 1971.0, 1095.0, 2)</td></tr><tr><td>433865</td><td>alexis96@simmons.com</td><td>1593627206412025</td><td>1</td><td>535.5</td><td>1</td><td>List(NEWBED10, M_STAN_T, Standard Twin Mattress, 535.5, 595.0, 1)</td></tr><tr><td>440931</td><td>bradley36@smith-santos.com</td><td>1593691125958047</td><td>1</td><td>1075.5</td><td>1</td><td>List(NEWBED10, M_STAN_K, Standard King Mattress, 1075.5, 1195.0, 1)</td></tr><tr><td>438881</td><td>srivers@mosley-torres.com</td><td>1593665404435736</td><td>1</td><td>535.5</td><td>1</td><td>List(NEWBED10, M_STAN_T, Standard Twin Mattress, 535.5, 595.0, 1)</td></tr><tr><td>428269</td><td>maryfox@yahoo.com</td><td>1593585894909964</td><td>1</td><td>850.5</td><td>1</td><td>List(NEWBED10, M_STAN_F, Standard Full Mattress, 850.5, 945.0, 1)</td></tr><tr><td>464245</td><td>teresabrown10@gmail.com</td><td>1593861504381391</td><td>1</td><td>535.5</td><td>1</td><td>List(NEWBED10, M_STAN_T, Standard Twin Mattress, 535.5, 595.0, 1)</td></tr><tr><td>430429</td><td>iandrews38@yahoo.com</td><td>1593609201256436</td><td>1</td><td>535.5</td><td>1</td><td>List(NEWBED10, M_STAN_T, Standard Twin Mattress, 535.5, 595.0, 1)</td></tr><tr><td>456901</td><td>jasonbowen@schneider.info</td><td>1593798764973682</td><td>1</td><td>107.10000000000001</td><td>1</td><td>List(NEWBED10, P_DOWN_S, Standard Down Pillow, 107.10000000000001, 119.0, 1)</td></tr><tr><td>440351</td><td>anna8193@yahoo.com</td><td>1593685977644427</td><td>1</td><td>985.5</td><td>1</td><td>List(NEWBED10, M_PREM_T, Premium Twin Mattress, 985.5, 1095.0, 1)</td></tr><tr><td>444781</td><td>johnsonkelly@snow-dorsey.info</td><td>1593710251233255</td><td>1</td><td>53.1</td><td>1</td><td>List(NEWBED10, P_FOAM_S, Standard Foam Pillow, 53.1, 59.0, 1)</td></tr><tr><td>450960</td><td>nunezchristine@hotmail.com</td><td>1593746097443478</td><td>1</td><td>1075.5</td><td>1</td><td>List(NEWBED10, M_STAN_K, Standard King Mattress, 1075.5, 1195.0, 1)</td></tr><tr><td>451267</td><td>cruzsandra@hotmail.com</td><td>1593750491356336</td><td>2</td><td>588.6</td><td>2</td><td>List(NEWBED10, M_STAN_T, Standard Twin Mattress, 535.5, 595.0, 1)</td></tr><tr><td>451267</td><td>cruzsandra@hotmail.com</td><td>1593750491356336</td><td>2</td><td>588.6</td><td>2</td><td>List(NEWBED10, P_FOAM_S, Standard Foam Pillow, 53.1, 59.0, 1)</td></tr><tr><td>437239</td><td>perrychristopher69@gmail.com</td><td>1593646457982611</td><td>1</td><td>940.5</td><td>1</td><td>List(NEWBED10, M_STAN_Q, Standard Queen Mattress, 940.5, 1045.0, 1)</td></tr><tr><td>465487</td><td>ronaldpeters@sanchez.com</td><td>1593869705989538</td><td>3</td><td>1997.1</td><td>3</td><td>List(NEWBED10, M_STAN_F, Standard Full Mattress, 850.5, 945.0, 1)</td></tr><tr><td>465487</td><td>ronaldpeters@sanchez.com</td><td>1593869705989538</td><td>3</td><td>1997.1</td><td>3</td><td>List(NEWBED10, M_STAN_K, Standard King Mattress, 1075.5, 1195.0, 1)</td></tr><tr><td>465487</td><td>ronaldpeters@sanchez.com</td><td>1593869705989538</td><td>3</td><td>1997.1</td><td>3</td><td>List(NEWBED10, P_FOAM_K, King Foam Pillow, 71.10000000000001, 79.0, 1)</td></tr><tr><td>455803</td><td>michellewilson@duffy.biz</td><td>1593793933771391</td><td>1</td><td>850.5</td><td>1</td><td>List(NEWBED10, M_STAN_F, Standard Full Mattress, 850.5, 945.0, 1)</td></tr><tr><td>451613</td><td>gshaffer@juarez.com</td><td>1593756258579638</td><td>1</td><td>535.5</td><td>1</td><td>List(NEWBED10, M_STAN_T, Standard Twin Mattress, 535.5, 595.0, 1)</td></tr><tr><td>424102</td><td>oromero91@gmail.com</td><td>1593548038350305</td><td>1</td><td>985.5</td><td>1</td><td>List(NEWBED10, M_PREM_T, Premium Twin Mattress, 985.5, 1095.0, 1)</td></tr><tr><td>444113</td><td>oconnorronnie@lopez.com</td><td>1593707429235799</td><td>2</td><td>588.6</td><td>2</td><td>List(NEWBED10, M_STAN_T, Standard Twin Mattress, 535.5, 595.0, 1)</td></tr><tr><td>444113</td><td>oconnorronnie@lopez.com</td><td>1593707429235799</td><td>2</td><td>588.6</td><td>2</td><td>List(NEWBED10, P_FOAM_S, Standard Foam Pillow, 53.1, 59.0, 1)</td></tr><tr><td>462815</td><td>ywilliamson@mitchell.com</td><td>1593844092381721</td><td>1</td><td>535.5</td><td>1</td><td>List(NEWBED10, M_STAN_T, Standard Twin Mattress, 535.5, 595.0, 1)</td></tr><tr><td>461461</td><td>hernandezscott@weiss.com</td><td>1593824613575709</td><td>1</td><td>940.5</td><td>1</td><td>List(NEWBED10, M_STAN_Q, Standard Queen Mattress, 940.5, 1045.0, 1)</td></tr><tr><td>463123</td><td>joycecampbell@yahoo.com</td><td>1593849080237848</td><td>1</td><td>1795.5</td><td>1</td><td>List(NEWBED10, M_PREM_K, Premium King Mattress, 1795.5, 1995.0, 1)</td></tr><tr><td>284028</td><td>myersdaniel@torres.com</td><td>1592511128106364</td><td>1</td><td>985.5</td><td>1</td><td>List(NEWBED10, M_PREM_T, Premium Twin Mattress, 985.5, 1095.0, 1)</td></tr><tr><td>285525</td><td>ashley5035@gmail.com</td><td>1592520591892856</td><td>1</td><td>53.1</td><td>1</td><td>List(NEWBED10, P_FOAM_S, Standard Foam Pillow, 53.1, 59.0, 1)</td></tr><tr><td>292025</td><td>lauren0110@gmail.com</td><td>1592585277807768</td><td>1</td><td>1795.5</td><td>1</td><td>List(NEWBED10, M_PREM_K, Premium King Mattress, 1795.5, 1995.0, 1)</td></tr><tr><td>303728</td><td>youngblake@gmail.com</td><td>1592669050275025</td><td>1</td><td>940.5</td><td>1</td><td>List(NEWBED10, M_STAN_Q, Standard Queen Mattress, 940.5, 1045.0, 1)</td></tr><tr><td>286679</td><td>huertabruce@yahoo.com</td><td>1592532362353165</td><td>1</td><td>940.5</td><td>1</td><td>List(NEWBED10, M_STAN_Q, Standard Queen Mattress, 940.5, 1045.0, 1)</td></tr><tr><td>289206</td><td>cortezleslie@wolf-carpenter.com</td><td>1592569725079667</td><td>1</td><td>1075.5</td><td>1</td><td>List(NEWBED10, M_STAN_K, Standard King Mattress, 1075.5, 1195.0, 1)</td></tr><tr><td>286745</td><td>jenningsmark@johnson.com</td><td>1592533250296836</td><td>1</td><td>1075.5</td><td>1</td><td>List(NEWBED10, M_STAN_K, Standard King Mattress, 1075.5, 1195.0, 1)</td></tr><tr><td>288305</td><td>carolwells@jones-callahan.net</td><td>1592560575236688</td><td>1</td><td>1615.5</td><td>1</td><td>List(NEWBED10, M_PREM_Q, Premium Queen Mattress, 1615.5, 1795.0, 1)</td></tr><tr><td>291248</td><td>wattschristopher@yahoo.com</td><td>1592581960877065</td><td>2</td><td>1722.6</td><td>2</td><td>List(NEWBED10, M_PREM_Q, Premium Queen Mattress, 1615.5, 1795.0, 1)</td></tr><tr><td>291248</td><td>wattschristopher@yahoo.com</td><td>1592581960877065</td><td>2</td><td>1722.6</td><td>2</td><td>List(NEWBED10, P_DOWN_S, Standard Down Pillow, 107.10000000000001, 119.0, 1)</td></tr><tr><td>288038</td><td>sandra77@williams.biz</td><td>1592556345126710</td><td>1</td><td>1075.5</td><td>1</td><td>List(NEWBED10, M_STAN_K, Standard King Mattress, 1075.5, 1195.0, 1)</td></tr><tr><td>298746</td><td>browncurtis@sims.com</td><td>1592631990019508</td><td>1</td><td>53.1</td><td>1</td><td>List(NEWBED10, P_FOAM_S, Standard Foam Pillow, 53.1, 59.0, 1)</td></tr><tr><td>310346</td><td>desiree37@hotmail.com</td><td>1592696564562665</td><td>1</td><td>940.5</td><td>1</td><td>List(NEWBED10, M_STAN_Q, Standard Queen Mattress, 940.5, 1045.0, 1)</td></tr><tr><td>319112</td><td>kathryn60@richardson.org</td><td>1592764390933116</td><td>1</td><td>940.5</td><td>1</td><td>List(NEWBED10, M_STAN_Q, Standard Queen Mattress, 940.5, 1045.0, 1)</td></tr><tr><td>339342</td><td>vanessaschmidt@martinez.com</td><td>1592922285946161</td><td>2</td><td>588.6</td><td>2</td><td>List(NEWBED10, M_STAN_T, Standard Twin Mattress, 535.5, 595.0, 1)</td></tr><tr><td>339342</td><td>vanessaschmidt@martinez.com</td><td>1592922285946161</td><td>2</td><td>588.6</td><td>2</td><td>List(NEWBED10, P_FOAM_S, Standard Foam Pillow, 53.1, 59.0, 1)</td></tr><tr><td>325638</td><td>contrerasjoel57@gmail.com</td><td>1592818450118735</td><td>1</td><td>940.5</td><td>1</td><td>List(NEWBED10, M_STAN_Q, Standard Queen Mattress, 940.5, 1045.0, 1)</td></tr><tr><td>336086</td><td>moorekevin@arroyo.com</td><td>1592891354553084</td><td>1</td><td>1615.5</td><td>1</td><td>List(NEWBED10, M_PREM_Q, Premium Queen Mattress, 1615.5, 1795.0, 1)</td></tr><tr><td>327812</td><td>john1591@hotmail.com</td><td>1592836833593130</td><td>1</td><td>535.5</td><td>1</td><td>List(NEWBED10, M_STAN_T, Standard Twin Mattress, 535.5, 595.0, 1)</td></tr><tr><td>372000</td><td>jane51@gmail.com</td><td>1593161385864676</td><td>1</td><td>850.5</td><td>1</td><td>List(NEWBED10, M_STAN_F, Standard Full Mattress, 850.5, 945.0, 1)</td></tr><tr><td>347096</td><td>mark09@pineda.com</td><td>1592960666205148</td><td>1</td><td>1795.5</td><td>1</td><td>List(NEWBED10, M_PREM_K, Premium King Mattress, 1795.5, 1995.0, 1)</td></tr><tr><td>369545</td><td>dsherman@nelson-perez.info</td><td>1593128445251193</td><td>1</td><td>985.5</td><td>1</td><td>List(NEWBED10, M_PREM_T, Premium Twin Mattress, 985.5, 1095.0, 1)</td></tr><tr><td>376324</td><td>wherman@yahoo.com</td><td>1593192527629087</td><td>1</td><td>940.5</td><td>1</td><td>List(NEWBED10, M_STAN_Q, Standard Queen Mattress, 940.5, 1045.0, 1)</td></tr><tr><td>391805</td><td>goodwinjustin@gmail.com</td><td>1593296138470766</td><td>1</td><td>940.5</td><td>1</td><td>List(NEWBED10, M_STAN_Q, Standard Queen Mattress, 940.5, 1045.0, 1)</td></tr><tr><td>377652</td><td>espinozaandrea@hotmail.com</td><td>1593198856625800</td><td>1</td><td>71.10000000000001</td><td>1</td><td>List(NEWBED10, P_FOAM_K, King Foam Pillow, 71.10000000000001, 79.0, 1)</td></tr><tr><td>354142</td><td>marie90@davis.com</td><td>1593019602591436</td><td>1</td><td>535.5</td><td>1</td><td>List(NEWBED10, M_STAN_T, Standard Twin Mattress, 535.5, 595.0, 1)</td></tr><tr><td>383089</td><td>joseph07@burke.com</td><td>1593253372969632</td><td>1</td><td>940.5</td><td>1</td><td>List(NEWBED10, M_STAN_Q, Standard Queen Mattress, 940.5, 1045.0, 1)</td></tr><tr><td>378588</td><td>tylermiller@bender.com</td><td>1593203702828757</td><td>1</td><td>850.5</td><td>1</td><td>List(NEWBED10, M_STAN_F, Standard Full Mattress, 850.5, 945.0, 1)</td></tr><tr><td>384058</td><td>bridgesnicholas@gmail.com</td><td>1593261542623087</td><td>1</td><td>1615.5</td><td>1</td><td>List(NEWBED10, M_PREM_Q, Premium Queen Mattress, 1615.5, 1795.0, 1)</td></tr><tr><td>372158</td><td>revans@hotmail.com</td><td>1593163643926605</td><td>1</td><td>940.5</td><td>1</td><td>List(NEWBED10, M_STAN_Q, Standard Queen Mattress, 940.5, 1045.0, 1)</td></tr><tr><td>393293</td><td>christina77@tanner-cohen.com</td><td>1593307184113803</td><td>1</td><td>940.5</td><td>1</td><td>List(NEWBED10, M_STAN_Q, Standard Queen Mattress, 940.5, 1045.0, 1)</td></tr><tr><td>383566</td><td>tammy14@watson.com</td><td>1593257844338691</td><td>1</td><td>850.5</td><td>1</td><td>List(NEWBED10, M_STAN_F, Standard Full Mattress, 850.5, 945.0, 1)</td></tr><tr><td>381602</td><td>qford@hotmail.com</td><td>1593230727983518</td><td>1</td><td>53.1</td><td>1</td><td>List(NEWBED10, P_FOAM_S, Standard Foam Pillow, 53.1, 59.0, 1)</td></tr><tr><td>411612</td><td>cmiller21@yahoo.com</td><td>1593456636564212</td><td>1</td><td>985.5</td><td>1</td><td>List(NEWBED10, M_PREM_T, Premium Twin Mattress, 985.5, 1095.0, 1)</td></tr><tr><td>404653</td><td>kcampbell5@yahoo.com</td><td>1593393467864628</td><td>1</td><td>535.5</td><td>1</td><td>List(NEWBED10, M_STAN_T, Standard Twin Mattress, 535.5, 595.0, 1)</td></tr><tr><td>392975</td><td>evelyn97@spencer.com</td><td>1593304221966683</td><td>2</td><td>588.6</td><td>2</td><td>List(NEWBED10, M_STAN_T, Standard Twin Mattress, 535.5, 595.0, 1)</td></tr><tr><td>392975</td><td>evelyn97@spencer.com</td><td>1593304221966683</td><td>2</td><td>588.6</td><td>2</td><td>List(NEWBED10, P_FOAM_S, Standard Foam Pillow, 53.1, 59.0, 1)</td></tr><tr><td>393775</td><td>cjames@beck-berry.biz</td><td>1593313795514562</td><td>2</td><td>642.6</td><td>2</td><td>List(NEWBED10, M_STAN_T, Standard Twin Mattress, 535.5, 595.0, 1)</td></tr><tr><td>393775</td><td>cjames@beck-berry.biz</td><td>1593313795514562</td><td>2</td><td>642.6</td><td>2</td><td>List(NEWBED10, P_DOWN_S, Standard Down Pillow, 107.10000000000001, 119.0, 1)</td></tr><tr><td>438094</td><td>jacobcohen@hotmail.com</td><td>1593655035233860</td><td>1</td><td>1075.5</td><td>1</td><td>List(NEWBED10, M_STAN_K, Standard King Mattress, 1075.5, 1195.0, 1)</td></tr><tr><td>415135</td><td>osmith@edwards-young.info</td><td>1593480465019171</td><td>1</td><td>535.5</td><td>1</td><td>List(NEWBED10, M_STAN_T, Standard Twin Mattress, 535.5, 595.0, 1)</td></tr><tr><td>416427</td><td>michael3195@yahoo.com</td><td>1593498951165237</td><td>1</td><td>850.5</td><td>1</td><td>List(NEWBED10, M_STAN_F, Standard Full Mattress, 850.5, 945.0, 1)</td></tr><tr><td>447090</td><td>seanpena@yahoo.com</td><td>1593719061093592</td><td>1</td><td>940.5</td><td>1</td><td>List(NEWBED10, M_STAN_Q, Standard Queen Mattress, 940.5, 1045.0, 1)</td></tr><tr><td>437533</td><td>derekperkins@yahoo.com</td><td>1593648944334986</td><td>1</td><td>53.1</td><td>1</td><td>List(NEWBED10, P_FOAM_S, Standard Foam Pillow, 53.1, 59.0, 1)</td></tr><tr><td>444480</td><td>susandavis@michael-cardenas.org</td><td>1593709017630438</td><td>1</td><td>940.5</td><td>1</td><td>List(NEWBED10, M_STAN_Q, Standard Queen Mattress, 940.5, 1045.0, 1)</td></tr><tr><td>430569</td><td>logan36@hotmail.com</td><td>1593610148506645</td><td>1</td><td>53.1</td><td>1</td><td>List(NEWBED10, P_FOAM_S, Standard Foam Pillow, 53.1, 59.0, 1)</td></tr><tr><td>449340</td><td>williamschristopher@mcknight.biz</td><td>1593730608382367</td><td>1</td><td>940.5</td><td>1</td><td>List(NEWBED10, M_STAN_Q, Standard Queen Mattress, 940.5, 1045.0, 1)</td></tr><tr><td>436715</td><td>maxwellfoley@gmail.com</td><td>1593642710854308</td><td>1</td><td>1795.5</td><td>1</td><td>List(NEWBED10, M_PREM_K, Premium King Mattress, 1795.5, 1995.0, 1)</td></tr><tr><td>438448</td><td>scottalison@yahoo.com</td><td>1593659176052992</td><td>1</td><td>850.5</td><td>1</td><td>List(NEWBED10, M_STAN_F, Standard Full Mattress, 850.5, 945.0, 1)</td></tr><tr><td>451979</td><td>fbennett@hopkins.com</td><td>1593762440614008</td><td>1</td><td>985.5</td><td>1</td><td>List(NEWBED10, M_PREM_T, Premium Twin Mattress, 985.5, 1095.0, 1)</td></tr><tr><td>454645</td><td>christopher06@meyer-wright.com</td><td>1593787872731108</td><td>1</td><td>535.5</td><td>1</td><td>List(NEWBED10, M_STAN_T, Standard Twin Mattress, 535.5, 595.0, 1)</td></tr><tr><td>432063</td><td>perkinsmarie@hotmail.com</td><td>1593618772313364</td><td>1</td><td>107.10000000000001</td><td>1</td><td>List(NEWBED10, P_DOWN_S, Standard Down Pillow, 107.10000000000001, 119.0, 1)</td></tr><tr><td>286768</td><td>courtney56@yahoo.com</td><td>1592533690688069</td><td>1</td><td>940.5</td><td>1</td><td>List(NEWBED10, M_STAN_Q, Standard Queen Mattress, 940.5, 1045.0, 1)</td></tr><tr><td>304163</td><td>stephenterry@hotmail.com</td><td>1592670738381717</td><td>1</td><td>535.5</td><td>1</td><td>List(NEWBED10, M_STAN_T, Standard Twin Mattress, 535.5, 595.0, 1)</td></tr><tr><td>298684</td><td>dennisdickerson@hotmail.com</td><td>1592630962320536</td><td>1</td><td>71.10000000000001</td><td>1</td><td>List(NEWBED10, P_FOAM_K, King Foam Pillow, 71.10000000000001, 79.0, 1)</td></tr><tr><td>338136</td><td>devin77@owens.net</td><td>1592914751254583</td><td>1</td><td>985.5</td><td>1</td><td>List(NEWBED10, M_PREM_T, Premium Twin Mattress, 985.5, 1095.0, 1)</td></tr><tr><td>335634</td><td>sheilahampton@bond.info</td><td>1592885203620951</td><td>1</td><td>940.5</td><td>1</td><td>List(NEWBED10, M_STAN_Q, Standard Queen Mattress, 940.5, 1045.0, 1)</td></tr><tr><td>346346</td><td>stephanieroberts42@hotmail.com</td><td>1592954727584404</td><td>1</td><td>940.5</td><td>1</td><td>List(NEWBED10, M_STAN_Q, Standard Queen Mattress, 940.5, 1045.0, 1)</td></tr><tr><td>343487</td><td>myang32@hotmail.com</td><td>1592940186422942</td><td>2</td><td>642.6</td><td>2</td><td>List(NEWBED10, M_STAN_T, Standard Twin Mattress, 535.5, 595.0, 1)</td></tr><tr><td>343487</td><td>myang32@hotmail.com</td><td>1592940186422942</td><td>2</td><td>642.6</td><td>2</td><td>List(NEWBED10, P_DOWN_S, Standard Down Pillow, 107.10000000000001, 119.0, 1)</td></tr><tr><td>326012</td><td>ewalker@romero-wong.com</td><td>1592823071703435</td><td>1</td><td>535.5</td><td>1</td><td>List(NEWBED10, M_STAN_T, Standard Twin Mattress, 535.5, 595.0, 1)</td></tr><tr><td>354371</td><td>brooksashley@dillon.org</td><td>1593020657228034</td><td>2</td><td>2556.0</td><td>2</td><td>List(NEWBED10, M_PREM_Q, Premium Queen Mattress, 1615.5, 1795.0, 1)</td></tr><tr><td>354371</td><td>brooksashley@dillon.org</td><td>1593020657228034</td><td>2</td><td>2556.0</td><td>2</td><td>List(NEWBED10, M_STAN_Q, Standard Queen Mattress, 940.5, 1045.0, 1)</td></tr><tr><td>339828</td><td>teresachoi@hotmail.com</td><td>1592924694562487</td><td>1</td><td>1075.5</td><td>1</td><td>List(NEWBED10, M_STAN_K, Standard King Mattress, 1075.5, 1195.0, 1)</td></tr><tr><td>347829</td><td>thatfield@hotmail.com</td><td>1592967687432403</td><td>1</td><td>535.5</td><td>1</td><td>List(NEWBED10, M_STAN_T, Standard Twin Mattress, 535.5, 595.0, 1)</td></tr><tr><td>348882</td><td>alexandria76@gmail.com</td><td>1592981055955237</td><td>1</td><td>1075.5</td><td>1</td><td>List(NEWBED10, M_STAN_K, Standard King Mattress, 1075.5, 1195.0, 1)</td></tr><tr><td>360072</td><td>robert76@richmond.biz</td><td>1593059073181941</td><td>1</td><td>535.5</td><td>1</td><td>List(NEWBED10, M_STAN_T, Standard Twin Mattress, 535.5, 595.0, 1)</td></tr><tr><td>347116</td><td>hammondzachary@hotmail.com</td><td>1592960842443584</td><td>1</td><td>940.5</td><td>1</td><td>List(NEWBED10, M_STAN_Q, Standard Queen Mattress, 940.5, 1045.0, 1)</td></tr><tr><td>356576</td><td>larryrandall@hotmail.com</td><td>1593030505659865</td><td>1</td><td>940.5</td><td>1</td><td>List(NEWBED10, M_STAN_Q, Standard Queen Mattress, 940.5, 1045.0, 1)</td></tr><tr><td>347810</td><td>vwilson88@hotmail.com</td><td>1592967447525626</td><td>1</td><td>53.1</td><td>1</td><td>List(NEWBED10, P_FOAM_S, Standard Foam Pillow, 53.1, 59.0, 1)</td></tr><tr><td>348263</td><td>amanda68@lane-kirby.com</td><td>1592972705696645</td><td>1</td><td>850.5</td><td>1</td><td>List(NEWBED10, M_STAN_F, Standard Full Mattress, 850.5, 945.0, 1)</td></tr><tr><td>349779</td><td>sstafford@yahoo.com</td><td>1592992594056097</td><td>1</td><td>1795.5</td><td>1</td><td>List(NEWBED10, M_PREM_K, Premium King Mattress, 1795.5, 1995.0, 1)</td></tr><tr><td>338595</td><td>sarahreynolds27@hotmail.com</td><td>1592917985053876</td><td>1</td><td>143.1</td><td>1</td><td>List(NEWBED10, P_DOWN_K, King Down Pillow, 143.1, 159.0, 1)</td></tr><tr><td>349413</td><td>gbutler@atkinson.org</td><td>1592987962281106</td><td>1</td><td>940.5</td><td>1</td><td>List(NEWBED10, M_STAN_Q, Standard Queen Mattress, 940.5, 1045.0, 1)</td></tr><tr><td>361940</td><td>cunninghamchristopher@jenkins.com</td><td>1593084344450907</td><td>1</td><td>940.5</td><td>1</td><td>List(NEWBED10, M_STAN_Q, Standard Queen Mattress, 940.5, 1045.0, 1)</td></tr><tr><td>393998</td><td>harrisdebra@carson.com</td><td>1593317430105244</td><td>1</td><td>1615.5</td><td>1</td><td>List(NEWBED10, M_PREM_Q, Premium Queen Mattress, 1615.5, 1795.0, 1)</td></tr><tr><td>402365</td><td>zgardner@hotmail.com</td><td>1593377640709495</td><td>1</td><td>53.1</td><td>1</td><td>List(NEWBED10, P_FOAM_S, Standard Foam Pillow, 53.1, 59.0, 1)</td></tr><tr><td>370471</td><td>cherylmoore@ortega.com</td><td>1593137955208814</td><td>3</td><td>1988.1</td><td>2</td><td>List(NEWBED10, M_STAN_Q, Standard Queen Mattress, 1881.0, 1045.0, 2)</td></tr><tr><td>370471</td><td>cherylmoore@ortega.com</td><td>1593137955208814</td><td>3</td><td>1988.1</td><td>2</td><td>List(NEWBED10, P_DOWN_S, Standard Down Pillow, 107.10000000000001, 119.0, 1)</td></tr><tr><td>376818</td><td>jonestammie@castillo.com</td><td>1593194772360446</td><td>1</td><td>940.5</td><td>1</td><td>List(NEWBED10, M_STAN_Q, Standard Queen Mattress, 940.5, 1045.0, 1)</td></tr><tr><td>396792</td><td>qwarren@hotmail.com</td><td>1593350714501581</td><td>1</td><td>535.5</td><td>1</td><td>List(NEWBED10, M_STAN_T, Standard Twin Mattress, 535.5, 595.0, 1)</td></tr><tr><td>392813</td><td>millerpeter@kelley.net</td><td>1593302900514077</td><td>1</td><td>940.5</td><td>1</td><td>List(NEWBED10, M_STAN_Q, Standard Queen Mattress, 940.5, 1045.0, 1)</td></tr><tr><td>374960</td><td>dustin00@hotmail.com</td><td>1593185675836660</td><td>1</td><td>535.5</td><td>1</td><td>List(NEWBED10, M_STAN_T, Standard Twin Mattress, 535.5, 595.0, 1)</td></tr><tr><td>379398</td><td>mataelizabeth@clark-ross.biz</td><td>1593208271162777</td><td>1</td><td>535.5</td><td>1</td><td>List(NEWBED10, M_STAN_T, Standard Twin Mattress, 535.5, 595.0, 1)</td></tr><tr><td>405736</td><td>jamieescobar@hotmail.com</td><td>1593407919785969</td><td>1</td><td>940.5</td><td>1</td><td>List(NEWBED10, M_STAN_Q, Standard Queen Mattress, 940.5, 1045.0, 1)</td></tr><tr><td>410504</td><td>ngreene@gmail.com</td><td>1593451297255328</td><td>3</td><td>1124.1</td><td>2</td><td>List(NEWBED10, M_STAN_T, Standard Twin Mattress, 1071.0, 595.0, 2)</td></tr><tr><td>410504</td><td>ngreene@gmail.com</td><td>1593451297255328</td><td>3</td><td>1124.1</td><td>2</td><td>List(NEWBED10, P_FOAM_S, Standard Foam Pillow, 53.1, 59.0, 1)</td></tr><tr><td>397642</td><td>ericajohnson@payne-grant.com</td><td>1593355835166152</td><td>1</td><td>535.5</td><td>1</td><td>List(NEWBED10, M_STAN_T, Standard Twin Mattress, 535.5, 595.0, 1)</td></tr><tr><td>394004</td><td>michael7465@hotmail.com</td><td>1593317492935556</td><td>1</td><td>535.5</td><td>1</td><td>List(NEWBED10, M_STAN_T, Standard Twin Mattress, 535.5, 595.0, 1)</td></tr><tr><td>426284</td><td>matthewwilson@hotmail.com</td><td>1593561314275172</td><td>1</td><td>940.5</td><td>1</td><td>List(NEWBED10, M_STAN_Q, Standard Queen Mattress, 940.5, 1045.0, 1)</td></tr><tr><td>428261</td><td>jessica74@hudson-manning.org</td><td>1593585804477422</td><td>1</td><td>535.5</td><td>1</td><td>List(NEWBED10, M_STAN_T, Standard Twin Mattress, 535.5, 595.0, 1)</td></tr><tr><td>431338</td><td>cgarza@williams.net</td><td>1593614887393982</td><td>1</td><td>1075.5</td><td>1</td><td>List(NEWBED10, M_STAN_K, Standard King Mattress, 1075.5, 1195.0, 1)</td></tr><tr><td>432896</td><td>zharris@jenkins-mccarty.org</td><td>1593622606723346</td><td>1</td><td>985.5</td><td>1</td><td>List(NEWBED10, M_PREM_T, Premium Twin Mattress, 985.5, 1095.0, 1)</td></tr><tr><td>420379</td><td>robertjohnson@wu-higgins.com</td><td>1593531871212384</td><td>1</td><td>1525.5</td><td>1</td><td>List(NEWBED10, M_PREM_F, Premium Full Mattress, 1525.5, 1695.0, 1)</td></tr><tr><td>439409</td><td>curtis81@hotmail.com</td><td>1593673440775050</td><td>1</td><td>1075.5</td><td>1</td><td>List(NEWBED10, M_STAN_K, Standard King Mattress, 1075.5, 1195.0, 1)</td></tr><tr><td>411608</td><td>willie97@garcia.com</td><td>1593456620891567</td><td>1</td><td>940.5</td><td>1</td><td>List(NEWBED10, M_STAN_Q, Standard Queen Mattress, 940.5, 1045.0, 1)</td></tr><tr><td>452734</td><td>zimmermanjulia@gmail.com</td><td>1593773502763097</td><td>1</td><td>940.5</td><td>1</td><td>List(NEWBED10, M_STAN_Q, Standard Queen Mattress, 940.5, 1045.0, 1)</td></tr><tr><td>445242</td><td>danieljones45@gmail.com</td><td>1593711934733766</td><td>1</td><td>535.5</td><td>1</td><td>List(NEWBED10, M_STAN_T, Standard Twin Mattress, 535.5, 595.0, 1)</td></tr><tr><td>439579</td><td>claytonmatthew@yahoo.com</td><td>1593675997508795</td><td>1</td><td>1075.5</td><td>1</td><td>List(NEWBED10, M_STAN_K, Standard King Mattress, 1075.5, 1195.0, 1)</td></tr><tr><td>451913</td><td>timothy05@garza.com</td><td>1593761380508959</td><td>1</td><td>985.5</td><td>1</td><td>List(NEWBED10, M_PREM_T, Premium Twin Mattress, 985.5, 1095.0, 1)</td></tr><tr><td>458547</td><td>meganhansen@charles.info</td><td>1593806130792705</td><td>1</td><td>850.5</td><td>1</td><td>List(NEWBED10, M_STAN_F, Standard Full Mattress, 850.5, 945.0, 1)</td></tr><tr><td>462335</td><td>jordanrichard@hotmail.com</td><td>1593836174500231</td><td>1</td><td>940.5</td><td>1</td><td>List(NEWBED10, M_STAN_Q, Standard Queen Mattress, 940.5, 1045.0, 1)</td></tr><tr><td>290976</td><td>mark54@yahoo.com</td><td>1592580623452231</td><td>1</td><td>940.5</td><td>1</td><td>List(NEWBED10, M_STAN_Q, Standard Queen Mattress, 940.5, 1045.0, 1)</td></tr><tr><td>285720</td><td>brentwarren@gmail.com</td><td>1592521957022002</td><td>1</td><td>535.5</td><td>1</td><td>List(NEWBED10, M_STAN_T, Standard Twin Mattress, 535.5, 595.0, 1)</td></tr><tr><td>285217</td><td>brownregina67@yahoo.com</td><td>1592518452323101</td><td>1</td><td>53.1</td><td>1</td><td>List(NEWBED10, P_FOAM_S, Standard Foam Pillow, 53.1, 59.0, 1)</td></tr><tr><td>314481</td><td>thomas7184@hotmail.com</td><td>1592742886771066</td><td>1</td><td>535.5</td><td>1</td><td>List(NEWBED10, M_STAN_T, Standard Twin Mattress, 535.5, 595.0, 1)</td></tr><tr><td>302881</td><td>garciaadrian@cain-greer.com</td><td>1592665889717055</td><td>1</td><td>1075.5</td><td>1</td><td>List(NEWBED10, M_STAN_K, Standard King Mattress, 1075.5, 1195.0, 1)</td></tr><tr><td>311499</td><td>wjones@hotmail.com</td><td>1592706408399361</td><td>1</td><td>535.5</td><td>1</td><td>List(NEWBED10, M_STAN_T, Standard Twin Mattress, 535.5, 595.0, 1)</td></tr><tr><td>332976</td><td>smithkatelyn@dean.com</td><td>1592861672617017</td><td>1</td><td>107.10000000000001</td><td>1</td><td>List(NEWBED10, P_DOWN_S, Standard Down Pillow, 107.10000000000001, 119.0, 1)</td></tr><tr><td>346271</td><td>brookstrevor@taylor-burton.com</td><td>1592954199395784</td><td>1</td><td>535.5</td><td>1</td><td>List(NEWBED10, M_STAN_T, Standard Twin Mattress, 535.5, 595.0, 1)</td></tr><tr><td>335853</td><td>hopkinsmiguel@jones.com</td><td>1592888456548275</td><td>1</td><td>1075.5</td><td>1</td><td>List(NEWBED10, M_STAN_K, Standard King Mattress, 1075.5, 1195.0, 1)</td></tr><tr><td>325668</td><td>sharpamy@yu.biz</td><td>1592818866263490</td><td>2</td><td>1848.6</td><td>2</td><td>List(NEWBED10, M_PREM_K, Premium King Mattress, 1795.5, 1995.0, 1)</td></tr><tr><td>325668</td><td>sharpamy@yu.biz</td><td>1592818866263490</td><td>2</td><td>1848.6</td><td>2</td><td>List(NEWBED10, P_FOAM_S, Standard Foam Pillow, 53.1, 59.0, 1)</td></tr><tr><td>350000</td><td>matthew377@yahoo.com</td><td>1592994954258809</td><td>1</td><td>940.5</td><td>1</td><td>List(NEWBED10, M_STAN_Q, Standard Queen Mattress, 940.5, 1045.0, 1)</td></tr><tr><td>374036</td><td>oandrews@harris-torres.com</td><td>1593180492949799</td><td>1</td><td>850.5</td><td>1</td><td>List(NEWBED10, M_STAN_F, Standard Full Mattress, 850.5, 945.0, 1)</td></tr><tr><td>370331</td><td>hardyjohn@foster.net</td><td>1593136325833390</td><td>1</td><td>535.5</td><td>1</td><td>List(NEWBED10, M_STAN_T, Standard Twin Mattress, 535.5, 595.0, 1)</td></tr><tr><td>374279</td><td>jon82@white-jones.biz</td><td>1593181863432734</td><td>1</td><td>940.5</td><td>1</td><td>List(NEWBED10, M_STAN_Q, Standard Queen Mattress, 940.5, 1045.0, 1)</td></tr><tr><td>392944</td><td>buckleyvalerie@yahoo.com</td><td>1593304032802181</td><td>1</td><td>850.5</td><td>1</td><td>List(NEWBED10, M_STAN_F, Standard Full Mattress, 850.5, 945.0, 1)</td></tr><tr><td>386263</td><td>lewisrobin@yahoo.com</td><td>1593272944032127</td><td>1</td><td>850.5</td><td>1</td><td>List(NEWBED10, M_STAN_F, Standard Full Mattress, 850.5, 945.0, 1)</td></tr><tr><td>403784</td><td>christopherlloyd@hotmail.com</td><td>1593385930680697</td><td>1</td><td>1075.5</td><td>1</td><td>List(NEWBED10, M_STAN_K, Standard King Mattress, 1075.5, 1195.0, 1)</td></tr><tr><td>392484</td><td>montgomeryjohn@ruiz.net</td><td>1593300439555501</td><td>1</td><td>985.5</td><td>1</td><td>List(NEWBED10, M_PREM_T, Premium Twin Mattress, 985.5, 1095.0, 1)</td></tr><tr><td>413945</td><td>briannelson@washington.com</td><td>1593469543952416</td><td>1</td><td>1795.5</td><td>1</td><td>List(NEWBED10, M_PREM_K, Premium King Mattress, 1795.5, 1995.0, 1)</td></tr><tr><td>404512</td><td>ryandaniel@baker-garza.info</td><td>1593392101778699</td><td>1</td><td>940.5</td><td>1</td><td>List(NEWBED10, M_STAN_Q, Standard Queen Mattress, 940.5, 1045.0, 1)</td></tr><tr><td>397347</td><td>asmith@gillespie-willis.com</td><td>1593354171446327</td><td>1</td><td>940.5</td><td>1</td><td>List(NEWBED10, M_STAN_Q, Standard Queen Mattress, 940.5, 1045.0, 1)</td></tr><tr><td>403447</td><td>grimesstephen@hotmail.com</td><td>1593383544244607</td><td>1</td><td>985.5</td><td>1</td><td>List(NEWBED10, M_PREM_T, Premium Twin Mattress, 985.5, 1095.0, 1)</td></tr><tr><td>391584</td><td>davischad@ramirez-hughes.com</td><td>1593294826531861</td><td>1</td><td>1075.5</td><td>1</td><td>List(NEWBED10, M_STAN_K, Standard King Mattress, 1075.5, 1195.0, 1)</td></tr><tr><td>431928</td><td>brandi66@gmail.com</td><td>1593617994540735</td><td>1</td><td>940.5</td><td>1</td><td>List(NEWBED10, M_STAN_Q, Standard Queen Mattress, 940.5, 1045.0, 1)</td></tr><tr><td>420313</td><td>acostabrianna@jacobs.com</td><td>1593531491439120</td><td>1</td><td>940.5</td><td>1</td><td>List(NEWBED10, M_STAN_Q, Standard Queen Mattress, 940.5, 1045.0, 1)</td></tr><tr><td>416603</td><td>mitchell36@dennis.info</td><td>1593501877206491</td><td>1</td><td>850.5</td><td>1</td><td>List(NEWBED10, M_STAN_F, Standard Full Mattress, 850.5, 945.0, 1)</td></tr><tr><td>426333</td><td>wnichols3@yahoo.com</td><td>1593561749293348</td><td>1</td><td>1075.5</td><td>1</td><td>List(NEWBED10, M_STAN_K, Standard King Mattress, 1075.5, 1195.0, 1)</td></tr><tr><td>406547</td><td>bstewart85@yahoo.com</td><td>1593420951357359</td><td>1</td><td>1075.5</td><td>1</td><td>List(NEWBED10, M_STAN_K, Standard King Mattress, 1075.5, 1195.0, 1)</td></tr><tr><td>436303</td><td>patrick53@yahoo.com</td><td>1593639942697117</td><td>1</td><td>535.5</td><td>1</td><td>List(NEWBED10, M_STAN_T, Standard Twin Mattress, 535.5, 595.0, 1)</td></tr><tr><td>439019</td><td>mmiller@clay-shaw.net</td><td>1593667576455372</td><td>1</td><td>1795.5</td><td>1</td><td>List(NEWBED10, M_PREM_K, Premium King Mattress, 1795.5, 1995.0, 1)</td></tr><tr><td>421791</td><td>bowens@rogers.org</td><td>1593538225853405</td><td>1</td><td>940.5</td><td>1</td><td>List(NEWBED10, M_STAN_Q, Standard Queen Mattress, 940.5, 1045.0, 1)</td></tr><tr><td>461217</td><td>yrobinson84@gmail.com</td><td>1593822157650358</td><td>1</td><td>1615.5</td><td>1</td><td>List(NEWBED10, M_PREM_Q, Premium Queen Mattress, 1615.5, 1795.0, 1)</td></tr><tr><td>465548</td><td>wheelerjose@singh.org</td><td>1593870087420374</td><td>1</td><td>535.5</td><td>1</td><td>List(NEWBED10, M_STAN_T, Standard Twin Mattress, 535.5, 595.0, 1)</td></tr><tr><td>447782</td><td>kerrcatherine@hotmail.com</td><td>1593722199057979</td><td>1</td><td>1075.5</td><td>1</td><td>List(NEWBED10, M_STAN_K, Standard King Mattress, 1075.5, 1195.0, 1)</td></tr><tr><td>464062</td><td>ebuck@hotmail.com</td><td>1593859684522098</td><td>1</td><td>850.5</td><td>1</td><td>List(NEWBED10, M_STAN_F, Standard Full Mattress, 850.5, 945.0, 1)</td></tr><tr><td>453699</td><td>rpatterson91@hotmail.com</td><td>1593782479737261</td><td>1</td><td>1075.5</td><td>1</td><td>List(NEWBED10, M_STAN_K, Standard King Mattress, 1075.5, 1195.0, 1)</td></tr><tr><td>452763</td><td>bcooper15@hotmail.com</td><td>1593773787991027</td><td>1</td><td>850.5</td><td>1</td><td>List(NEWBED10, M_STAN_F, Standard Full Mattress, 850.5, 945.0, 1)</td></tr><tr><td>454712</td><td>kyle90@newman-brown.com</td><td>1593788221032555</td><td>1</td><td>940.5</td><td>1</td><td>List(NEWBED10, M_STAN_Q, Standard Queen Mattress, 940.5, 1045.0, 1)</td></tr><tr><td>461536</td><td>brad63@yahoo.com</td><td>1593825636737164</td><td>2</td><td>606.6</td><td>2</td><td>List(NEWBED10, M_STAN_T, Standard Twin Mattress, 535.5, 595.0, 1)</td></tr><tr><td>461536</td><td>brad63@yahoo.com</td><td>1593825636737164</td><td>2</td><td>606.6</td><td>2</td><td>List(NEWBED10, P_FOAM_K, King Foam Pillow, 71.10000000000001, 79.0, 1)</td></tr><tr><td>289765</td><td>charris35@hotmail.com</td><td>1592573800594854</td><td>1</td><td>1075.5</td><td>1</td><td>List(NEWBED10, M_STAN_K, Standard King Mattress, 1075.5, 1195.0, 1)</td></tr><tr><td>270227</td><td>nicholsonryan@yahoo.com</td><td>1592356761826313</td><td>1</td><td>985.5</td><td>1</td><td>List(NEWBED10, M_PREM_T, Premium Twin Mattress, 985.5, 1095.0, 1)</td></tr><tr><td>286190</td><td>darrellhughes@miranda.com</td><td>1592526466925272</td><td>1</td><td>1075.5</td><td>1</td><td>List(NEWBED10, M_STAN_K, Standard King Mattress, 1075.5, 1195.0, 1)</td></tr><tr><td>282235</td><td>katherine88@hotmail.com</td><td>1592502221312732</td><td>1</td><td>535.5</td><td>1</td><td>List(NEWBED10, M_STAN_T, Standard Twin Mattress, 535.5, 595.0, 1)</td></tr><tr><td>279650</td><td>tzimmerman@parker-stanton.com</td><td>1592487358314141</td><td>2</td><td>2151.0</td><td>1</td><td>List(NEWBED10, M_STAN_K, Standard King Mattress, 2151.0, 1195.0, 2)</td></tr><tr><td>284972</td><td>gmcmahon@gmail.com</td><td>1592516663049576</td><td>1</td><td>1075.5</td><td>1</td><td>List(NEWBED10, M_STAN_K, Standard King Mattress, 1075.5, 1195.0, 1)</td></tr><tr><td>304613</td><td>pfox55@hotmail.com</td><td>1592672311877721</td><td>2</td><td>1128.6</td><td>2</td><td>List(NEWBED10, M_STAN_K, Standard King Mattress, 1075.5, 1195.0, 1)</td></tr><tr><td>304613</td><td>pfox55@hotmail.com</td><td>1592672311877721</td><td>2</td><td>1128.6</td><td>2</td><td>List(NEWBED10, P_FOAM_S, Standard Foam Pillow, 53.1, 59.0, 1)</td></tr><tr><td>281332</td><td>taylorjohn@mooney.com</td><td>1592497601762686</td><td>1</td><td>940.5</td><td>1</td><td>List(NEWBED10, M_STAN_Q, Standard Queen Mattress, 940.5, 1045.0, 1)</td></tr><tr><td>309544</td><td>jamie57@yahoo.com</td><td>1592691667894835</td><td>2</td><td>588.6</td><td>2</td><td>List(NEWBED10, M_STAN_T, Standard Twin Mattress, 535.5, 595.0, 1)</td></tr><tr><td>309544</td><td>jamie57@yahoo.com</td><td>1592691667894835</td><td>2</td><td>588.6</td><td>2</td><td>List(NEWBED10, P_FOAM_S, Standard Foam Pillow, 53.1, 59.0, 1)</td></tr><tr><td>298298</td><td>pachecojoshua@burton.com</td><td>1592624583537949</td><td>1</td><td>940.5</td><td>1</td><td>List(NEWBED10, M_STAN_Q, Standard Queen Mattress, 940.5, 1045.0, 1)</td></tr><tr><td>274093</td><td>cbarton4@hotmail.com</td><td>1592417257733488</td><td>2</td><td>642.6</td><td>2</td><td>List(NEWBED10, M_STAN_T, Standard Twin Mattress, 535.5, 595.0, 1)</td></tr><tr><td>274093</td><td>cbarton4@hotmail.com</td><td>1592417257733488</td><td>2</td><td>642.6</td><td>2</td><td>List(NEWBED10, P_DOWN_S, Standard Down Pillow, 107.10000000000001, 119.0, 1)</td></tr><tr><td>299097</td><td>zwagner@myers-bailey.com</td><td>1592638295891140</td><td>1</td><td>940.5</td><td>1</td><td>List(NEWBED10, M_STAN_Q, Standard Queen Mattress, 940.5, 1045.0, 1)</td></tr><tr><td>287886</td><td>laura27@estrada.net</td><td>1592553659255722</td><td>1</td><td>1795.5</td><td>1</td><td>List(NEWBED10, M_PREM_K, Premium King Mattress, 1795.5, 1995.0, 1)</td></tr><tr><td>297366</td><td>kristina56@edwards.org</td><td>1592612847401452</td><td>1</td><td>940.5</td><td>1</td><td>List(NEWBED10, M_STAN_Q, Standard Queen Mattress, 940.5, 1045.0, 1)</td></tr><tr><td>303294</td><td>icrawford@parker.biz</td><td>1592667411126069</td><td>1</td><td>1075.5</td><td>1</td><td>List(NEWBED10, M_STAN_K, Standard King Mattress, 1075.5, 1195.0, 1)</td></tr><tr><td>310455</td><td>brianwalker@meyer.com</td><td>1592697334711314</td><td>1</td><td>535.5</td><td>1</td><td>List(NEWBED10, M_STAN_T, Standard Twin Mattress, 535.5, 595.0, 1)</td></tr><tr><td>300745</td><td>parkernicole@hudson-murray.com</td><td>1592655199299094</td><td>1</td><td>1525.5</td><td>1</td><td>List(NEWBED10, M_PREM_F, Premium Full Mattress, 1525.5, 1695.0, 1)</td></tr><tr><td>312810</td><td>jenniferramirez87@yahoo.com</td><td>1592725693891526</td><td>1</td><td>535.5</td><td>1</td><td>List(NEWBED10, M_STAN_T, Standard Twin Mattress, 535.5, 595.0, 1)</td></tr><tr><td>339134</td><td>thomasthomas@rose.com</td><td>1592921230506616</td><td>1</td><td>535.5</td><td>1</td><td>List(NEWBED10, M_STAN_T, Standard Twin Mattress, 535.5, 595.0, 1)</td></tr><tr><td>337686</td><td>dflores@parsons.com</td><td>1592911131354180</td><td>1</td><td>940.5</td><td>1</td><td>List(NEWBED10, M_STAN_Q, Standard Queen Mattress, 940.5, 1045.0, 1)</td></tr><tr><td>350171</td><td>destinycook@gmail.com</td><td>1592996683893089</td><td>1</td><td>71.10000000000001</td><td>1</td><td>List(NEWBED10, P_FOAM_K, King Foam Pillow, 71.10000000000001, 79.0, 1)</td></tr><tr><td>361377</td><td>douglas50@lopez.org</td><td>1593077984563010</td><td>1</td><td>1795.5</td><td>1</td><td>List(NEWBED10, M_PREM_K, Premium King Mattress, 1795.5, 1995.0, 1)</td></tr><tr><td>359654</td><td>gloria40@king-parks.info</td><td>1593053339684773</td><td>1</td><td>1615.5</td><td>1</td><td>List(NEWBED10, M_PREM_Q, Premium Queen Mattress, 1615.5, 1795.0, 1)</td></tr><tr><td>330125</td><td>zjones@fox.info</td><td>1592848165501631</td><td>1</td><td>1075.5</td><td>1</td><td>List(NEWBED10, M_STAN_K, Standard King Mattress, 1075.5, 1195.0, 1)</td></tr><tr><td>350981</td><td>milesmarie@francis.com</td><td>1593003161951880</td><td>1</td><td>1075.5</td><td>1</td><td>List(NEWBED10, M_STAN_K, Standard King Mattress, 1075.5, 1195.0, 1)</td></tr><tr><td>346102</td><td>zrowe72@gmail.com</td><td>1592953148076293</td><td>1</td><td>940.5</td><td>1</td><td>List(NEWBED10, M_STAN_Q, Standard Queen Mattress, 940.5, 1045.0, 1)</td></tr><tr><td>343215</td><td>qbrown@vaughn.com</td><td>1592938981606331</td><td>1</td><td>985.5</td><td>1</td><td>List(NEWBED10, M_PREM_T, Premium Twin Mattress, 985.5, 1095.0, 1)</td></tr><tr><td>336122</td><td>kathleen11@dunn.com</td><td>1592891930037927</td><td>1</td><td>940.5</td><td>1</td><td>List(NEWBED10, M_STAN_Q, Standard Queen Mattress, 940.5, 1045.0, 1)</td></tr><tr><td>324863</td><td>howard48@yahoo.com</td><td>1592806705132813</td><td>1</td><td>53.1</td><td>1</td><td>List(NEWBED10, P_FOAM_S, Standard Foam Pillow, 53.1, 59.0, 1)</td></tr><tr><td>370849</td><td>jacobforbes@gmail.com</td><td>1593143066998788</td><td>1</td><td>850.5</td><td>1</td><td>List(NEWBED10, M_STAN_F, Standard Full Mattress, 850.5, 945.0, 1)</td></tr><tr><td>357529</td><td>pittsadam@hotmail.com</td><td>1593035635737848</td><td>1</td><td>940.5</td><td>1</td><td>List(NEWBED10, M_STAN_Q, Standard Queen Mattress, 940.5, 1045.0, 1)</td></tr><tr><td>370339</td><td>tyler1775@yahoo.com</td><td>1593136447242227</td><td>1</td><td>1525.5</td><td>1</td><td>List(NEWBED10, M_PREM_F, Premium Full Mattress, 1525.5, 1695.0, 1)</td></tr><tr><td>382438</td><td>owalton@jones.net</td><td>1593244409466108</td><td>1</td><td>1075.5</td><td>1</td><td>List(NEWBED10, M_STAN_K, Standard King Mattress, 1075.5, 1195.0, 1)</td></tr><tr><td>373267</td><td>moorederek@thompson-fields.biz</td><td>1593175216492810</td><td>1</td><td>53.1</td><td>1</td><td>List(NEWBED10, P_FOAM_S, Standard Foam Pillow, 53.1, 59.0, 1)</td></tr><tr><td>382797</td><td>pgarcia@gutierrez-perez.com</td><td>1593249792175895</td><td>1</td><td>1075.5</td><td>1</td><td>List(NEWBED10, M_STAN_K, Standard King Mattress, 1075.5, 1195.0, 1)</td></tr><tr><td>369178</td><td>bridgesdanny@yahoo.com</td><td>1593125431441132</td><td>1</td><td>1075.5</td><td>1</td><td>List(NEWBED10, M_STAN_K, Standard King Mattress, 1075.5, 1195.0, 1)</td></tr><tr><td>394634</td><td>cmonroe@jones.com</td><td>1593327993779978</td><td>1</td><td>940.5</td><td>1</td><td>List(NEWBED10, M_STAN_Q, Standard Queen Mattress, 940.5, 1045.0, 1)</td></tr><tr><td>381229</td><td>gonzalezamber@daniel.info</td><td>1593225195475435</td><td>1</td><td>535.5</td><td>1</td><td>List(NEWBED10, M_STAN_T, Standard Twin Mattress, 535.5, 595.0, 1)</td></tr><tr><td>391526</td><td>chase24@hernandez.com</td><td>1593294519855796</td><td>1</td><td>1615.5</td><td>1</td><td>List(NEWBED10, M_PREM_Q, Premium Queen Mattress, 1615.5, 1795.0, 1)</td></tr><tr><td>425620</td><td>warrenjessica@yahoo.com</td><td>1593556784004770</td><td>1</td><td>535.5</td><td>1</td><td>List(NEWBED10, M_STAN_T, Standard Twin Mattress, 535.5, 595.0, 1)</td></tr><tr><td>418748</td><td>simonjose@hotmail.com</td><td>1593523036467943</td><td>3</td><td>1718.1</td><td>3</td><td>List(NEWBED10, M_STAN_K, Standard King Mattress, 1075.5, 1195.0, 1)</td></tr><tr><td>418748</td><td>simonjose@hotmail.com</td><td>1593523036467943</td><td>3</td><td>1718.1</td><td>3</td><td>List(NEWBED10, M_STAN_T, Standard Twin Mattress, 535.5, 595.0, 1)</td></tr><tr><td>418748</td><td>simonjose@hotmail.com</td><td>1593523036467943</td><td>3</td><td>1718.1</td><td>3</td><td>List(NEWBED10, P_DOWN_S, Standard Down Pillow, 107.10000000000001, 119.0, 1)</td></tr><tr><td>405125</td><td>simpsonsarah@miller.com</td><td>1593398803512787</td><td>1</td><td>1795.5</td><td>1</td><td>List(NEWBED10, M_PREM_K, Premium King Mattress, 1795.5, 1995.0, 1)</td></tr><tr><td>410908</td><td>ruth56@gmail.com</td><td>1593453193565715</td><td>1</td><td>985.5</td><td>1</td><td>List(NEWBED10, M_PREM_T, Premium Twin Mattress, 985.5, 1095.0, 1)</td></tr><tr><td>438265</td><td>penny81@gmail.com</td><td>1593656903149308</td><td>1</td><td>940.5</td><td>1</td><td>List(NEWBED10, M_STAN_Q, Standard Queen Mattress, 940.5, 1045.0, 1)</td></tr><tr><td>415157</td><td>alicia46@montgomery.org</td><td>1593480643884834</td><td>2</td><td>1632.6</td><td>2</td><td>List(NEWBED10, M_PREM_F, Premium Full Mattress, 1525.5, 1695.0, 1)</td></tr><tr><td>415157</td><td>alicia46@montgomery.org</td><td>1593480643884834</td><td>2</td><td>1632.6</td><td>2</td><td>List(NEWBED10, P_DOWN_S, Standard Down Pillow, 107.10000000000001, 119.0, 1)</td></tr><tr><td>427785</td><td>iguzman@davis.biz</td><td>1593578687101020</td><td>1</td><td>850.5</td><td>1</td><td>List(NEWBED10, M_STAN_F, Standard Full Mattress, 850.5, 945.0, 1)</td></tr><tr><td>438826</td><td>nicholasstanley@hotmail.com</td><td>1593664651862227</td><td>1</td><td>1615.5</td><td>1</td><td>List(NEWBED10, M_PREM_Q, Premium Queen Mattress, 1615.5, 1795.0, 1)</td></tr><tr><td>440341</td><td>nataliearnold@moore.com</td><td>1593685891439065</td><td>1</td><td>1615.5</td><td>1</td><td>List(NEWBED10, M_PREM_Q, Premium Queen Mattress, 1615.5, 1795.0, 1)</td></tr><tr><td>451472</td><td>tonysantos@yahoo.com</td><td>1593753683835250</td><td>1</td><td>940.5</td><td>1</td><td>List(NEWBED10, M_STAN_Q, Standard Queen Mattress, 940.5, 1045.0, 1)</td></tr><tr><td>464365</td><td>courtneyking@henry-santiago.com</td><td>1593862494273591</td><td>1</td><td>985.5</td><td>1</td><td>List(NEWBED10, M_PREM_T, Premium Twin Mattress, 985.5, 1095.0, 1)</td></tr><tr><td>458710</td><td>rgolden@reed-anderson.com</td><td>1593806819604309</td><td>1</td><td>535.5</td><td>1</td><td>List(NEWBED10, M_STAN_T, Standard Twin Mattress, 535.5, 595.0, 1)</td></tr><tr><td>416165</td><td>gmurray@lewis-thompson.org</td><td>1593494723312790</td><td>1</td><td>535.5</td><td>1</td><td>List(NEWBED10, M_STAN_T, Standard Twin Mattress, 535.5, 595.0, 1)</td></tr><tr><td>436801</td><td>gmcgee32@yahoo.com</td><td>1593643278302622</td><td>1</td><td>1075.5</td><td>1</td><td>List(NEWBED10, M_STAN_K, Standard King Mattress, 1075.5, 1195.0, 1)</td></tr><tr><td>460772</td><td>dominguezmolly@hotmail.com</td><td>1593818586287989</td><td>1</td><td>850.5</td><td>1</td><td>List(NEWBED10, M_STAN_F, Standard Full Mattress, 850.5, 945.0, 1)</td></tr><tr><td>438067</td><td>wwagner@keller.net</td><td>1593654694187875</td><td>1</td><td>1075.5</td><td>1</td><td>List(NEWBED10, M_STAN_K, Standard King Mattress, 1075.5, 1195.0, 1)</td></tr><tr><td>453459</td><td>jose68@hotmail.com</td><td>1593780479870380</td><td>1</td><td>107.10000000000001</td><td>1</td><td>List(NEWBED10, P_DOWN_S, Standard Down Pillow, 107.10000000000001, 119.0, 1)</td></tr><tr><td>457303</td><td>denniskeith@campos.net</td><td>1593800541496412</td><td>1</td><td>535.5</td><td>1</td><td>List(NEWBED10, M_STAN_T, Standard Twin Mattress, 535.5, 595.0, 1)</td></tr><tr><td>462535</td><td>scottpeters@yahoo.com</td><td>1593839571400985</td><td>2</td><td>642.6</td><td>2</td><td>List(NEWBED10, M_STAN_T, Standard Twin Mattress, 535.5, 595.0, 1)</td></tr><tr><td>462535</td><td>scottpeters@yahoo.com</td><td>1593839571400985</td><td>2</td><td>642.6</td><td>2</td><td>List(NEWBED10, P_DOWN_S, Standard Down Pillow, 107.10000000000001, 119.0, 1)</td></tr><tr><td>296439</td><td>michaeljones2@hotmail.com</td><td>1592606057100882</td><td>1</td><td>1615.5</td><td>1</td><td>List(NEWBED10, M_PREM_Q, Premium Queen Mattress, 1615.5, 1795.0, 1)</td></tr><tr><td>297828</td><td>alejandroneal@gmail.com</td><td>1592617936031205</td><td>1</td><td>850.5</td><td>1</td><td>List(NEWBED10, M_STAN_F, Standard Full Mattress, 850.5, 945.0, 1)</td></tr><tr><td>294431</td><td>mckinneybenjamin@yahoo.com</td><td>1592595582477851</td><td>1</td><td>1795.5</td><td>1</td><td>List(NEWBED10, M_PREM_K, Premium King Mattress, 1795.5, 1995.0, 1)</td></tr><tr><td>311864</td><td>vharris9@yahoo.com</td><td>1592711182410734</td><td>1</td><td>535.5</td><td>1</td><td>List(NEWBED10, M_STAN_T, Standard Twin Mattress, 535.5, 595.0, 1)</td></tr><tr><td>318541</td><td>sharonblake@hunter.info</td><td>1592762303120390</td><td>2</td><td>642.6</td><td>2</td><td>List(NEWBED10, M_STAN_T, Standard Twin Mattress, 535.5, 595.0, 1)</td></tr><tr><td>318541</td><td>sharonblake@hunter.info</td><td>1592762303120390</td><td>2</td><td>642.6</td><td>2</td><td>List(NEWBED10, P_DOWN_S, Standard Down Pillow, 107.10000000000001, 119.0, 1)</td></tr><tr><td>287749</td><td>annette97@hotmail.com</td><td>1592551002839455</td><td>1</td><td>940.5</td><td>1</td><td>List(NEWBED10, M_STAN_Q, Standard Queen Mattress, 940.5, 1045.0, 1)</td></tr><tr><td>312270</td><td>michaelmccormick@moore-choi.com</td><td>1592717053674777</td><td>1</td><td>1075.5</td><td>1</td><td>List(NEWBED10, M_STAN_K, Standard King Mattress, 1075.5, 1195.0, 1)</td></tr><tr><td>314705</td><td>cdelgado@stewart.com</td><td>1592744414959757</td><td>1</td><td>535.5</td><td>1</td><td>List(NEWBED10, M_STAN_T, Standard Twin Mattress, 535.5, 595.0, 1)</td></tr><tr><td>328958</td><td>karlalee@thompson.com</td><td>1592842872071696</td><td>1</td><td>1075.5</td><td>1</td><td>List(NEWBED10, M_STAN_K, Standard King Mattress, 1075.5, 1195.0, 1)</td></tr><tr><td>346762</td><td>gregorywhite@thomas-williams.info</td><td>1592958034399352</td><td>1</td><td>940.5</td><td>1</td><td>List(NEWBED10, M_STAN_Q, Standard Queen Mattress, 940.5, 1045.0, 1)</td></tr><tr><td>356910</td><td>zjackson@mason.com</td><td>1593032109871585</td><td>1</td><td>1075.5</td><td>1</td><td>List(NEWBED10, M_STAN_K, Standard King Mattress, 1075.5, 1195.0, 1)</td></tr><tr><td>329681</td><td>sandrasmith@yates-higgins.com</td><td>1592846250288649</td><td>1</td><td>1795.5</td><td>1</td><td>List(NEWBED10, M_PREM_K, Premium King Mattress, 1795.5, 1995.0, 1)</td></tr><tr><td>360749</td><td>xcarter40@gmail.com</td><td>1593069212820648</td><td>1</td><td>940.5</td><td>1</td><td>List(NEWBED10, M_STAN_Q, Standard Queen Mattress, 940.5, 1045.0, 1)</td></tr><tr><td>363664</td><td>michelle80@gmail.com</td><td>1593096134054722</td><td>1</td><td>535.5</td><td>1</td><td>List(NEWBED10, M_STAN_T, Standard Twin Mattress, 535.5, 595.0, 1)</td></tr><tr><td>358768</td><td>victoriarodriguez@hotmail.com</td><td>1593044027428597</td><td>1</td><td>940.5</td><td>1</td><td>List(NEWBED10, M_STAN_Q, Standard Queen Mattress, 940.5, 1045.0, 1)</td></tr><tr><td>358014</td><td>ycunningham@moore.org</td><td>1593038471950497</td><td>1</td><td>940.5</td><td>1</td><td>List(NEWBED10, M_STAN_Q, Standard Queen Mattress, 940.5, 1045.0, 1)</td></tr><tr><td>370987</td><td>jeffdixon@cruz-wheeler.org</td><td>1593145001827490</td><td>1</td><td>940.5</td><td>1</td><td>List(NEWBED10, M_STAN_Q, Standard Queen Mattress, 940.5, 1045.0, 1)</td></tr><tr><td>380830</td><td>ypeterson@palmer.com</td><td>1593220502004967</td><td>1</td><td>535.5</td><td>1</td><td>List(NEWBED10, M_STAN_T, Standard Twin Mattress, 535.5, 595.0, 1)</td></tr><tr><td>376431</td><td>bsmith@bell.com</td><td>1593193003901845</td><td>1</td><td>535.5</td><td>1</td><td>List(NEWBED10, M_STAN_T, Standard Twin Mattress, 535.5, 595.0, 1)</td></tr><tr><td>360185</td><td>huffaaron@gmail.com</td><td>1593060827932635</td><td>1</td><td>1075.5</td><td>1</td><td>List(NEWBED10, M_STAN_K, Standard King Mattress, 1075.5, 1195.0, 1)</td></tr><tr><td>369506</td><td>lindseycharles@erickson.com</td><td>1593128124725026</td><td>1</td><td>940.5</td><td>1</td><td>List(NEWBED10, M_STAN_Q, Standard Queen Mattress, 940.5, 1045.0, 1)</td></tr><tr><td>396560</td><td>christymullins@gmail.com</td><td>1593348996397325</td><td>1</td><td>940.5</td><td>1</td><td>List(NEWBED10, M_STAN_Q, Standard Queen Mattress, 940.5, 1045.0, 1)</td></tr><tr><td>400620</td><td>amymartinez@gmail.com</td><td>1593369301834495</td><td>3</td><td>2924.1</td><td>3</td><td>List(NEWBED10, M_STAN_K, Standard King Mattress, 1075.5, 1195.0, 1)</td></tr><tr><td>400620</td><td>amymartinez@gmail.com</td><td>1593369301834495</td><td>3</td><td>2924.1</td><td>3</td><td>List(NEWBED10, P_FOAM_S, Standard Foam Pillow, 53.1, 59.0, 1)</td></tr><tr><td>400620</td><td>amymartinez@gmail.com</td><td>1593369301834495</td><td>3</td><td>2924.1</td><td>3</td><td>List(NEWBED10, M_PREM_K, Premium King Mattress, 1795.5, 1995.0, 1)</td></tr><tr><td>393276</td><td>tylerross@martinez-zimmerman.com</td><td>1593306990596124</td><td>1</td><td>535.5</td><td>1</td><td>List(NEWBED10, M_STAN_T, Standard Twin Mattress, 535.5, 595.0, 1)</td></tr><tr><td>387869</td><td>victoria5082@gmail.com</td><td>1593279471308580</td><td>1</td><td>1525.5</td><td>1</td><td>List(NEWBED10, M_PREM_F, Premium Full Mattress, 1525.5, 1695.0, 1)</td></tr><tr><td>384003</td><td>williamssherri@todd-gomez.com</td><td>1593261230486990</td><td>2</td><td>1083.6</td><td>2</td><td>List(NEWBED10, M_STAN_Q, Standard Queen Mattress, 940.5, 1045.0, 1)</td></tr><tr><td>384003</td><td>williamssherri@todd-gomez.com</td><td>1593261230486990</td><td>2</td><td>1083.6</td><td>2</td><td>List(NEWBED10, P_DOWN_K, King Down Pillow, 143.1, 159.0, 1)</td></tr><tr><td>397545</td><td>tiffanygonzalez@hotmail.com</td><td>1593355351128144</td><td>2</td><td>2601.0</td><td>2</td><td>List(NEWBED10, M_STAN_K, Standard King Mattress, 1075.5, 1195.0, 1)</td></tr><tr><td>397545</td><td>tiffanygonzalez@hotmail.com</td><td>1593355351128144</td><td>2</td><td>2601.0</td><td>2</td><td>List(NEWBED10, M_PREM_F, Premium Full Mattress, 1525.5, 1695.0, 1)</td></tr><tr><td>406371</td><td>tnavarro@hotmail.com</td><td>1593418162757854</td><td>1</td><td>940.5</td><td>1</td><td>List(NEWBED10, M_STAN_Q, Standard Queen Mattress, 940.5, 1045.0, 1)</td></tr><tr><td>391348</td><td>odomamy@hotmail.com</td><td>1593293585464982</td><td>1</td><td>1525.5</td><td>1</td><td>List(NEWBED10, M_PREM_F, Premium Full Mattress, 1525.5, 1695.0, 1)</td></tr><tr><td>395074</td><td>ymarshall15@hotmail.com</td><td>1593334582669359</td><td>1</td><td>940.5</td><td>1</td><td>List(NEWBED10, M_STAN_Q, Standard Queen Mattress, 940.5, 1045.0, 1)</td></tr><tr><td>417534</td><td>changtracy@rivera.com</td><td>1593513706468481</td><td>1</td><td>850.5</td><td>1</td><td>List(NEWBED10, M_STAN_F, Standard Full Mattress, 850.5, 945.0, 1)</td></tr><tr><td>405553</td><td>laurenlang@torres.biz</td><td>1593404961536292</td><td>3</td><td>2731.5</td><td>2</td><td>List(NEWBED10, M_STAN_Q, Standard Queen Mattress, 1881.0, 1045.0, 2)</td></tr><tr><td>405553</td><td>laurenlang@torres.biz</td><td>1593404961536292</td><td>3</td><td>2731.5</td><td>2</td><td>List(NEWBED10, M_STAN_F, Standard Full Mattress, 850.5, 945.0, 1)</td></tr><tr><td>415536</td><td>omartinez18@hotmail.com</td><td>1593485389857585</td><td>1</td><td>850.5</td><td>1</td><td>List(NEWBED10, M_STAN_F, Standard Full Mattress, 850.5, 945.0, 1)</td></tr><tr><td>431202</td><td>markyoung@hotmail.com</td><td>1593614056227092</td><td>1</td><td>940.5</td><td>1</td><td>List(NEWBED10, M_STAN_Q, Standard Queen Mattress, 940.5, 1045.0, 1)</td></tr><tr><td>427366</td><td>mary21@johnson.com</td><td>1593572776017630</td><td>1</td><td>1615.5</td><td>1</td><td>List(NEWBED10, M_PREM_Q, Premium Queen Mattress, 1615.5, 1795.0, 1)</td></tr><tr><td>450235</td><td>mespinoza@hotmail.com</td><td>1593737840057764</td><td>1</td><td>940.5</td><td>1</td><td>List(NEWBED10, M_STAN_Q, Standard Queen Mattress, 940.5, 1045.0, 1)</td></tr><tr><td>461897</td><td>travis88@mcdowell.com</td><td>1593829872080569</td><td>1</td><td>1795.5</td><td>1</td><td>List(NEWBED10, M_PREM_K, Premium King Mattress, 1795.5, 1995.0, 1)</td></tr><tr><td>453267</td><td>ashleybrown86@yahoo.com</td><td>1593778720530164</td><td>2</td><td>1128.6</td><td>2</td><td>List(NEWBED10, M_STAN_K, Standard King Mattress, 1075.5, 1195.0, 1)</td></tr><tr><td>453267</td><td>ashleybrown86@yahoo.com</td><td>1593778720530164</td><td>2</td><td>1128.6</td><td>2</td><td>List(NEWBED10, P_FOAM_S, Standard Foam Pillow, 53.1, 59.0, 1)</td></tr><tr><td>460650</td><td>cassandralarsen@martinez-torres.net</td><td>1593817707976819</td><td>1</td><td>1075.5</td><td>1</td><td>List(NEWBED10, M_STAN_K, Standard King Mattress, 1075.5, 1195.0, 1)</td></tr><tr><td>431804</td><td>shelly06@lane.com</td><td>1593617453051786</td><td>1</td><td>535.5</td><td>1</td><td>List(NEWBED10, M_STAN_T, Standard Twin Mattress, 535.5, 595.0, 1)</td></tr><tr><td>460511</td><td>chelseamelton@yahoo.com</td><td>1593816656722042</td><td>1</td><td>940.5</td><td>1</td><td>List(NEWBED10, M_STAN_Q, Standard Queen Mattress, 940.5, 1045.0, 1)</td></tr><tr><td>461203</td><td>jacksonstephanie91@yahoo.com</td><td>1593822053820504</td><td>1</td><td>53.1</td><td>1</td><td>List(NEWBED10, P_FOAM_S, Standard Foam Pillow, 53.1, 59.0, 1)</td></tr><tr><td>466630</td><td>zbrown@gmail.com</td><td>1593875057104380</td><td>1</td><td>107.10000000000001</td><td>1</td><td>List(NEWBED10, P_DOWN_S, Standard Down Pillow, 107.10000000000001, 119.0, 1)</td></tr><tr><td>277362</td><td>michelleberry89@gmail.com</td><td>1592444281016350</td><td>1</td><td>535.5</td><td>1</td><td>List(NEWBED10, M_STAN_T, Standard Twin Mattress, 535.5, 595.0, 1)</td></tr><tr><td>285870</td><td>nolanbryan@yahoo.com</td><td>1592523206384800</td><td>1</td><td>535.5</td><td>1</td><td>List(NEWBED10, M_STAN_T, Standard Twin Mattress, 535.5, 595.0, 1)</td></tr><tr><td>286650</td><td>andrea1316@hotmail.com</td><td>1592531966567056</td><td>1</td><td>71.10000000000001</td><td>1</td><td>List(NEWBED10, P_FOAM_K, King Foam Pillow, 71.10000000000001, 79.0, 1)</td></tr><tr><td>309742</td><td>selena99@cisneros.net</td><td>1592692784789834</td><td>2</td><td>1071.0</td><td>1</td><td>List(NEWBED10, M_STAN_T, Standard Twin Mattress, 1071.0, 595.0, 2)</td></tr><tr><td>310588</td><td>courtney51@russell.com</td><td>1592698259334027</td><td>1</td><td>940.5</td><td>1</td><td>List(NEWBED10, M_STAN_Q, Standard Queen Mattress, 940.5, 1045.0, 1)</td></tr><tr><td>324837</td><td>fsanchez78@yahoo.com</td><td>1592806337077063</td><td>1</td><td>1075.5</td><td>1</td><td>List(NEWBED10, M_STAN_K, Standard King Mattress, 1075.5, 1195.0, 1)</td></tr><tr><td>325254</td><td>fkim@wilkerson.com</td><td>1592813023634831</td><td>1</td><td>940.5</td><td>1</td><td>List(NEWBED10, M_STAN_Q, Standard Queen Mattress, 940.5, 1045.0, 1)</td></tr><tr><td>316367</td><td>reeddarrell@gmail.com</td><td>1592753164563865</td><td>1</td><td>850.5</td><td>1</td><td>List(NEWBED10, M_STAN_F, Standard Full Mattress, 850.5, 945.0, 1)</td></tr><tr><td>325134</td><td>stevenwise@neal.com</td><td>1592811112096496</td><td>1</td><td>985.5</td><td>1</td><td>List(NEWBED10, M_PREM_T, Premium Twin Mattress, 985.5, 1095.0, 1)</td></tr><tr><td>326790</td><td>blakeedwards@hotmail.com</td><td>1592830100207127</td><td>1</td><td>1075.5</td><td>1</td><td>List(NEWBED10, M_STAN_K, Standard King Mattress, 1075.5, 1195.0, 1)</td></tr><tr><td>336762</td><td>hailey96@gmail.com</td><td>1592900562137374</td><td>1</td><td>940.5</td><td>1</td><td>List(NEWBED10, M_STAN_Q, Standard Queen Mattress, 940.5, 1045.0, 1)</td></tr><tr><td>343521</td><td>schwartzkeith@gmail.com</td><td>1592940313797324</td><td>1</td><td>53.1</td><td>1</td><td>List(NEWBED10, P_FOAM_S, Standard Foam Pillow, 53.1, 59.0, 1)</td></tr><tr><td>344391</td><td>uliu@yahoo.com</td><td>1592944150192613</td><td>1</td><td>1075.5</td><td>1</td><td>List(NEWBED10, M_STAN_K, Standard King Mattress, 1075.5, 1195.0, 1)</td></tr><tr><td>357540</td><td>ywelch@richard-savage.com</td><td>1593035674582088</td><td>1</td><td>535.5</td><td>1</td><td>List(NEWBED10, M_STAN_T, Standard Twin Mattress, 535.5, 595.0, 1)</td></tr><tr><td>322961</td><td>rbrown15@hotmail.com</td><td>1592783355491854</td><td>1</td><td>850.5</td><td>1</td><td>List(NEWBED10, M_STAN_F, Standard Full Mattress, 850.5, 945.0, 1)</td></tr><tr><td>360270</td><td>carolyn25@thompson-hodges.com</td><td>1593061951121945</td><td>1</td><td>1075.5</td><td>1</td><td>List(NEWBED10, M_STAN_K, Standard King Mattress, 1075.5, 1195.0, 1)</td></tr><tr><td>359978</td><td>rdaniels@yahoo.com</td><td>1593057966586788</td><td>1</td><td>1075.5</td><td>1</td><td>List(NEWBED10, M_STAN_K, Standard King Mattress, 1075.5, 1195.0, 1)</td></tr><tr><td>370182</td><td>meredith59@fisher.com</td><td>1593134464602144</td><td>1</td><td>1525.5</td><td>1</td><td>List(NEWBED10, M_PREM_F, Premium Full Mattress, 1525.5, 1695.0, 1)</td></tr><tr><td>385596</td><td>bradley68@hotmail.com</td><td>1593270210050623</td><td>1</td><td>143.1</td><td>1</td><td>List(NEWBED10, P_DOWN_K, King Down Pillow, 143.1, 159.0, 1)</td></tr><tr><td>381142</td><td>masonrobinson@hotmail.com</td><td>1593224161402171</td><td>2</td><td>1476.0</td><td>2</td><td>List(NEWBED10, M_STAN_Q, Standard Queen Mattress, 940.5, 1045.0, 1)</td></tr><tr><td>381142</td><td>masonrobinson@hotmail.com</td><td>1593224161402171</td><td>2</td><td>1476.0</td><td>2</td><td>List(NEWBED10, M_STAN_T, Standard Twin Mattress, 535.5, 595.0, 1)</td></tr><tr><td>368415</td><td>richardvillegas@hotmail.com</td><td>1593120560131864</td><td>1</td><td>940.5</td><td>1</td><td>List(NEWBED10, M_STAN_Q, Standard Queen Mattress, 940.5, 1045.0, 1)</td></tr><tr><td>357560</td><td>jonathan4020@gmail.com</td><td>1593035800111599</td><td>1</td><td>1075.5</td><td>1</td><td>List(NEWBED10, M_STAN_K, Standard King Mattress, 1075.5, 1195.0, 1)</td></tr><tr><td>395070</td><td>carolmorgan@klein.biz</td><td>1593334507524928</td><td>1</td><td>535.5</td><td>1</td><td>List(NEWBED10, M_STAN_T, Standard Twin Mattress, 535.5, 595.0, 1)</td></tr><tr><td>358974</td><td>hernandezandrea@west.org</td><td>1593046072267006</td><td>1</td><td>1075.5</td><td>1</td><td>List(NEWBED10, M_STAN_K, Standard King Mattress, 1075.5, 1195.0, 1)</td></tr><tr><td>393994</td><td>lisaball@moreno.org</td><td>1593317325902348</td><td>1</td><td>1525.5</td><td>1</td><td>List(NEWBED10, M_PREM_F, Premium Full Mattress, 1525.5, 1695.0, 1)</td></tr><tr><td>397686</td><td>matthewdavies@young.com</td><td>1593356008900633</td><td>1</td><td>940.5</td><td>1</td><td>List(NEWBED10, M_STAN_Q, Standard Queen Mattress, 940.5, 1045.0, 1)</td></tr><tr><td>392620</td><td>yevans@bush-webster.com</td><td>1593301409767825</td><td>1</td><td>1075.5</td><td>1</td><td>List(NEWBED10, M_STAN_K, Standard King Mattress, 1075.5, 1195.0, 1)</td></tr><tr><td>409237</td><td>nanderson97@hotmail.com</td><td>1593444438090363</td><td>1</td><td>1075.5</td><td>1</td><td>List(NEWBED10, M_STAN_K, Standard King Mattress, 1075.5, 1195.0, 1)</td></tr><tr><td>416445</td><td>kimmichael@gmail.com</td><td>1593499302873807</td><td>1</td><td>940.5</td><td>1</td><td>List(NEWBED10, M_STAN_Q, Standard Queen Mattress, 940.5, 1045.0, 1)</td></tr><tr><td>430376</td><td>henrylivingston@reed.info</td><td>1593608767737785</td><td>1</td><td>940.5</td><td>1</td><td>List(NEWBED10, M_STAN_Q, Standard Queen Mattress, 940.5, 1045.0, 1)</td></tr><tr><td>462666</td><td>elizabeth11@brown.net</td><td>1593841786494475</td><td>1</td><td>1075.5</td><td>1</td><td>List(NEWBED10, M_STAN_K, Standard King Mattress, 1075.5, 1195.0, 1)</td></tr><tr><td>461672</td><td>wyattwilliam@norris.com</td><td>1593827162868440</td><td>1</td><td>535.5</td><td>1</td><td>List(NEWBED10, M_STAN_T, Standard Twin Mattress, 535.5, 595.0, 1)</td></tr><tr><td>467276</td><td>tina13@martin.com</td><td>1593877628282120</td><td>1</td><td>535.5</td><td>1</td><td>List(NEWBED10, M_STAN_T, Standard Twin Mattress, 535.5, 595.0, 1)</td></tr><tr><td>463820</td><td>wrose@powell-velazquez.com</td><td>1593857336227296</td><td>1</td><td>535.5</td><td>1</td><td>List(NEWBED10, M_STAN_T, Standard Twin Mattress, 535.5, 595.0, 1)</td></tr><tr><td>463020</td><td>ssmith@riley-turner.info</td><td>1593847250933872</td><td>1</td><td>1615.5</td><td>1</td><td>List(NEWBED10, M_PREM_Q, Premium Queen Mattress, 1615.5, 1795.0, 1)</td></tr><tr><td>465794</td><td>pamelamckinney@bailey.com</td><td>1593871287753388</td><td>1</td><td>940.5</td><td>1</td><td>List(NEWBED10, M_STAN_Q, Standard Queen Mattress, 940.5, 1045.0, 1)</td></tr><tr><td>448999</td><td>greertracey@yahoo.com</td><td>1593728449322703</td><td>1</td><td>107.10000000000001</td><td>1</td><td>List(NEWBED10, P_DOWN_S, Standard Down Pillow, 107.10000000000001, 119.0, 1)</td></tr><tr><td>464582</td><td>adkinsjessica@gmail.com</td><td>1593864062244129</td><td>1</td><td>1075.5</td><td>1</td><td>List(NEWBED10, M_STAN_K, Standard King Mattress, 1075.5, 1195.0, 1)</td></tr><tr><td>285625</td><td>mdawson83@yahoo.com</td><td>1592521311377263</td><td>1</td><td>940.5</td><td>1</td><td>List(NEWBED10, M_STAN_Q, Standard Queen Mattress, 940.5, 1045.0, 1)</td></tr><tr><td>285394</td><td>shannon3962@yahoo.com</td><td>1592519691570221</td><td>1</td><td>1075.5</td><td>1</td><td>List(NEWBED10, M_STAN_K, Standard King Mattress, 1075.5, 1195.0, 1)</td></tr><tr><td>294546</td><td>tbrady49@yahoo.com</td><td>1592596173181191</td><td>1</td><td>535.5</td><td>1</td><td>List(NEWBED10, M_STAN_T, Standard Twin Mattress, 535.5, 595.0, 1)</td></tr><tr><td>301063</td><td>brandon4086@hotmail.com</td><td>1592657113864972</td><td>2</td><td>1092.6</td><td>2</td><td>List(NEWBED10, M_PREM_T, Premium Twin Mattress, 985.5, 1095.0, 1)</td></tr><tr><td>301063</td><td>brandon4086@hotmail.com</td><td>1592657113864972</td><td>2</td><td>1092.6</td><td>2</td><td>List(NEWBED10, P_DOWN_S, Standard Down Pillow, 107.10000000000001, 119.0, 1)</td></tr><tr><td>327094</td><td>victorbaxter@lucas.com</td><td>1592832265910438</td><td>1</td><td>535.5</td><td>1</td><td>List(NEWBED10, M_STAN_T, Standard Twin Mattress, 535.5, 595.0, 1)</td></tr><tr><td>336936</td><td>ojoseph28@yahoo.com</td><td>1592902819769935</td><td>3</td><td>2011.5</td><td>2</td><td>List(NEWBED10, M_STAN_Q, Standard Queen Mattress, 940.5, 1045.0, 1)</td></tr><tr><td>336936</td><td>ojoseph28@yahoo.com</td><td>1592902819769935</td><td>3</td><td>2011.5</td><td>2</td><td>List(NEWBED10, M_STAN_T, Standard Twin Mattress, 1071.0, 595.0, 2)</td></tr><tr><td>333823</td><td>halevincent@gmail.com</td><td>1592866866919830</td><td>1</td><td>940.5</td><td>1</td><td>List(NEWBED10, M_STAN_Q, Standard Queen Mattress, 940.5, 1045.0, 1)</td></tr><tr><td>302784</td><td>bennettjennifer@ramirez.com</td><td>1592665465528961</td><td>1</td><td>940.5</td><td>1</td><td>List(NEWBED10, M_STAN_Q, Standard Queen Mattress, 940.5, 1045.0, 1)</td></tr><tr><td>313420</td><td>kylepearson@yahoo.com</td><td>1592733413728751</td><td>1</td><td>1615.5</td><td>1</td><td>List(NEWBED10, M_PREM_Q, Premium Queen Mattress, 1615.5, 1795.0, 1)</td></tr><tr><td>358132</td><td>marytaylor@jones-zimmerman.info</td><td>1593039243263656</td><td>1</td><td>1075.5</td><td>1</td><td>List(NEWBED10, M_STAN_K, Standard King Mattress, 1075.5, 1195.0, 1)</td></tr><tr><td>347645</td><td>lscott@campbell-wilson.net</td><td>1592965847902819</td><td>1</td><td>53.1</td><td>1</td><td>List(NEWBED10, P_FOAM_S, Standard Foam Pillow, 53.1, 59.0, 1)</td></tr><tr><td>347881</td><td>raydanielle@hotmail.com</td><td>1592968174368487</td><td>1</td><td>535.5</td><td>1</td><td>List(NEWBED10, M_STAN_T, Standard Twin Mattress, 535.5, 595.0, 1)</td></tr><tr><td>359791</td><td>kortiz@anderson.com</td><td>1593055093115588</td><td>1</td><td>535.5</td><td>1</td><td>List(NEWBED10, M_STAN_T, Standard Twin Mattress, 535.5, 595.0, 1)</td></tr><tr><td>356055</td><td>alicia86@gmail.com</td><td>1593027960182873</td><td>1</td><td>535.5</td><td>1</td><td>List(NEWBED10, M_STAN_T, Standard Twin Mattress, 535.5, 595.0, 1)</td></tr><tr><td>372984</td><td>speterson@wilson-hernandez.com</td><td>1593172719981095</td><td>1</td><td>535.5</td><td>1</td><td>List(NEWBED10, M_STAN_T, Standard Twin Mattress, 535.5, 595.0, 1)</td></tr><tr><td>354250</td><td>samantha64@james-macias.biz</td><td>1593020074393138</td><td>1</td><td>1615.5</td><td>1</td><td>List(NEWBED10, M_PREM_Q, Premium Queen Mattress, 1615.5, 1795.0, 1)</td></tr><tr><td>354564</td><td>morgankelly@hotmail.com</td><td>1593021511334383</td><td>1</td><td>985.5</td><td>1</td><td>List(NEWBED10, M_PREM_T, Premium Twin Mattress, 985.5, 1095.0, 1)</td></tr><tr><td>370976</td><td>jonathan20@frost-smith.com</td><td>1593144906529700</td><td>1</td><td>850.5</td><td>1</td><td>List(NEWBED10, M_STAN_F, Standard Full Mattress, 850.5, 945.0, 1)</td></tr><tr><td>367457</td><td>ashleyholland@yahoo.com</td><td>1593115340977249</td><td>1</td><td>53.1</td><td>1</td><td>List(NEWBED10, P_FOAM_S, Standard Foam Pillow, 53.1, 59.0, 1)</td></tr><tr><td>372231</td><td>hortonmelanie@lang.org</td><td>1593164681249164</td><td>1</td><td>535.5</td><td>1</td><td>List(NEWBED10, M_STAN_T, Standard Twin Mattress, 535.5, 595.0, 1)</td></tr><tr><td>371290</td><td>michael5314@gmail.com</td><td>1593149946837087</td><td>2</td><td>1128.6</td><td>2</td><td>List(NEWBED10, M_PREM_T, Premium Twin Mattress, 985.5, 1095.0, 1)</td></tr><tr><td>371290</td><td>michael5314@gmail.com</td><td>1593149946837087</td><td>2</td><td>1128.6</td><td>2</td><td>List(NEWBED10, P_DOWN_K, King Down Pillow, 143.1, 159.0, 1)</td></tr><tr><td>371486</td><td>jacob69@jones.com</td><td>1593153498036350</td><td>1</td><td>940.5</td><td>1</td><td>List(NEWBED10, M_STAN_Q, Standard Queen Mattress, 940.5, 1045.0, 1)</td></tr><tr><td>383837</td><td>murphyreginald@hernandez.com</td><td>1593260050256239</td><td>1</td><td>985.5</td><td>1</td><td>List(NEWBED10, M_PREM_T, Premium Twin Mattress, 985.5, 1095.0, 1)</td></tr><tr><td>393061</td><td>jacosta@gmail.com</td><td>1593304899640144</td><td>2</td><td>1071.0</td><td>1</td><td>List(NEWBED10, M_STAN_T, Standard Twin Mattress, 1071.0, 595.0, 2)</td></tr><tr><td>397895</td><td>maxwelltim@yahoo.com</td><td>1593357038416452</td><td>2</td><td>1866.6</td><td>2</td><td>List(NEWBED10, M_PREM_K, Premium King Mattress, 1795.5, 1995.0, 1)</td></tr><tr><td>397895</td><td>maxwelltim@yahoo.com</td><td>1593357038416452</td><td>2</td><td>1866.6</td><td>2</td><td>List(NEWBED10, P_FOAM_K, King Foam Pillow, 71.10000000000001, 79.0, 1)</td></tr><tr><td>406764</td><td>josephboyd@calhoun.com</td><td>1593424367344109</td><td>1</td><td>850.5</td><td>1</td><td>List(NEWBED10, M_STAN_F, Standard Full Mattress, 850.5, 945.0, 1)</td></tr><tr><td>372204</td><td>mckenziemichael@hotmail.com</td><td>1593164231908711</td><td>1</td><td>850.5</td><td>1</td><td>List(NEWBED10, M_STAN_F, Standard Full Mattress, 850.5, 945.0, 1)</td></tr><tr><td>401954</td><td>richardscott@miller.biz</td><td>1593375554882271</td><td>1</td><td>940.5</td><td>1</td><td>List(NEWBED10, M_STAN_Q, Standard Queen Mattress, 940.5, 1045.0, 1)</td></tr><tr><td>384772</td><td>brian12@jenkins-jackson.com</td><td>1593265889771895</td><td>1</td><td>850.5</td><td>1</td><td>List(NEWBED10, M_STAN_F, Standard Full Mattress, 850.5, 945.0, 1)</td></tr><tr><td>405725</td><td>brownbrian@fernandez-sullivan.com</td><td>1593407746303006</td><td>1</td><td>1615.5</td><td>1</td><td>List(NEWBED10, M_PREM_Q, Premium Queen Mattress, 1615.5, 1795.0, 1)</td></tr><tr><td>420712</td><td>ronnie39@yahoo.com</td><td>1593533354823978</td><td>1</td><td>1615.5</td><td>1</td><td>List(NEWBED10, M_PREM_Q, Premium Queen Mattress, 1615.5, 1795.0, 1)</td></tr><tr><td>399857</td><td>jamesmartinez@kirk.info</td><td>1593365910182220</td><td>1</td><td>850.5</td><td>1</td><td>List(NEWBED10, M_STAN_F, Standard Full Mattress, 850.5, 945.0, 1)</td></tr><tr><td>417739</td><td>allenkristina@yahoo.com</td><td>1593515756654447</td><td>1</td><td>940.5</td><td>1</td><td>List(NEWBED10, M_STAN_Q, Standard Queen Mattress, 940.5, 1045.0, 1)</td></tr><tr><td>441725</td><td>combslisa@yahoo.com</td><td>1593696602469151</td><td>1</td><td>850.5</td><td>1</td><td>List(NEWBED10, M_STAN_F, Standard Full Mattress, 850.5, 945.0, 1)</td></tr><tr><td>428390</td><td>chenderson86@hotmail.com</td><td>1593587591766848</td><td>1</td><td>535.5</td><td>1</td><td>List(NEWBED10, M_STAN_T, Standard Twin Mattress, 535.5, 595.0, 1)</td></tr><tr><td>460737</td><td>kevinrobbins@warren.com</td><td>1593818335645265</td><td>1</td><td>940.5</td><td>1</td><td>List(NEWBED10, M_STAN_Q, Standard Queen Mattress, 940.5, 1045.0, 1)</td></tr><tr><td>460842</td><td>youngashley@fischer-paul.com</td><td>1593819127824493</td><td>2</td><td>2736.0</td><td>2</td><td>List(NEWBED10, M_PREM_K, Premium King Mattress, 1795.5, 1995.0, 1)</td></tr><tr><td>460842</td><td>youngashley@fischer-paul.com</td><td>1593819127824493</td><td>2</td><td>2736.0</td><td>2</td><td>List(NEWBED10, M_STAN_Q, Standard Queen Mattress, 940.5, 1045.0, 1)</td></tr><tr><td>455532</td><td>kreilly98@yahoo.com</td><td>1593792473614434</td><td>1</td><td>940.5</td><td>1</td><td>List(NEWBED10, M_STAN_Q, Standard Queen Mattress, 940.5, 1045.0, 1)</td></tr><tr><td>441807</td><td>slarson@knight-delgado.com</td><td>1593697040070130</td><td>1</td><td>940.5</td><td>1</td><td>List(NEWBED10, M_STAN_Q, Standard Queen Mattress, 940.5, 1045.0, 1)</td></tr><tr><td>461473</td><td>garrettmeghan@shaw-peterson.biz</td><td>1593824755402802</td><td>1</td><td>53.1</td><td>1</td><td>List(NEWBED10, P_FOAM_S, Standard Foam Pillow, 53.1, 59.0, 1)</td></tr><tr><td>458525</td><td>erikarussell@yahoo.com</td><td>1593806031211989</td><td>1</td><td>940.5</td><td>1</td><td>List(NEWBED10, M_STAN_Q, Standard Queen Mattress, 940.5, 1045.0, 1)</td></tr><tr><td>461033</td><td>leecorey@hotmail.com</td><td>1593820541619083</td><td>1</td><td>940.5</td><td>1</td><td>List(NEWBED10, M_STAN_Q, Standard Queen Mattress, 940.5, 1045.0, 1)</td></tr><tr><td>461240</td><td>hernandezalexandra28@hotmail.com</td><td>1593822342023120</td><td>1</td><td>535.5</td><td>1</td><td>List(NEWBED10, M_STAN_T, Standard Twin Mattress, 535.5, 595.0, 1)</td></tr><tr><td>270600</td><td>nhogan@hotmail.com</td><td>1592371554498327</td><td>1</td><td>1075.5</td><td>1</td><td>List(NEWBED10, M_STAN_K, Standard King Mattress, 1075.5, 1195.0, 1)</td></tr><tr><td>287326</td><td>ajackson@green-lindsey.com</td><td>1592542584746390</td><td>1</td><td>985.5</td><td>1</td><td>List(NEWBED10, M_PREM_T, Premium Twin Mattress, 985.5, 1095.0, 1)</td></tr><tr><td>287955</td><td>jordanjames@white.biz</td><td>1592554927979458</td><td>1</td><td>940.5</td><td>1</td><td>List(NEWBED10, M_STAN_Q, Standard Queen Mattress, 940.5, 1045.0, 1)</td></tr><tr><td>286238</td><td>davidjohnston42@yahoo.com</td><td>1592526978305892</td><td>1</td><td>940.5</td><td>1</td><td>List(NEWBED10, M_STAN_Q, Standard Queen Mattress, 940.5, 1045.0, 1)</td></tr><tr><td>277947</td><td>hannahking@yahoo.com</td><td>1592459646520397</td><td>1</td><td>1525.5</td><td>1</td><td>List(NEWBED10, M_PREM_F, Premium Full Mattress, 1525.5, 1695.0, 1)</td></tr><tr><td>288237</td><td>vlyons@kelley-dunn.com</td><td>1592559537543744</td><td>1</td><td>1795.5</td><td>1</td><td>List(NEWBED10, M_PREM_K, Premium King Mattress, 1795.5, 1995.0, 1)</td></tr><tr><td>304140</td><td>rbecker@hotmail.com</td><td>1592670634529786</td><td>1</td><td>940.5</td><td>1</td><td>List(NEWBED10, M_STAN_Q, Standard Queen Mattress, 940.5, 1045.0, 1)</td></tr><tr><td>293808</td><td>qwilson@jackson.com</td><td>1592592934673093</td><td>1</td><td>1075.5</td><td>1</td><td>List(NEWBED10, M_STAN_K, Standard King Mattress, 1075.5, 1195.0, 1)</td></tr><tr><td>307435</td><td>diana06@wolf.com</td><td>1592682320408846</td><td>1</td><td>850.5</td><td>1</td><td>List(NEWBED10, M_STAN_F, Standard Full Mattress, 850.5, 945.0, 1)</td></tr><tr><td>322929</td><td>yball@gmail.com</td><td>1592783098232277</td><td>1</td><td>940.5</td><td>1</td><td>List(NEWBED10, M_STAN_Q, Standard Queen Mattress, 940.5, 1045.0, 1)</td></tr><tr><td>288204</td><td>edward1473@gmail.com</td><td>1592559061839097</td><td>1</td><td>850.5</td><td>1</td><td>List(NEWBED10, M_STAN_F, Standard Full Mattress, 850.5, 945.0, 1)</td></tr><tr><td>316592</td><td>derrick8248@yahoo.com</td><td>1592754178491536</td><td>1</td><td>535.5</td><td>1</td><td>List(NEWBED10, M_STAN_T, Standard Twin Mattress, 535.5, 595.0, 1)</td></tr><tr><td>333309</td><td>lowecaitlyn@keller.net</td><td>1592863586432158</td><td>1</td><td>940.5</td><td>1</td><td>List(NEWBED10, M_STAN_Q, Standard Queen Mattress, 940.5, 1045.0, 1)</td></tr><tr><td>324582</td><td>thomaspaul@gmail.com</td><td>1592802205441156</td><td>1</td><td>940.5</td><td>1</td><td>List(NEWBED10, M_STAN_Q, Standard Queen Mattress, 940.5, 1045.0, 1)</td></tr><tr><td>348761</td><td>traceybarrett@gmail.com</td><td>1592979372698119</td><td>1</td><td>535.5</td><td>1</td><td>List(NEWBED10, M_STAN_T, Standard Twin Mattress, 535.5, 595.0, 1)</td></tr><tr><td>337426</td><td>thomas98@villegas.com</td><td>1592908836619972</td><td>2</td><td>588.6</td><td>2</td><td>List(NEWBED10, M_STAN_T, Standard Twin Mattress, 535.5, 595.0, 1)</td></tr><tr><td>337426</td><td>thomas98@villegas.com</td><td>1592908836619972</td><td>2</td><td>588.6</td><td>2</td><td>List(NEWBED10, P_FOAM_S, Standard Foam Pillow, 53.1, 59.0, 1)</td></tr><tr><td>364042</td><td>brandonburch@gmail.com</td><td>1593098330885252</td><td>1</td><td>53.1</td><td>1</td><td>List(NEWBED10, P_FOAM_S, Standard Foam Pillow, 53.1, 59.0, 1)</td></tr><tr><td>336532</td><td>murphyjoseph@kelly-whitney.com</td><td>1592897874886299</td><td>1</td><td>1075.5</td><td>1</td><td>List(NEWBED10, M_STAN_K, Standard King Mattress, 1075.5, 1195.0, 1)</td></tr><tr><td>349742</td><td>chodge@yahoo.com</td><td>1592992153535808</td><td>1</td><td>940.5</td><td>1</td><td>List(NEWBED10, M_STAN_Q, Standard Queen Mattress, 940.5, 1045.0, 1)</td></tr><tr><td>315337</td><td>christopherhurst@hotmail.com</td><td>1592748082700910</td><td>1</td><td>985.5</td><td>1</td><td>List(NEWBED10, M_PREM_T, Premium Twin Mattress, 985.5, 1095.0, 1)</td></tr><tr><td>338480</td><td>bryan29@lindsey.net</td><td>1592917272443561</td><td>1</td><td>71.10000000000001</td><td>1</td><td>List(NEWBED10, P_FOAM_K, King Foam Pillow, 71.10000000000001, 79.0, 1)</td></tr><tr><td>326013</td><td>gjackson26@yahoo.com</td><td>1592823076281461</td><td>1</td><td>850.5</td><td>1</td><td>List(NEWBED10, M_STAN_F, Standard Full Mattress, 850.5, 945.0, 1)</td></tr><tr><td>354489</td><td>tthomas78@yahoo.com</td><td>1593021154061966</td><td>1</td><td>535.5</td><td>1</td><td>List(NEWBED10, M_STAN_T, Standard Twin Mattress, 535.5, 595.0, 1)</td></tr><tr><td>340818</td><td>karen21@hotmail.com</td><td>1592929148828900</td><td>1</td><td>940.5</td><td>1</td><td>List(NEWBED10, M_STAN_Q, Standard Queen Mattress, 940.5, 1045.0, 1)</td></tr><tr><td>382180</td><td>iarnold@miranda-brown.com</td><td>1593240239388724</td><td>1</td><td>535.5</td><td>1</td><td>List(NEWBED10, M_STAN_T, Standard Twin Mattress, 535.5, 595.0, 1)</td></tr><tr><td>351083</td><td>ipotter@brown.com</td><td>1593003843322524</td><td>1</td><td>850.5</td><td>1</td><td>List(NEWBED10, M_STAN_F, Standard Full Mattress, 850.5, 945.0, 1)</td></tr><tr><td>374329</td><td>laurenmyers29@yahoo.com</td><td>1593182131274413</td><td>1</td><td>53.1</td><td>1</td><td>List(NEWBED10, P_FOAM_S, Standard Foam Pillow, 53.1, 59.0, 1)</td></tr><tr><td>357728</td><td>aibarra@simon.com</td><td>1593036754718863</td><td>1</td><td>985.5</td><td>1</td><td>List(NEWBED10, M_PREM_T, Premium Twin Mattress, 985.5, 1095.0, 1)</td></tr><tr><td>379923</td><td>richardallen@turner.com</td><td>1593211938940946</td><td>1</td><td>850.5</td><td>1</td><td>List(NEWBED10, M_STAN_F, Standard Full Mattress, 850.5, 945.0, 1)</td></tr><tr><td>373465</td><td>zsanchez@williams.com</td><td>1593176743127087</td><td>1</td><td>535.5</td><td>1</td><td>List(NEWBED10, M_STAN_T, Standard Twin Mattress, 535.5, 595.0, 1)</td></tr><tr><td>397410</td><td>dhoffman@hotmail.com</td><td>1593354495138721</td><td>2</td><td>2016.0</td><td>2</td><td>List(NEWBED10, M_STAN_Q, Standard Queen Mattress, 940.5, 1045.0, 1)</td></tr><tr><td>397410</td><td>dhoffman@hotmail.com</td><td>1593354495138721</td><td>2</td><td>2016.0</td><td>2</td><td>List(NEWBED10, M_STAN_K, Standard King Mattress, 1075.5, 1195.0, 1)</td></tr><tr><td>386455</td><td>ashley85@perez.org</td><td>1593273813349471</td><td>1</td><td>1795.5</td><td>1</td><td>List(NEWBED10, M_PREM_K, Premium King Mattress, 1795.5, 1995.0, 1)</td></tr><tr><td>382014</td><td>jennifer18@harper.com</td><td>1593237332193723</td><td>2</td><td>1071.0</td><td>1</td><td>List(NEWBED10, M_STAN_T, Standard Twin Mattress, 1071.0, 595.0, 2)</td></tr><tr><td>398077</td><td>xrobbins@yahoo.com</td><td>1593357938364730</td><td>1</td><td>940.5</td><td>1</td><td>List(NEWBED10, M_STAN_Q, Standard Queen Mattress, 940.5, 1045.0, 1)</td></tr><tr><td>393830</td><td>kbaldwin@smith.com</td><td>1593314655598799</td><td>2</td><td>1146.6</td><td>2</td><td>List(NEWBED10, M_STAN_K, Standard King Mattress, 1075.5, 1195.0, 1)</td></tr><tr><td>393830</td><td>kbaldwin@smith.com</td><td>1593314655598799</td><td>2</td><td>1146.6</td><td>2</td><td>List(NEWBED10, P_FOAM_K, King Foam Pillow, 71.10000000000001, 79.0, 1)</td></tr><tr><td>404408</td><td>wwatson@rice.org</td><td>1593391207468207</td><td>1</td><td>535.5</td><td>1</td><td>List(NEWBED10, M_STAN_T, Standard Twin Mattress, 535.5, 595.0, 1)</td></tr><tr><td>423154</td><td>watsonlauren@scott-gray.com</td><td>1593543982713945</td><td>1</td><td>940.5</td><td>1</td><td>List(NEWBED10, M_STAN_Q, Standard Queen Mattress, 940.5, 1045.0, 1)</td></tr><tr><td>407271</td><td>adamsjennifer@warner.com</td><td>1593430231701754</td><td>1</td><td>1525.5</td><td>1</td><td>List(NEWBED10, M_PREM_F, Premium Full Mattress, 1525.5, 1695.0, 1)</td></tr><tr><td>445135</td><td>christyfloyd@bishop-valdez.net</td><td>1593711508224059</td><td>1</td><td>1075.5</td><td>1</td><td>List(NEWBED10, M_STAN_K, Standard King Mattress, 1075.5, 1195.0, 1)</td></tr><tr><td>407101</td><td>youngshawn@obrien.info</td><td>1593428438630988</td><td>1</td><td>985.5</td><td>1</td><td>List(NEWBED10, M_PREM_T, Premium Twin Mattress, 985.5, 1095.0, 1)</td></tr><tr><td>452489</td><td>fullernicholas@wagner.com</td><td>1593770653942624</td><td>1</td><td>535.5</td><td>1</td><td>List(NEWBED10, M_STAN_T, Standard Twin Mattress, 535.5, 595.0, 1)</td></tr><tr><td>443764</td><td>nicole0240@gmail.com</td><td>1593706159221472</td><td>1</td><td>940.5</td><td>1</td><td>List(NEWBED10, M_STAN_Q, Standard Queen Mattress, 940.5, 1045.0, 1)</td></tr><tr><td>439063</td><td>livingstonsummer@porter-sanchez.com</td><td>1593668219950799</td><td>1</td><td>1075.5</td><td>1</td><td>List(NEWBED10, M_STAN_K, Standard King Mattress, 1075.5, 1195.0, 1)</td></tr><tr><td>451070</td><td>brownsamantha@yahoo.com</td><td>1593747463999145</td><td>1</td><td>1075.5</td><td>1</td><td>List(NEWBED10, M_STAN_K, Standard King Mattress, 1075.5, 1195.0, 1)</td></tr><tr><td>439119</td><td>aaron89@russell.com</td><td>1593669201304714</td><td>1</td><td>107.10000000000001</td><td>1</td><td>List(NEWBED10, P_DOWN_S, Standard Down Pillow, 107.10000000000001, 119.0, 1)</td></tr><tr><td>461289</td><td>pfuentes@kaufman.com</td><td>1593822782167698</td><td>1</td><td>1075.5</td><td>1</td><td>List(NEWBED10, M_STAN_K, Standard King Mattress, 1075.5, 1195.0, 1)</td></tr><tr><td>462741</td><td>davidfoster@miller-smith.net</td><td>1593842951042995</td><td>1</td><td>1075.5</td><td>1</td><td>List(NEWBED10, M_STAN_K, Standard King Mattress, 1075.5, 1195.0, 1)</td></tr><tr><td>301224</td><td>ijones81@gmail.com</td><td>1592658025573953</td><td>1</td><td>1075.5</td><td>1</td><td>List(NEWBED10, M_STAN_K, Standard King Mattress, 1075.5, 1195.0, 1)</td></tr><tr><td>284568</td><td>clarklaura17@hotmail.com</td><td>1592514192946219</td><td>2</td><td>642.6</td><td>2</td><td>List(NEWBED10, M_STAN_T, Standard Twin Mattress, 535.5, 595.0, 1)</td></tr><tr><td>284568</td><td>clarklaura17@hotmail.com</td><td>1592514192946219</td><td>2</td><td>642.6</td><td>2</td><td>List(NEWBED10, P_DOWN_S, Standard Down Pillow, 107.10000000000001, 119.0, 1)</td></tr><tr><td>290098</td><td>andrew48@horton.com</td><td>1592575880998009</td><td>1</td><td>535.5</td><td>1</td><td>List(NEWBED10, M_STAN_T, Standard Twin Mattress, 535.5, 595.0, 1)</td></tr><tr><td>294862</td><td>owensnoah@watts.com</td><td>1592597517741159</td><td>1</td><td>850.5</td><td>1</td><td>List(NEWBED10, M_STAN_F, Standard Full Mattress, 850.5, 945.0, 1)</td></tr><tr><td>299119</td><td>michaelbartlett@rivas-odonnell.org</td><td>1592638667593935</td><td>1</td><td>71.10000000000001</td><td>1</td><td>List(NEWBED10, P_FOAM_K, King Foam Pillow, 71.10000000000001, 79.0, 1)</td></tr><tr><td>294672</td><td>elizabeth7644@yahoo.com</td><td>1592596753620378</td><td>1</td><td>850.5</td><td>1</td><td>List(NEWBED10, M_STAN_F, Standard Full Mattress, 850.5, 945.0, 1)</td></tr><tr><td>295120</td><td>jennapatterson@gmail.com</td><td>1592598820854359</td><td>1</td><td>940.5</td><td>1</td><td>List(NEWBED10, M_STAN_Q, Standard Queen Mattress, 940.5, 1045.0, 1)</td></tr><tr><td>285546</td><td>alicia8455@hotmail.com</td><td>1592520812157149</td><td>1</td><td>850.5</td><td>1</td><td>List(NEWBED10, M_STAN_F, Standard Full Mattress, 850.5, 945.0, 1)</td></tr><tr><td>312714</td><td>fosteralan@ryan.net</td><td>1592724124837838</td><td>1</td><td>535.5</td><td>1</td><td>List(NEWBED10, M_STAN_T, Standard Twin Mattress, 535.5, 595.0, 1)</td></tr><tr><td>298399</td><td>charles35@ramirez.com</td><td>1592626104567742</td><td>1</td><td>940.5</td><td>1</td><td>List(NEWBED10, M_STAN_Q, Standard Queen Mattress, 940.5, 1045.0, 1)</td></tr><tr><td>335511</td><td>ambercervantes@thomas-miller.org</td><td>1592883710128480</td><td>1</td><td>535.5</td><td>1</td><td>List(NEWBED10, M_STAN_T, Standard Twin Mattress, 535.5, 595.0, 1)</td></tr><tr><td>321027</td><td>huffdana@gmail.com</td><td>1592772107045595</td><td>1</td><td>985.5</td><td>1</td><td>List(NEWBED10, M_PREM_T, Premium Twin Mattress, 985.5, 1095.0, 1)</td></tr><tr><td>326890</td><td>stownsend@gmail.com</td><td>1592830752546058</td><td>1</td><td>850.5</td><td>1</td><td>List(NEWBED10, M_STAN_F, Standard Full Mattress, 850.5, 945.0, 1)</td></tr><tr><td>296082</td><td>vbutler@reyes-hall.org</td><td>1592603935958075</td><td>1</td><td>535.5</td><td>1</td><td>List(NEWBED10, M_STAN_T, Standard Twin Mattress, 535.5, 595.0, 1)</td></tr><tr><td>313949</td><td>griffithmiguel@cruz-glover.com</td><td>1592738519845341</td><td>1</td><td>535.5</td><td>1</td><td>List(NEWBED10, M_STAN_T, Standard Twin Mattress, 535.5, 595.0, 1)</td></tr><tr><td>351834</td><td>kkramer@hotmail.com</td><td>1593008535086282</td><td>2</td><td>993.6</td><td>2</td><td>List(NEWBED10, M_STAN_Q, Standard Queen Mattress, 940.5, 1045.0, 1)</td></tr><tr><td>351834</td><td>kkramer@hotmail.com</td><td>1593008535086282</td><td>2</td><td>993.6</td><td>2</td><td>List(NEWBED10, P_FOAM_S, Standard Foam Pillow, 53.1, 59.0, 1)</td></tr><tr><td>342410</td><td>steven7587@yahoo.com</td><td>1592935744169629</td><td>1</td><td>535.5</td><td>1</td><td>List(NEWBED10, M_STAN_T, Standard Twin Mattress, 535.5, 595.0, 1)</td></tr><tr><td>348144</td><td>michaelklein@acosta.com</td><td>1592971335193082</td><td>2</td><td>2151.0</td><td>2</td><td>List(NEWBED10, M_PREM_Q, Premium Queen Mattress, 1615.5, 1795.0, 1)</td></tr><tr><td>348144</td><td>michaelklein@acosta.com</td><td>1592971335193082</td><td>2</td><td>2151.0</td><td>2</td><td>List(NEWBED10, M_STAN_T, Standard Twin Mattress, 535.5, 595.0, 1)</td></tr><tr><td>337948</td><td>carolynquinn@gmail.com</td><td>1592913267769070</td><td>1</td><td>1525.5</td><td>1</td><td>List(NEWBED10, M_PREM_F, Premium Full Mattress, 1525.5, 1695.0, 1)</td></tr><tr><td>345189</td><td>james9311@gmail.com</td><td>1592948015360813</td><td>1</td><td>940.5</td><td>1</td><td>List(NEWBED10, M_STAN_Q, Standard Queen Mattress, 940.5, 1045.0, 1)</td></tr><tr><td>338071</td><td>welchlawrence@gmail.com</td><td>1592914292082669</td><td>1</td><td>1075.5</td><td>1</td><td>List(NEWBED10, M_STAN_K, Standard King Mattress, 1075.5, 1195.0, 1)</td></tr><tr><td>369582</td><td>igriffin@rowland-munoz.com</td><td>1593128730881325</td><td>1</td><td>850.5</td><td>1</td><td>List(NEWBED10, M_STAN_F, Standard Full Mattress, 850.5, 945.0, 1)</td></tr><tr><td>365371</td><td>katherine55@gmail.com</td><td>1593105080012257</td><td>1</td><td>1075.5</td><td>1</td><td>List(NEWBED10, M_STAN_K, Standard King Mattress, 1075.5, 1195.0, 1)</td></tr><tr><td>376940</td><td>truiz@evans.com</td><td>1593195360210470</td><td>1</td><td>1525.5</td><td>1</td><td>List(NEWBED10, M_PREM_F, Premium Full Mattress, 1525.5, 1695.0, 1)</td></tr><tr><td>367220</td><td>lisaparrish@hotmail.com</td><td>1593114161874860</td><td>1</td><td>940.5</td><td>1</td><td>List(NEWBED10, M_STAN_Q, Standard Queen Mattress, 940.5, 1045.0, 1)</td></tr><tr><td>382258</td><td>garciaelizabeth93@hotmail.com</td><td>1593241421963767</td><td>1</td><td>1615.5</td><td>1</td><td>List(NEWBED10, M_PREM_Q, Premium Queen Mattress, 1615.5, 1795.0, 1)</td></tr><tr><td>393393</td><td>jcampbell@smith.com</td><td>1593308583123657</td><td>1</td><td>53.1</td><td>1</td><td>List(NEWBED10, P_FOAM_S, Standard Foam Pillow, 53.1, 59.0, 1)</td></tr><tr><td>396033</td><td>donna1275@hotmail.com</td><td>1593345134496149</td><td>1</td><td>985.5</td><td>1</td><td>List(NEWBED10, M_PREM_T, Premium Twin Mattress, 985.5, 1095.0, 1)</td></tr><tr><td>404298</td><td>jillperez@perez.com</td><td>1593390147271945</td><td>1</td><td>1075.5</td><td>1</td><td>List(NEWBED10, M_STAN_K, Standard King Mattress, 1075.5, 1195.0, 1)</td></tr><tr><td>382354</td><td>edward94@hotmail.com</td><td>1593242926547888</td><td>1</td><td>535.5</td><td>1</td><td>List(NEWBED10, M_STAN_T, Standard Twin Mattress, 535.5, 595.0, 1)</td></tr><tr><td>398926</td><td>zmason@hotmail.com</td><td>1593362072372631</td><td>1</td><td>850.5</td><td>1</td><td>List(NEWBED10, M_STAN_F, Standard Full Mattress, 850.5, 945.0, 1)</td></tr><tr><td>391415</td><td>tiffanylarson@gmail.com</td><td>1593293919735098</td><td>1</td><td>1075.5</td><td>1</td><td>List(NEWBED10, M_STAN_K, Standard King Mattress, 1075.5, 1195.0, 1)</td></tr><tr><td>393887</td><td>kyle49@lewis.com</td><td>1593315688323910</td><td>1</td><td>71.10000000000001</td><td>1</td><td>List(NEWBED10, P_FOAM_K, King Foam Pillow, 71.10000000000001, 79.0, 1)</td></tr><tr><td>394151</td><td>gallaghersarah@hotmail.com</td><td>1593319919248185</td><td>1</td><td>850.5</td><td>1</td><td>List(NEWBED10, M_STAN_F, Standard Full Mattress, 850.5, 945.0, 1)</td></tr><tr><td>405516</td><td>smithlori80@yahoo.com</td><td>1593404465025716</td><td>1</td><td>1795.5</td><td>1</td><td>List(NEWBED10, M_PREM_K, Premium King Mattress, 1795.5, 1995.0, 1)</td></tr><tr><td>407658</td><td>rodriguezpeter@gmail.com</td><td>1593433886185793</td><td>1</td><td>1075.5</td><td>1</td><td>List(NEWBED10, M_STAN_K, Standard King Mattress, 1075.5, 1195.0, 1)</td></tr><tr><td>424142</td><td>joseph9429@yahoo.com</td><td>1593548266718877</td><td>1</td><td>1525.5</td><td>1</td><td>List(NEWBED10, M_PREM_F, Premium Full Mattress, 1525.5, 1695.0, 1)</td></tr><tr><td>428504</td><td>cherylyoung@bishop.biz</td><td>1593589363688848</td><td>1</td><td>940.5</td><td>1</td><td>List(NEWBED10, M_STAN_Q, Standard Queen Mattress, 940.5, 1045.0, 1)</td></tr><tr><td>428383</td><td>dylan75@hotmail.com</td><td>1593587493968362</td><td>1</td><td>1525.5</td><td>1</td><td>List(NEWBED10, M_PREM_F, Premium Full Mattress, 1525.5, 1695.0, 1)</td></tr><tr><td>408515</td><td>stephanie4114@gmail.com</td><td>1593440143005003</td><td>1</td><td>940.5</td><td>1</td><td>List(NEWBED10, M_STAN_Q, Standard Queen Mattress, 940.5, 1045.0, 1)</td></tr><tr><td>439914</td><td>xwaller@hotmail.com</td><td>1593681041674826</td><td>1</td><td>535.5</td><td>1</td><td>List(NEWBED10, M_STAN_T, Standard Twin Mattress, 535.5, 595.0, 1)</td></tr><tr><td>422842</td><td>vincent81@hotmail.com</td><td>1593542476951979</td><td>1</td><td>850.5</td><td>1</td><td>List(NEWBED10, M_STAN_F, Standard Full Mattress, 850.5, 945.0, 1)</td></tr><tr><td>435643</td><td>tcervantes@smith-lopez.info</td><td>1593636295710968</td><td>1</td><td>985.5</td><td>1</td><td>List(NEWBED10, M_PREM_T, Premium Twin Mattress, 985.5, 1095.0, 1)</td></tr><tr><td>429062</td><td>qballard83@yahoo.com</td><td>1593596783659462</td><td>1</td><td>107.10000000000001</td><td>1</td><td>List(NEWBED10, P_DOWN_S, Standard Down Pillow, 107.10000000000001, 119.0, 1)</td></tr><tr><td>440107</td><td>brent80@yahoo.com</td><td>1593683424771554</td><td>2</td><td>588.6</td><td>2</td><td>List(NEWBED10, M_STAN_T, Standard Twin Mattress, 535.5, 595.0, 1)</td></tr><tr><td>440107</td><td>brent80@yahoo.com</td><td>1593683424771554</td><td>2</td><td>588.6</td><td>2</td><td>List(NEWBED10, P_FOAM_S, Standard Foam Pillow, 53.1, 59.0, 1)</td></tr><tr><td>441285</td><td>brandon978@gmail.com</td><td>1593693731066591</td><td>1</td><td>940.5</td><td>1</td><td>List(NEWBED10, M_STAN_Q, Standard Queen Mattress, 940.5, 1045.0, 1)</td></tr><tr><td>457245</td><td>iturner@hotmail.com</td><td>1593800345222910</td><td>1</td><td>985.5</td><td>1</td><td>List(NEWBED10, M_PREM_T, Premium Twin Mattress, 985.5, 1095.0, 1)</td></tr><tr><td>449551</td><td>cbooth@williams-reed.org</td><td>1593732150642286</td><td>2</td><td>588.6</td><td>2</td><td>List(NEWBED10, M_STAN_T, Standard Twin Mattress, 535.5, 595.0, 1)</td></tr><tr><td>449551</td><td>cbooth@williams-reed.org</td><td>1593732150642286</td><td>2</td><td>588.6</td><td>2</td><td>List(NEWBED10, P_FOAM_S, Standard Foam Pillow, 53.1, 59.0, 1)</td></tr><tr><td>463226</td><td>marshalltheresa@hotmail.com</td><td>1593850520048721</td><td>1</td><td>1075.5</td><td>1</td><td>List(NEWBED10, M_STAN_K, Standard King Mattress, 1075.5, 1195.0, 1)</td></tr><tr><td>453950</td><td>danielpatel@hotmail.com</td><td>1593784055024822</td><td>1</td><td>1075.5</td><td>1</td><td>List(NEWBED10, M_STAN_K, Standard King Mattress, 1075.5, 1195.0, 1)</td></tr><tr><td>297809</td><td>smithdonna@huerta.info</td><td>1592617718784032</td><td>1</td><td>1075.5</td><td>1</td><td>List(NEWBED10, M_STAN_K, Standard King Mattress, 1075.5, 1195.0, 1)</td></tr><tr><td>284227</td><td>donna38@hotmail.com</td><td>1592512210283620</td><td>1</td><td>850.5</td><td>1</td><td>List(NEWBED10, M_STAN_F, Standard Full Mattress, 850.5, 945.0, 1)</td></tr><tr><td>272621</td><td>diana14@gmail.com</td><td>1592408321710721</td><td>1</td><td>985.5</td><td>1</td><td>List(NEWBED10, M_PREM_T, Premium Twin Mattress, 985.5, 1095.0, 1)</td></tr><tr><td>271381</td><td>ldouglas@richards.com</td><td>1592397219679235</td><td>1</td><td>535.5</td><td>1</td><td>List(NEWBED10, M_STAN_T, Standard Twin Mattress, 535.5, 595.0, 1)</td></tr><tr><td>297905</td><td>jasoneverett@garcia.org</td><td>1592618913795229</td><td>1</td><td>1795.5</td><td>1</td><td>List(NEWBED10, M_PREM_K, Premium King Mattress, 1795.5, 1995.0, 1)</td></tr><tr><td>276821</td><td>debra97@yahoo.com</td><td>1592436601739936</td><td>1</td><td>535.5</td><td>1</td><td>List(NEWBED10, M_STAN_T, Standard Twin Mattress, 535.5, 595.0, 1)</td></tr><tr><td>270808</td><td>sdoyle@yahoo.com</td><td>1592385175503334</td><td>1</td><td>535.5</td><td>1</td><td>List(NEWBED10, M_STAN_T, Standard Twin Mattress, 535.5, 595.0, 1)</td></tr><tr><td>297455</td><td>vpierce@cox.com</td><td>1592613810139522</td><td>1</td><td>535.5</td><td>1</td><td>List(NEWBED10, M_STAN_T, Standard Twin Mattress, 535.5, 595.0, 1)</td></tr><tr><td>286940</td><td>hernandezsteven@gmail.com</td><td>1592536334925532</td><td>1</td><td>107.10000000000001</td><td>1</td><td>List(NEWBED10, P_DOWN_S, Standard Down Pillow, 107.10000000000001, 119.0, 1)</td></tr><tr><td>299617</td><td>austin17@turner.net</td><td>1592645215701585</td><td>2</td><td>1596.6</td><td>2</td><td>List(NEWBED10, M_PREM_F, Premium Full Mattress, 1525.5, 1695.0, 1)</td></tr><tr><td>299617</td><td>austin17@turner.net</td><td>1592645215701585</td><td>2</td><td>1596.6</td><td>2</td><td>List(NEWBED10, P_FOAM_K, King Foam Pillow, 71.10000000000001, 79.0, 1)</td></tr><tr><td>289886</td><td>terriobrien@morgan-harper.org</td><td>1592574631625740</td><td>1</td><td>1075.5</td><td>1</td><td>List(NEWBED10, M_STAN_K, Standard King Mattress, 1075.5, 1195.0, 1)</td></tr><tr><td>315236</td><td>james4887@yahoo.com</td><td>1592747517947563</td><td>1</td><td>1525.5</td><td>1</td><td>List(NEWBED10, M_PREM_F, Premium Full Mattress, 1525.5, 1695.0, 1)</td></tr><tr><td>331656</td><td>vroth@morales-hunt.com</td><td>1592855390702347</td><td>1</td><td>1525.5</td><td>1</td><td>List(NEWBED10, M_PREM_F, Premium Full Mattress, 1525.5, 1695.0, 1)</td></tr><tr><td>332978</td><td>matthew28@jones.com</td><td>1592861685560466</td><td>1</td><td>535.5</td><td>1</td><td>List(NEWBED10, M_STAN_T, Standard Twin Mattress, 535.5, 595.0, 1)</td></tr><tr><td>335330</td><td>kschmidt@gmail.com</td><td>1592881121778800</td><td>1</td><td>985.5</td><td>1</td><td>List(NEWBED10, M_PREM_T, Premium Twin Mattress, 985.5, 1095.0, 1)</td></tr><tr><td>349123</td><td>aprilbriggs@smith.com</td><td>1592984245914815</td><td>1</td><td>850.5</td><td>1</td><td>List(NEWBED10, M_STAN_F, Standard Full Mattress, 850.5, 945.0, 1)</td></tr><tr><td>361418</td><td>pittschristopher@yahoo.com</td><td>1593078386345738</td><td>1</td><td>940.5</td><td>1</td><td>List(NEWBED10, M_STAN_Q, Standard Queen Mattress, 940.5, 1045.0, 1)</td></tr><tr><td>360169</td><td>chad84@hotmail.com</td><td>1593060591883804</td><td>1</td><td>1075.5</td><td>1</td><td>List(NEWBED10, M_STAN_K, Standard King Mattress, 1075.5, 1195.0, 1)</td></tr><tr><td>364948</td><td>ikrueger@gmail.com</td><td>1593102902645499</td><td>1</td><td>985.5</td><td>1</td><td>List(NEWBED10, M_PREM_T, Premium Twin Mattress, 985.5, 1095.0, 1)</td></tr><tr><td>336277</td><td>parkeramy@orr.com</td><td>1592894301958554</td><td>1</td><td>850.5</td><td>1</td><td>List(NEWBED10, M_STAN_F, Standard Full Mattress, 850.5, 945.0, 1)</td></tr><tr><td>351810</td><td>riosrichard@edwards-cummings.net</td><td>1593008386731253</td><td>1</td><td>1615.5</td><td>1</td><td>List(NEWBED10, M_PREM_Q, Premium Queen Mattress, 1615.5, 1795.0, 1)</td></tr><tr><td>349363</td><td>allendavis@noble.com</td><td>1592987285669910</td><td>1</td><td>940.5</td><td>1</td><td>List(NEWBED10, M_STAN_Q, Standard Queen Mattress, 940.5, 1045.0, 1)</td></tr><tr><td>356620</td><td>donnanavarro@kaiser-burnett.com</td><td>1593030786819417</td><td>1</td><td>535.5</td><td>1</td><td>List(NEWBED10, M_STAN_T, Standard Twin Mattress, 535.5, 595.0, 1)</td></tr><tr><td>346535</td><td>jamesmahoney@hubbard.com</td><td>1592956195522982</td><td>1</td><td>940.5</td><td>1</td><td>List(NEWBED10, M_STAN_Q, Standard Queen Mattress, 940.5, 1045.0, 1)</td></tr><tr><td>358998</td><td>juliavega@ortiz-stuart.org</td><td>1593046273364424</td><td>3</td><td>2573.1</td><td>3</td><td>List(NEWBED10, M_PREM_F, Premium Full Mattress, 1525.5, 1695.0, 1)</td></tr><tr><td>358998</td><td>juliavega@ortiz-stuart.org</td><td>1593046273364424</td><td>3</td><td>2573.1</td><td>3</td><td>List(NEWBED10, M_STAN_Q, Standard Queen Mattress, 940.5, 1045.0, 1)</td></tr><tr><td>358998</td><td>juliavega@ortiz-stuart.org</td><td>1593046273364424</td><td>3</td><td>2573.1</td><td>3</td><td>List(NEWBED10, P_DOWN_S, Standard Down Pillow, 107.10000000000001, 119.0, 1)</td></tr><tr><td>362444</td><td>jessica60@hotmail.com</td><td>1593088214221588</td><td>2</td><td>1128.6</td><td>2</td><td>List(NEWBED10, M_PREM_T, Premium Twin Mattress, 985.5, 1095.0, 1)</td></tr><tr><td>362444</td><td>jessica60@hotmail.com</td><td>1593088214221588</td><td>2</td><td>1128.6</td><td>2</td><td>List(NEWBED10, P_DOWN_K, King Down Pillow, 143.1, 159.0, 1)</td></tr><tr><td>382443</td><td>johnsonsandra@williams.org</td><td>1593244504934533</td><td>1</td><td>850.5</td><td>1</td><td>List(NEWBED10, M_STAN_F, Standard Full Mattress, 850.5, 945.0, 1)</td></tr><tr><td>405543</td><td>kathleenpatrick@murphy.net</td><td>1593404893147707</td><td>1</td><td>1075.5</td><td>1</td><td>List(NEWBED10, M_STAN_K, Standard King Mattress, 1075.5, 1195.0, 1)</td></tr><tr><td>415829</td><td>gonzalestyler@cisneros.com</td><td>1593489814392833</td><td>1</td><td>850.5</td><td>1</td><td>List(NEWBED10, M_STAN_F, Standard Full Mattress, 850.5, 945.0, 1)</td></tr><tr><td>422923</td><td>osanchez@hotmail.com</td><td>1593542838229149</td><td>1</td><td>1615.5</td><td>1</td><td>List(NEWBED10, M_PREM_Q, Premium Queen Mattress, 1615.5, 1795.0, 1)</td></tr><tr><td>410032</td><td>leahlove@murray-green.net</td><td>1593448796451729</td><td>1</td><td>1075.5</td><td>1</td><td>List(NEWBED10, M_STAN_K, Standard King Mattress, 1075.5, 1195.0, 1)</td></tr><tr><td>416819</td><td>jamesle@warren-kelley.info</td><td>1593505107821502</td><td>1</td><td>940.5</td><td>1</td><td>List(NEWBED10, M_STAN_Q, Standard Queen Mattress, 940.5, 1045.0, 1)</td></tr><tr><td>423825</td><td>barbaramills@hotmail.com</td><td>1593546874043102</td><td>1</td><td>940.5</td><td>1</td><td>List(NEWBED10, M_STAN_Q, Standard Queen Mattress, 940.5, 1045.0, 1)</td></tr><tr><td>409097</td><td>thomascunningham@hill.com</td><td>1593443686279730</td><td>2</td><td>1971.0</td><td>1</td><td>List(NEWBED10, M_PREM_T, Premium Twin Mattress, 1971.0, 1095.0, 2)</td></tr><tr><td>428246</td><td>mark14@ortiz.info</td><td>1593585581848080</td><td>1</td><td>1525.5</td><td>1</td><td>List(NEWBED10, M_PREM_F, Premium Full Mattress, 1525.5, 1695.0, 1)</td></tr><tr><td>436273</td><td>wolfebrittany@hotmail.com</td><td>1593639743528124</td><td>1</td><td>1075.5</td><td>1</td><td>List(NEWBED10, M_STAN_K, Standard King Mattress, 1075.5, 1195.0, 1)</td></tr><tr><td>449292</td><td>kellysullivan@hotmail.com</td><td>1593730369858485</td><td>1</td><td>1075.5</td><td>1</td><td>List(NEWBED10, M_STAN_K, Standard King Mattress, 1075.5, 1195.0, 1)</td></tr><tr><td>454362</td><td>edwardwilliams@yahoo.com</td><td>1593786463326879</td><td>1</td><td>940.5</td><td>1</td><td>List(NEWBED10, M_STAN_Q, Standard Queen Mattress, 940.5, 1045.0, 1)</td></tr><tr><td>465243</td><td>kevin67@hotmail.com</td><td>1593868378251716</td><td>1</td><td>940.5</td><td>1</td><td>List(NEWBED10, M_STAN_Q, Standard Queen Mattress, 940.5, 1045.0, 1)</td></tr><tr><td>466398</td><td>oaguilar@edwards.com</td><td>1593874049134889</td><td>1</td><td>535.5</td><td>1</td><td>List(NEWBED10, M_STAN_T, Standard Twin Mattress, 535.5, 595.0, 1)</td></tr><tr><td>298172</td><td>gutierrezmatthew26@yahoo.com</td><td>1592622591921078</td><td>1</td><td>1075.5</td><td>1</td><td>List(NEWBED10, M_STAN_K, Standard King Mattress, 1075.5, 1195.0, 1)</td></tr><tr><td>277812</td><td>devin44@hotmail.com</td><td>1592454837965563</td><td>1</td><td>1075.5</td><td>1</td><td>List(NEWBED10, M_STAN_K, Standard King Mattress, 1075.5, 1195.0, 1)</td></tr><tr><td>286090</td><td>brettpeterson@hotmail.com</td><td>1592525531886831</td><td>1</td><td>1525.5</td><td>1</td><td>List(NEWBED10, M_PREM_F, Premium Full Mattress, 1525.5, 1695.0, 1)</td></tr><tr><td>285791</td><td>hernandezbrett@yahoo.com</td><td>1592522506816491</td><td>1</td><td>850.5</td><td>1</td><td>List(NEWBED10, M_STAN_F, Standard Full Mattress, 850.5, 945.0, 1)</td></tr><tr><td>298434</td><td>sgraves@sanchez.com</td><td>1592626848030488</td><td>1</td><td>535.5</td><td>1</td><td>List(NEWBED10, M_STAN_T, Standard Twin Mattress, 535.5, 595.0, 1)</td></tr><tr><td>298049</td><td>jonesjacqueline@reed.org</td><td>1592620896430297</td><td>1</td><td>535.5</td><td>1</td><td>List(NEWBED10, M_STAN_T, Standard Twin Mattress, 535.5, 595.0, 1)</td></tr><tr><td>298284</td><td>candace63@hotmail.com</td><td>1592624446562812</td><td>2</td><td>993.6</td><td>2</td><td>List(NEWBED10, M_STAN_Q, Standard Queen Mattress, 940.5, 1045.0, 1)</td></tr><tr><td>298284</td><td>candace63@hotmail.com</td><td>1592624446562812</td><td>2</td><td>993.6</td><td>2</td><td>List(NEWBED10, P_FOAM_S, Standard Foam Pillow, 53.1, 59.0, 1)</td></tr><tr><td>288020</td><td>mark9598@yahoo.com</td><td>1592556161969197</td><td>1</td><td>535.5</td><td>1</td><td>List(NEWBED10, M_STAN_T, Standard Twin Mattress, 535.5, 595.0, 1)</td></tr><tr><td>324282</td><td>donna42@nguyen.com</td><td>1592797571132867</td><td>1</td><td>985.5</td><td>1</td><td>List(NEWBED10, M_PREM_T, Premium Twin Mattress, 985.5, 1095.0, 1)</td></tr><tr><td>296043</td><td>debbie86@gmail.com</td><td>1592603730841638</td><td>1</td><td>850.5</td><td>1</td><td>List(NEWBED10, M_STAN_F, Standard Full Mattress, 850.5, 945.0, 1)</td></tr><tr><td>321069</td><td>kennethwilliams@campbell.com</td><td>1592772313204172</td><td>1</td><td>1075.5</td><td>1</td><td>List(NEWBED10, M_STAN_K, Standard King Mattress, 1075.5, 1195.0, 1)</td></tr><tr><td>312185</td><td>riversnatasha@nixon.com</td><td>1592715569325179</td><td>1</td><td>1795.5</td><td>1</td><td>List(NEWBED10, M_PREM_K, Premium King Mattress, 1795.5, 1995.0, 1)</td></tr><tr><td>325376</td><td>michael0322@hotmail.com</td><td>1592814879046131</td><td>1</td><td>940.5</td><td>1</td><td>List(NEWBED10, M_STAN_Q, Standard Queen Mattress, 940.5, 1045.0, 1)</td></tr><tr><td>317000</td><td>jessica525@hotmail.com</td><td>1592756018524277</td><td>1</td><td>940.5</td><td>1</td><td>List(NEWBED10, M_STAN_Q, Standard Queen Mattress, 940.5, 1045.0, 1)</td></tr><tr><td>304737</td><td>vhuff@lowe.com</td><td>1592672740848856</td><td>1</td><td>535.5</td><td>1</td><td>List(NEWBED10, M_STAN_T, Standard Twin Mattress, 535.5, 595.0, 1)</td></tr><tr><td>317141</td><td>riverapeter@hotmail.com</td><td>1592756629072707</td><td>1</td><td>535.5</td><td>1</td><td>List(NEWBED10, M_STAN_T, Standard Twin Mattress, 535.5, 595.0, 1)</td></tr><tr><td>311677</td><td>susan11@taylor-cook.com</td><td>1592708705420110</td><td>1</td><td>850.5</td><td>1</td><td>List(NEWBED10, M_STAN_F, Standard Full Mattress, 850.5, 945.0, 1)</td></tr><tr><td>298486</td><td>arroyocheryl@herrera.com</td><td>1592627650966031</td><td>1</td><td>940.5</td><td>1</td><td>List(NEWBED10, M_STAN_Q, Standard Queen Mattress, 940.5, 1045.0, 1)</td></tr><tr><td>329003</td><td>tiffany006@gmail.com</td><td>1592843088808849</td><td>1</td><td>985.5</td><td>1</td><td>List(NEWBED10, M_PREM_T, Premium Twin Mattress, 985.5, 1095.0, 1)</td></tr><tr><td>341715</td><td>savagerachel@hotmail.com</td><td>1592932927322643</td><td>2</td><td>1071.0</td><td>1</td><td>List(NEWBED10, M_STAN_T, Standard Twin Mattress, 1071.0, 595.0, 2)</td></tr><tr><td>320164</td><td>brianarodriguez@yahoo.com</td><td>1592768564069097</td><td>1</td><td>940.5</td><td>1</td><td>List(NEWBED10, M_STAN_Q, Standard Queen Mattress, 940.5, 1045.0, 1)</td></tr><tr><td>334803</td><td>carolynford@grant.com</td><td>1592875220285776</td><td>2</td><td>1668.6</td><td>2</td><td>List(NEWBED10, M_PREM_Q, Premium Queen Mattress, 1615.5, 1795.0, 1)</td></tr><tr><td>334803</td><td>carolynford@grant.com</td><td>1592875220285776</td><td>2</td><td>1668.6</td><td>2</td><td>List(NEWBED10, P_FOAM_S, Standard Foam Pillow, 53.1, 59.0, 1)</td></tr><tr><td>358060</td><td>michellehall@douglas.com</td><td>1593038763613157</td><td>1</td><td>940.5</td><td>1</td><td>List(NEWBED10, M_STAN_Q, Standard Queen Mattress, 940.5, 1045.0, 1)</td></tr><tr><td>367269</td><td>ulindsey@cardenas.org</td><td>1593114387788918</td><td>1</td><td>940.5</td><td>1</td><td>List(NEWBED10, M_STAN_Q, Standard Queen Mattress, 940.5, 1045.0, 1)</td></tr><tr><td>335835</td><td>anthonyjacobs@arnold.org</td><td>1592888300537445</td><td>1</td><td>850.5</td><td>1</td><td>List(NEWBED10, M_STAN_F, Standard Full Mattress, 850.5, 945.0, 1)</td></tr><tr><td>349856</td><td>cooperdiana@hotmail.com</td><td>1592993436697396</td><td>1</td><td>985.5</td><td>1</td><td>List(NEWBED10, M_PREM_T, Premium Twin Mattress, 985.5, 1095.0, 1)</td></tr><tr><td>325096</td><td>travishayes@hotmail.com</td><td>1592810376684811</td><td>1</td><td>1525.5</td><td>1</td><td>List(NEWBED10, M_PREM_F, Premium Full Mattress, 1525.5, 1695.0, 1)</td></tr><tr><td>349952</td><td>miguelwashington@wise.com</td><td>1592994449402996</td><td>1</td><td>535.5</td><td>1</td><td>List(NEWBED10, M_STAN_T, Standard Twin Mattress, 535.5, 595.0, 1)</td></tr><tr><td>339447</td><td>ravennelson@gmail.com</td><td>1592922852480788</td><td>1</td><td>1795.5</td><td>1</td><td>List(NEWBED10, M_PREM_K, Premium King Mattress, 1795.5, 1995.0, 1)</td></tr><tr><td>348335</td><td>john07@gmail.com</td><td>1592973763173304</td><td>1</td><td>940.5</td><td>1</td><td>List(NEWBED10, M_STAN_Q, Standard Queen Mattress, 940.5, 1045.0, 1)</td></tr><tr><td>345086</td><td>kristenhenson@yahoo.com</td><td>1592947533054621</td><td>1</td><td>535.5</td><td>1</td><td>List(NEWBED10, M_STAN_T, Standard Twin Mattress, 535.5, 595.0, 1)</td></tr><tr><td>346113</td><td>james4183@yahoo.com</td><td>1592953231512772</td><td>1</td><td>940.5</td><td>1</td><td>List(NEWBED10, M_STAN_Q, Standard Queen Mattress, 940.5, 1045.0, 1)</td></tr><tr><td>372513</td><td>zrobertson@white-johnson.com</td><td>1593168035222243</td><td>1</td><td>1075.5</td><td>1</td><td>List(NEWBED10, M_STAN_K, Standard King Mattress, 1075.5, 1195.0, 1)</td></tr><tr><td>367641</td><td>kimberlywalker@evans.com</td><td>1593116238458693</td><td>2</td><td>1056.6</td><td>2</td><td>List(NEWBED10, M_PREM_T, Premium Twin Mattress, 985.5, 1095.0, 1)</td></tr><tr><td>367641</td><td>kimberlywalker@evans.com</td><td>1593116238458693</td><td>2</td><td>1056.6</td><td>2</td><td>List(NEWBED10, P_FOAM_K, King Foam Pillow, 71.10000000000001, 79.0, 1)</td></tr><tr><td>354680</td><td>christopher494@yahoo.com</td><td>1593021898114027</td><td>2</td><td>588.6</td><td>2</td><td>List(NEWBED10, M_STAN_T, Standard Twin Mattress, 535.5, 595.0, 1)</td></tr><tr><td>354680</td><td>christopher494@yahoo.com</td><td>1593021898114027</td><td>2</td><td>588.6</td><td>2</td><td>List(NEWBED10, P_FOAM_S, Standard Foam Pillow, 53.1, 59.0, 1)</td></tr><tr><td>336452</td><td>billy64@gmail.com</td><td>1592896683697168</td><td>1</td><td>850.5</td><td>1</td><td>List(NEWBED10, M_STAN_F, Standard Full Mattress, 850.5, 945.0, 1)</td></tr><tr><td>391454</td><td>hwilliams@frazier-ross.biz</td><td>1593294084163735</td><td>1</td><td>850.5</td><td>1</td><td>List(NEWBED10, M_STAN_F, Standard Full Mattress, 850.5, 945.0, 1)</td></tr><tr><td>367651</td><td>sanchezsheena@gmail.com</td><td>1593116283571857</td><td>2</td><td>1971.0</td><td>1</td><td>List(NEWBED10, M_PREM_T, Premium Twin Mattress, 1971.0, 1095.0, 2)</td></tr><tr><td>382791</td><td>knightjustin@perry-guerra.info</td><td>1593249768732607</td><td>1</td><td>940.5</td><td>1</td><td>List(NEWBED10, M_STAN_Q, Standard Queen Mattress, 940.5, 1045.0, 1)</td></tr><tr><td>370999</td><td>frazieramy@wallace.info</td><td>1593145097150532</td><td>2</td><td>1071.0</td><td>1</td><td>List(NEWBED10, M_STAN_T, Standard Twin Mattress, 1071.0, 595.0, 2)</td></tr><tr><td>395104</td><td>nicole99@soto.biz</td><td>1593335048450004</td><td>1</td><td>1795.5</td><td>1</td><td>List(NEWBED10, M_PREM_K, Premium King Mattress, 1795.5, 1995.0, 1)</td></tr><tr><td>376231</td><td>breed@campbell-riddle.com</td><td>1593192053053847</td><td>1</td><td>1525.5</td><td>1</td><td>List(NEWBED10, M_PREM_F, Premium Full Mattress, 1525.5, 1695.0, 1)</td></tr><tr><td>381451</td><td>serranocarlos@ramirez.com</td><td>1593228424520215</td><td>1</td><td>1075.5</td><td>1</td><td>List(NEWBED10, M_STAN_K, Standard King Mattress, 1075.5, 1195.0, 1)</td></tr><tr><td>396364</td><td>millercharles@sullivan.org</td><td>1593347591793732</td><td>1</td><td>1795.5</td><td>1</td><td>List(NEWBED10, M_PREM_K, Premium King Mattress, 1795.5, 1995.0, 1)</td></tr><tr><td>404991</td><td>rdavis@johnson-ware.com</td><td>1593397151919612</td><td>1</td><td>1795.5</td><td>1</td><td>List(NEWBED10, M_PREM_K, Premium King Mattress, 1795.5, 1995.0, 1)</td></tr><tr><td>438385</td><td>jenniferthornton@cook.com</td><td>1593658371051750</td><td>1</td><td>535.5</td><td>1</td><td>List(NEWBED10, M_STAN_T, Standard Twin Mattress, 535.5, 595.0, 1)</td></tr><tr><td>414479</td><td>paige26@garcia.com</td><td>1593473850099111</td><td>1</td><td>940.5</td><td>1</td><td>List(NEWBED10, M_STAN_Q, Standard Queen Mattress, 940.5, 1045.0, 1)</td></tr><tr><td>388941</td><td>gturner@crawford-evans.com</td><td>1593283280386234</td><td>1</td><td>940.5</td><td>1</td><td>List(NEWBED10, M_STAN_Q, Standard Queen Mattress, 940.5, 1045.0, 1)</td></tr><tr><td>429252</td><td>samuelhopkins@yahoo.com</td><td>1593598995669388</td><td>1</td><td>1075.5</td><td>1</td><td>List(NEWBED10, M_STAN_K, Standard King Mattress, 1075.5, 1195.0, 1)</td></tr><tr><td>439642</td><td>sharper42@yahoo.com</td><td>1593677043956250</td><td>1</td><td>535.5</td><td>1</td><td>List(NEWBED10, M_STAN_T, Standard Twin Mattress, 535.5, 595.0, 1)</td></tr><tr><td>395190</td><td>deborah83@gmail.com</td><td>1593336266947493</td><td>1</td><td>535.5</td><td>1</td><td>List(NEWBED10, M_STAN_T, Standard Twin Mattress, 535.5, 595.0, 1)</td></tr><tr><td>417746</td><td>oburns38@gmail.com</td><td>1593515830755138</td><td>1</td><td>850.5</td><td>1</td><td>List(NEWBED10, M_STAN_F, Standard Full Mattress, 850.5, 945.0, 1)</td></tr><tr><td>439608</td><td>bstafford@reed-west.biz</td><td>1593676544843942</td><td>1</td><td>1525.5</td><td>1</td><td>List(NEWBED10, M_PREM_F, Premium Full Mattress, 1525.5, 1695.0, 1)</td></tr><tr><td>424389</td><td>ashley08@nguyen.org</td><td>1593549444055756</td><td>1</td><td>1615.5</td><td>1</td><td>List(NEWBED10, M_PREM_Q, Premium Queen Mattress, 1615.5, 1795.0, 1)</td></tr><tr><td>428768</td><td>jessicaduran@hotmail.com</td><td>1593593342551060</td><td>1</td><td>985.5</td><td>1</td><td>List(NEWBED10, M_PREM_T, Premium Twin Mattress, 985.5, 1095.0, 1)</td></tr><tr><td>451281</td><td>stephaniesullivan58@hotmail.com</td><td>1593750755086567</td><td>1</td><td>1795.5</td><td>1</td><td>List(NEWBED10, M_PREM_K, Premium King Mattress, 1795.5, 1995.0, 1)</td></tr><tr><td>446674</td><td>maria02@benton-wiley.com</td><td>1593717562959201</td><td>1</td><td>985.5</td><td>1</td><td>List(NEWBED10, M_PREM_T, Premium Twin Mattress, 985.5, 1095.0, 1)</td></tr><tr><td>461928</td><td>rgonzalez@castillo.com</td><td>1593830195203624</td><td>1</td><td>535.5</td><td>1</td><td>List(NEWBED10, M_STAN_T, Standard Twin Mattress, 535.5, 595.0, 1)</td></tr><tr><td>276675</td><td>jamesrose@young.info</td><td>1592434895685408</td><td>1</td><td>1075.5</td><td>1</td><td>List(NEWBED10, M_STAN_K, Standard King Mattress, 1075.5, 1195.0, 1)</td></tr><tr><td>294150</td><td>eric7117@hotmail.com</td><td>1592594363892277</td><td>1</td><td>1075.5</td><td>1</td><td>List(NEWBED10, M_STAN_K, Standard King Mattress, 1075.5, 1195.0, 1)</td></tr><tr><td>282571</td><td>ashleypalmer@hotmail.com</td><td>1592504024583885</td><td>3</td><td>3136.5</td><td>2</td><td>List(NEWBED10, M_STAN_K, Standard King Mattress, 2151.0, 1195.0, 2)</td></tr><tr><td>282571</td><td>ashleypalmer@hotmail.com</td><td>1592504024583885</td><td>3</td><td>3136.5</td><td>2</td><td>List(NEWBED10, M_PREM_T, Premium Twin Mattress, 985.5, 1095.0, 1)</td></tr><tr><td>298817</td><td>brandonlopez@sanchez-weaver.com</td><td>1592633281515006</td><td>1</td><td>535.5</td><td>1</td><td>List(NEWBED10, M_STAN_T, Standard Twin Mattress, 535.5, 595.0, 1)</td></tr><tr><td>304924</td><td>sandovalvalerie@hernandez-rangel.com</td><td>1592673356767557</td><td>1</td><td>940.5</td><td>1</td><td>List(NEWBED10, M_STAN_Q, Standard Queen Mattress, 940.5, 1045.0, 1)</td></tr><tr><td>297587</td><td>twagner@hotmail.com</td><td>1592614990296209</td><td>1</td><td>940.5</td><td>1</td><td>List(NEWBED10, M_STAN_Q, Standard Queen Mattress, 940.5, 1045.0, 1)</td></tr><tr><td>288907</td><td>susan7270@yahoo.com</td><td>1592567175071322</td><td>1</td><td>1075.5</td><td>1</td><td>List(NEWBED10, M_STAN_K, Standard King Mattress, 1075.5, 1195.0, 1)</td></tr><tr><td>299293</td><td>michaelfoster@kennedy.com</td><td>1592641229501745</td><td>1</td><td>1075.5</td><td>1</td><td>List(NEWBED10, M_STAN_K, Standard King Mattress, 1075.5, 1195.0, 1)</td></tr><tr><td>293381</td><td>dawnblackburn@christensen.biz</td><td>1592591126271580</td><td>1</td><td>535.5</td><td>1</td><td>List(NEWBED10, M_STAN_T, Standard Twin Mattress, 535.5, 595.0, 1)</td></tr><tr><td>333466</td><td>whitelawrence@hotmail.com</td><td>1592864518727027</td><td>1</td><td>1075.5</td><td>1</td><td>List(NEWBED10, M_STAN_K, Standard King Mattress, 1075.5, 1195.0, 1)</td></tr><tr><td>335411</td><td>rodriguezlori30@gmail.com</td><td>1592882285159720</td><td>1</td><td>1075.5</td><td>1</td><td>List(NEWBED10, M_STAN_K, Standard King Mattress, 1075.5, 1195.0, 1)</td></tr><tr><td>308490</td><td>moorecarol@harris.com</td><td>1592686503881505</td><td>1</td><td>535.5</td><td>1</td><td>List(NEWBED10, M_STAN_T, Standard Twin Mattress, 535.5, 595.0, 1)</td></tr><tr><td>327080</td><td>williamsmith@walsh.com</td><td>1592832175695993</td><td>1</td><td>535.5</td><td>1</td><td>List(NEWBED10, M_STAN_T, Standard Twin Mattress, 535.5, 595.0, 1)</td></tr><tr><td>325233</td><td>waltersseth@hotmail.com</td><td>1592812766639414</td><td>1</td><td>535.5</td><td>1</td><td>List(NEWBED10, M_STAN_T, Standard Twin Mattress, 535.5, 595.0, 1)</td></tr><tr><td>340403</td><td>leblancbobby@hotmail.com</td><td>1592927254062403</td><td>1</td><td>850.5</td><td>1</td><td>List(NEWBED10, M_STAN_F, Standard Full Mattress, 850.5, 945.0, 1)</td></tr><tr><td>343729</td><td>collinstammy@norton-bell.com</td><td>1592941158875630</td><td>1</td><td>1075.5</td><td>1</td><td>List(NEWBED10, M_STAN_K, Standard King Mattress, 1075.5, 1195.0, 1)</td></tr><tr><td>339147</td><td>amandacline@rangel-castro.com</td><td>1592921327884397</td><td>1</td><td>850.5</td><td>1</td><td>List(NEWBED10, M_STAN_F, Standard Full Mattress, 850.5, 945.0, 1)</td></tr><tr><td>325378</td><td>mark70@yahoo.com</td><td>1592814896582986</td><td>1</td><td>940.5</td><td>1</td><td>List(NEWBED10, M_STAN_Q, Standard Queen Mattress, 940.5, 1045.0, 1)</td></tr><tr><td>347182</td><td>hernandezmartin@thomas.com</td><td>1592961360909949</td><td>1</td><td>1525.5</td><td>1</td><td>List(NEWBED10, M_PREM_F, Premium Full Mattress, 1525.5, 1695.0, 1)</td></tr><tr><td>360490</td><td>traceygaines@anderson.com</td><td>1593065428942360</td><td>1</td><td>535.5</td><td>1</td><td>List(NEWBED10, M_STAN_T, Standard Twin Mattress, 535.5, 595.0, 1)</td></tr><tr><td>346869</td><td>grahamcody@gmail.com</td><td>1592958852847924</td><td>2</td><td>2331.0</td><td>2</td><td>List(NEWBED10, M_STAN_T, Standard Twin Mattress, 535.5, 595.0, 1)</td></tr><tr><td>346869</td><td>grahamcody@gmail.com</td><td>1592958852847924</td><td>2</td><td>2331.0</td><td>2</td><td>List(NEWBED10, M_PREM_K, Premium King Mattress, 1795.5, 1995.0, 1)</td></tr><tr><td>357376</td><td>elizabethpace@koch.com</td><td>1593034708313244</td><td>1</td><td>985.5</td><td>1</td><td>List(NEWBED10, M_PREM_T, Premium Twin Mattress, 985.5, 1095.0, 1)</td></tr><tr><td>376800</td><td>brucecrawford@hotmail.com</td><td>1593194691755686</td><td>1</td><td>940.5</td><td>1</td><td>List(NEWBED10, M_STAN_Q, Standard Queen Mattress, 940.5, 1045.0, 1)</td></tr><tr><td>349334</td><td>barbarafuentes@johnson.com</td><td>1592986941262479</td><td>1</td><td>1075.5</td><td>1</td><td>List(NEWBED10, M_STAN_K, Standard King Mattress, 1075.5, 1195.0, 1)</td></tr><tr><td>371100</td><td>gary92@morales.net</td><td>1593146597799894</td><td>1</td><td>1075.5</td><td>1</td><td>List(NEWBED10, M_STAN_K, Standard King Mattress, 1075.5, 1195.0, 1)</td></tr><tr><td>363604</td><td>katiegonzalez@hotmail.com</td><td>1593095878118429</td><td>1</td><td>535.5</td><td>1</td><td>List(NEWBED10, M_STAN_T, Standard Twin Mattress, 535.5, 595.0, 1)</td></tr><tr><td>372962</td><td>amberrogers46@yahoo.com</td><td>1593172505910485</td><td>1</td><td>850.5</td><td>1</td><td>List(NEWBED10, M_STAN_F, Standard Full Mattress, 850.5, 945.0, 1)</td></tr><tr><td>391462</td><td>abigail8231@gmail.com</td><td>1593294105467878</td><td>1</td><td>535.5</td><td>1</td><td>List(NEWBED10, M_STAN_T, Standard Twin Mattress, 535.5, 595.0, 1)</td></tr><tr><td>409649</td><td>danielphillips@boyd.com</td><td>1593446720029731</td><td>1</td><td>535.5</td><td>1</td><td>List(NEWBED10, M_STAN_T, Standard Twin Mattress, 535.5, 595.0, 1)</td></tr><tr><td>391357</td><td>ynelson77@gmail.com</td><td>1593293609750921</td><td>1</td><td>1795.5</td><td>1</td><td>List(NEWBED10, M_PREM_K, Premium King Mattress, 1795.5, 1995.0, 1)</td></tr><tr><td>400150</td><td>erika00@olsen.org</td><td>1593367263916917</td><td>1</td><td>940.5</td><td>1</td><td>List(NEWBED10, M_STAN_Q, Standard Queen Mattress, 940.5, 1045.0, 1)</td></tr><tr><td>405527</td><td>williamgiles@carr.com</td><td>1593404704389650</td><td>1</td><td>940.5</td><td>1</td><td>List(NEWBED10, M_STAN_Q, Standard Queen Mattress, 940.5, 1045.0, 1)</td></tr><tr><td>399820</td><td>westes@davis.com</td><td>1593365792799696</td><td>1</td><td>940.5</td><td>1</td><td>List(NEWBED10, M_STAN_Q, Standard Queen Mattress, 940.5, 1045.0, 1)</td></tr><tr><td>409876</td><td>jessica52@bennett-bell.com</td><td>1593447961614691</td><td>2</td><td>1128.6</td><td>2</td><td>List(NEWBED10, M_STAN_K, Standard King Mattress, 1075.5, 1195.0, 1)</td></tr><tr><td>409876</td><td>jessica52@bennett-bell.com</td><td>1593447961614691</td><td>2</td><td>1128.6</td><td>2</td><td>List(NEWBED10, P_FOAM_S, Standard Foam Pillow, 53.1, 59.0, 1)</td></tr><tr><td>418668</td><td>smalltimothy@jackson.com</td><td>1593522602243091</td><td>1</td><td>535.5</td><td>1</td><td>List(NEWBED10, M_STAN_T, Standard Twin Mattress, 535.5, 595.0, 1)</td></tr><tr><td>451701</td><td>daniel7231@gmail.com</td><td>1593757581041275</td><td>1</td><td>107.10000000000001</td><td>1</td><td>List(NEWBED10, P_DOWN_S, Standard Down Pillow, 107.10000000000001, 119.0, 1)</td></tr><tr><td>464211</td><td>zwarren@gmail.com</td><td>1593861178333249</td><td>1</td><td>985.5</td><td>1</td><td>List(NEWBED10, M_PREM_T, Premium Twin Mattress, 985.5, 1095.0, 1)</td></tr><tr><td>465556</td><td>greynolds@patel.com</td><td>1593870138124733</td><td>1</td><td>535.5</td><td>1</td><td>List(NEWBED10, M_STAN_T, Standard Twin Mattress, 535.5, 595.0, 1)</td></tr><tr><td>294598</td><td>moorepatricia@ryan-price.biz</td><td>1592596427665939</td><td>2</td><td>642.6</td><td>2</td><td>List(NEWBED10, M_STAN_T, Standard Twin Mattress, 535.5, 595.0, 1)</td></tr><tr><td>294598</td><td>moorepatricia@ryan-price.biz</td><td>1592596427665939</td><td>2</td><td>642.6</td><td>2</td><td>List(NEWBED10, P_DOWN_S, Standard Down Pillow, 107.10000000000001, 119.0, 1)</td></tr><tr><td>277431</td><td>justincombs@combs.com</td><td>1592445502988216</td><td>1</td><td>850.5</td><td>1</td><td>List(NEWBED10, M_STAN_F, Standard Full Mattress, 850.5, 945.0, 1)</td></tr><tr><td>282614</td><td>pittmandanielle@stevenson.com</td><td>1592504253054729</td><td>1</td><td>850.5</td><td>1</td><td>List(NEWBED10, M_STAN_F, Standard Full Mattress, 850.5, 945.0, 1)</td></tr><tr><td>286425</td><td>jessicashepherd@smith-johnson.com</td><td>1592529179566550</td><td>2</td><td>1578.6</td><td>2</td><td>List(NEWBED10, M_PREM_F, Premium Full Mattress, 1525.5, 1695.0, 1)</td></tr><tr><td>286425</td><td>jessicashepherd@smith-johnson.com</td><td>1592529179566550</td><td>2</td><td>1578.6</td><td>2</td><td>List(NEWBED10, P_FOAM_S, Standard Foam Pillow, 53.1, 59.0, 1)</td></tr><tr><td>273035</td><td>margaret49@spence.com</td><td>1592411064955745</td><td>1</td><td>850.5</td><td>1</td><td>List(NEWBED10, M_STAN_F, Standard Full Mattress, 850.5, 945.0, 1)</td></tr><tr><td>299739</td><td>yfigueroa@yahoo.com</td><td>1592646648534271</td><td>1</td><td>535.5</td><td>1</td><td>List(NEWBED10, M_STAN_T, Standard Twin Mattress, 535.5, 595.0, 1)</td></tr><tr><td>284903</td><td>joymurray@hotmail.com</td><td>1592516139146890</td><td>1</td><td>1075.5</td><td>1</td><td>List(NEWBED10, M_STAN_K, Standard King Mattress, 1075.5, 1195.0, 1)</td></tr><tr><td>312468</td><td>hunterricky@gmail.com</td><td>1592720004771724</td><td>1</td><td>850.5</td><td>1</td><td>List(NEWBED10, M_STAN_F, Standard Full Mattress, 850.5, 945.0, 1)</td></tr><tr><td>298671</td><td>katherinenguyen@melendez.com</td><td>1592630835276521</td><td>1</td><td>940.5</td><td>1</td><td>List(NEWBED10, M_STAN_Q, Standard Queen Mattress, 940.5, 1045.0, 1)</td></tr><tr><td>311326</td><td>lawsongordon@yahoo.com</td><td>1592704567838437</td><td>1</td><td>940.5</td><td>1</td><td>List(NEWBED10, M_STAN_Q, Standard Queen Mattress, 940.5, 1045.0, 1)</td></tr><tr><td>309105</td><td>james63@knox.com</td><td>1592689437273248</td><td>2</td><td>1092.6</td><td>2</td><td>List(NEWBED10, M_PREM_T, Premium Twin Mattress, 985.5, 1095.0, 1)</td></tr><tr><td>309105</td><td>james63@knox.com</td><td>1592689437273248</td><td>2</td><td>1092.6</td><td>2</td><td>List(NEWBED10, P_DOWN_S, Standard Down Pillow, 107.10000000000001, 119.0, 1)</td></tr><tr><td>295055</td><td>nicolecox@white.com</td><td>1592598441044565</td><td>1</td><td>1795.5</td><td>1</td><td>List(NEWBED10, M_PREM_K, Premium King Mattress, 1795.5, 1995.0, 1)</td></tr><tr><td>334934</td><td>corey28@hotmail.com</td><td>1592876588827157</td><td>1</td><td>535.5</td><td>1</td><td>List(NEWBED10, M_STAN_T, Standard Twin Mattress, 535.5, 595.0, 1)</td></tr><tr><td>315391</td><td>ajohnson@calderon.info</td><td>1592748438615059</td><td>1</td><td>850.5</td><td>1</td><td>List(NEWBED10, M_STAN_F, Standard Full Mattress, 850.5, 945.0, 1)</td></tr><tr><td>316285</td><td>donaldglenn@nichols.com</td><td>1592752784713886</td><td>1</td><td>1795.5</td><td>1</td><td>List(NEWBED10, M_PREM_K, Premium King Mattress, 1795.5, 1995.0, 1)</td></tr><tr><td>334431</td><td>rachael94@wilson-boyd.info</td><td>1592871649222315</td><td>1</td><td>850.5</td><td>1</td><td>List(NEWBED10, M_STAN_F, Standard Full Mattress, 850.5, 945.0, 1)</td></tr><tr><td>326503</td><td>amberharris60@yahoo.com</td><td>1592827757189995</td><td>1</td><td>940.5</td><td>1</td><td>List(NEWBED10, M_STAN_Q, Standard Queen Mattress, 940.5, 1045.0, 1)</td></tr><tr><td>353851</td><td>iwright66@gmail.com</td><td>1593018365217326</td><td>1</td><td>850.5</td><td>1</td><td>List(NEWBED10, M_STAN_F, Standard Full Mattress, 850.5, 945.0, 1)</td></tr><tr><td>346518</td><td>qwade@jones.biz</td><td>1592956094670612</td><td>1</td><td>1615.5</td><td>1</td><td>List(NEWBED10, M_PREM_Q, Premium Queen Mattress, 1615.5, 1795.0, 1)</td></tr><tr><td>341641</td><td>mkrause@gmail.com</td><td>1592932626340895</td><td>1</td><td>940.5</td><td>1</td><td>List(NEWBED10, M_STAN_Q, Standard Queen Mattress, 940.5, 1045.0, 1)</td></tr><tr><td>332874</td><td>clewis@martinez.com</td><td>1592861177544647</td><td>1</td><td>850.5</td><td>1</td><td>List(NEWBED10, M_STAN_F, Standard Full Mattress, 850.5, 945.0, 1)</td></tr><tr><td>339131</td><td>selenarodriguez@yahoo.com</td><td>1592921216239143</td><td>1</td><td>107.10000000000001</td><td>1</td><td>List(NEWBED10, P_DOWN_S, Standard Down Pillow, 107.10000000000001, 119.0, 1)</td></tr><tr><td>372856</td><td>kristiewilliams@coleman-garcia.com</td><td>1593171596152062</td><td>1</td><td>1525.5</td><td>1</td><td>List(NEWBED10, M_PREM_F, Premium Full Mattress, 1525.5, 1695.0, 1)</td></tr><tr><td>361585</td><td>sandrarussell@gmail.com</td><td>1593080572854328</td><td>1</td><td>940.5</td><td>1</td><td>List(NEWBED10, M_STAN_Q, Standard Queen Mattress, 940.5, 1045.0, 1)</td></tr><tr><td>373189</td><td>josephjohnson@hartman.com</td><td>1593174565442530</td><td>1</td><td>535.5</td><td>1</td><td>List(NEWBED10, M_STAN_T, Standard Twin Mattress, 535.5, 595.0, 1)</td></tr><tr><td>390116</td><td>sara20@yahoo.com</td><td>1593287907063621</td><td>2</td><td>903.6</td><td>2</td><td>List(NEWBED10, M_STAN_F, Standard Full Mattress, 850.5, 945.0, 1)</td></tr><tr><td>390116</td><td>sara20@yahoo.com</td><td>1593287907063621</td><td>2</td><td>903.6</td><td>2</td><td>List(NEWBED10, P_FOAM_S, Standard Foam Pillow, 53.1, 59.0, 1)</td></tr><tr><td>392146</td><td>mwalton@williams-hickman.com</td><td>1593298152259278</td><td>1</td><td>850.5</td><td>1</td><td>List(NEWBED10, M_STAN_F, Standard Full Mattress, 850.5, 945.0, 1)</td></tr><tr><td>402247</td><td>lesliegaines@gmail.com</td><td>1593377106239560</td><td>1</td><td>1075.5</td><td>1</td><td>List(NEWBED10, M_STAN_K, Standard King Mattress, 1075.5, 1195.0, 1)</td></tr><tr><td>407192</td><td>ugomez@garcia.info</td><td>1593429379452004</td><td>1</td><td>535.5</td><td>1</td><td>List(NEWBED10, M_STAN_T, Standard Twin Mattress, 535.5, 595.0, 1)</td></tr><tr><td>417394</td><td>bushcynthia@hinton-williams.com</td><td>1593512313674722</td><td>1</td><td>1525.5</td><td>1</td><td>List(NEWBED10, M_PREM_F, Premium Full Mattress, 1525.5, 1695.0, 1)</td></tr><tr><td>405919</td><td>williamswilliam7@gmail.com</td><td>1593411136386651</td><td>2</td><td>1182.6</td><td>2</td><td>List(NEWBED10, M_STAN_K, Standard King Mattress, 1075.5, 1195.0, 1)</td></tr><tr><td>405919</td><td>williamswilliam7@gmail.com</td><td>1593411136386651</td><td>2</td><td>1182.6</td><td>2</td><td>List(NEWBED10, P_DOWN_S, Standard Down Pillow, 107.10000000000001, 119.0, 1)</td></tr><tr><td>419303</td><td>nhernandez@vaughn.info</td><td>1593526460923807</td><td>1</td><td>850.5</td><td>1</td><td>List(NEWBED10, M_STAN_F, Standard Full Mattress, 850.5, 945.0, 1)</td></tr><tr><td>443277</td><td>ashleycoleman@garcia.com</td><td>1593704195723550</td><td>1</td><td>940.5</td><td>1</td><td>List(NEWBED10, M_STAN_Q, Standard Queen Mattress, 940.5, 1045.0, 1)</td></tr><tr><td>416157</td><td>christiangonzales@hotmail.com</td><td>1593494601108172</td><td>1</td><td>940.5</td><td>1</td><td>List(NEWBED10, M_STAN_Q, Standard Queen Mattress, 940.5, 1045.0, 1)</td></tr><tr><td>406841</td><td>matthew66@hotmail.com</td><td>1593425367216551</td><td>1</td><td>985.5</td><td>1</td><td>List(NEWBED10, M_PREM_T, Premium Twin Mattress, 985.5, 1095.0, 1)</td></tr><tr><td>432868</td><td>youngkeith@grant-pitts.com</td><td>1593622450622394</td><td>2</td><td>957.6</td><td>2</td><td>List(NEWBED10, M_STAN_F, Standard Full Mattress, 850.5, 945.0, 1)</td></tr><tr><td>432868</td><td>youngkeith@grant-pitts.com</td><td>1593622450622394</td><td>2</td><td>957.6</td><td>2</td><td>List(NEWBED10, P_DOWN_S, Standard Down Pillow, 107.10000000000001, 119.0, 1)</td></tr><tr><td>435789</td><td>gstone@yahoo.com</td><td>1593637080812100</td><td>2</td><td>1083.6</td><td>2</td><td>List(NEWBED10, M_STAN_Q, Standard Queen Mattress, 940.5, 1045.0, 1)</td></tr><tr><td>435789</td><td>gstone@yahoo.com</td><td>1593637080812100</td><td>2</td><td>1083.6</td><td>2</td><td>List(NEWBED10, P_DOWN_K, King Down Pillow, 143.1, 159.0, 1)</td></tr><tr><td>430110</td><td>aguilarcraig@yahoo.com</td><td>1593606987904261</td><td>1</td><td>107.10000000000001</td><td>1</td><td>List(NEWBED10, P_DOWN_S, Standard Down Pillow, 107.10000000000001, 119.0, 1)</td></tr><tr><td>435129</td><td>brenda35@reilly.com</td><td>1593633447913086</td><td>1</td><td>1615.5</td><td>1</td><td>List(NEWBED10, M_PREM_Q, Premium Queen Mattress, 1615.5, 1795.0, 1)</td></tr><tr><td>458518</td><td>tfrancis@hotmail.com</td><td>1593806009750530</td><td>1</td><td>535.5</td><td>1</td><td>List(NEWBED10, M_STAN_T, Standard Twin Mattress, 535.5, 595.0, 1)</td></tr><tr><td>450115</td><td>angelafernandez@hess-austin.com</td><td>1593736753934410</td><td>1</td><td>535.5</td><td>1</td><td>List(NEWBED10, M_STAN_T, Standard Twin Mattress, 535.5, 595.0, 1)</td></tr><tr><td>443370</td><td>jburke@russell-johnston.com</td><td>1593704579729452</td><td>1</td><td>940.5</td><td>1</td><td>List(NEWBED10, M_STAN_Q, Standard Queen Mattress, 940.5, 1045.0, 1)</td></tr><tr><td>450543</td><td>joseph83@yahoo.com</td><td>1593740898879965</td><td>1</td><td>143.1</td><td>1</td><td>List(NEWBED10, P_DOWN_K, King Down Pillow, 143.1, 159.0, 1)</td></tr><tr><td>450861</td><td>ronald9911@gmail.com</td><td>1593744958948253</td><td>2</td><td>1182.6</td><td>2</td><td>List(NEWBED10, M_STAN_K, Standard King Mattress, 1075.5, 1195.0, 1)</td></tr><tr><td>450861</td><td>ronald9911@gmail.com</td><td>1593744958948253</td><td>2</td><td>1182.6</td><td>2</td><td>List(NEWBED10, P_DOWN_S, Standard Down Pillow, 107.10000000000001, 119.0, 1)</td></tr><tr><td>435300</td><td>leslie0898@hotmail.com</td><td>1593634344936762</td><td>1</td><td>940.5</td><td>1</td><td>List(NEWBED10, M_STAN_Q, Standard Queen Mattress, 940.5, 1045.0, 1)</td></tr><tr><td>447715</td><td>lindseybryant@hotmail.com</td><td>1593721933454440</td><td>2</td><td>588.6</td><td>2</td><td>List(NEWBED10, M_STAN_T, Standard Twin Mattress, 535.5, 595.0, 1)</td></tr><tr><td>447715</td><td>lindseybryant@hotmail.com</td><td>1593721933454440</td><td>2</td><td>588.6</td><td>2</td><td>List(NEWBED10, P_FOAM_S, Standard Foam Pillow, 53.1, 59.0, 1)</td></tr><tr><td>445492</td><td>martingutierrez@wilson-olson.com</td><td>1593712917989759</td><td>1</td><td>940.5</td><td>1</td><td>List(NEWBED10, M_STAN_Q, Standard Queen Mattress, 940.5, 1045.0, 1)</td></tr><tr><td>462676</td><td>fbell@jackson-mahoney.com</td><td>1593841901439519</td><td>2</td><td>1128.6</td><td>2</td><td>List(NEWBED10, M_STAN_K, Standard King Mattress, 1075.5, 1195.0, 1)</td></tr><tr><td>462676</td><td>fbell@jackson-mahoney.com</td><td>1593841901439519</td><td>2</td><td>1128.6</td><td>2</td><td>List(NEWBED10, P_FOAM_S, Standard Foam Pillow, 53.1, 59.0, 1)</td></tr><tr><td>453451</td><td>davidgarcia58@hotmail.com</td><td>1593780450653262</td><td>1</td><td>985.5</td><td>1</td><td>List(NEWBED10, M_PREM_T, Premium Twin Mattress, 985.5, 1095.0, 1)</td></tr><tr><td>292133</td><td>stevenmiller@jackson.com</td><td>1592585684643183</td><td>1</td><td>1075.5</td><td>1</td><td>List(NEWBED10, M_STAN_K, Standard King Mattress, 1075.5, 1195.0, 1)</td></tr><tr><td>271495</td><td>philip07@yahoo.com</td><td>1592398489237964</td><td>1</td><td>940.5</td><td>1</td><td>List(NEWBED10, M_STAN_Q, Standard Queen Mattress, 940.5, 1045.0, 1)</td></tr><tr><td>294663</td><td>westheather@thomas.net</td><td>1592596730134363</td><td>1</td><td>535.5</td><td>1</td><td>List(NEWBED10, M_STAN_T, Standard Twin Mattress, 535.5, 595.0, 1)</td></tr><tr><td>287224</td><td>johnsonronald@morgan-miller.com</td><td>1592541188012453</td><td>2</td><td>1926.0</td><td>2</td><td>List(NEWBED10, M_STAN_Q, Standard Queen Mattress, 940.5, 1045.0, 1)</td></tr><tr><td>287224</td><td>johnsonronald@morgan-miller.com</td><td>1592541188012453</td><td>2</td><td>1926.0</td><td>2</td><td>List(NEWBED10, M_PREM_T, Premium Twin Mattress, 985.5, 1095.0, 1)</td></tr><tr><td>270908</td><td>pwallace@martin-burke.com</td><td>1592388327136913</td><td>2</td><td>1611.0</td><td>2</td><td>List(NEWBED10, M_STAN_K, Standard King Mattress, 1075.5, 1195.0, 1)</td></tr><tr><td>270908</td><td>pwallace@martin-burke.com</td><td>1592388327136913</td><td>2</td><td>1611.0</td><td>2</td><td>List(NEWBED10, M_STAN_T, Standard Twin Mattress, 535.5, 595.0, 1)</td></tr><tr><td>299805</td><td>manderson@vance-colon.info</td><td>1592647458916966</td><td>1</td><td>535.5</td><td>1</td><td>List(NEWBED10, M_STAN_T, Standard Twin Mattress, 535.5, 595.0, 1)</td></tr><tr><td>290003</td><td>ihernandez@warren.com</td><td>1592575325164839</td><td>1</td><td>940.5</td><td>1</td><td>List(NEWBED10, M_STAN_Q, Standard Queen Mattress, 940.5, 1045.0, 1)</td></tr><tr><td>311781</td><td>taylorronald@gmail.com</td><td>1592710170187774</td><td>2</td><td>2061.0</td><td>2</td><td>List(NEWBED10, M_PREM_T, Premium Twin Mattress, 985.5, 1095.0, 1)</td></tr><tr><td>311781</td><td>taylorronald@gmail.com</td><td>1592710170187774</td><td>2</td><td>2061.0</td><td>2</td><td>List(NEWBED10, M_STAN_K, Standard King Mattress, 1075.5, 1195.0, 1)</td></tr><tr><td>299696</td><td>debraadams@little.biz</td><td>1592646005230340</td><td>1</td><td>1615.5</td><td>1</td><td>List(NEWBED10, M_PREM_Q, Premium Queen Mattress, 1615.5, 1795.0, 1)</td></tr><tr><td>324727</td><td>michael50@yahoo.com</td><td>1592804649217528</td><td>1</td><td>1075.5</td><td>1</td><td>List(NEWBED10, M_STAN_K, Standard King Mattress, 1075.5, 1195.0, 1)</td></tr><tr><td>326814</td><td>jennifer32@brennan.com</td><td>1592830301087332</td><td>1</td><td>940.5</td><td>1</td><td>List(NEWBED10, M_STAN_Q, Standard Queen Mattress, 940.5, 1045.0, 1)</td></tr><tr><td>326866</td><td>tracie86@smith.com</td><td>1592830574780440</td><td>1</td><td>535.5</td><td>1</td><td>List(NEWBED10, M_STAN_T, Standard Twin Mattress, 535.5, 595.0, 1)</td></tr><tr><td>322748</td><td>sawyerkayla@mclaughlin-meadows.com</td><td>1592781808039614</td><td>1</td><td>535.5</td><td>1</td><td>List(NEWBED10, M_STAN_T, Standard Twin Mattress, 535.5, 595.0, 1)</td></tr><tr><td>300628</td><td>andrewedwards@goodwin-flores.info</td><td>1592654421620259</td><td>2</td><td>2736.0</td><td>2</td><td>List(NEWBED10, M_PREM_K, Premium King Mattress, 1795.5, 1995.0, 1)</td></tr><tr><td>300628</td><td>andrewedwards@goodwin-flores.info</td><td>1592654421620259</td><td>2</td><td>2736.0</td><td>2</td><td>List(NEWBED10, M_STAN_Q, Standard Queen Mattress, 940.5, 1045.0, 1)</td></tr><tr><td>312820</td><td>wilsonderek@medina-lopez.net</td><td>1592725825426722</td><td>1</td><td>1615.5</td><td>1</td><td>List(NEWBED10, M_PREM_Q, Premium Queen Mattress, 1615.5, 1795.0, 1)</td></tr><tr><td>305643</td><td>ppope@yahoo.com</td><td>1592675912710306</td><td>1</td><td>1075.5</td><td>1</td><td>List(NEWBED10, M_STAN_K, Standard King Mattress, 1075.5, 1195.0, 1)</td></tr><tr><td>326952</td><td>michael41@richardson-roberts.com</td><td>1592831196284356</td><td>1</td><td>1075.5</td><td>1</td><td>List(NEWBED10, M_STAN_K, Standard King Mattress, 1075.5, 1195.0, 1)</td></tr><tr><td>343019</td><td>jjones27@yahoo.com</td><td>1592938226927793</td><td>2</td><td>1038.6</td><td>2</td><td>List(NEWBED10, M_PREM_T, Premium Twin Mattress, 985.5, 1095.0, 1)</td></tr><tr><td>343019</td><td>jjones27@yahoo.com</td><td>1592938226927793</td><td>2</td><td>1038.6</td><td>2</td><td>List(NEWBED10, P_FOAM_S, Standard Foam Pillow, 53.1, 59.0, 1)</td></tr><tr><td>360885</td><td>elliottrodney@hart.org</td><td>1593071443022546</td><td>1</td><td>1525.5</td><td>1</td><td>List(NEWBED10, M_PREM_F, Premium Full Mattress, 1525.5, 1695.0, 1)</td></tr><tr><td>347686</td><td>gpeterson@campos.org</td><td>1592966214678786</td><td>1</td><td>850.5</td><td>1</td><td>List(NEWBED10, M_STAN_F, Standard Full Mattress, 850.5, 945.0, 1)</td></tr><tr><td>346972</td><td>kathryndavis@anderson.com</td><td>1592959583756296</td><td>1</td><td>985.5</td><td>1</td><td>List(NEWBED10, M_PREM_T, Premium Twin Mattress, 985.5, 1095.0, 1)</td></tr><tr><td>330138</td><td>rhernandez97@hotmail.com</td><td>1592848218334308</td><td>1</td><td>1075.5</td><td>1</td><td>List(NEWBED10, M_STAN_K, Standard King Mattress, 1075.5, 1195.0, 1)</td></tr><tr><td>362662</td><td>smcconnell@gmail.com</td><td>1593089859319955</td><td>1</td><td>1525.5</td><td>1</td><td>List(NEWBED10, M_PREM_F, Premium Full Mattress, 1525.5, 1695.0, 1)</td></tr><tr><td>373475</td><td>ocox65@gmail.com</td><td>1593176829210089</td><td>1</td><td>940.5</td><td>1</td><td>List(NEWBED10, M_STAN_Q, Standard Queen Mattress, 940.5, 1045.0, 1)</td></tr><tr><td>350833</td><td>davidwang56@gmail.com</td><td>1593002125556319</td><td>2</td><td>1791.0</td><td>2</td><td>List(NEWBED10, M_STAN_F, Standard Full Mattress, 850.5, 945.0, 1)</td></tr><tr><td>350833</td><td>davidwang56@gmail.com</td><td>1593002125556319</td><td>2</td><td>1791.0</td><td>2</td><td>List(NEWBED10, M_STAN_Q, Standard Queen Mattress, 940.5, 1045.0, 1)</td></tr><tr><td>382271</td><td>lisamartinez@hotmail.com</td><td>1593241574325522</td><td>1</td><td>1615.5</td><td>1</td><td>List(NEWBED10, M_PREM_Q, Premium Queen Mattress, 1615.5, 1795.0, 1)</td></tr><tr><td>380908</td><td>erica9148@gmail.com</td><td>1593221323883568</td><td>1</td><td>1075.5</td><td>1</td><td>List(NEWBED10, M_STAN_K, Standard King Mattress, 1075.5, 1195.0, 1)</td></tr><tr><td>357366</td><td>janetmcgrath@hotmail.com</td><td>1593034652192744</td><td>1</td><td>1615.5</td><td>1</td><td>List(NEWBED10, M_PREM_Q, Premium Queen Mattress, 1615.5, 1795.0, 1)</td></tr><tr><td>382562</td><td>hjones@deleon.com</td><td>1593246322089335</td><td>3</td><td>1124.1</td><td>2</td><td>List(NEWBED10, M_STAN_T, Standard Twin Mattress, 1071.0, 595.0, 2)</td></tr><tr><td>382562</td><td>hjones@deleon.com</td><td>1593246322089335</td><td>3</td><td>1124.1</td><td>2</td><td>List(NEWBED10, P_FOAM_S, Standard Foam Pillow, 53.1, 59.0, 1)</td></tr><tr><td>404887</td><td>floreskelly@hicks-gonzales.biz</td><td>1593395775091935</td><td>1</td><td>985.5</td><td>1</td><td>List(NEWBED10, M_PREM_T, Premium Twin Mattress, 985.5, 1095.0, 1)</td></tr><tr><td>370948</td><td>fmartin@crawford.info</td><td>1593144462703640</td><td>1</td><td>1075.5</td><td>1</td><td>List(NEWBED10, M_STAN_K, Standard King Mattress, 1075.5, 1195.0, 1)</td></tr><tr><td>394295</td><td>keith37@garcia.com</td><td>1593322253985444</td><td>1</td><td>53.1</td><td>1</td><td>List(NEWBED10, P_FOAM_S, Standard Foam Pillow, 53.1, 59.0, 1)</td></tr><tr><td>404530</td><td>hpittman98@gmail.com</td><td>1593392264027718</td><td>1</td><td>940.5</td><td>1</td><td>List(NEWBED10, M_STAN_Q, Standard Queen Mattress, 940.5, 1045.0, 1)</td></tr><tr><td>396634</td><td>sullivananna@martin-wood.com</td><td>1593349546601112</td><td>1</td><td>535.5</td><td>1</td><td>List(NEWBED10, M_STAN_T, Standard Twin Mattress, 535.5, 595.0, 1)</td></tr><tr><td>405109</td><td>monica68@hotmail.com</td><td>1593398588490258</td><td>1</td><td>940.5</td><td>1</td><td>List(NEWBED10, M_STAN_Q, Standard Queen Mattress, 940.5, 1045.0, 1)</td></tr><tr><td>404406</td><td>leblanctammy@yahoo.com</td><td>1593391190983400</td><td>1</td><td>535.5</td><td>1</td><td>List(NEWBED10, M_STAN_T, Standard Twin Mattress, 535.5, 595.0, 1)</td></tr><tr><td>402452</td><td>luis62@yahoo.com</td><td>1593378117604857</td><td>1</td><td>940.5</td><td>1</td><td>List(NEWBED10, M_STAN_Q, Standard Queen Mattress, 940.5, 1045.0, 1)</td></tr><tr><td>412651</td><td>crystalmcdonald@logan.biz</td><td>1593461704084632</td><td>1</td><td>940.5</td><td>1</td><td>List(NEWBED10, M_STAN_Q, Standard Queen Mattress, 940.5, 1045.0, 1)</td></tr><tr><td>407397</td><td>petersenmegan@yahoo.com</td><td>1593431488359874</td><td>1</td><td>535.5</td><td>1</td><td>List(NEWBED10, M_STAN_T, Standard Twin Mattress, 535.5, 595.0, 1)</td></tr><tr><td>415118</td><td>daughertyrichard@yahoo.com</td><td>1593480294677738</td><td>1</td><td>940.5</td><td>1</td><td>List(NEWBED10, M_STAN_Q, Standard Queen Mattress, 940.5, 1045.0, 1)</td></tr><tr><td>441761</td><td>jamiepittman@yahoo.com</td><td>1593696805715406</td><td>1</td><td>1075.5</td><td>1</td><td>List(NEWBED10, M_STAN_K, Standard King Mattress, 1075.5, 1195.0, 1)</td></tr><tr><td>437520</td><td>pamela1472@hotmail.com</td><td>1593648780688703</td><td>1</td><td>535.5</td><td>1</td><td>List(NEWBED10, M_STAN_T, Standard Twin Mattress, 535.5, 595.0, 1)</td></tr><tr><td>415624</td><td>ghawkins75@yahoo.com</td><td>1593486589195571</td><td>1</td><td>850.5</td><td>1</td><td>List(NEWBED10, M_STAN_F, Standard Full Mattress, 850.5, 945.0, 1)</td></tr><tr><td>407478</td><td>rossjoseph92@yahoo.com</td><td>1593432207573798</td><td>1</td><td>535.5</td><td>1</td><td>List(NEWBED10, M_STAN_T, Standard Twin Mattress, 535.5, 595.0, 1)</td></tr><tr><td>412984</td><td>scott9724@hotmail.com</td><td>1593463690087156</td><td>1</td><td>1075.5</td><td>1</td><td>List(NEWBED10, M_STAN_K, Standard King Mattress, 1075.5, 1195.0, 1)</td></tr><tr><td>413871</td><td>fespinoza@smith.com</td><td>1593469072821175</td><td>1</td><td>850.5</td><td>1</td><td>List(NEWBED10, M_STAN_F, Standard Full Mattress, 850.5, 945.0, 1)</td></tr><tr><td>428935</td><td>karina51@gmail.com</td><td>1593595266709890</td><td>2</td><td>1521.0</td><td>2</td><td>List(NEWBED10, M_STAN_T, Standard Twin Mattress, 535.5, 595.0, 1)</td></tr><tr><td>428935</td><td>karina51@gmail.com</td><td>1593595266709890</td><td>2</td><td>1521.0</td><td>2</td><td>List(NEWBED10, M_PREM_T, Premium Twin Mattress, 985.5, 1095.0, 1)</td></tr><tr><td>437368</td><td>laurencisneros@gmail.com</td><td>1593647456439777</td><td>1</td><td>535.5</td><td>1</td><td>List(NEWBED10, M_STAN_T, Standard Twin Mattress, 535.5, 595.0, 1)</td></tr><tr><td>427832</td><td>juliasanchez@gmail.com</td><td>1593579324805091</td><td>1</td><td>850.5</td><td>1</td><td>List(NEWBED10, M_STAN_F, Standard Full Mattress, 850.5, 945.0, 1)</td></tr><tr><td>416309</td><td>cantrellkaren@owens.com</td><td>1593496962252165</td><td>1</td><td>535.5</td><td>1</td><td>List(NEWBED10, M_STAN_T, Standard Twin Mattress, 535.5, 595.0, 1)</td></tr><tr><td>419192</td><td>wcampbell24@hotmail.com</td><td>1593525890026939</td><td>1</td><td>940.5</td><td>1</td><td>List(NEWBED10, M_STAN_Q, Standard Queen Mattress, 940.5, 1045.0, 1)</td></tr><tr><td>438358</td><td>robertburnett@hotmail.com</td><td>1593658027749221</td><td>1</td><td>107.10000000000001</td><td>1</td><td>List(NEWBED10, P_DOWN_S, Standard Down Pillow, 107.10000000000001, 119.0, 1)</td></tr><tr><td>465996</td><td>jennifer3810@yahoo.com</td><td>1593872146760454</td><td>1</td><td>535.5</td><td>1</td><td>List(NEWBED10, M_STAN_T, Standard Twin Mattress, 535.5, 595.0, 1)</td></tr><tr><td>451437</td><td>norrismichelle@yahoo.com</td><td>1593753218936363</td><td>1</td><td>1075.5</td><td>1</td><td>List(NEWBED10, M_STAN_K, Standard King Mattress, 1075.5, 1195.0, 1)</td></tr><tr><td>461494</td><td>fblevins81@hotmail.com</td><td>1593825078641779</td><td>1</td><td>535.5</td><td>1</td><td>List(NEWBED10, M_STAN_T, Standard Twin Mattress, 535.5, 595.0, 1)</td></tr><tr><td>467579</td><td>jreese@yahoo.com</td><td>1593878609389927</td><td>1</td><td>985.5</td><td>1</td><td>List(NEWBED10, M_PREM_T, Premium Twin Mattress, 985.5, 1095.0, 1)</td></tr><tr><td>271803</td><td>irwintimothy@hall.com</td><td>1592401590697033</td><td>1</td><td>850.5</td><td>1</td><td>List(NEWBED10, M_STAN_F, Standard Full Mattress, 850.5, 945.0, 1)</td></tr><tr><td>273511</td><td>heidi09@hotmail.com</td><td>1592413874607434</td><td>1</td><td>850.5</td><td>1</td><td>List(NEWBED10, M_STAN_F, Standard Full Mattress, 850.5, 945.0, 1)</td></tr><tr><td>279783</td><td>anthony02@webb.net</td><td>1592488420558254</td><td>3</td><td>2866.5</td><td>2</td><td>List(NEWBED10, M_STAN_T, Standard Twin Mattress, 1071.0, 595.0, 2)</td></tr><tr><td>279783</td><td>anthony02@webb.net</td><td>1592488420558254</td><td>3</td><td>2866.5</td><td>2</td><td>List(NEWBED10, M_PREM_K, Premium King Mattress, 1795.5, 1995.0, 1)</td></tr><tr><td>283939</td><td>frederick81@bennett.info</td><td>1592510670017367</td><td>2</td><td>1071.0</td><td>1</td><td>List(NEWBED10, M_STAN_T, Standard Twin Mattress, 1071.0, 595.0, 2)</td></tr><tr><td>290901</td><td>kellie92@hotmail.com</td><td>1592580232942072</td><td>1</td><td>107.10000000000001</td><td>1</td><td>List(NEWBED10, P_DOWN_S, Standard Down Pillow, 107.10000000000001, 119.0, 1)</td></tr><tr><td>311262</td><td>emilycardenas@perez.com</td><td>1592703881961011</td><td>1</td><td>985.5</td><td>1</td><td>List(NEWBED10, M_PREM_T, Premium Twin Mattress, 985.5, 1095.0, 1)</td></tr><tr><td>313880</td><td>aaronhunter@willis-green.biz</td><td>1592737833040326</td><td>1</td><td>940.5</td><td>1</td><td>List(NEWBED10, M_STAN_Q, Standard Queen Mattress, 940.5, 1045.0, 1)</td></tr><tr><td>304457</td><td>barry46@hotmail.com</td><td>1592671753293437</td><td>1</td><td>940.5</td><td>1</td><td>List(NEWBED10, M_STAN_Q, Standard Queen Mattress, 940.5, 1045.0, 1)</td></tr><tr><td>331497</td><td>keith28@davis.info</td><td>1592854597418131</td><td>1</td><td>985.5</td><td>1</td><td>List(NEWBED10, M_PREM_T, Premium Twin Mattress, 985.5, 1095.0, 1)</td></tr><tr><td>311685</td><td>woodsdanny@montgomery.biz</td><td>1592708833680256</td><td>1</td><td>535.5</td><td>1</td><td>List(NEWBED10, M_STAN_T, Standard Twin Mattress, 535.5, 595.0, 1)</td></tr><tr><td>313983</td><td>castanedaanna@cooper-turner.com</td><td>1592738816196201</td><td>1</td><td>535.5</td><td>1</td><td>List(NEWBED10, M_STAN_T, Standard Twin Mattress, 535.5, 595.0, 1)</td></tr><tr><td>322938</td><td>theresa71@gmail.com</td><td>1592783167391753</td><td>1</td><td>940.5</td><td>1</td><td>List(NEWBED10, M_STAN_Q, Standard Queen Mattress, 940.5, 1045.0, 1)</td></tr><tr><td>338440</td><td>hansengabriela@yahoo.com</td><td>1592917023239023</td><td>2</td><td>903.6</td><td>2</td><td>List(NEWBED10, M_STAN_F, Standard Full Mattress, 850.5, 945.0, 1)</td></tr><tr><td>338440</td><td>hansengabriela@yahoo.com</td><td>1592917023239023</td><td>2</td><td>903.6</td><td>2</td><td>List(NEWBED10, P_FOAM_S, Standard Foam Pillow, 53.1, 59.0, 1)</td></tr><tr><td>335067</td><td>christopherjackson@ortiz.net</td><td>1592877864473047</td><td>1</td><td>1075.5</td><td>1</td><td>List(NEWBED10, M_STAN_K, Standard King Mattress, 1075.5, 1195.0, 1)</td></tr><tr><td>348369</td><td>randy10@jensen.com</td><td>1592974174864659</td><td>2</td><td>1071.0</td><td>1</td><td>List(NEWBED10, M_STAN_T, Standard Twin Mattress, 1071.0, 595.0, 2)</td></tr><tr><td>359350</td><td>williamsongeorge@mcdonald-lawrence.com</td><td>1593049761351044</td><td>2</td><td>993.6</td><td>2</td><td>List(NEWBED10, M_STAN_Q, Standard Queen Mattress, 940.5, 1045.0, 1)</td></tr><tr><td>359350</td><td>williamsongeorge@mcdonald-lawrence.com</td><td>1593049761351044</td><td>2</td><td>993.6</td><td>2</td><td>List(NEWBED10, P_FOAM_S, Standard Foam Pillow, 53.1, 59.0, 1)</td></tr><tr><td>369567</td><td>brian28@yahoo.com</td><td>1593128639966746</td><td>1</td><td>940.5</td><td>1</td><td>List(NEWBED10, M_STAN_Q, Standard Queen Mattress, 940.5, 1045.0, 1)</td></tr><tr><td>374057</td><td>seananderson@franklin-jackson.biz</td><td>1593180588755435</td><td>1</td><td>940.5</td><td>1</td><td>List(NEWBED10, M_STAN_Q, Standard Queen Mattress, 940.5, 1045.0, 1)</td></tr><tr><td>371565</td><td>rthomas@mcdonald.com</td><td>1593154685639560</td><td>1</td><td>1075.5</td><td>1</td><td>List(NEWBED10, M_STAN_K, Standard King Mattress, 1075.5, 1195.0, 1)</td></tr><tr><td>361375</td><td>davidmorgan@thompson-freeman.com</td><td>1593077980840825</td><td>1</td><td>1075.5</td><td>1</td><td>List(NEWBED10, M_STAN_K, Standard King Mattress, 1075.5, 1195.0, 1)</td></tr><tr><td>371494</td><td>mhogan@hotmail.com</td><td>1593153610978923</td><td>1</td><td>535.5</td><td>1</td><td>List(NEWBED10, M_STAN_T, Standard Twin Mattress, 535.5, 595.0, 1)</td></tr><tr><td>368237</td><td>wramos@gmail.com</td><td>1593119492827817</td><td>1</td><td>940.5</td><td>1</td><td>List(NEWBED10, M_STAN_Q, Standard Queen Mattress, 940.5, 1045.0, 1)</td></tr><tr><td>390890</td><td>justin31@ruiz-lewis.org</td><td>1593291385824548</td><td>1</td><td>850.5</td><td>1</td><td>List(NEWBED10, M_STAN_F, Standard Full Mattress, 850.5, 945.0, 1)</td></tr><tr><td>359557</td><td>ramirezchristopher@gmail.com</td><td>1593052213578871</td><td>1</td><td>1075.5</td><td>1</td><td>List(NEWBED10, M_STAN_K, Standard King Mattress, 1075.5, 1195.0, 1)</td></tr><tr><td>398707</td><td>yphelps@hotmail.com</td><td>1593360967324733</td><td>1</td><td>850.5</td><td>1</td><td>List(NEWBED10, M_STAN_F, Standard Full Mattress, 850.5, 945.0, 1)</td></tr><tr><td>407690</td><td>nguyenchristopher@lewis.biz</td><td>1593434229524718</td><td>1</td><td>850.5</td><td>1</td><td>List(NEWBED10, M_STAN_F, Standard Full Mattress, 850.5, 945.0, 1)</td></tr><tr><td>406257</td><td>thomas84@wheeler.com</td><td>1593416194463716</td><td>1</td><td>535.5</td><td>1</td><td>List(NEWBED10, M_STAN_T, Standard Twin Mattress, 535.5, 595.0, 1)</td></tr><tr><td>424087</td><td>zacharyrivera@yahoo.com</td><td>1593547974759881</td><td>1</td><td>535.5</td><td>1</td><td>List(NEWBED10, M_STAN_T, Standard Twin Mattress, 535.5, 595.0, 1)</td></tr><tr><td>403028</td><td>collinskatherine@gmail.com</td><td>1593380999536763</td><td>1</td><td>940.5</td><td>1</td><td>List(NEWBED10, M_STAN_Q, Standard Queen Mattress, 940.5, 1045.0, 1)</td></tr><tr><td>416858</td><td>vclark31@yahoo.com</td><td>1593505728571716</td><td>1</td><td>535.5</td><td>1</td><td>List(NEWBED10, M_STAN_T, Standard Twin Mattress, 535.5, 595.0, 1)</td></tr><tr><td>427905</td><td>mccartykevin@hotmail.com</td><td>1593580371374386</td><td>1</td><td>1525.5</td><td>1</td><td>List(NEWBED10, M_PREM_F, Premium Full Mattress, 1525.5, 1695.0, 1)</td></tr><tr><td>425893</td><td>fernandezallison@ramirez.com</td><td>1593558342060724</td><td>1</td><td>1075.5</td><td>1</td><td>List(NEWBED10, M_STAN_K, Standard King Mattress, 1075.5, 1195.0, 1)</td></tr><tr><td>427984</td><td>dalton20@hall.net</td><td>1593581751518533</td><td>1</td><td>1075.5</td><td>1</td><td>List(NEWBED10, M_STAN_K, Standard King Mattress, 1075.5, 1195.0, 1)</td></tr><tr><td>450924</td><td>tanyawagner@valdez-graham.net</td><td>1593745765474505</td><td>1</td><td>1075.5</td><td>1</td><td>List(NEWBED10, M_STAN_K, Standard King Mattress, 1075.5, 1195.0, 1)</td></tr><tr><td>436828</td><td>johnmonroe@yahoo.com</td><td>1593643440193064</td><td>1</td><td>985.5</td><td>1</td><td>List(NEWBED10, M_PREM_T, Premium Twin Mattress, 985.5, 1095.0, 1)</td></tr><tr><td>439055</td><td>stephanie63@carter-lee.com</td><td>1593668021604094</td><td>1</td><td>940.5</td><td>1</td><td>List(NEWBED10, M_STAN_Q, Standard Queen Mattress, 940.5, 1045.0, 1)</td></tr><tr><td>450502</td><td>lgrimes@hotmail.com</td><td>1593740583207410</td><td>1</td><td>1525.5</td><td>1</td><td>List(NEWBED10, M_PREM_F, Premium Full Mattress, 1525.5, 1695.0, 1)</td></tr><tr><td>465985</td><td>mckinneycheryl@hotmail.com</td><td>1593872112840565</td><td>1</td><td>1075.5</td><td>1</td><td>List(NEWBED10, M_STAN_K, Standard King Mattress, 1075.5, 1195.0, 1)</td></tr><tr><td>464472</td><td>bellangela@williams.com</td><td>1593863264268588</td><td>1</td><td>850.5</td><td>1</td><td>List(NEWBED10, M_STAN_F, Standard Full Mattress, 850.5, 945.0, 1)</td></tr><tr><td>276774</td><td>dawn45@harris.com</td><td>1592436047207506</td><td>1</td><td>850.5</td><td>1</td><td>List(NEWBED10, M_STAN_F, Standard Full Mattress, 850.5, 945.0, 1)</td></tr><tr><td>296283</td><td>cynthiawilson@gmail.com</td><td>1592605189160233</td><td>1</td><td>940.5</td><td>1</td><td>List(NEWBED10, M_STAN_Q, Standard Queen Mattress, 940.5, 1045.0, 1)</td></tr><tr><td>276535</td><td>pamelamitchell@hunt.com</td><td>1592433428639216</td><td>1</td><td>940.5</td><td>1</td><td>List(NEWBED10, M_STAN_Q, Standard Queen Mattress, 940.5, 1045.0, 1)</td></tr><tr><td>307210</td><td>adrian86@gmail.com</td><td>1592681426251077</td><td>1</td><td>985.5</td><td>1</td><td>List(NEWBED10, M_PREM_T, Premium Twin Mattress, 985.5, 1095.0, 1)</td></tr><tr><td>295336</td><td>santiagosusan@harris.org</td><td>1592599927839242</td><td>1</td><td>535.5</td><td>1</td><td>List(NEWBED10, M_STAN_T, Standard Twin Mattress, 535.5, 595.0, 1)</td></tr><tr><td>300973</td><td>matthewconner@king.com</td><td>1592656657887769</td><td>1</td><td>850.5</td><td>1</td><td>List(NEWBED10, M_STAN_F, Standard Full Mattress, 850.5, 945.0, 1)</td></tr><tr><td>314590</td><td>xmacdonald@gmail.com</td><td>1592743653826398</td><td>1</td><td>940.5</td><td>1</td><td>List(NEWBED10, M_STAN_Q, Standard Queen Mattress, 940.5, 1045.0, 1)</td></tr><tr><td>306174</td><td>rlutz@evans.com</td><td>1592677736369430</td><td>1</td><td>1075.5</td><td>1</td><td>List(NEWBED10, M_STAN_K, Standard King Mattress, 1075.5, 1195.0, 1)</td></tr><tr><td>286200</td><td>xsanchez@odom.com</td><td>1592526587721538</td><td>1</td><td>535.5</td><td>1</td><td>List(NEWBED10, M_STAN_T, Standard Twin Mattress, 535.5, 595.0, 1)</td></tr><tr><td>283174</td><td>pbradley93@gmail.com</td><td>1592506952924915</td><td>1</td><td>1075.5</td><td>1</td><td>List(NEWBED10, M_STAN_K, Standard King Mattress, 1075.5, 1195.0, 1)</td></tr><tr><td>328085</td><td>iferguson96@hotmail.com</td><td>1592838498855352</td><td>1</td><td>1075.5</td><td>1</td><td>List(NEWBED10, M_STAN_K, Standard King Mattress, 1075.5, 1195.0, 1)</td></tr><tr><td>312547</td><td>ulewis@kline.com</td><td>1592721550303836</td><td>1</td><td>535.5</td><td>1</td><td>List(NEWBED10, M_STAN_T, Standard Twin Mattress, 535.5, 595.0, 1)</td></tr><tr><td>324235</td><td>willie95@yahoo.com</td><td>1592796755840029</td><td>1</td><td>1525.5</td><td>1</td><td>List(NEWBED10, M_PREM_F, Premium Full Mattress, 1525.5, 1695.0, 1)</td></tr><tr><td>330416</td><td>gabriel47@tyler.com</td><td>1592849457123305</td><td>3</td><td>2024.1</td><td>2</td><td>List(NEWBED10, M_PREM_T, Premium Twin Mattress, 1971.0, 1095.0, 2)</td></tr><tr><td>330416</td><td>gabriel47@tyler.com</td><td>1592849457123305</td><td>3</td><td>2024.1</td><td>2</td><td>List(NEWBED10, P_FOAM_S, Standard Foam Pillow, 53.1, 59.0, 1)</td></tr><tr><td>324069</td><td>kathryn63@hall.com</td><td>1592794507003577</td><td>1</td><td>535.5</td><td>1</td><td>List(NEWBED10, M_STAN_T, Standard Twin Mattress, 535.5, 595.0, 1)</td></tr><tr><td>337068</td><td>deborah37@gould.biz</td><td>1592904563304431</td><td>1</td><td>1615.5</td><td>1</td><td>List(NEWBED10, M_PREM_Q, Premium Queen Mattress, 1615.5, 1795.0, 1)</td></tr><tr><td>348880</td><td>cobbmaria@yahoo.com</td><td>1592981034290940</td><td>1</td><td>850.5</td><td>1</td><td>List(NEWBED10, M_STAN_F, Standard Full Mattress, 850.5, 945.0, 1)</td></tr><tr><td>333094</td><td>valerie69@hotmail.com</td><td>1592862372967893</td><td>1</td><td>985.5</td><td>1</td><td>List(NEWBED10, M_PREM_T, Premium Twin Mattress, 985.5, 1095.0, 1)</td></tr><tr><td>364059</td><td>hinesmargaret@gmail.com</td><td>1593098419636035</td><td>2</td><td>1056.6</td><td>2</td><td>List(NEWBED10, M_PREM_T, Premium Twin Mattress, 985.5, 1095.0, 1)</td></tr><tr><td>364059</td><td>hinesmargaret@gmail.com</td><td>1593098419636035</td><td>2</td><td>1056.6</td><td>2</td><td>List(NEWBED10, P_FOAM_K, King Foam Pillow, 71.10000000000001, 79.0, 1)</td></tr><tr><td>340919</td><td>williamsjeremiah@nelson-jones.biz</td><td>1592929630554607</td><td>1</td><td>535.5</td><td>1</td><td>List(NEWBED10, M_STAN_T, Standard Twin Mattress, 535.5, 595.0, 1)</td></tr><tr><td>358070</td><td>bnguyen98@gmail.com</td><td>1593038828623521</td><td>1</td><td>535.5</td><td>1</td><td>List(NEWBED10, M_STAN_T, Standard Twin Mattress, 535.5, 595.0, 1)</td></tr><tr><td>353680</td><td>fullerkrista@hotmail.com</td><td>1593017622847973</td><td>2</td><td>2466.0</td><td>2</td><td>List(NEWBED10, M_STAN_Q, Standard Queen Mattress, 940.5, 1045.0, 1)</td></tr><tr><td>353680</td><td>fullerkrista@hotmail.com</td><td>1593017622847973</td><td>2</td><td>2466.0</td><td>2</td><td>List(NEWBED10, M_PREM_F, Premium Full Mattress, 1525.5, 1695.0, 1)</td></tr><tr><td>359595</td><td>rachel58@miles.com</td><td>1593052577416030</td><td>1</td><td>535.5</td><td>1</td><td>List(NEWBED10, M_STAN_T, Standard Twin Mattress, 535.5, 595.0, 1)</td></tr><tr><td>409532</td><td>victoria9964@campbell.com</td><td>1593446048400071</td><td>1</td><td>1795.5</td><td>1</td><td>List(NEWBED10, M_PREM_K, Premium King Mattress, 1795.5, 1995.0, 1)</td></tr><tr><td>395600</td><td>clarkpaul@vance-reed.com</td><td>1593341189014970</td><td>1</td><td>940.5</td><td>1</td><td>List(NEWBED10, M_STAN_Q, Standard Queen Mattress, 940.5, 1045.0, 1)</td></tr><tr><td>401713</td><td>christopherjames@mason.net</td><td>1593374346368240</td><td>2</td><td>2466.0</td><td>2</td><td>List(NEWBED10, M_PREM_F, Premium Full Mattress, 1525.5, 1695.0, 1)</td></tr><tr><td>401713</td><td>christopherjames@mason.net</td><td>1593374346368240</td><td>2</td><td>2466.0</td><td>2</td><td>List(NEWBED10, M_STAN_Q, Standard Queen Mattress, 940.5, 1045.0, 1)</td></tr><tr><td>390863</td><td>qmejia@hotmail.com</td><td>1593291252427051</td><td>1</td><td>1075.5</td><td>1</td><td>List(NEWBED10, M_STAN_K, Standard King Mattress, 1075.5, 1195.0, 1)</td></tr><tr><td>407712</td><td>isimmons@hammond.net</td><td>1593434364171246</td><td>1</td><td>1075.5</td><td>1</td><td>List(NEWBED10, M_STAN_K, Standard King Mattress, 1075.5, 1195.0, 1)</td></tr><tr><td>399185</td><td>mduran@gmail.com</td><td>1593363201069236</td><td>1</td><td>535.5</td><td>1</td><td>List(NEWBED10, M_STAN_T, Standard Twin Mattress, 535.5, 595.0, 1)</td></tr><tr><td>409821</td><td>fgonzalez@ortiz.net</td><td>1593447699900660</td><td>1</td><td>535.5</td><td>1</td><td>List(NEWBED10, M_STAN_T, Standard Twin Mattress, 535.5, 595.0, 1)</td></tr><tr><td>403978</td><td>davissteven@hotmail.com</td><td>1593387443214559</td><td>2</td><td>993.6</td><td>2</td><td>List(NEWBED10, M_STAN_Q, Standard Queen Mattress, 940.5, 1045.0, 1)</td></tr><tr><td>403978</td><td>davissteven@hotmail.com</td><td>1593387443214559</td><td>2</td><td>993.6</td><td>2</td><td>List(NEWBED10, P_FOAM_S, Standard Foam Pillow, 53.1, 59.0, 1)</td></tr><tr><td>428559</td><td>norrisjessica@reed.net</td><td>1593590380893962</td><td>2</td><td>1836.0</td><td>2</td><td>List(NEWBED10, M_STAN_F, Standard Full Mattress, 850.5, 945.0, 1)</td></tr><tr><td>428559</td><td>norrisjessica@reed.net</td><td>1593590380893962</td><td>2</td><td>1836.0</td><td>2</td><td>List(NEWBED10, M_PREM_T, Premium Twin Mattress, 985.5, 1095.0, 1)</td></tr><tr><td>421830</td><td>thomas28@henderson.org</td><td>1593538432674599</td><td>1</td><td>1615.5</td><td>1</td><td>List(NEWBED10, M_PREM_Q, Premium Queen Mattress, 1615.5, 1795.0, 1)</td></tr><tr><td>429273</td><td>rodgerscatherine@hotmail.com</td><td>1593599190288586</td><td>1</td><td>535.5</td><td>1</td><td>List(NEWBED10, M_STAN_T, Standard Twin Mattress, 535.5, 595.0, 1)</td></tr><tr><td>406504</td><td>collin44@gmail.com</td><td>1593420285217012</td><td>1</td><td>940.5</td><td>1</td><td>List(NEWBED10, M_STAN_Q, Standard Queen Mattress, 940.5, 1045.0, 1)</td></tr><tr><td>416945</td><td>coreyromero@strickland-butler.com</td><td>1593506959614918</td><td>1</td><td>535.5</td><td>1</td><td>List(NEWBED10, M_STAN_T, Standard Twin Mattress, 535.5, 595.0, 1)</td></tr><tr><td>417572</td><td>christopheraustin@yahoo.com</td><td>1593514091585374</td><td>1</td><td>1075.5</td><td>1</td><td>List(NEWBED10, M_STAN_K, Standard King Mattress, 1075.5, 1195.0, 1)</td></tr><tr><td>395072</td><td>asingh@gill-harris.com</td><td>1593334527893529</td><td>2</td><td>1521.0</td><td>2</td><td>List(NEWBED10, M_STAN_T, Standard Twin Mattress, 535.5, 595.0, 1)</td></tr><tr><td>395072</td><td>asingh@gill-harris.com</td><td>1593334527893529</td><td>2</td><td>1521.0</td><td>2</td><td>List(NEWBED10, M_PREM_T, Premium Twin Mattress, 985.5, 1095.0, 1)</td></tr><tr><td>445028</td><td>ljohnston31@gmail.com</td><td>1593711158267845</td><td>1</td><td>985.5</td><td>1</td><td>List(NEWBED10, M_PREM_T, Premium Twin Mattress, 985.5, 1095.0, 1)</td></tr><tr><td>425708</td><td>leekelsey@floyd.com</td><td>1593557249643696</td><td>2</td><td>642.6</td><td>2</td><td>List(NEWBED10, M_STAN_T, Standard Twin Mattress, 535.5, 595.0, 1)</td></tr><tr><td>425708</td><td>leekelsey@floyd.com</td><td>1593557249643696</td><td>2</td><td>642.6</td><td>2</td><td>List(NEWBED10, P_DOWN_S, Standard Down Pillow, 107.10000000000001, 119.0, 1)</td></tr><tr><td>447487</td><td>isingh@foster.com</td><td>1593720870220272</td><td>1</td><td>1075.5</td><td>1</td><td>List(NEWBED10, M_STAN_K, Standard King Mattress, 1075.5, 1195.0, 1)</td></tr><tr><td>425996</td><td>christinaharrison@hotmail.com</td><td>1593559096609278</td><td>1</td><td>1795.5</td><td>1</td><td>List(NEWBED10, M_PREM_K, Premium King Mattress, 1795.5, 1995.0, 1)</td></tr><tr><td>460336</td><td>kristen4334@gmail.com</td><td>1593815436666346</td><td>1</td><td>53.1</td><td>1</td><td>List(NEWBED10, P_FOAM_S, Standard Foam Pillow, 53.1, 59.0, 1)</td></tr><tr><td>433713</td><td>thomas18@brown.com</td><td>1593626558408125</td><td>1</td><td>850.5</td><td>1</td><td>List(NEWBED10, M_STAN_F, Standard Full Mattress, 850.5, 945.0, 1)</td></tr><tr><td>462384</td><td>fmeza@strickland.com</td><td>1593836858048686</td><td>1</td><td>850.5</td><td>1</td><td>List(NEWBED10, M_STAN_F, Standard Full Mattress, 850.5, 945.0, 1)</td></tr><tr><td>457447</td><td>theresa69@harris-haynes.net</td><td>1593801097696680</td><td>1</td><td>535.5</td><td>1</td><td>List(NEWBED10, M_STAN_T, Standard Twin Mattress, 535.5, 595.0, 1)</td></tr><tr><td>441191</td><td>yperry@murphy.com</td><td>1593693114755299</td><td>1</td><td>1075.5</td><td>1</td><td>List(NEWBED10, M_STAN_K, Standard King Mattress, 1075.5, 1195.0, 1)</td></tr><tr><td>459230</td><td>williamjackson@jones.org</td><td>1593809376172263</td><td>1</td><td>985.5</td><td>1</td><td>List(NEWBED10, M_PREM_T, Premium Twin Mattress, 985.5, 1095.0, 1)</td></tr><tr><td>455901</td><td>michaeljoseph@gmail.com</td><td>1593794362351160</td><td>1</td><td>535.5</td><td>1</td><td>List(NEWBED10, M_STAN_T, Standard Twin Mattress, 535.5, 595.0, 1)</td></tr><tr><td>460268</td><td>crystal61@williams-cruz.info</td><td>1593814953041619</td><td>2</td><td>903.6</td><td>2</td><td>List(NEWBED10, M_STAN_F, Standard Full Mattress, 850.5, 945.0, 1)</td></tr><tr><td>460268</td><td>crystal61@williams-cruz.info</td><td>1593814953041619</td><td>2</td><td>903.6</td><td>2</td><td>List(NEWBED10, P_FOAM_S, Standard Foam Pillow, 53.1, 59.0, 1)</td></tr><tr><td>462477</td><td>steven95@gmail.com</td><td>1593838696972117</td><td>1</td><td>850.5</td><td>1</td><td>List(NEWBED10, M_STAN_F, Standard Full Mattress, 850.5, 945.0, 1)</td></tr><tr><td>462065</td><td>bbell@lutz.info</td><td>1593832159071905</td><td>1</td><td>1075.5</td><td>1</td><td>List(NEWBED10, M_STAN_K, Standard King Mattress, 1075.5, 1195.0, 1)</td></tr><tr><td>277142</td><td>carterrobert@brown.org</td><td>1592440759593821</td><td>1</td><td>850.5</td><td>1</td><td>List(NEWBED10, M_STAN_F, Standard Full Mattress, 850.5, 945.0, 1)</td></tr><tr><td>279184</td><td>jessicagonzalez31@gmail.com</td><td>1592483005105114</td><td>2</td><td>921.6</td><td>2</td><td>List(NEWBED10, M_STAN_F, Standard Full Mattress, 850.5, 945.0, 1)</td></tr><tr><td>279184</td><td>jessicagonzalez31@gmail.com</td><td>1592483005105114</td><td>2</td><td>921.6</td><td>2</td><td>List(NEWBED10, P_FOAM_K, King Foam Pillow, 71.10000000000001, 79.0, 1)</td></tr><tr><td>270589</td><td>carremily@hotmail.com</td><td>1592370976109092</td><td>1</td><td>535.5</td><td>1</td><td>List(NEWBED10, M_STAN_T, Standard Twin Mattress, 535.5, 595.0, 1)</td></tr><tr><td>294780</td><td>calvin05@gmail.com</td><td>1592597222265273</td><td>1</td><td>535.5</td><td>1</td><td>List(NEWBED10, M_STAN_T, Standard Twin Mattress, 535.5, 595.0, 1)</td></tr><tr><td>295275</td><td>ashleysexton@gmail.com</td><td>1592599583368665</td><td>1</td><td>850.5</td><td>1</td><td>List(NEWBED10, M_STAN_F, Standard Full Mattress, 850.5, 945.0, 1)</td></tr><tr><td>303207</td><td>hardingjimmy@yahoo.com</td><td>1592667102776327</td><td>1</td><td>107.10000000000001</td><td>1</td><td>List(NEWBED10, P_DOWN_S, Standard Down Pillow, 107.10000000000001, 119.0, 1)</td></tr><tr><td>297393</td><td>james9011@yahoo.com</td><td>1592613107812758</td><td>1</td><td>535.5</td><td>1</td><td>List(NEWBED10, M_STAN_T, Standard Twin Mattress, 535.5, 595.0, 1)</td></tr><tr><td>277046</td><td>fritzalexandra@hotmail.com</td><td>1592439239464937</td><td>2</td><td>2331.0</td><td>2</td><td>List(NEWBED10, M_PREM_K, Premium King Mattress, 1795.5, 1995.0, 1)</td></tr></tbody></table>Showing the first 1000 rows.</div>"
      ]
     },
     "metadata": {
      "application/vnd.databricks.v1+output": {
       "addedWidgets": {},
       "aggData": [],
       "aggError": "",
       "aggOverflow": false,
       "aggSchema": [],
       "aggSeriesLimitReached": false,
       "aggType": "",
       "arguments": {},
       "columnCustomDisplayInfos": {},
       "data": [
        [
         278205,
         "christianlee@chambers.com",
         1592466913204896,
         1,
         940.5,
         1,
         [
          "NEWBED10",
          "M_STAN_Q",
          "Standard Queen Mattress",
          940.5,
          1045.0,
          1
         ]
        ],
        [
         270871,
         "ahuynh@gmail.com",
         1592387393915138,
         1,
         1615.5,
         1,
         [
          "NEWBED10",
          "M_PREM_Q",
          "Premium Queen Mattress",
          1615.5,
          1795.0,
          1
         ]
        ],
        [
         287904,
         "melissa02@yahoo.com",
         1592554089814096,
         1,
         1795.5,
         1,
         [
          "NEWBED10",
          "M_PREM_K",
          "Premium King Mattress",
          1795.5,
          1995.0,
          1
         ]
        ],
        [
         308305,
         "christopherflores@hotmail.com",
         1592685784726468,
         1,
         535.5,
         1,
         [
          "NEWBED10",
          "M_STAN_T",
          "Standard Twin Mattress",
          535.5,
          595.0,
          1
         ]
        ],
        [
         324317,
         "chenderson@beard.com",
         1592798192402749,
         2,
         957.6,
         2,
         [
          "NEWBED10",
          "M_STAN_F",
          "Standard Full Mattress",
          850.5,
          945.0,
          1
         ]
        ],
        [
         324317,
         "chenderson@beard.com",
         1592798192402749,
         2,
         957.6,
         2,
         [
          "NEWBED10",
          "P_DOWN_S",
          "Standard Down Pillow",
          107.10000000000001,
          119.0,
          1
         ]
        ],
        [
         303906,
         "cindygonzales@yahoo.com",
         1592669747826062,
         1,
         850.5,
         1,
         [
          "NEWBED10",
          "M_STAN_F",
          "Standard Full Mattress",
          850.5,
          945.0,
          1
         ]
        ],
        [
         301190,
         "johnsonmarvin@hotmail.com",
         1592657875847204,
         1,
         940.5,
         1,
         [
          "NEWBED10",
          "M_STAN_Q",
          "Standard Queen Mattress",
          940.5,
          1045.0,
          1
         ]
        ],
        [
         339214,
         "garciajeremy@humphrey-taylor.com",
         1592921716053610,
         1,
         940.5,
         1,
         [
          "NEWBED10",
          "M_STAN_Q",
          "Standard Queen Mattress",
          940.5,
          1045.0,
          1
         ]
        ],
        [
         301498,
         "gonzalezstephanie@harding.com",
         1592659690235783,
         1,
         850.5,
         1,
         [
          "NEWBED10",
          "M_STAN_F",
          "Standard Full Mattress",
          850.5,
          945.0,
          1
         ]
        ],
        [
         319568,
         "tammy7373@gmail.com",
         1592766063445565,
         1,
         1795.5,
         1,
         [
          "NEWBED10",
          "M_PREM_K",
          "Premium King Mattress",
          1795.5,
          1995.0,
          1
         ]
        ],
        [
         324942,
         "mcarter@morton.com",
         1592808015680554,
         1,
         985.5,
         1,
         [
          "NEWBED10",
          "M_PREM_T",
          "Premium Twin Mattress",
          985.5,
          1095.0,
          1
         ]
        ],
        [
         347790,
         "monroechristopher@copeland.com",
         1592967281693581,
         2,
         1182.6,
         2,
         [
          "NEWBED10",
          "M_STAN_K",
          "Standard King Mattress",
          1075.5,
          1195.0,
          1
         ]
        ],
        [
         347790,
         "monroechristopher@copeland.com",
         1592967281693581,
         2,
         1182.6,
         2,
         [
          "NEWBED10",
          "P_DOWN_S",
          "Standard Down Pillow",
          107.10000000000001,
          119.0,
          1
         ]
        ],
        [
         360091,
         "robertkrueger@armstrong-hughes.biz",
         1593059520982470,
         1,
         1075.5,
         1,
         [
          "NEWBED10",
          "M_STAN_K",
          "Standard King Mattress",
          1075.5,
          1195.0,
          1
         ]
        ],
        [
         352038,
         "bshort@malone.com",
         1593009703382903,
         1,
         940.5,
         1,
         [
          "NEWBED10",
          "M_STAN_Q",
          "Standard Queen Mattress",
          940.5,
          1045.0,
          1
         ]
        ],
        [
         332202,
         "lnelson43@hotmail.com",
         1592857770954474,
         1,
         53.1,
         1,
         [
          "NEWBED10",
          "P_FOAM_S",
          "Standard Foam Pillow",
          53.1,
          59.0,
          1
         ]
        ],
        [
         338628,
         "bryantdennis@gmail.com",
         1592918217460305,
         2,
         1011.6,
         2,
         [
          "NEWBED10",
          "M_STAN_Q",
          "Standard Queen Mattress",
          940.5,
          1045.0,
          1
         ]
        ],
        [
         338628,
         "bryantdennis@gmail.com",
         1592918217460305,
         2,
         1011.6,
         2,
         [
          "NEWBED10",
          "P_FOAM_K",
          "King Foam Pillow",
          71.10000000000001,
          79.0,
          1
         ]
        ],
        [
         347586,
         "jeffreyward@hotmail.com",
         1592965159902709,
         1,
         940.5,
         1,
         [
          "NEWBED10",
          "M_STAN_Q",
          "Standard Queen Mattress",
          940.5,
          1045.0,
          1
         ]
        ],
        [
         361392,
         "rjacobs@hamilton.com",
         1593078117486599,
         1,
         1615.5,
         1,
         [
          "NEWBED10",
          "M_PREM_Q",
          "Premium Queen Mattress",
          1615.5,
          1795.0,
          1
         ]
        ],
        [
         363447,
         "aprilhester@gmail.com",
         1593094898279798,
         1,
         535.5,
         1,
         [
          "NEWBED10",
          "M_STAN_T",
          "Standard Twin Mattress",
          535.5,
          595.0,
          1
         ]
        ],
        [
         349137,
         "skelly3@hotmail.com",
         1592984481417200,
         1,
         850.5,
         1,
         [
          "NEWBED10",
          "M_STAN_F",
          "Standard Full Mattress",
          850.5,
          945.0,
          1
         ]
        ],
        [
         370791,
         "amyhester@gmail.com",
         1593142188459174,
         1,
         53.1,
         1,
         [
          "NEWBED10",
          "P_FOAM_S",
          "Standard Foam Pillow",
          53.1,
          59.0,
          1
         ]
        ],
        [
         378932,
         "wprice@rice.com",
         1593205504559754,
         1,
         535.5,
         1,
         [
          "NEWBED10",
          "M_STAN_T",
          "Standard Twin Mattress",
          535.5,
          595.0,
          1
         ]
        ],
        [
         380085,
         "aliciarice@hotmail.com",
         1593213259648465,
         1,
         1615.5,
         1,
         [
          "NEWBED10",
          "M_PREM_Q",
          "Premium Queen Mattress",
          1615.5,
          1795.0,
          1
         ]
        ],
        [
         414978,
         "jose53@arellano-ashley.com",
         1593478597453250,
         1,
         940.5,
         1,
         [
          "NEWBED10",
          "M_STAN_Q",
          "Standard Queen Mattress",
          940.5,
          1045.0,
          1
         ]
        ],
        [
         406688,
         "brooksmargaret@yahoo.com",
         1593423090713477,
         1,
         1075.5,
         1,
         [
          "NEWBED10",
          "M_STAN_K",
          "Standard King Mattress",
          1075.5,
          1195.0,
          1
         ]
        ],
        [
         407412,
         "franciscocampbell@chavez.com",
         1593431668657940,
         1,
         985.5,
         1,
         [
          "NEWBED10",
          "M_PREM_T",
          "Premium Twin Mattress",
          985.5,
          1095.0,
          1
         ]
        ],
        [
         417135,
         "joanhudson@stewart.com",
         1593509483686739,
         3,
         1979.1,
         3,
         [
          "NEWBED10",
          "M_STAN_Q",
          "Standard Queen Mattress",
          940.5,
          1045.0,
          1
         ]
        ],
        [
         417135,
         "joanhudson@stewart.com",
         1593509483686739,
         3,
         1979.1,
         3,
         [
          "NEWBED10",
          "M_PREM_T",
          "Premium Twin Mattress",
          985.5,
          1095.0,
          1
         ]
        ],
        [
         417135,
         "joanhudson@stewart.com",
         1593509483686739,
         3,
         1979.1,
         3,
         [
          "NEWBED10",
          "P_FOAM_S",
          "Standard Foam Pillow",
          53.1,
          59.0,
          1
         ]
        ],
        [
         407327,
         "rebecca35@mccormick-jenkins.com",
         1593430797909452,
         1,
         1075.5,
         1,
         [
          "NEWBED10",
          "M_STAN_K",
          "Standard King Mattress",
          1075.5,
          1195.0,
          1
         ]
        ],
        [
         416522,
         "nfisher59@hotmail.com",
         1593500551954833,
         1,
         1075.5,
         1,
         [
          "NEWBED10",
          "M_STAN_K",
          "Standard King Mattress",
          1075.5,
          1195.0,
          1
         ]
        ],
        [
         438588,
         "william72@hotmail.com",
         1593661146025090,
         1,
         535.5,
         1,
         [
          "NEWBED10",
          "M_STAN_T",
          "Standard Twin Mattress",
          535.5,
          595.0,
          1
         ]
        ],
        [
         436534,
         "iharrison@smith.biz",
         1593641415253787,
         2,
         1071.0,
         1,
         [
          "NEWBED10",
          "M_STAN_T",
          "Standard Twin Mattress",
          1071.0,
          595.0,
          2
         ]
        ],
        [
         427685,
         "suzannecraig@gordon.com",
         1593577385337667,
         1,
         71.10000000000001,
         1,
         [
          "NEWBED10",
          "P_FOAM_K",
          "King Foam Pillow",
          71.10000000000001,
          79.0,
          1
         ]
        ],
        [
         436263,
         "mark91@hotmail.com",
         1593639672658413,
         2,
         1071.0,
         1,
         [
          "NEWBED10",
          "M_STAN_T",
          "Standard Twin Mattress",
          1071.0,
          595.0,
          2
         ]
        ],
        [
         423381,
         "crystal49@yahoo.com",
         1593544995385123,
         2,
         1128.6,
         2,
         [
          "NEWBED10",
          "M_STAN_K",
          "Standard King Mattress",
          1075.5,
          1195.0,
          1
         ]
        ],
        [
         423381,
         "crystal49@yahoo.com",
         1593544995385123,
         2,
         1128.6,
         2,
         [
          "NEWBED10",
          "P_FOAM_S",
          "Standard Foam Pillow",
          53.1,
          59.0,
          1
         ]
        ],
        [
         450906,
         "tylerhernandez@hill.net",
         1593745528204242,
         2,
         2061.0,
         2,
         [
          "NEWBED10",
          "M_STAN_K",
          "Standard King Mattress",
          1075.5,
          1195.0,
          1
         ]
        ],
        [
         450906,
         "tylerhernandez@hill.net",
         1593745528204242,
         2,
         2061.0,
         2,
         [
          "NEWBED10",
          "M_PREM_T",
          "Premium Twin Mattress",
          985.5,
          1095.0,
          1
         ]
        ],
        [
         442494,
         "oconnorjohn@holland.com",
         1593700651137541,
         1,
         535.5,
         1,
         [
          "NEWBED10",
          "M_STAN_T",
          "Standard Twin Mattress",
          535.5,
          595.0,
          1
         ]
        ],
        [
         427624,
         "elizabethcruz@rubio.org",
         1593576387939533,
         2,
         2871.0,
         2,
         [
          "NEWBED10",
          "M_PREM_K",
          "Premium King Mattress",
          1795.5,
          1995.0,
          1
         ]
        ],
        [
         427624,
         "elizabethcruz@rubio.org",
         1593576387939533,
         2,
         2871.0,
         2,
         [
          "NEWBED10",
          "M_STAN_K",
          "Standard King Mattress",
          1075.5,
          1195.0,
          1
         ]
        ],
        [
         451699,
         "masonmadeline@yahoo.com",
         1593757565666209,
         1,
         850.5,
         1,
         [
          "NEWBED10",
          "M_STAN_F",
          "Standard Full Mattress",
          850.5,
          945.0,
          1
         ]
        ],
        [
         454294,
         "miguel24@stanley-reyes.com",
         1593786122550978,
         1,
         535.5,
         1,
         [
          "NEWBED10",
          "M_STAN_T",
          "Standard Twin Mattress",
          535.5,
          595.0,
          1
         ]
        ],
        [
         451010,
         "yhall@webb.com",
         1593746716392257,
         1,
         940.5,
         1,
         [
          "NEWBED10",
          "M_STAN_Q",
          "Standard Queen Mattress",
          940.5,
          1045.0,
          1
         ]
        ],
        [
         462774,
         "huntmaria@gmail.com",
         1593843535785542,
         1,
         1075.5,
         1,
         [
          "NEWBED10",
          "M_STAN_K",
          "Standard King Mattress",
          1075.5,
          1195.0,
          1
         ]
        ],
        [
         263995,
         "guzmansara@yahoo.com",
         1592301065042559,
         1,
         535.5,
         1,
         [
          "NEWBED10",
          "M_STAN_T",
          "Standard Twin Mattress",
          535.5,
          595.0,
          1
         ]
        ],
        [
         298299,
         "marknorris@stewart-brown.net",
         1592624586395691,
         1,
         850.5,
         1,
         [
          "NEWBED10",
          "M_STAN_F",
          "Standard Full Mattress",
          850.5,
          945.0,
          1
         ]
        ],
        [
         287607,
         "joseph09@gmail.com",
         1592548446019115,
         1,
         535.5,
         1,
         [
          "NEWBED10",
          "M_STAN_T",
          "Standard Twin Mattress",
          535.5,
          595.0,
          1
         ]
        ],
        [
         306523,
         "fwilson@edwards-carroll.org",
         1592678993944923,
         2,
         1092.6,
         2,
         [
          "NEWBED10",
          "M_PREM_T",
          "Premium Twin Mattress",
          985.5,
          1095.0,
          1
         ]
        ],
        [
         306523,
         "fwilson@edwards-carroll.org",
         1592678993944923,
         2,
         1092.6,
         2,
         [
          "NEWBED10",
          "P_DOWN_S",
          "Standard Down Pillow",
          107.10000000000001,
          119.0,
          1
         ]
        ],
        [
         348368,
         "tannerjohnson@gomez-lucero.com",
         1592974174851479,
         1,
         1615.5,
         1,
         [
          "NEWBED10",
          "M_PREM_Q",
          "Premium Queen Mattress",
          1615.5,
          1795.0,
          1
         ]
        ],
        [
         310728,
         "jeffrey8311@gmail.com",
         1592699353736926,
         1,
         940.5,
         1,
         [
          "NEWBED10",
          "M_STAN_Q",
          "Standard Queen Mattress",
          940.5,
          1045.0,
          1
         ]
        ],
        [
         340340,
         "emorton51@yahoo.com",
         1592926935309150,
         1,
         940.5,
         1,
         [
          "NEWBED10",
          "M_STAN_Q",
          "Standard Queen Mattress",
          940.5,
          1045.0,
          1
         ]
        ],
        [
         324536,
         "anthonywilliams@henry-allen.com",
         1592801433929042,
         1,
         1075.5,
         1,
         [
          "NEWBED10",
          "M_STAN_K",
          "Standard King Mattress",
          1075.5,
          1195.0,
          1
         ]
        ],
        [
         326638,
         "esoto88@yahoo.com",
         1592828826398534,
         1,
         1075.5,
         1,
         [
          "NEWBED10",
          "M_STAN_K",
          "Standard King Mattress",
          1075.5,
          1195.0,
          1
         ]
        ],
        [
         331809,
         "xmathis35@gmail.com",
         1592856097621857,
         3,
         1997.1,
         3,
         [
          "NEWBED10",
          "M_STAN_K",
          "Standard King Mattress",
          1075.5,
          1195.0,
          1
         ]
        ],
        [
         331809,
         "xmathis35@gmail.com",
         1592856097621857,
         3,
         1997.1,
         3,
         [
          "NEWBED10",
          "M_STAN_F",
          "Standard Full Mattress",
          850.5,
          945.0,
          1
         ]
        ],
        [
         331809,
         "xmathis35@gmail.com",
         1592856097621857,
         3,
         1997.1,
         3,
         [
          "NEWBED10",
          "P_FOAM_K",
          "King Foam Pillow",
          71.10000000000001,
          79.0,
          1
         ]
        ],
        [
         358824,
         "logananthony@yahoo.com",
         1593044541794470,
         1,
         535.5,
         1,
         [
          "NEWBED10",
          "M_STAN_T",
          "Standard Twin Mattress",
          535.5,
          595.0,
          1
         ]
        ],
        [
         327408,
         "ubrown27@hotmail.com",
         1592834444578775,
         1,
         940.5,
         1,
         [
          "NEWBED10",
          "M_STAN_Q",
          "Standard Queen Mattress",
          940.5,
          1045.0,
          1
         ]
        ],
        [
         369788,
         "rpotts@yahoo.com",
         1593130379272460,
         1,
         1615.5,
         1,
         [
          "NEWBED10",
          "M_PREM_Q",
          "Premium Queen Mattress",
          1615.5,
          1795.0,
          1
         ]
        ],
        [
         371174,
         "ssmith2@hotmail.com",
         1593147930879005,
         1,
         985.5,
         1,
         [
          "NEWBED10",
          "M_PREM_T",
          "Premium Twin Mattress",
          985.5,
          1095.0,
          1
         ]
        ],
        [
         370875,
         "jesseellison@gmail.com",
         1593143566218045,
         1,
         535.5,
         1,
         [
          "NEWBED10",
          "M_STAN_T",
          "Standard Twin Mattress",
          535.5,
          595.0,
          1
         ]
        ],
        [
         359147,
         "curtisvalencia@yahoo.com",
         1593047676684800,
         1,
         535.5,
         1,
         [
          "NEWBED10",
          "M_STAN_T",
          "Standard Twin Mattress",
          535.5,
          595.0,
          1
         ]
        ],
        [
         379941,
         "robertsanders72@gmail.com",
         1593212071294650,
         1,
         1075.5,
         1,
         [
          "NEWBED10",
          "M_STAN_K",
          "Standard King Mattress",
          1075.5,
          1195.0,
          1
         ]
        ],
        [
         381714,
         "angelahughes68@gmail.com",
         1593232297123330,
         1,
         535.5,
         1,
         [
          "NEWBED10",
          "M_STAN_T",
          "Standard Twin Mattress",
          535.5,
          595.0,
          1
         ]
        ],
        [
         377992,
         "sandra4487@hotmail.com",
         1593200440800651,
         1,
         850.5,
         1,
         [
          "NEWBED10",
          "M_STAN_F",
          "Standard Full Mattress",
          850.5,
          945.0,
          1
         ]
        ],
        [
         380259,
         "mlong@yahoo.com",
         1593214717103254,
         1,
         850.5,
         1,
         [
          "NEWBED10",
          "M_STAN_F",
          "Standard Full Mattress",
          850.5,
          945.0,
          1
         ]
        ],
        [
         407248,
         "robertcollins@lawrence-cantrell.com",
         1593430048446105,
         1,
         940.5,
         1,
         [
          "NEWBED10",
          "M_STAN_Q",
          "Standard Queen Mattress",
          940.5,
          1045.0,
          1
         ]
        ],
        [
         394143,
         "whitneygoodman@yahoo.com",
         1593319854701400,
         1,
         940.5,
         1,
         [
          "NEWBED10",
          "M_STAN_Q",
          "Standard Queen Mattress",
          940.5,
          1045.0,
          1
         ]
        ],
        [
         386605,
         "wjones73@yahoo.com",
         1593274433216028,
         1,
         850.5,
         1,
         [
          "NEWBED10",
          "M_STAN_F",
          "Standard Full Mattress",
          850.5,
          945.0,
          1
         ]
        ],
        [
         382502,
         "christophersimmons@gutierrez.com",
         1593245308053652,
         1,
         850.5,
         1,
         [
          "NEWBED10",
          "M_STAN_F",
          "Standard Full Mattress",
          850.5,
          945.0,
          1
         ]
        ],
        [
         406576,
         "dennisperez@williamson-osborn.org",
         1593421562666250,
         1,
         53.1,
         1,
         [
          "NEWBED10",
          "P_FOAM_S",
          "Standard Foam Pillow",
          53.1,
          59.0,
          1
         ]
        ],
        [
         405912,
         "kreynolds81@hotmail.com",
         1593410988614043,
         1,
         1615.5,
         1,
         [
          "NEWBED10",
          "M_PREM_Q",
          "Premium Queen Mattress",
          1615.5,
          1795.0,
          1
         ]
        ],
        [
         394336,
         "alexanderjacobs@gmail.com",
         1593323139201725,
         1,
         940.5,
         1,
         [
          "NEWBED10",
          "M_STAN_Q",
          "Standard Queen Mattress",
          940.5,
          1045.0,
          1
         ]
        ],
        [
         415392,
         "kellybrian@roach.net",
         1593483480949639,
         1,
         1525.5,
         1,
         [
          "NEWBED10",
          "M_PREM_F",
          "Premium Full Mattress",
          1525.5,
          1695.0,
          1
         ]
        ],
        [
         425720,
         "qedwards@crane.com",
         1593557286082663,
         1,
         535.5,
         1,
         [
          "NEWBED10",
          "M_STAN_T",
          "Standard Twin Mattress",
          535.5,
          595.0,
          1
         ]
        ],
        [
         415598,
         "mary83@anderson.biz",
         1593486231492268,
         1,
         535.5,
         1,
         [
          "NEWBED10",
          "M_STAN_T",
          "Standard Twin Mattress",
          535.5,
          595.0,
          1
         ]
        ],
        [
         430453,
         "donald03@gmail.com",
         1593609348489421,
         1,
         535.5,
         1,
         [
          "NEWBED10",
          "M_STAN_T",
          "Standard Twin Mattress",
          535.5,
          595.0,
          1
         ]
        ],
        [
         436737,
         "evan29@meyers.org",
         1593642852183671,
         2,
         1071.0,
         1,
         [
          "NEWBED10",
          "M_STAN_T",
          "Standard Twin Mattress",
          1071.0,
          595.0,
          2
         ]
        ],
        [
         415742,
         "adam42@hotmail.com",
         1593488473461232,
         1,
         535.5,
         1,
         [
          "NEWBED10",
          "M_STAN_T",
          "Standard Twin Mattress",
          535.5,
          595.0,
          1
         ]
        ],
        [
         414487,
         "zjoseph@gmail.com",
         1593473909453688,
         1,
         1615.5,
         1,
         [
          "NEWBED10",
          "M_PREM_Q",
          "Premium Queen Mattress",
          1615.5,
          1795.0,
          1
         ]
        ],
        [
         441936,
         "robert05@patel-martinez.com",
         1593697854098890,
         1,
         1615.5,
         1,
         [
          "NEWBED10",
          "M_PREM_Q",
          "Premium Queen Mattress",
          1615.5,
          1795.0,
          1
         ]
        ],
        [
         445681,
         "briancollier@smith.com",
         1593713694977426,
         1,
         535.5,
         1,
         [
          "NEWBED10",
          "M_STAN_T",
          "Standard Twin Mattress",
          535.5,
          595.0,
          1
         ]
        ],
        [
         464762,
         "john4385@gmail.com",
         1593865294658656,
         1,
         1615.5,
         1,
         [
          "NEWBED10",
          "M_PREM_Q",
          "Premium Queen Mattress",
          1615.5,
          1795.0,
          1
         ]
        ],
        [
         453212,
         "dsmith@castro.com",
         1593778379851073,
         1,
         940.5,
         1,
         [
          "NEWBED10",
          "M_STAN_Q",
          "Standard Queen Mattress",
          940.5,
          1045.0,
          1
         ]
        ],
        [
         299800,
         "newtonlonnie@long.com",
         1592647413832764,
         1,
         535.5,
         1,
         [
          "NEWBED10",
          "M_STAN_T",
          "Standard Twin Mattress",
          535.5,
          595.0,
          1
         ]
        ],
        [
         312025,
         "brandon50@burton.com",
         1592713107906833,
         1,
         985.5,
         1,
         [
          "NEWBED10",
          "M_PREM_T",
          "Premium Twin Mattress",
          985.5,
          1095.0,
          1
         ]
        ],
        [
         298472,
         "cpierce69@yahoo.com",
         1592627485346653,
         1,
         1615.5,
         1,
         [
          "NEWBED10",
          "M_PREM_Q",
          "Premium Queen Mattress",
          1615.5,
          1795.0,
          1
         ]
        ],
        [
         295368,
         "phillip18@mitchell.com",
         1592600048066769,
         1,
         1615.5,
         1,
         [
          "NEWBED10",
          "M_PREM_Q",
          "Premium Queen Mattress",
          1615.5,
          1795.0,
          1
         ]
        ],
        [
         299316,
         "benjaminvaldez@walker.com",
         1592641550505450,
         1,
         107.10000000000001,
         1,
         [
          "NEWBED10",
          "P_DOWN_S",
          "Standard Down Pillow",
          107.10000000000001,
          119.0,
          1
         ]
        ],
        [
         289627,
         "upena@hotmail.com",
         1592572934230332,
         1,
         535.5,
         1,
         [
          "NEWBED10",
          "M_STAN_T",
          "Standard Twin Mattress",
          535.5,
          595.0,
          1
         ]
        ],
        [
         309840,
         "asalazar69@yahoo.com",
         1592693373190305,
         1,
         1795.5,
         1,
         [
          "NEWBED10",
          "M_PREM_K",
          "Premium King Mattress",
          1795.5,
          1995.0,
          1
         ]
        ],
        [
         298456,
         "roy47@yahoo.com",
         1592627282227416,
         1,
         850.5,
         1,
         [
          "NEWBED10",
          "M_STAN_F",
          "Standard Full Mattress",
          850.5,
          945.0,
          1
         ]
        ],
        [
         299914,
         "rodriguezchris@bennett.org",
         1592648559520604,
         1,
         940.5,
         1,
         [
          "NEWBED10",
          "M_STAN_Q",
          "Standard Queen Mattress",
          940.5,
          1045.0,
          1
         ]
        ],
        [
         310659,
         "hwilson29@hotmail.com",
         1592698805720566,
         1,
         1075.5,
         1,
         [
          "NEWBED10",
          "M_STAN_K",
          "Standard King Mattress",
          1075.5,
          1195.0,
          1
         ]
        ],
        [
         313622,
         "jasondavis@hotmail.com",
         1592735476379412,
         1,
         535.5,
         1,
         [
          "NEWBED10",
          "M_STAN_T",
          "Standard Twin Mattress",
          535.5,
          595.0,
          1
         ]
        ],
        [
         324434,
         "butlervickie@hotmail.com",
         1592799900254052,
         1,
         535.5,
         1,
         [
          "NEWBED10",
          "M_STAN_T",
          "Standard Twin Mattress",
          535.5,
          595.0,
          1
         ]
        ],
        [
         314979,
         "cmoran@cervantes-bradford.com",
         1592745968104414,
         1,
         940.5,
         1,
         [
          "NEWBED10",
          "M_STAN_Q",
          "Standard Queen Mattress",
          940.5,
          1045.0,
          1
         ]
        ],
        [
         326112,
         "bryan45@meyer.com",
         1592824085586009,
         1,
         1615.5,
         1,
         [
          "NEWBED10",
          "M_PREM_Q",
          "Premium Queen Mattress",
          1615.5,
          1795.0,
          1
         ]
        ],
        [
         325889,
         "michelle9132@gmail.com",
         1592821609039741,
         1,
         985.5,
         1,
         [
          "NEWBED10",
          "M_PREM_T",
          "Premium Twin Mattress",
          985.5,
          1095.0,
          1
         ]
        ],
        [
         337544,
         "amandalee@yahoo.com",
         1592909951916466,
         1,
         1795.5,
         1,
         [
          "NEWBED10",
          "M_PREM_K",
          "Premium King Mattress",
          1795.5,
          1995.0,
          1
         ]
        ],
        [
         325281,
         "webersarah@anderson-garcia.biz",
         1592813595715409,
         1,
         940.5,
         1,
         [
          "NEWBED10",
          "M_STAN_Q",
          "Standard Queen Mattress",
          940.5,
          1045.0,
          1
         ]
        ],
        [
         342820,
         "timothymorris@yahoo.com",
         1592937441926326,
         1,
         985.5,
         1,
         [
          "NEWBED10",
          "M_PREM_T",
          "Premium Twin Mattress",
          985.5,
          1095.0,
          1
         ]
        ],
        [
         338532,
         "stephanie66@yahoo.com",
         1592917586815572,
         2,
         1476.0,
         2,
         [
          "NEWBED10",
          "M_STAN_Q",
          "Standard Queen Mattress",
          940.5,
          1045.0,
          1
         ]
        ],
        [
         338532,
         "stephanie66@yahoo.com",
         1592917586815572,
         2,
         1476.0,
         2,
         [
          "NEWBED10",
          "M_STAN_T",
          "Standard Twin Mattress",
          535.5,
          595.0,
          1
         ]
        ],
        [
         359814,
         "kbartlett@yahoo.com",
         1593055332196667,
         1,
         985.5,
         1,
         [
          "NEWBED10",
          "M_PREM_T",
          "Premium Twin Mattress",
          985.5,
          1095.0,
          1
         ]
        ],
        [
         358451,
         "stephanie39@martin.biz",
         1593041433073760,
         1,
         940.5,
         1,
         [
          "NEWBED10",
          "M_STAN_Q",
          "Standard Queen Mattress",
          940.5,
          1045.0,
          1
         ]
        ],
        [
         336103,
         "palmerjoseph@thompson.com",
         1592891606262779,
         2,
         1902.6,
         2,
         [
          "NEWBED10",
          "M_PREM_K",
          "Premium King Mattress",
          1795.5,
          1995.0,
          1
         ]
        ],
        [
         336103,
         "palmerjoseph@thompson.com",
         1592891606262779,
         2,
         1902.6,
         2,
         [
          "NEWBED10",
          "P_DOWN_S",
          "Standard Down Pillow",
          107.10000000000001,
          119.0,
          1
         ]
        ],
        [
         346214,
         "kennethbrowning@hotmail.com",
         1592953805192366,
         1,
         1075.5,
         1,
         [
          "NEWBED10",
          "M_STAN_K",
          "Standard King Mattress",
          1075.5,
          1195.0,
          1
         ]
        ],
        [
         355846,
         "mgonzalez@davidson.com",
         1593026978028331,
         1,
         535.5,
         1,
         [
          "NEWBED10",
          "M_STAN_T",
          "Standard Twin Mattress",
          535.5,
          595.0,
          1
         ]
        ],
        [
         360362,
         "maureen82@hotmail.com",
         1593063602375914,
         1,
         71.10000000000001,
         1,
         [
          "NEWBED10",
          "P_FOAM_K",
          "King Foam Pillow",
          71.10000000000001,
          79.0,
          1
         ]
        ],
        [
         362657,
         "michelle60@dunn-frederick.com",
         1593089822846229,
         3,
         2123.1,
         3,
         [
          "NEWBED10",
          "M_STAN_Q",
          "Standard Queen Mattress",
          940.5,
          1045.0,
          1
         ]
        ],
        [
         362657,
         "michelle60@dunn-frederick.com",
         1593089822846229,
         3,
         2123.1,
         3,
         [
          "NEWBED10",
          "M_STAN_K",
          "Standard King Mattress",
          1075.5,
          1195.0,
          1
         ]
        ],
        [
         362657,
         "michelle60@dunn-frederick.com",
         1593089822846229,
         3,
         2123.1,
         3,
         [
          "NEWBED10",
          "P_DOWN_S",
          "Standard Down Pillow",
          107.10000000000001,
          119.0,
          1
         ]
        ],
        [
         369598,
         "jacksoncaleb@thornton-wells.com",
         1593128867279012,
         1,
         1795.5,
         1,
         [
          "NEWBED10",
          "M_PREM_K",
          "Premium King Mattress",
          1795.5,
          1995.0,
          1
         ]
        ],
        [
         368561,
         "michelle40@erickson.net",
         1593121341954689,
         1,
         850.5,
         1,
         [
          "NEWBED10",
          "M_STAN_F",
          "Standard Full Mattress",
          850.5,
          945.0,
          1
         ]
        ],
        [
         381779,
         "heidi42@diaz.com",
         1593233511787467,
         1,
         940.5,
         1,
         [
          "NEWBED10",
          "M_STAN_Q",
          "Standard Queen Mattress",
          940.5,
          1045.0,
          1
         ]
        ],
        [
         367355,
         "travisrussell@price.com",
         1593114800762288,
         1,
         940.5,
         1,
         [
          "NEWBED10",
          "M_STAN_Q",
          "Standard Queen Mattress",
          940.5,
          1045.0,
          1
         ]
        ],
        [
         370431,
         "molly79@juarez.com",
         1593137508939146,
         1,
         1615.5,
         1,
         [
          "NEWBED10",
          "M_PREM_Q",
          "Premium Queen Mattress",
          1615.5,
          1795.0,
          1
         ]
        ],
        [
         380719,
         "asalazar@yahoo.com",
         1593219039089677,
         1,
         535.5,
         1,
         [
          "NEWBED10",
          "M_STAN_T",
          "Standard Twin Mattress",
          535.5,
          595.0,
          1
         ]
        ],
        [
         371465,
         "qwalters@hotmail.com",
         1593153105609863,
         2,
         1071.0,
         1,
         [
          "NEWBED10",
          "M_STAN_T",
          "Standard Twin Mattress",
          1071.0,
          595.0,
          2
         ]
        ],
        [
         374522,
         "hudsonmichael@gmail.com",
         1593183231360840,
         1,
         850.5,
         1,
         [
          "NEWBED10",
          "M_STAN_F",
          "Standard Full Mattress",
          850.5,
          945.0,
          1
         ]
        ],
        [
         381364,
         "monroemargaret@yahoo.com",
         1593227086142707,
         1,
         940.5,
         1,
         [
          "NEWBED10",
          "M_STAN_Q",
          "Standard Queen Mattress",
          940.5,
          1045.0,
          1
         ]
        ],
        [
         394546,
         "alex61@yahoo.com",
         1593326537044158,
         1,
         850.5,
         1,
         [
          "NEWBED10",
          "M_STAN_F",
          "Standard Full Mattress",
          850.5,
          945.0,
          1
         ]
        ],
        [
         390098,
         "blackjanet@hotmail.com",
         1593287817695921,
         1,
         1075.5,
         1,
         [
          "NEWBED10",
          "M_STAN_K",
          "Standard King Mattress",
          1075.5,
          1195.0,
          1
         ]
        ],
        [
         401070,
         "stephanieparker62@hotmail.com",
         1593371323830247,
         1,
         1075.5,
         1,
         [
          "NEWBED10",
          "M_STAN_K",
          "Standard King Mattress",
          1075.5,
          1195.0,
          1
         ]
        ],
        [
         421849,
         "davidho@harris.com",
         1593538505465277,
         2,
         2016.0,
         2,
         [
          "NEWBED10",
          "M_STAN_K",
          "Standard King Mattress",
          1075.5,
          1195.0,
          1
         ]
        ],
        [
         421849,
         "davidho@harris.com",
         1593538505465277,
         2,
         2016.0,
         2,
         [
          "NEWBED10",
          "M_STAN_Q",
          "Standard Queen Mattress",
          940.5,
          1045.0,
          1
         ]
        ],
        [
         429910,
         "ninanelson@walker.org",
         1593605199662674,
         1,
         850.5,
         1,
         [
          "NEWBED10",
          "M_STAN_F",
          "Standard Full Mattress",
          850.5,
          945.0,
          1
         ]
        ],
        [
         411134,
         "bryanttonya@gmail.com",
         1593454252458269,
         1,
         850.5,
         1,
         [
          "NEWBED10",
          "M_STAN_F",
          "Standard Full Mattress",
          850.5,
          945.0,
          1
         ]
        ],
        [
         417019,
         "jacobestes@wilkerson-burns.com",
         1593507943233413,
         2,
         993.6,
         2,
         [
          "NEWBED10",
          "M_STAN_Q",
          "Standard Queen Mattress",
          940.5,
          1045.0,
          1
         ]
        ],
        [
         417019,
         "jacobestes@wilkerson-burns.com",
         1593507943233413,
         2,
         993.6,
         2,
         [
          "NEWBED10",
          "P_FOAM_S",
          "Standard Foam Pillow",
          53.1,
          59.0,
          1
         ]
        ],
        [
         427898,
         "kennethmurray3@hotmail.com",
         1593580259100403,
         1,
         850.5,
         1,
         [
          "NEWBED10",
          "M_STAN_F",
          "Standard Full Mattress",
          850.5,
          945.0,
          1
         ]
        ],
        [
         404250,
         "wjacobs@crawford.com",
         1593389723940060,
         2,
         588.6,
         2,
         [
          "NEWBED10",
          "M_STAN_T",
          "Standard Twin Mattress",
          535.5,
          595.0,
          1
         ]
        ],
        [
         404250,
         "wjacobs@crawford.com",
         1593389723940060,
         2,
         588.6,
         2,
         [
          "NEWBED10",
          "P_FOAM_S",
          "Standard Foam Pillow",
          53.1,
          59.0,
          1
         ]
        ],
        [
         436375,
         "andersonnancy0@gmail.com",
         1593640408196762,
         1,
         1795.5,
         1,
         [
          "NEWBED10",
          "M_PREM_K",
          "Premium King Mattress",
          1795.5,
          1995.0,
          1
         ]
        ],
        [
         420621,
         "william42@harris.info",
         1593532894791591,
         1,
         535.5,
         1,
         [
          "NEWBED10",
          "M_STAN_T",
          "Standard Twin Mattress",
          535.5,
          595.0,
          1
         ]
        ],
        [
         428478,
         "vanessapotter@hotmail.com",
         1593588813459735,
         2,
         1971.0,
         1,
         [
          "NEWBED10",
          "M_PREM_T",
          "Premium Twin Mattress",
          1971.0,
          1095.0,
          2
         ]
        ],
        [
         433865,
         "alexis96@simmons.com",
         1593627206412025,
         1,
         535.5,
         1,
         [
          "NEWBED10",
          "M_STAN_T",
          "Standard Twin Mattress",
          535.5,
          595.0,
          1
         ]
        ],
        [
         440931,
         "bradley36@smith-santos.com",
         1593691125958047,
         1,
         1075.5,
         1,
         [
          "NEWBED10",
          "M_STAN_K",
          "Standard King Mattress",
          1075.5,
          1195.0,
          1
         ]
        ],
        [
         438881,
         "srivers@mosley-torres.com",
         1593665404435736,
         1,
         535.5,
         1,
         [
          "NEWBED10",
          "M_STAN_T",
          "Standard Twin Mattress",
          535.5,
          595.0,
          1
         ]
        ],
        [
         428269,
         "maryfox@yahoo.com",
         1593585894909964,
         1,
         850.5,
         1,
         [
          "NEWBED10",
          "M_STAN_F",
          "Standard Full Mattress",
          850.5,
          945.0,
          1
         ]
        ],
        [
         464245,
         "teresabrown10@gmail.com",
         1593861504381391,
         1,
         535.5,
         1,
         [
          "NEWBED10",
          "M_STAN_T",
          "Standard Twin Mattress",
          535.5,
          595.0,
          1
         ]
        ],
        [
         430429,
         "iandrews38@yahoo.com",
         1593609201256436,
         1,
         535.5,
         1,
         [
          "NEWBED10",
          "M_STAN_T",
          "Standard Twin Mattress",
          535.5,
          595.0,
          1
         ]
        ],
        [
         456901,
         "jasonbowen@schneider.info",
         1593798764973682,
         1,
         107.10000000000001,
         1,
         [
          "NEWBED10",
          "P_DOWN_S",
          "Standard Down Pillow",
          107.10000000000001,
          119.0,
          1
         ]
        ],
        [
         440351,
         "anna8193@yahoo.com",
         1593685977644427,
         1,
         985.5,
         1,
         [
          "NEWBED10",
          "M_PREM_T",
          "Premium Twin Mattress",
          985.5,
          1095.0,
          1
         ]
        ],
        [
         444781,
         "johnsonkelly@snow-dorsey.info",
         1593710251233255,
         1,
         53.1,
         1,
         [
          "NEWBED10",
          "P_FOAM_S",
          "Standard Foam Pillow",
          53.1,
          59.0,
          1
         ]
        ],
        [
         450960,
         "nunezchristine@hotmail.com",
         1593746097443478,
         1,
         1075.5,
         1,
         [
          "NEWBED10",
          "M_STAN_K",
          "Standard King Mattress",
          1075.5,
          1195.0,
          1
         ]
        ],
        [
         451267,
         "cruzsandra@hotmail.com",
         1593750491356336,
         2,
         588.6,
         2,
         [
          "NEWBED10",
          "M_STAN_T",
          "Standard Twin Mattress",
          535.5,
          595.0,
          1
         ]
        ],
        [
         451267,
         "cruzsandra@hotmail.com",
         1593750491356336,
         2,
         588.6,
         2,
         [
          "NEWBED10",
          "P_FOAM_S",
          "Standard Foam Pillow",
          53.1,
          59.0,
          1
         ]
        ],
        [
         437239,
         "perrychristopher69@gmail.com",
         1593646457982611,
         1,
         940.5,
         1,
         [
          "NEWBED10",
          "M_STAN_Q",
          "Standard Queen Mattress",
          940.5,
          1045.0,
          1
         ]
        ],
        [
         465487,
         "ronaldpeters@sanchez.com",
         1593869705989538,
         3,
         1997.1,
         3,
         [
          "NEWBED10",
          "M_STAN_F",
          "Standard Full Mattress",
          850.5,
          945.0,
          1
         ]
        ],
        [
         465487,
         "ronaldpeters@sanchez.com",
         1593869705989538,
         3,
         1997.1,
         3,
         [
          "NEWBED10",
          "M_STAN_K",
          "Standard King Mattress",
          1075.5,
          1195.0,
          1
         ]
        ],
        [
         465487,
         "ronaldpeters@sanchez.com",
         1593869705989538,
         3,
         1997.1,
         3,
         [
          "NEWBED10",
          "P_FOAM_K",
          "King Foam Pillow",
          71.10000000000001,
          79.0,
          1
         ]
        ],
        [
         455803,
         "michellewilson@duffy.biz",
         1593793933771391,
         1,
         850.5,
         1,
         [
          "NEWBED10",
          "M_STAN_F",
          "Standard Full Mattress",
          850.5,
          945.0,
          1
         ]
        ],
        [
         451613,
         "gshaffer@juarez.com",
         1593756258579638,
         1,
         535.5,
         1,
         [
          "NEWBED10",
          "M_STAN_T",
          "Standard Twin Mattress",
          535.5,
          595.0,
          1
         ]
        ],
        [
         424102,
         "oromero91@gmail.com",
         1593548038350305,
         1,
         985.5,
         1,
         [
          "NEWBED10",
          "M_PREM_T",
          "Premium Twin Mattress",
          985.5,
          1095.0,
          1
         ]
        ],
        [
         444113,
         "oconnorronnie@lopez.com",
         1593707429235799,
         2,
         588.6,
         2,
         [
          "NEWBED10",
          "M_STAN_T",
          "Standard Twin Mattress",
          535.5,
          595.0,
          1
         ]
        ],
        [
         444113,
         "oconnorronnie@lopez.com",
         1593707429235799,
         2,
         588.6,
         2,
         [
          "NEWBED10",
          "P_FOAM_S",
          "Standard Foam Pillow",
          53.1,
          59.0,
          1
         ]
        ],
        [
         462815,
         "ywilliamson@mitchell.com",
         1593844092381721,
         1,
         535.5,
         1,
         [
          "NEWBED10",
          "M_STAN_T",
          "Standard Twin Mattress",
          535.5,
          595.0,
          1
         ]
        ],
        [
         461461,
         "hernandezscott@weiss.com",
         1593824613575709,
         1,
         940.5,
         1,
         [
          "NEWBED10",
          "M_STAN_Q",
          "Standard Queen Mattress",
          940.5,
          1045.0,
          1
         ]
        ],
        [
         463123,
         "joycecampbell@yahoo.com",
         1593849080237848,
         1,
         1795.5,
         1,
         [
          "NEWBED10",
          "M_PREM_K",
          "Premium King Mattress",
          1795.5,
          1995.0,
          1
         ]
        ],
        [
         284028,
         "myersdaniel@torres.com",
         1592511128106364,
         1,
         985.5,
         1,
         [
          "NEWBED10",
          "M_PREM_T",
          "Premium Twin Mattress",
          985.5,
          1095.0,
          1
         ]
        ],
        [
         285525,
         "ashley5035@gmail.com",
         1592520591892856,
         1,
         53.1,
         1,
         [
          "NEWBED10",
          "P_FOAM_S",
          "Standard Foam Pillow",
          53.1,
          59.0,
          1
         ]
        ],
        [
         292025,
         "lauren0110@gmail.com",
         1592585277807768,
         1,
         1795.5,
         1,
         [
          "NEWBED10",
          "M_PREM_K",
          "Premium King Mattress",
          1795.5,
          1995.0,
          1
         ]
        ],
        [
         303728,
         "youngblake@gmail.com",
         1592669050275025,
         1,
         940.5,
         1,
         [
          "NEWBED10",
          "M_STAN_Q",
          "Standard Queen Mattress",
          940.5,
          1045.0,
          1
         ]
        ],
        [
         286679,
         "huertabruce@yahoo.com",
         1592532362353165,
         1,
         940.5,
         1,
         [
          "NEWBED10",
          "M_STAN_Q",
          "Standard Queen Mattress",
          940.5,
          1045.0,
          1
         ]
        ],
        [
         289206,
         "cortezleslie@wolf-carpenter.com",
         1592569725079667,
         1,
         1075.5,
         1,
         [
          "NEWBED10",
          "M_STAN_K",
          "Standard King Mattress",
          1075.5,
          1195.0,
          1
         ]
        ],
        [
         286745,
         "jenningsmark@johnson.com",
         1592533250296836,
         1,
         1075.5,
         1,
         [
          "NEWBED10",
          "M_STAN_K",
          "Standard King Mattress",
          1075.5,
          1195.0,
          1
         ]
        ],
        [
         288305,
         "carolwells@jones-callahan.net",
         1592560575236688,
         1,
         1615.5,
         1,
         [
          "NEWBED10",
          "M_PREM_Q",
          "Premium Queen Mattress",
          1615.5,
          1795.0,
          1
         ]
        ],
        [
         291248,
         "wattschristopher@yahoo.com",
         1592581960877065,
         2,
         1722.6,
         2,
         [
          "NEWBED10",
          "M_PREM_Q",
          "Premium Queen Mattress",
          1615.5,
          1795.0,
          1
         ]
        ],
        [
         291248,
         "wattschristopher@yahoo.com",
         1592581960877065,
         2,
         1722.6,
         2,
         [
          "NEWBED10",
          "P_DOWN_S",
          "Standard Down Pillow",
          107.10000000000001,
          119.0,
          1
         ]
        ],
        [
         288038,
         "sandra77@williams.biz",
         1592556345126710,
         1,
         1075.5,
         1,
         [
          "NEWBED10",
          "M_STAN_K",
          "Standard King Mattress",
          1075.5,
          1195.0,
          1
         ]
        ],
        [
         298746,
         "browncurtis@sims.com",
         1592631990019508,
         1,
         53.1,
         1,
         [
          "NEWBED10",
          "P_FOAM_S",
          "Standard Foam Pillow",
          53.1,
          59.0,
          1
         ]
        ],
        [
         310346,
         "desiree37@hotmail.com",
         1592696564562665,
         1,
         940.5,
         1,
         [
          "NEWBED10",
          "M_STAN_Q",
          "Standard Queen Mattress",
          940.5,
          1045.0,
          1
         ]
        ],
        [
         319112,
         "kathryn60@richardson.org",
         1592764390933116,
         1,
         940.5,
         1,
         [
          "NEWBED10",
          "M_STAN_Q",
          "Standard Queen Mattress",
          940.5,
          1045.0,
          1
         ]
        ],
        [
         339342,
         "vanessaschmidt@martinez.com",
         1592922285946161,
         2,
         588.6,
         2,
         [
          "NEWBED10",
          "M_STAN_T",
          "Standard Twin Mattress",
          535.5,
          595.0,
          1
         ]
        ],
        [
         339342,
         "vanessaschmidt@martinez.com",
         1592922285946161,
         2,
         588.6,
         2,
         [
          "NEWBED10",
          "P_FOAM_S",
          "Standard Foam Pillow",
          53.1,
          59.0,
          1
         ]
        ],
        [
         325638,
         "contrerasjoel57@gmail.com",
         1592818450118735,
         1,
         940.5,
         1,
         [
          "NEWBED10",
          "M_STAN_Q",
          "Standard Queen Mattress",
          940.5,
          1045.0,
          1
         ]
        ],
        [
         336086,
         "moorekevin@arroyo.com",
         1592891354553084,
         1,
         1615.5,
         1,
         [
          "NEWBED10",
          "M_PREM_Q",
          "Premium Queen Mattress",
          1615.5,
          1795.0,
          1
         ]
        ],
        [
         327812,
         "john1591@hotmail.com",
         1592836833593130,
         1,
         535.5,
         1,
         [
          "NEWBED10",
          "M_STAN_T",
          "Standard Twin Mattress",
          535.5,
          595.0,
          1
         ]
        ],
        [
         372000,
         "jane51@gmail.com",
         1593161385864676,
         1,
         850.5,
         1,
         [
          "NEWBED10",
          "M_STAN_F",
          "Standard Full Mattress",
          850.5,
          945.0,
          1
         ]
        ],
        [
         347096,
         "mark09@pineda.com",
         1592960666205148,
         1,
         1795.5,
         1,
         [
          "NEWBED10",
          "M_PREM_K",
          "Premium King Mattress",
          1795.5,
          1995.0,
          1
         ]
        ],
        [
         369545,
         "dsherman@nelson-perez.info",
         1593128445251193,
         1,
         985.5,
         1,
         [
          "NEWBED10",
          "M_PREM_T",
          "Premium Twin Mattress",
          985.5,
          1095.0,
          1
         ]
        ],
        [
         376324,
         "wherman@yahoo.com",
         1593192527629087,
         1,
         940.5,
         1,
         [
          "NEWBED10",
          "M_STAN_Q",
          "Standard Queen Mattress",
          940.5,
          1045.0,
          1
         ]
        ],
        [
         391805,
         "goodwinjustin@gmail.com",
         1593296138470766,
         1,
         940.5,
         1,
         [
          "NEWBED10",
          "M_STAN_Q",
          "Standard Queen Mattress",
          940.5,
          1045.0,
          1
         ]
        ],
        [
         377652,
         "espinozaandrea@hotmail.com",
         1593198856625800,
         1,
         71.10000000000001,
         1,
         [
          "NEWBED10",
          "P_FOAM_K",
          "King Foam Pillow",
          71.10000000000001,
          79.0,
          1
         ]
        ],
        [
         354142,
         "marie90@davis.com",
         1593019602591436,
         1,
         535.5,
         1,
         [
          "NEWBED10",
          "M_STAN_T",
          "Standard Twin Mattress",
          535.5,
          595.0,
          1
         ]
        ],
        [
         383089,
         "joseph07@burke.com",
         1593253372969632,
         1,
         940.5,
         1,
         [
          "NEWBED10",
          "M_STAN_Q",
          "Standard Queen Mattress",
          940.5,
          1045.0,
          1
         ]
        ],
        [
         378588,
         "tylermiller@bender.com",
         1593203702828757,
         1,
         850.5,
         1,
         [
          "NEWBED10",
          "M_STAN_F",
          "Standard Full Mattress",
          850.5,
          945.0,
          1
         ]
        ],
        [
         384058,
         "bridgesnicholas@gmail.com",
         1593261542623087,
         1,
         1615.5,
         1,
         [
          "NEWBED10",
          "M_PREM_Q",
          "Premium Queen Mattress",
          1615.5,
          1795.0,
          1
         ]
        ],
        [
         372158,
         "revans@hotmail.com",
         1593163643926605,
         1,
         940.5,
         1,
         [
          "NEWBED10",
          "M_STAN_Q",
          "Standard Queen Mattress",
          940.5,
          1045.0,
          1
         ]
        ],
        [
         393293,
         "christina77@tanner-cohen.com",
         1593307184113803,
         1,
         940.5,
         1,
         [
          "NEWBED10",
          "M_STAN_Q",
          "Standard Queen Mattress",
          940.5,
          1045.0,
          1
         ]
        ],
        [
         383566,
         "tammy14@watson.com",
         1593257844338691,
         1,
         850.5,
         1,
         [
          "NEWBED10",
          "M_STAN_F",
          "Standard Full Mattress",
          850.5,
          945.0,
          1
         ]
        ],
        [
         381602,
         "qford@hotmail.com",
         1593230727983518,
         1,
         53.1,
         1,
         [
          "NEWBED10",
          "P_FOAM_S",
          "Standard Foam Pillow",
          53.1,
          59.0,
          1
         ]
        ],
        [
         411612,
         "cmiller21@yahoo.com",
         1593456636564212,
         1,
         985.5,
         1,
         [
          "NEWBED10",
          "M_PREM_T",
          "Premium Twin Mattress",
          985.5,
          1095.0,
          1
         ]
        ],
        [
         404653,
         "kcampbell5@yahoo.com",
         1593393467864628,
         1,
         535.5,
         1,
         [
          "NEWBED10",
          "M_STAN_T",
          "Standard Twin Mattress",
          535.5,
          595.0,
          1
         ]
        ],
        [
         392975,
         "evelyn97@spencer.com",
         1593304221966683,
         2,
         588.6,
         2,
         [
          "NEWBED10",
          "M_STAN_T",
          "Standard Twin Mattress",
          535.5,
          595.0,
          1
         ]
        ],
        [
         392975,
         "evelyn97@spencer.com",
         1593304221966683,
         2,
         588.6,
         2,
         [
          "NEWBED10",
          "P_FOAM_S",
          "Standard Foam Pillow",
          53.1,
          59.0,
          1
         ]
        ],
        [
         393775,
         "cjames@beck-berry.biz",
         1593313795514562,
         2,
         642.6,
         2,
         [
          "NEWBED10",
          "M_STAN_T",
          "Standard Twin Mattress",
          535.5,
          595.0,
          1
         ]
        ],
        [
         393775,
         "cjames@beck-berry.biz",
         1593313795514562,
         2,
         642.6,
         2,
         [
          "NEWBED10",
          "P_DOWN_S",
          "Standard Down Pillow",
          107.10000000000001,
          119.0,
          1
         ]
        ],
        [
         438094,
         "jacobcohen@hotmail.com",
         1593655035233860,
         1,
         1075.5,
         1,
         [
          "NEWBED10",
          "M_STAN_K",
          "Standard King Mattress",
          1075.5,
          1195.0,
          1
         ]
        ],
        [
         415135,
         "osmith@edwards-young.info",
         1593480465019171,
         1,
         535.5,
         1,
         [
          "NEWBED10",
          "M_STAN_T",
          "Standard Twin Mattress",
          535.5,
          595.0,
          1
         ]
        ],
        [
         416427,
         "michael3195@yahoo.com",
         1593498951165237,
         1,
         850.5,
         1,
         [
          "NEWBED10",
          "M_STAN_F",
          "Standard Full Mattress",
          850.5,
          945.0,
          1
         ]
        ],
        [
         447090,
         "seanpena@yahoo.com",
         1593719061093592,
         1,
         940.5,
         1,
         [
          "NEWBED10",
          "M_STAN_Q",
          "Standard Queen Mattress",
          940.5,
          1045.0,
          1
         ]
        ],
        [
         437533,
         "derekperkins@yahoo.com",
         1593648944334986,
         1,
         53.1,
         1,
         [
          "NEWBED10",
          "P_FOAM_S",
          "Standard Foam Pillow",
          53.1,
          59.0,
          1
         ]
        ],
        [
         444480,
         "susandavis@michael-cardenas.org",
         1593709017630438,
         1,
         940.5,
         1,
         [
          "NEWBED10",
          "M_STAN_Q",
          "Standard Queen Mattress",
          940.5,
          1045.0,
          1
         ]
        ],
        [
         430569,
         "logan36@hotmail.com",
         1593610148506645,
         1,
         53.1,
         1,
         [
          "NEWBED10",
          "P_FOAM_S",
          "Standard Foam Pillow",
          53.1,
          59.0,
          1
         ]
        ],
        [
         449340,
         "williamschristopher@mcknight.biz",
         1593730608382367,
         1,
         940.5,
         1,
         [
          "NEWBED10",
          "M_STAN_Q",
          "Standard Queen Mattress",
          940.5,
          1045.0,
          1
         ]
        ],
        [
         436715,
         "maxwellfoley@gmail.com",
         1593642710854308,
         1,
         1795.5,
         1,
         [
          "NEWBED10",
          "M_PREM_K",
          "Premium King Mattress",
          1795.5,
          1995.0,
          1
         ]
        ],
        [
         438448,
         "scottalison@yahoo.com",
         1593659176052992,
         1,
         850.5,
         1,
         [
          "NEWBED10",
          "M_STAN_F",
          "Standard Full Mattress",
          850.5,
          945.0,
          1
         ]
        ],
        [
         451979,
         "fbennett@hopkins.com",
         1593762440614008,
         1,
         985.5,
         1,
         [
          "NEWBED10",
          "M_PREM_T",
          "Premium Twin Mattress",
          985.5,
          1095.0,
          1
         ]
        ],
        [
         454645,
         "christopher06@meyer-wright.com",
         1593787872731108,
         1,
         535.5,
         1,
         [
          "NEWBED10",
          "M_STAN_T",
          "Standard Twin Mattress",
          535.5,
          595.0,
          1
         ]
        ],
        [
         432063,
         "perkinsmarie@hotmail.com",
         1593618772313364,
         1,
         107.10000000000001,
         1,
         [
          "NEWBED10",
          "P_DOWN_S",
          "Standard Down Pillow",
          107.10000000000001,
          119.0,
          1
         ]
        ],
        [
         286768,
         "courtney56@yahoo.com",
         1592533690688069,
         1,
         940.5,
         1,
         [
          "NEWBED10",
          "M_STAN_Q",
          "Standard Queen Mattress",
          940.5,
          1045.0,
          1
         ]
        ],
        [
         304163,
         "stephenterry@hotmail.com",
         1592670738381717,
         1,
         535.5,
         1,
         [
          "NEWBED10",
          "M_STAN_T",
          "Standard Twin Mattress",
          535.5,
          595.0,
          1
         ]
        ],
        [
         298684,
         "dennisdickerson@hotmail.com",
         1592630962320536,
         1,
         71.10000000000001,
         1,
         [
          "NEWBED10",
          "P_FOAM_K",
          "King Foam Pillow",
          71.10000000000001,
          79.0,
          1
         ]
        ],
        [
         338136,
         "devin77@owens.net",
         1592914751254583,
         1,
         985.5,
         1,
         [
          "NEWBED10",
          "M_PREM_T",
          "Premium Twin Mattress",
          985.5,
          1095.0,
          1
         ]
        ],
        [
         335634,
         "sheilahampton@bond.info",
         1592885203620951,
         1,
         940.5,
         1,
         [
          "NEWBED10",
          "M_STAN_Q",
          "Standard Queen Mattress",
          940.5,
          1045.0,
          1
         ]
        ],
        [
         346346,
         "stephanieroberts42@hotmail.com",
         1592954727584404,
         1,
         940.5,
         1,
         [
          "NEWBED10",
          "M_STAN_Q",
          "Standard Queen Mattress",
          940.5,
          1045.0,
          1
         ]
        ],
        [
         343487,
         "myang32@hotmail.com",
         1592940186422942,
         2,
         642.6,
         2,
         [
          "NEWBED10",
          "M_STAN_T",
          "Standard Twin Mattress",
          535.5,
          595.0,
          1
         ]
        ],
        [
         343487,
         "myang32@hotmail.com",
         1592940186422942,
         2,
         642.6,
         2,
         [
          "NEWBED10",
          "P_DOWN_S",
          "Standard Down Pillow",
          107.10000000000001,
          119.0,
          1
         ]
        ],
        [
         326012,
         "ewalker@romero-wong.com",
         1592823071703435,
         1,
         535.5,
         1,
         [
          "NEWBED10",
          "M_STAN_T",
          "Standard Twin Mattress",
          535.5,
          595.0,
          1
         ]
        ],
        [
         354371,
         "brooksashley@dillon.org",
         1593020657228034,
         2,
         2556.0,
         2,
         [
          "NEWBED10",
          "M_PREM_Q",
          "Premium Queen Mattress",
          1615.5,
          1795.0,
          1
         ]
        ],
        [
         354371,
         "brooksashley@dillon.org",
         1593020657228034,
         2,
         2556.0,
         2,
         [
          "NEWBED10",
          "M_STAN_Q",
          "Standard Queen Mattress",
          940.5,
          1045.0,
          1
         ]
        ],
        [
         339828,
         "teresachoi@hotmail.com",
         1592924694562487,
         1,
         1075.5,
         1,
         [
          "NEWBED10",
          "M_STAN_K",
          "Standard King Mattress",
          1075.5,
          1195.0,
          1
         ]
        ],
        [
         347829,
         "thatfield@hotmail.com",
         1592967687432403,
         1,
         535.5,
         1,
         [
          "NEWBED10",
          "M_STAN_T",
          "Standard Twin Mattress",
          535.5,
          595.0,
          1
         ]
        ],
        [
         348882,
         "alexandria76@gmail.com",
         1592981055955237,
         1,
         1075.5,
         1,
         [
          "NEWBED10",
          "M_STAN_K",
          "Standard King Mattress",
          1075.5,
          1195.0,
          1
         ]
        ],
        [
         360072,
         "robert76@richmond.biz",
         1593059073181941,
         1,
         535.5,
         1,
         [
          "NEWBED10",
          "M_STAN_T",
          "Standard Twin Mattress",
          535.5,
          595.0,
          1
         ]
        ],
        [
         347116,
         "hammondzachary@hotmail.com",
         1592960842443584,
         1,
         940.5,
         1,
         [
          "NEWBED10",
          "M_STAN_Q",
          "Standard Queen Mattress",
          940.5,
          1045.0,
          1
         ]
        ],
        [
         356576,
         "larryrandall@hotmail.com",
         1593030505659865,
         1,
         940.5,
         1,
         [
          "NEWBED10",
          "M_STAN_Q",
          "Standard Queen Mattress",
          940.5,
          1045.0,
          1
         ]
        ],
        [
         347810,
         "vwilson88@hotmail.com",
         1592967447525626,
         1,
         53.1,
         1,
         [
          "NEWBED10",
          "P_FOAM_S",
          "Standard Foam Pillow",
          53.1,
          59.0,
          1
         ]
        ],
        [
         348263,
         "amanda68@lane-kirby.com",
         1592972705696645,
         1,
         850.5,
         1,
         [
          "NEWBED10",
          "M_STAN_F",
          "Standard Full Mattress",
          850.5,
          945.0,
          1
         ]
        ],
        [
         349779,
         "sstafford@yahoo.com",
         1592992594056097,
         1,
         1795.5,
         1,
         [
          "NEWBED10",
          "M_PREM_K",
          "Premium King Mattress",
          1795.5,
          1995.0,
          1
         ]
        ],
        [
         338595,
         "sarahreynolds27@hotmail.com",
         1592917985053876,
         1,
         143.1,
         1,
         [
          "NEWBED10",
          "P_DOWN_K",
          "King Down Pillow",
          143.1,
          159.0,
          1
         ]
        ],
        [
         349413,
         "gbutler@atkinson.org",
         1592987962281106,
         1,
         940.5,
         1,
         [
          "NEWBED10",
          "M_STAN_Q",
          "Standard Queen Mattress",
          940.5,
          1045.0,
          1
         ]
        ],
        [
         361940,
         "cunninghamchristopher@jenkins.com",
         1593084344450907,
         1,
         940.5,
         1,
         [
          "NEWBED10",
          "M_STAN_Q",
          "Standard Queen Mattress",
          940.5,
          1045.0,
          1
         ]
        ],
        [
         393998,
         "harrisdebra@carson.com",
         1593317430105244,
         1,
         1615.5,
         1,
         [
          "NEWBED10",
          "M_PREM_Q",
          "Premium Queen Mattress",
          1615.5,
          1795.0,
          1
         ]
        ],
        [
         402365,
         "zgardner@hotmail.com",
         1593377640709495,
         1,
         53.1,
         1,
         [
          "NEWBED10",
          "P_FOAM_S",
          "Standard Foam Pillow",
          53.1,
          59.0,
          1
         ]
        ],
        [
         370471,
         "cherylmoore@ortega.com",
         1593137955208814,
         3,
         1988.1,
         2,
         [
          "NEWBED10",
          "M_STAN_Q",
          "Standard Queen Mattress",
          1881.0,
          1045.0,
          2
         ]
        ],
        [
         370471,
         "cherylmoore@ortega.com",
         1593137955208814,
         3,
         1988.1,
         2,
         [
          "NEWBED10",
          "P_DOWN_S",
          "Standard Down Pillow",
          107.10000000000001,
          119.0,
          1
         ]
        ],
        [
         376818,
         "jonestammie@castillo.com",
         1593194772360446,
         1,
         940.5,
         1,
         [
          "NEWBED10",
          "M_STAN_Q",
          "Standard Queen Mattress",
          940.5,
          1045.0,
          1
         ]
        ],
        [
         396792,
         "qwarren@hotmail.com",
         1593350714501581,
         1,
         535.5,
         1,
         [
          "NEWBED10",
          "M_STAN_T",
          "Standard Twin Mattress",
          535.5,
          595.0,
          1
         ]
        ],
        [
         392813,
         "millerpeter@kelley.net",
         1593302900514077,
         1,
         940.5,
         1,
         [
          "NEWBED10",
          "M_STAN_Q",
          "Standard Queen Mattress",
          940.5,
          1045.0,
          1
         ]
        ],
        [
         374960,
         "dustin00@hotmail.com",
         1593185675836660,
         1,
         535.5,
         1,
         [
          "NEWBED10",
          "M_STAN_T",
          "Standard Twin Mattress",
          535.5,
          595.0,
          1
         ]
        ],
        [
         379398,
         "mataelizabeth@clark-ross.biz",
         1593208271162777,
         1,
         535.5,
         1,
         [
          "NEWBED10",
          "M_STAN_T",
          "Standard Twin Mattress",
          535.5,
          595.0,
          1
         ]
        ],
        [
         405736,
         "jamieescobar@hotmail.com",
         1593407919785969,
         1,
         940.5,
         1,
         [
          "NEWBED10",
          "M_STAN_Q",
          "Standard Queen Mattress",
          940.5,
          1045.0,
          1
         ]
        ],
        [
         410504,
         "ngreene@gmail.com",
         1593451297255328,
         3,
         1124.1,
         2,
         [
          "NEWBED10",
          "M_STAN_T",
          "Standard Twin Mattress",
          1071.0,
          595.0,
          2
         ]
        ],
        [
         410504,
         "ngreene@gmail.com",
         1593451297255328,
         3,
         1124.1,
         2,
         [
          "NEWBED10",
          "P_FOAM_S",
          "Standard Foam Pillow",
          53.1,
          59.0,
          1
         ]
        ],
        [
         397642,
         "ericajohnson@payne-grant.com",
         1593355835166152,
         1,
         535.5,
         1,
         [
          "NEWBED10",
          "M_STAN_T",
          "Standard Twin Mattress",
          535.5,
          595.0,
          1
         ]
        ],
        [
         394004,
         "michael7465@hotmail.com",
         1593317492935556,
         1,
         535.5,
         1,
         [
          "NEWBED10",
          "M_STAN_T",
          "Standard Twin Mattress",
          535.5,
          595.0,
          1
         ]
        ],
        [
         426284,
         "matthewwilson@hotmail.com",
         1593561314275172,
         1,
         940.5,
         1,
         [
          "NEWBED10",
          "M_STAN_Q",
          "Standard Queen Mattress",
          940.5,
          1045.0,
          1
         ]
        ],
        [
         428261,
         "jessica74@hudson-manning.org",
         1593585804477422,
         1,
         535.5,
         1,
         [
          "NEWBED10",
          "M_STAN_T",
          "Standard Twin Mattress",
          535.5,
          595.0,
          1
         ]
        ],
        [
         431338,
         "cgarza@williams.net",
         1593614887393982,
         1,
         1075.5,
         1,
         [
          "NEWBED10",
          "M_STAN_K",
          "Standard King Mattress",
          1075.5,
          1195.0,
          1
         ]
        ],
        [
         432896,
         "zharris@jenkins-mccarty.org",
         1593622606723346,
         1,
         985.5,
         1,
         [
          "NEWBED10",
          "M_PREM_T",
          "Premium Twin Mattress",
          985.5,
          1095.0,
          1
         ]
        ],
        [
         420379,
         "robertjohnson@wu-higgins.com",
         1593531871212384,
         1,
         1525.5,
         1,
         [
          "NEWBED10",
          "M_PREM_F",
          "Premium Full Mattress",
          1525.5,
          1695.0,
          1
         ]
        ],
        [
         439409,
         "curtis81@hotmail.com",
         1593673440775050,
         1,
         1075.5,
         1,
         [
          "NEWBED10",
          "M_STAN_K",
          "Standard King Mattress",
          1075.5,
          1195.0,
          1
         ]
        ],
        [
         411608,
         "willie97@garcia.com",
         1593456620891567,
         1,
         940.5,
         1,
         [
          "NEWBED10",
          "M_STAN_Q",
          "Standard Queen Mattress",
          940.5,
          1045.0,
          1
         ]
        ],
        [
         452734,
         "zimmermanjulia@gmail.com",
         1593773502763097,
         1,
         940.5,
         1,
         [
          "NEWBED10",
          "M_STAN_Q",
          "Standard Queen Mattress",
          940.5,
          1045.0,
          1
         ]
        ],
        [
         445242,
         "danieljones45@gmail.com",
         1593711934733766,
         1,
         535.5,
         1,
         [
          "NEWBED10",
          "M_STAN_T",
          "Standard Twin Mattress",
          535.5,
          595.0,
          1
         ]
        ],
        [
         439579,
         "claytonmatthew@yahoo.com",
         1593675997508795,
         1,
         1075.5,
         1,
         [
          "NEWBED10",
          "M_STAN_K",
          "Standard King Mattress",
          1075.5,
          1195.0,
          1
         ]
        ],
        [
         451913,
         "timothy05@garza.com",
         1593761380508959,
         1,
         985.5,
         1,
         [
          "NEWBED10",
          "M_PREM_T",
          "Premium Twin Mattress",
          985.5,
          1095.0,
          1
         ]
        ],
        [
         458547,
         "meganhansen@charles.info",
         1593806130792705,
         1,
         850.5,
         1,
         [
          "NEWBED10",
          "M_STAN_F",
          "Standard Full Mattress",
          850.5,
          945.0,
          1
         ]
        ],
        [
         462335,
         "jordanrichard@hotmail.com",
         1593836174500231,
         1,
         940.5,
         1,
         [
          "NEWBED10",
          "M_STAN_Q",
          "Standard Queen Mattress",
          940.5,
          1045.0,
          1
         ]
        ],
        [
         290976,
         "mark54@yahoo.com",
         1592580623452231,
         1,
         940.5,
         1,
         [
          "NEWBED10",
          "M_STAN_Q",
          "Standard Queen Mattress",
          940.5,
          1045.0,
          1
         ]
        ],
        [
         285720,
         "brentwarren@gmail.com",
         1592521957022002,
         1,
         535.5,
         1,
         [
          "NEWBED10",
          "M_STAN_T",
          "Standard Twin Mattress",
          535.5,
          595.0,
          1
         ]
        ],
        [
         285217,
         "brownregina67@yahoo.com",
         1592518452323101,
         1,
         53.1,
         1,
         [
          "NEWBED10",
          "P_FOAM_S",
          "Standard Foam Pillow",
          53.1,
          59.0,
          1
         ]
        ],
        [
         314481,
         "thomas7184@hotmail.com",
         1592742886771066,
         1,
         535.5,
         1,
         [
          "NEWBED10",
          "M_STAN_T",
          "Standard Twin Mattress",
          535.5,
          595.0,
          1
         ]
        ],
        [
         302881,
         "garciaadrian@cain-greer.com",
         1592665889717055,
         1,
         1075.5,
         1,
         [
          "NEWBED10",
          "M_STAN_K",
          "Standard King Mattress",
          1075.5,
          1195.0,
          1
         ]
        ],
        [
         311499,
         "wjones@hotmail.com",
         1592706408399361,
         1,
         535.5,
         1,
         [
          "NEWBED10",
          "M_STAN_T",
          "Standard Twin Mattress",
          535.5,
          595.0,
          1
         ]
        ],
        [
         332976,
         "smithkatelyn@dean.com",
         1592861672617017,
         1,
         107.10000000000001,
         1,
         [
          "NEWBED10",
          "P_DOWN_S",
          "Standard Down Pillow",
          107.10000000000001,
          119.0,
          1
         ]
        ],
        [
         346271,
         "brookstrevor@taylor-burton.com",
         1592954199395784,
         1,
         535.5,
         1,
         [
          "NEWBED10",
          "M_STAN_T",
          "Standard Twin Mattress",
          535.5,
          595.0,
          1
         ]
        ],
        [
         335853,
         "hopkinsmiguel@jones.com",
         1592888456548275,
         1,
         1075.5,
         1,
         [
          "NEWBED10",
          "M_STAN_K",
          "Standard King Mattress",
          1075.5,
          1195.0,
          1
         ]
        ],
        [
         325668,
         "sharpamy@yu.biz",
         1592818866263490,
         2,
         1848.6,
         2,
         [
          "NEWBED10",
          "M_PREM_K",
          "Premium King Mattress",
          1795.5,
          1995.0,
          1
         ]
        ],
        [
         325668,
         "sharpamy@yu.biz",
         1592818866263490,
         2,
         1848.6,
         2,
         [
          "NEWBED10",
          "P_FOAM_S",
          "Standard Foam Pillow",
          53.1,
          59.0,
          1
         ]
        ],
        [
         350000,
         "matthew377@yahoo.com",
         1592994954258809,
         1,
         940.5,
         1,
         [
          "NEWBED10",
          "M_STAN_Q",
          "Standard Queen Mattress",
          940.5,
          1045.0,
          1
         ]
        ],
        [
         374036,
         "oandrews@harris-torres.com",
         1593180492949799,
         1,
         850.5,
         1,
         [
          "NEWBED10",
          "M_STAN_F",
          "Standard Full Mattress",
          850.5,
          945.0,
          1
         ]
        ],
        [
         370331,
         "hardyjohn@foster.net",
         1593136325833390,
         1,
         535.5,
         1,
         [
          "NEWBED10",
          "M_STAN_T",
          "Standard Twin Mattress",
          535.5,
          595.0,
          1
         ]
        ],
        [
         374279,
         "jon82@white-jones.biz",
         1593181863432734,
         1,
         940.5,
         1,
         [
          "NEWBED10",
          "M_STAN_Q",
          "Standard Queen Mattress",
          940.5,
          1045.0,
          1
         ]
        ],
        [
         392944,
         "buckleyvalerie@yahoo.com",
         1593304032802181,
         1,
         850.5,
         1,
         [
          "NEWBED10",
          "M_STAN_F",
          "Standard Full Mattress",
          850.5,
          945.0,
          1
         ]
        ],
        [
         386263,
         "lewisrobin@yahoo.com",
         1593272944032127,
         1,
         850.5,
         1,
         [
          "NEWBED10",
          "M_STAN_F",
          "Standard Full Mattress",
          850.5,
          945.0,
          1
         ]
        ],
        [
         403784,
         "christopherlloyd@hotmail.com",
         1593385930680697,
         1,
         1075.5,
         1,
         [
          "NEWBED10",
          "M_STAN_K",
          "Standard King Mattress",
          1075.5,
          1195.0,
          1
         ]
        ],
        [
         392484,
         "montgomeryjohn@ruiz.net",
         1593300439555501,
         1,
         985.5,
         1,
         [
          "NEWBED10",
          "M_PREM_T",
          "Premium Twin Mattress",
          985.5,
          1095.0,
          1
         ]
        ],
        [
         413945,
         "briannelson@washington.com",
         1593469543952416,
         1,
         1795.5,
         1,
         [
          "NEWBED10",
          "M_PREM_K",
          "Premium King Mattress",
          1795.5,
          1995.0,
          1
         ]
        ],
        [
         404512,
         "ryandaniel@baker-garza.info",
         1593392101778699,
         1,
         940.5,
         1,
         [
          "NEWBED10",
          "M_STAN_Q",
          "Standard Queen Mattress",
          940.5,
          1045.0,
          1
         ]
        ],
        [
         397347,
         "asmith@gillespie-willis.com",
         1593354171446327,
         1,
         940.5,
         1,
         [
          "NEWBED10",
          "M_STAN_Q",
          "Standard Queen Mattress",
          940.5,
          1045.0,
          1
         ]
        ],
        [
         403447,
         "grimesstephen@hotmail.com",
         1593383544244607,
         1,
         985.5,
         1,
         [
          "NEWBED10",
          "M_PREM_T",
          "Premium Twin Mattress",
          985.5,
          1095.0,
          1
         ]
        ],
        [
         391584,
         "davischad@ramirez-hughes.com",
         1593294826531861,
         1,
         1075.5,
         1,
         [
          "NEWBED10",
          "M_STAN_K",
          "Standard King Mattress",
          1075.5,
          1195.0,
          1
         ]
        ],
        [
         431928,
         "brandi66@gmail.com",
         1593617994540735,
         1,
         940.5,
         1,
         [
          "NEWBED10",
          "M_STAN_Q",
          "Standard Queen Mattress",
          940.5,
          1045.0,
          1
         ]
        ],
        [
         420313,
         "acostabrianna@jacobs.com",
         1593531491439120,
         1,
         940.5,
         1,
         [
          "NEWBED10",
          "M_STAN_Q",
          "Standard Queen Mattress",
          940.5,
          1045.0,
          1
         ]
        ],
        [
         416603,
         "mitchell36@dennis.info",
         1593501877206491,
         1,
         850.5,
         1,
         [
          "NEWBED10",
          "M_STAN_F",
          "Standard Full Mattress",
          850.5,
          945.0,
          1
         ]
        ],
        [
         426333,
         "wnichols3@yahoo.com",
         1593561749293348,
         1,
         1075.5,
         1,
         [
          "NEWBED10",
          "M_STAN_K",
          "Standard King Mattress",
          1075.5,
          1195.0,
          1
         ]
        ],
        [
         406547,
         "bstewart85@yahoo.com",
         1593420951357359,
         1,
         1075.5,
         1,
         [
          "NEWBED10",
          "M_STAN_K",
          "Standard King Mattress",
          1075.5,
          1195.0,
          1
         ]
        ],
        [
         436303,
         "patrick53@yahoo.com",
         1593639942697117,
         1,
         535.5,
         1,
         [
          "NEWBED10",
          "M_STAN_T",
          "Standard Twin Mattress",
          535.5,
          595.0,
          1
         ]
        ],
        [
         439019,
         "mmiller@clay-shaw.net",
         1593667576455372,
         1,
         1795.5,
         1,
         [
          "NEWBED10",
          "M_PREM_K",
          "Premium King Mattress",
          1795.5,
          1995.0,
          1
         ]
        ],
        [
         421791,
         "bowens@rogers.org",
         1593538225853405,
         1,
         940.5,
         1,
         [
          "NEWBED10",
          "M_STAN_Q",
          "Standard Queen Mattress",
          940.5,
          1045.0,
          1
         ]
        ],
        [
         461217,
         "yrobinson84@gmail.com",
         1593822157650358,
         1,
         1615.5,
         1,
         [
          "NEWBED10",
          "M_PREM_Q",
          "Premium Queen Mattress",
          1615.5,
          1795.0,
          1
         ]
        ],
        [
         465548,
         "wheelerjose@singh.org",
         1593870087420374,
         1,
         535.5,
         1,
         [
          "NEWBED10",
          "M_STAN_T",
          "Standard Twin Mattress",
          535.5,
          595.0,
          1
         ]
        ],
        [
         447782,
         "kerrcatherine@hotmail.com",
         1593722199057979,
         1,
         1075.5,
         1,
         [
          "NEWBED10",
          "M_STAN_K",
          "Standard King Mattress",
          1075.5,
          1195.0,
          1
         ]
        ],
        [
         464062,
         "ebuck@hotmail.com",
         1593859684522098,
         1,
         850.5,
         1,
         [
          "NEWBED10",
          "M_STAN_F",
          "Standard Full Mattress",
          850.5,
          945.0,
          1
         ]
        ],
        [
         453699,
         "rpatterson91@hotmail.com",
         1593782479737261,
         1,
         1075.5,
         1,
         [
          "NEWBED10",
          "M_STAN_K",
          "Standard King Mattress",
          1075.5,
          1195.0,
          1
         ]
        ],
        [
         452763,
         "bcooper15@hotmail.com",
         1593773787991027,
         1,
         850.5,
         1,
         [
          "NEWBED10",
          "M_STAN_F",
          "Standard Full Mattress",
          850.5,
          945.0,
          1
         ]
        ],
        [
         454712,
         "kyle90@newman-brown.com",
         1593788221032555,
         1,
         940.5,
         1,
         [
          "NEWBED10",
          "M_STAN_Q",
          "Standard Queen Mattress",
          940.5,
          1045.0,
          1
         ]
        ],
        [
         461536,
         "brad63@yahoo.com",
         1593825636737164,
         2,
         606.6,
         2,
         [
          "NEWBED10",
          "M_STAN_T",
          "Standard Twin Mattress",
          535.5,
          595.0,
          1
         ]
        ],
        [
         461536,
         "brad63@yahoo.com",
         1593825636737164,
         2,
         606.6,
         2,
         [
          "NEWBED10",
          "P_FOAM_K",
          "King Foam Pillow",
          71.10000000000001,
          79.0,
          1
         ]
        ],
        [
         289765,
         "charris35@hotmail.com",
         1592573800594854,
         1,
         1075.5,
         1,
         [
          "NEWBED10",
          "M_STAN_K",
          "Standard King Mattress",
          1075.5,
          1195.0,
          1
         ]
        ],
        [
         270227,
         "nicholsonryan@yahoo.com",
         1592356761826313,
         1,
         985.5,
         1,
         [
          "NEWBED10",
          "M_PREM_T",
          "Premium Twin Mattress",
          985.5,
          1095.0,
          1
         ]
        ],
        [
         286190,
         "darrellhughes@miranda.com",
         1592526466925272,
         1,
         1075.5,
         1,
         [
          "NEWBED10",
          "M_STAN_K",
          "Standard King Mattress",
          1075.5,
          1195.0,
          1
         ]
        ],
        [
         282235,
         "katherine88@hotmail.com",
         1592502221312732,
         1,
         535.5,
         1,
         [
          "NEWBED10",
          "M_STAN_T",
          "Standard Twin Mattress",
          535.5,
          595.0,
          1
         ]
        ],
        [
         279650,
         "tzimmerman@parker-stanton.com",
         1592487358314141,
         2,
         2151.0,
         1,
         [
          "NEWBED10",
          "M_STAN_K",
          "Standard King Mattress",
          2151.0,
          1195.0,
          2
         ]
        ],
        [
         284972,
         "gmcmahon@gmail.com",
         1592516663049576,
         1,
         1075.5,
         1,
         [
          "NEWBED10",
          "M_STAN_K",
          "Standard King Mattress",
          1075.5,
          1195.0,
          1
         ]
        ],
        [
         304613,
         "pfox55@hotmail.com",
         1592672311877721,
         2,
         1128.6,
         2,
         [
          "NEWBED10",
          "M_STAN_K",
          "Standard King Mattress",
          1075.5,
          1195.0,
          1
         ]
        ],
        [
         304613,
         "pfox55@hotmail.com",
         1592672311877721,
         2,
         1128.6,
         2,
         [
          "NEWBED10",
          "P_FOAM_S",
          "Standard Foam Pillow",
          53.1,
          59.0,
          1
         ]
        ],
        [
         281332,
         "taylorjohn@mooney.com",
         1592497601762686,
         1,
         940.5,
         1,
         [
          "NEWBED10",
          "M_STAN_Q",
          "Standard Queen Mattress",
          940.5,
          1045.0,
          1
         ]
        ],
        [
         309544,
         "jamie57@yahoo.com",
         1592691667894835,
         2,
         588.6,
         2,
         [
          "NEWBED10",
          "M_STAN_T",
          "Standard Twin Mattress",
          535.5,
          595.0,
          1
         ]
        ],
        [
         309544,
         "jamie57@yahoo.com",
         1592691667894835,
         2,
         588.6,
         2,
         [
          "NEWBED10",
          "P_FOAM_S",
          "Standard Foam Pillow",
          53.1,
          59.0,
          1
         ]
        ],
        [
         298298,
         "pachecojoshua@burton.com",
         1592624583537949,
         1,
         940.5,
         1,
         [
          "NEWBED10",
          "M_STAN_Q",
          "Standard Queen Mattress",
          940.5,
          1045.0,
          1
         ]
        ],
        [
         274093,
         "cbarton4@hotmail.com",
         1592417257733488,
         2,
         642.6,
         2,
         [
          "NEWBED10",
          "M_STAN_T",
          "Standard Twin Mattress",
          535.5,
          595.0,
          1
         ]
        ],
        [
         274093,
         "cbarton4@hotmail.com",
         1592417257733488,
         2,
         642.6,
         2,
         [
          "NEWBED10",
          "P_DOWN_S",
          "Standard Down Pillow",
          107.10000000000001,
          119.0,
          1
         ]
        ],
        [
         299097,
         "zwagner@myers-bailey.com",
         1592638295891140,
         1,
         940.5,
         1,
         [
          "NEWBED10",
          "M_STAN_Q",
          "Standard Queen Mattress",
          940.5,
          1045.0,
          1
         ]
        ],
        [
         287886,
         "laura27@estrada.net",
         1592553659255722,
         1,
         1795.5,
         1,
         [
          "NEWBED10",
          "M_PREM_K",
          "Premium King Mattress",
          1795.5,
          1995.0,
          1
         ]
        ],
        [
         297366,
         "kristina56@edwards.org",
         1592612847401452,
         1,
         940.5,
         1,
         [
          "NEWBED10",
          "M_STAN_Q",
          "Standard Queen Mattress",
          940.5,
          1045.0,
          1
         ]
        ],
        [
         303294,
         "icrawford@parker.biz",
         1592667411126069,
         1,
         1075.5,
         1,
         [
          "NEWBED10",
          "M_STAN_K",
          "Standard King Mattress",
          1075.5,
          1195.0,
          1
         ]
        ],
        [
         310455,
         "brianwalker@meyer.com",
         1592697334711314,
         1,
         535.5,
         1,
         [
          "NEWBED10",
          "M_STAN_T",
          "Standard Twin Mattress",
          535.5,
          595.0,
          1
         ]
        ],
        [
         300745,
         "parkernicole@hudson-murray.com",
         1592655199299094,
         1,
         1525.5,
         1,
         [
          "NEWBED10",
          "M_PREM_F",
          "Premium Full Mattress",
          1525.5,
          1695.0,
          1
         ]
        ],
        [
         312810,
         "jenniferramirez87@yahoo.com",
         1592725693891526,
         1,
         535.5,
         1,
         [
          "NEWBED10",
          "M_STAN_T",
          "Standard Twin Mattress",
          535.5,
          595.0,
          1
         ]
        ],
        [
         339134,
         "thomasthomas@rose.com",
         1592921230506616,
         1,
         535.5,
         1,
         [
          "NEWBED10",
          "M_STAN_T",
          "Standard Twin Mattress",
          535.5,
          595.0,
          1
         ]
        ],
        [
         337686,
         "dflores@parsons.com",
         1592911131354180,
         1,
         940.5,
         1,
         [
          "NEWBED10",
          "M_STAN_Q",
          "Standard Queen Mattress",
          940.5,
          1045.0,
          1
         ]
        ],
        [
         350171,
         "destinycook@gmail.com",
         1592996683893089,
         1,
         71.10000000000001,
         1,
         [
          "NEWBED10",
          "P_FOAM_K",
          "King Foam Pillow",
          71.10000000000001,
          79.0,
          1
         ]
        ],
        [
         361377,
         "douglas50@lopez.org",
         1593077984563010,
         1,
         1795.5,
         1,
         [
          "NEWBED10",
          "M_PREM_K",
          "Premium King Mattress",
          1795.5,
          1995.0,
          1
         ]
        ],
        [
         359654,
         "gloria40@king-parks.info",
         1593053339684773,
         1,
         1615.5,
         1,
         [
          "NEWBED10",
          "M_PREM_Q",
          "Premium Queen Mattress",
          1615.5,
          1795.0,
          1
         ]
        ],
        [
         330125,
         "zjones@fox.info",
         1592848165501631,
         1,
         1075.5,
         1,
         [
          "NEWBED10",
          "M_STAN_K",
          "Standard King Mattress",
          1075.5,
          1195.0,
          1
         ]
        ],
        [
         350981,
         "milesmarie@francis.com",
         1593003161951880,
         1,
         1075.5,
         1,
         [
          "NEWBED10",
          "M_STAN_K",
          "Standard King Mattress",
          1075.5,
          1195.0,
          1
         ]
        ],
        [
         346102,
         "zrowe72@gmail.com",
         1592953148076293,
         1,
         940.5,
         1,
         [
          "NEWBED10",
          "M_STAN_Q",
          "Standard Queen Mattress",
          940.5,
          1045.0,
          1
         ]
        ],
        [
         343215,
         "qbrown@vaughn.com",
         1592938981606331,
         1,
         985.5,
         1,
         [
          "NEWBED10",
          "M_PREM_T",
          "Premium Twin Mattress",
          985.5,
          1095.0,
          1
         ]
        ],
        [
         336122,
         "kathleen11@dunn.com",
         1592891930037927,
         1,
         940.5,
         1,
         [
          "NEWBED10",
          "M_STAN_Q",
          "Standard Queen Mattress",
          940.5,
          1045.0,
          1
         ]
        ],
        [
         324863,
         "howard48@yahoo.com",
         1592806705132813,
         1,
         53.1,
         1,
         [
          "NEWBED10",
          "P_FOAM_S",
          "Standard Foam Pillow",
          53.1,
          59.0,
          1
         ]
        ],
        [
         370849,
         "jacobforbes@gmail.com",
         1593143066998788,
         1,
         850.5,
         1,
         [
          "NEWBED10",
          "M_STAN_F",
          "Standard Full Mattress",
          850.5,
          945.0,
          1
         ]
        ],
        [
         357529,
         "pittsadam@hotmail.com",
         1593035635737848,
         1,
         940.5,
         1,
         [
          "NEWBED10",
          "M_STAN_Q",
          "Standard Queen Mattress",
          940.5,
          1045.0,
          1
         ]
        ],
        [
         370339,
         "tyler1775@yahoo.com",
         1593136447242227,
         1,
         1525.5,
         1,
         [
          "NEWBED10",
          "M_PREM_F",
          "Premium Full Mattress",
          1525.5,
          1695.0,
          1
         ]
        ],
        [
         382438,
         "owalton@jones.net",
         1593244409466108,
         1,
         1075.5,
         1,
         [
          "NEWBED10",
          "M_STAN_K",
          "Standard King Mattress",
          1075.5,
          1195.0,
          1
         ]
        ],
        [
         373267,
         "moorederek@thompson-fields.biz",
         1593175216492810,
         1,
         53.1,
         1,
         [
          "NEWBED10",
          "P_FOAM_S",
          "Standard Foam Pillow",
          53.1,
          59.0,
          1
         ]
        ],
        [
         382797,
         "pgarcia@gutierrez-perez.com",
         1593249792175895,
         1,
         1075.5,
         1,
         [
          "NEWBED10",
          "M_STAN_K",
          "Standard King Mattress",
          1075.5,
          1195.0,
          1
         ]
        ],
        [
         369178,
         "bridgesdanny@yahoo.com",
         1593125431441132,
         1,
         1075.5,
         1,
         [
          "NEWBED10",
          "M_STAN_K",
          "Standard King Mattress",
          1075.5,
          1195.0,
          1
         ]
        ],
        [
         394634,
         "cmonroe@jones.com",
         1593327993779978,
         1,
         940.5,
         1,
         [
          "NEWBED10",
          "M_STAN_Q",
          "Standard Queen Mattress",
          940.5,
          1045.0,
          1
         ]
        ],
        [
         381229,
         "gonzalezamber@daniel.info",
         1593225195475435,
         1,
         535.5,
         1,
         [
          "NEWBED10",
          "M_STAN_T",
          "Standard Twin Mattress",
          535.5,
          595.0,
          1
         ]
        ],
        [
         391526,
         "chase24@hernandez.com",
         1593294519855796,
         1,
         1615.5,
         1,
         [
          "NEWBED10",
          "M_PREM_Q",
          "Premium Queen Mattress",
          1615.5,
          1795.0,
          1
         ]
        ],
        [
         425620,
         "warrenjessica@yahoo.com",
         1593556784004770,
         1,
         535.5,
         1,
         [
          "NEWBED10",
          "M_STAN_T",
          "Standard Twin Mattress",
          535.5,
          595.0,
          1
         ]
        ],
        [
         418748,
         "simonjose@hotmail.com",
         1593523036467943,
         3,
         1718.1,
         3,
         [
          "NEWBED10",
          "M_STAN_K",
          "Standard King Mattress",
          1075.5,
          1195.0,
          1
         ]
        ],
        [
         418748,
         "simonjose@hotmail.com",
         1593523036467943,
         3,
         1718.1,
         3,
         [
          "NEWBED10",
          "M_STAN_T",
          "Standard Twin Mattress",
          535.5,
          595.0,
          1
         ]
        ],
        [
         418748,
         "simonjose@hotmail.com",
         1593523036467943,
         3,
         1718.1,
         3,
         [
          "NEWBED10",
          "P_DOWN_S",
          "Standard Down Pillow",
          107.10000000000001,
          119.0,
          1
         ]
        ],
        [
         405125,
         "simpsonsarah@miller.com",
         1593398803512787,
         1,
         1795.5,
         1,
         [
          "NEWBED10",
          "M_PREM_K",
          "Premium King Mattress",
          1795.5,
          1995.0,
          1
         ]
        ],
        [
         410908,
         "ruth56@gmail.com",
         1593453193565715,
         1,
         985.5,
         1,
         [
          "NEWBED10",
          "M_PREM_T",
          "Premium Twin Mattress",
          985.5,
          1095.0,
          1
         ]
        ],
        [
         438265,
         "penny81@gmail.com",
         1593656903149308,
         1,
         940.5,
         1,
         [
          "NEWBED10",
          "M_STAN_Q",
          "Standard Queen Mattress",
          940.5,
          1045.0,
          1
         ]
        ],
        [
         415157,
         "alicia46@montgomery.org",
         1593480643884834,
         2,
         1632.6,
         2,
         [
          "NEWBED10",
          "M_PREM_F",
          "Premium Full Mattress",
          1525.5,
          1695.0,
          1
         ]
        ],
        [
         415157,
         "alicia46@montgomery.org",
         1593480643884834,
         2,
         1632.6,
         2,
         [
          "NEWBED10",
          "P_DOWN_S",
          "Standard Down Pillow",
          107.10000000000001,
          119.0,
          1
         ]
        ],
        [
         427785,
         "iguzman@davis.biz",
         1593578687101020,
         1,
         850.5,
         1,
         [
          "NEWBED10",
          "M_STAN_F",
          "Standard Full Mattress",
          850.5,
          945.0,
          1
         ]
        ],
        [
         438826,
         "nicholasstanley@hotmail.com",
         1593664651862227,
         1,
         1615.5,
         1,
         [
          "NEWBED10",
          "M_PREM_Q",
          "Premium Queen Mattress",
          1615.5,
          1795.0,
          1
         ]
        ],
        [
         440341,
         "nataliearnold@moore.com",
         1593685891439065,
         1,
         1615.5,
         1,
         [
          "NEWBED10",
          "M_PREM_Q",
          "Premium Queen Mattress",
          1615.5,
          1795.0,
          1
         ]
        ],
        [
         451472,
         "tonysantos@yahoo.com",
         1593753683835250,
         1,
         940.5,
         1,
         [
          "NEWBED10",
          "M_STAN_Q",
          "Standard Queen Mattress",
          940.5,
          1045.0,
          1
         ]
        ],
        [
         464365,
         "courtneyking@henry-santiago.com",
         1593862494273591,
         1,
         985.5,
         1,
         [
          "NEWBED10",
          "M_PREM_T",
          "Premium Twin Mattress",
          985.5,
          1095.0,
          1
         ]
        ],
        [
         458710,
         "rgolden@reed-anderson.com",
         1593806819604309,
         1,
         535.5,
         1,
         [
          "NEWBED10",
          "M_STAN_T",
          "Standard Twin Mattress",
          535.5,
          595.0,
          1
         ]
        ],
        [
         416165,
         "gmurray@lewis-thompson.org",
         1593494723312790,
         1,
         535.5,
         1,
         [
          "NEWBED10",
          "M_STAN_T",
          "Standard Twin Mattress",
          535.5,
          595.0,
          1
         ]
        ],
        [
         436801,
         "gmcgee32@yahoo.com",
         1593643278302622,
         1,
         1075.5,
         1,
         [
          "NEWBED10",
          "M_STAN_K",
          "Standard King Mattress",
          1075.5,
          1195.0,
          1
         ]
        ],
        [
         460772,
         "dominguezmolly@hotmail.com",
         1593818586287989,
         1,
         850.5,
         1,
         [
          "NEWBED10",
          "M_STAN_F",
          "Standard Full Mattress",
          850.5,
          945.0,
          1
         ]
        ],
        [
         438067,
         "wwagner@keller.net",
         1593654694187875,
         1,
         1075.5,
         1,
         [
          "NEWBED10",
          "M_STAN_K",
          "Standard King Mattress",
          1075.5,
          1195.0,
          1
         ]
        ],
        [
         453459,
         "jose68@hotmail.com",
         1593780479870380,
         1,
         107.10000000000001,
         1,
         [
          "NEWBED10",
          "P_DOWN_S",
          "Standard Down Pillow",
          107.10000000000001,
          119.0,
          1
         ]
        ],
        [
         457303,
         "denniskeith@campos.net",
         1593800541496412,
         1,
         535.5,
         1,
         [
          "NEWBED10",
          "M_STAN_T",
          "Standard Twin Mattress",
          535.5,
          595.0,
          1
         ]
        ],
        [
         462535,
         "scottpeters@yahoo.com",
         1593839571400985,
         2,
         642.6,
         2,
         [
          "NEWBED10",
          "M_STAN_T",
          "Standard Twin Mattress",
          535.5,
          595.0,
          1
         ]
        ],
        [
         462535,
         "scottpeters@yahoo.com",
         1593839571400985,
         2,
         642.6,
         2,
         [
          "NEWBED10",
          "P_DOWN_S",
          "Standard Down Pillow",
          107.10000000000001,
          119.0,
          1
         ]
        ],
        [
         296439,
         "michaeljones2@hotmail.com",
         1592606057100882,
         1,
         1615.5,
         1,
         [
          "NEWBED10",
          "M_PREM_Q",
          "Premium Queen Mattress",
          1615.5,
          1795.0,
          1
         ]
        ],
        [
         297828,
         "alejandroneal@gmail.com",
         1592617936031205,
         1,
         850.5,
         1,
         [
          "NEWBED10",
          "M_STAN_F",
          "Standard Full Mattress",
          850.5,
          945.0,
          1
         ]
        ],
        [
         294431,
         "mckinneybenjamin@yahoo.com",
         1592595582477851,
         1,
         1795.5,
         1,
         [
          "NEWBED10",
          "M_PREM_K",
          "Premium King Mattress",
          1795.5,
          1995.0,
          1
         ]
        ],
        [
         311864,
         "vharris9@yahoo.com",
         1592711182410734,
         1,
         535.5,
         1,
         [
          "NEWBED10",
          "M_STAN_T",
          "Standard Twin Mattress",
          535.5,
          595.0,
          1
         ]
        ],
        [
         318541,
         "sharonblake@hunter.info",
         1592762303120390,
         2,
         642.6,
         2,
         [
          "NEWBED10",
          "M_STAN_T",
          "Standard Twin Mattress",
          535.5,
          595.0,
          1
         ]
        ],
        [
         318541,
         "sharonblake@hunter.info",
         1592762303120390,
         2,
         642.6,
         2,
         [
          "NEWBED10",
          "P_DOWN_S",
          "Standard Down Pillow",
          107.10000000000001,
          119.0,
          1
         ]
        ],
        [
         287749,
         "annette97@hotmail.com",
         1592551002839455,
         1,
         940.5,
         1,
         [
          "NEWBED10",
          "M_STAN_Q",
          "Standard Queen Mattress",
          940.5,
          1045.0,
          1
         ]
        ],
        [
         312270,
         "michaelmccormick@moore-choi.com",
         1592717053674777,
         1,
         1075.5,
         1,
         [
          "NEWBED10",
          "M_STAN_K",
          "Standard King Mattress",
          1075.5,
          1195.0,
          1
         ]
        ],
        [
         314705,
         "cdelgado@stewart.com",
         1592744414959757,
         1,
         535.5,
         1,
         [
          "NEWBED10",
          "M_STAN_T",
          "Standard Twin Mattress",
          535.5,
          595.0,
          1
         ]
        ],
        [
         328958,
         "karlalee@thompson.com",
         1592842872071696,
         1,
         1075.5,
         1,
         [
          "NEWBED10",
          "M_STAN_K",
          "Standard King Mattress",
          1075.5,
          1195.0,
          1
         ]
        ],
        [
         346762,
         "gregorywhite@thomas-williams.info",
         1592958034399352,
         1,
         940.5,
         1,
         [
          "NEWBED10",
          "M_STAN_Q",
          "Standard Queen Mattress",
          940.5,
          1045.0,
          1
         ]
        ],
        [
         356910,
         "zjackson@mason.com",
         1593032109871585,
         1,
         1075.5,
         1,
         [
          "NEWBED10",
          "M_STAN_K",
          "Standard King Mattress",
          1075.5,
          1195.0,
          1
         ]
        ],
        [
         329681,
         "sandrasmith@yates-higgins.com",
         1592846250288649,
         1,
         1795.5,
         1,
         [
          "NEWBED10",
          "M_PREM_K",
          "Premium King Mattress",
          1795.5,
          1995.0,
          1
         ]
        ],
        [
         360749,
         "xcarter40@gmail.com",
         1593069212820648,
         1,
         940.5,
         1,
         [
          "NEWBED10",
          "M_STAN_Q",
          "Standard Queen Mattress",
          940.5,
          1045.0,
          1
         ]
        ],
        [
         363664,
         "michelle80@gmail.com",
         1593096134054722,
         1,
         535.5,
         1,
         [
          "NEWBED10",
          "M_STAN_T",
          "Standard Twin Mattress",
          535.5,
          595.0,
          1
         ]
        ],
        [
         358768,
         "victoriarodriguez@hotmail.com",
         1593044027428597,
         1,
         940.5,
         1,
         [
          "NEWBED10",
          "M_STAN_Q",
          "Standard Queen Mattress",
          940.5,
          1045.0,
          1
         ]
        ],
        [
         358014,
         "ycunningham@moore.org",
         1593038471950497,
         1,
         940.5,
         1,
         [
          "NEWBED10",
          "M_STAN_Q",
          "Standard Queen Mattress",
          940.5,
          1045.0,
          1
         ]
        ],
        [
         370987,
         "jeffdixon@cruz-wheeler.org",
         1593145001827490,
         1,
         940.5,
         1,
         [
          "NEWBED10",
          "M_STAN_Q",
          "Standard Queen Mattress",
          940.5,
          1045.0,
          1
         ]
        ],
        [
         380830,
         "ypeterson@palmer.com",
         1593220502004967,
         1,
         535.5,
         1,
         [
          "NEWBED10",
          "M_STAN_T",
          "Standard Twin Mattress",
          535.5,
          595.0,
          1
         ]
        ],
        [
         376431,
         "bsmith@bell.com",
         1593193003901845,
         1,
         535.5,
         1,
         [
          "NEWBED10",
          "M_STAN_T",
          "Standard Twin Mattress",
          535.5,
          595.0,
          1
         ]
        ],
        [
         360185,
         "huffaaron@gmail.com",
         1593060827932635,
         1,
         1075.5,
         1,
         [
          "NEWBED10",
          "M_STAN_K",
          "Standard King Mattress",
          1075.5,
          1195.0,
          1
         ]
        ],
        [
         369506,
         "lindseycharles@erickson.com",
         1593128124725026,
         1,
         940.5,
         1,
         [
          "NEWBED10",
          "M_STAN_Q",
          "Standard Queen Mattress",
          940.5,
          1045.0,
          1
         ]
        ],
        [
         396560,
         "christymullins@gmail.com",
         1593348996397325,
         1,
         940.5,
         1,
         [
          "NEWBED10",
          "M_STAN_Q",
          "Standard Queen Mattress",
          940.5,
          1045.0,
          1
         ]
        ],
        [
         400620,
         "amymartinez@gmail.com",
         1593369301834495,
         3,
         2924.1,
         3,
         [
          "NEWBED10",
          "M_STAN_K",
          "Standard King Mattress",
          1075.5,
          1195.0,
          1
         ]
        ],
        [
         400620,
         "amymartinez@gmail.com",
         1593369301834495,
         3,
         2924.1,
         3,
         [
          "NEWBED10",
          "P_FOAM_S",
          "Standard Foam Pillow",
          53.1,
          59.0,
          1
         ]
        ],
        [
         400620,
         "amymartinez@gmail.com",
         1593369301834495,
         3,
         2924.1,
         3,
         [
          "NEWBED10",
          "M_PREM_K",
          "Premium King Mattress",
          1795.5,
          1995.0,
          1
         ]
        ],
        [
         393276,
         "tylerross@martinez-zimmerman.com",
         1593306990596124,
         1,
         535.5,
         1,
         [
          "NEWBED10",
          "M_STAN_T",
          "Standard Twin Mattress",
          535.5,
          595.0,
          1
         ]
        ],
        [
         387869,
         "victoria5082@gmail.com",
         1593279471308580,
         1,
         1525.5,
         1,
         [
          "NEWBED10",
          "M_PREM_F",
          "Premium Full Mattress",
          1525.5,
          1695.0,
          1
         ]
        ],
        [
         384003,
         "williamssherri@todd-gomez.com",
         1593261230486990,
         2,
         1083.6,
         2,
         [
          "NEWBED10",
          "M_STAN_Q",
          "Standard Queen Mattress",
          940.5,
          1045.0,
          1
         ]
        ],
        [
         384003,
         "williamssherri@todd-gomez.com",
         1593261230486990,
         2,
         1083.6,
         2,
         [
          "NEWBED10",
          "P_DOWN_K",
          "King Down Pillow",
          143.1,
          159.0,
          1
         ]
        ],
        [
         397545,
         "tiffanygonzalez@hotmail.com",
         1593355351128144,
         2,
         2601.0,
         2,
         [
          "NEWBED10",
          "M_STAN_K",
          "Standard King Mattress",
          1075.5,
          1195.0,
          1
         ]
        ],
        [
         397545,
         "tiffanygonzalez@hotmail.com",
         1593355351128144,
         2,
         2601.0,
         2,
         [
          "NEWBED10",
          "M_PREM_F",
          "Premium Full Mattress",
          1525.5,
          1695.0,
          1
         ]
        ],
        [
         406371,
         "tnavarro@hotmail.com",
         1593418162757854,
         1,
         940.5,
         1,
         [
          "NEWBED10",
          "M_STAN_Q",
          "Standard Queen Mattress",
          940.5,
          1045.0,
          1
         ]
        ],
        [
         391348,
         "odomamy@hotmail.com",
         1593293585464982,
         1,
         1525.5,
         1,
         [
          "NEWBED10",
          "M_PREM_F",
          "Premium Full Mattress",
          1525.5,
          1695.0,
          1
         ]
        ],
        [
         395074,
         "ymarshall15@hotmail.com",
         1593334582669359,
         1,
         940.5,
         1,
         [
          "NEWBED10",
          "M_STAN_Q",
          "Standard Queen Mattress",
          940.5,
          1045.0,
          1
         ]
        ],
        [
         417534,
         "changtracy@rivera.com",
         1593513706468481,
         1,
         850.5,
         1,
         [
          "NEWBED10",
          "M_STAN_F",
          "Standard Full Mattress",
          850.5,
          945.0,
          1
         ]
        ],
        [
         405553,
         "laurenlang@torres.biz",
         1593404961536292,
         3,
         2731.5,
         2,
         [
          "NEWBED10",
          "M_STAN_Q",
          "Standard Queen Mattress",
          1881.0,
          1045.0,
          2
         ]
        ],
        [
         405553,
         "laurenlang@torres.biz",
         1593404961536292,
         3,
         2731.5,
         2,
         [
          "NEWBED10",
          "M_STAN_F",
          "Standard Full Mattress",
          850.5,
          945.0,
          1
         ]
        ],
        [
         415536,
         "omartinez18@hotmail.com",
         1593485389857585,
         1,
         850.5,
         1,
         [
          "NEWBED10",
          "M_STAN_F",
          "Standard Full Mattress",
          850.5,
          945.0,
          1
         ]
        ],
        [
         431202,
         "markyoung@hotmail.com",
         1593614056227092,
         1,
         940.5,
         1,
         [
          "NEWBED10",
          "M_STAN_Q",
          "Standard Queen Mattress",
          940.5,
          1045.0,
          1
         ]
        ],
        [
         427366,
         "mary21@johnson.com",
         1593572776017630,
         1,
         1615.5,
         1,
         [
          "NEWBED10",
          "M_PREM_Q",
          "Premium Queen Mattress",
          1615.5,
          1795.0,
          1
         ]
        ],
        [
         450235,
         "mespinoza@hotmail.com",
         1593737840057764,
         1,
         940.5,
         1,
         [
          "NEWBED10",
          "M_STAN_Q",
          "Standard Queen Mattress",
          940.5,
          1045.0,
          1
         ]
        ],
        [
         461897,
         "travis88@mcdowell.com",
         1593829872080569,
         1,
         1795.5,
         1,
         [
          "NEWBED10",
          "M_PREM_K",
          "Premium King Mattress",
          1795.5,
          1995.0,
          1
         ]
        ],
        [
         453267,
         "ashleybrown86@yahoo.com",
         1593778720530164,
         2,
         1128.6,
         2,
         [
          "NEWBED10",
          "M_STAN_K",
          "Standard King Mattress",
          1075.5,
          1195.0,
          1
         ]
        ],
        [
         453267,
         "ashleybrown86@yahoo.com",
         1593778720530164,
         2,
         1128.6,
         2,
         [
          "NEWBED10",
          "P_FOAM_S",
          "Standard Foam Pillow",
          53.1,
          59.0,
          1
         ]
        ],
        [
         460650,
         "cassandralarsen@martinez-torres.net",
         1593817707976819,
         1,
         1075.5,
         1,
         [
          "NEWBED10",
          "M_STAN_K",
          "Standard King Mattress",
          1075.5,
          1195.0,
          1
         ]
        ],
        [
         431804,
         "shelly06@lane.com",
         1593617453051786,
         1,
         535.5,
         1,
         [
          "NEWBED10",
          "M_STAN_T",
          "Standard Twin Mattress",
          535.5,
          595.0,
          1
         ]
        ],
        [
         460511,
         "chelseamelton@yahoo.com",
         1593816656722042,
         1,
         940.5,
         1,
         [
          "NEWBED10",
          "M_STAN_Q",
          "Standard Queen Mattress",
          940.5,
          1045.0,
          1
         ]
        ],
        [
         461203,
         "jacksonstephanie91@yahoo.com",
         1593822053820504,
         1,
         53.1,
         1,
         [
          "NEWBED10",
          "P_FOAM_S",
          "Standard Foam Pillow",
          53.1,
          59.0,
          1
         ]
        ],
        [
         466630,
         "zbrown@gmail.com",
         1593875057104380,
         1,
         107.10000000000001,
         1,
         [
          "NEWBED10",
          "P_DOWN_S",
          "Standard Down Pillow",
          107.10000000000001,
          119.0,
          1
         ]
        ],
        [
         277362,
         "michelleberry89@gmail.com",
         1592444281016350,
         1,
         535.5,
         1,
         [
          "NEWBED10",
          "M_STAN_T",
          "Standard Twin Mattress",
          535.5,
          595.0,
          1
         ]
        ],
        [
         285870,
         "nolanbryan@yahoo.com",
         1592523206384800,
         1,
         535.5,
         1,
         [
          "NEWBED10",
          "M_STAN_T",
          "Standard Twin Mattress",
          535.5,
          595.0,
          1
         ]
        ],
        [
         286650,
         "andrea1316@hotmail.com",
         1592531966567056,
         1,
         71.10000000000001,
         1,
         [
          "NEWBED10",
          "P_FOAM_K",
          "King Foam Pillow",
          71.10000000000001,
          79.0,
          1
         ]
        ],
        [
         309742,
         "selena99@cisneros.net",
         1592692784789834,
         2,
         1071.0,
         1,
         [
          "NEWBED10",
          "M_STAN_T",
          "Standard Twin Mattress",
          1071.0,
          595.0,
          2
         ]
        ],
        [
         310588,
         "courtney51@russell.com",
         1592698259334027,
         1,
         940.5,
         1,
         [
          "NEWBED10",
          "M_STAN_Q",
          "Standard Queen Mattress",
          940.5,
          1045.0,
          1
         ]
        ],
        [
         324837,
         "fsanchez78@yahoo.com",
         1592806337077063,
         1,
         1075.5,
         1,
         [
          "NEWBED10",
          "M_STAN_K",
          "Standard King Mattress",
          1075.5,
          1195.0,
          1
         ]
        ],
        [
         325254,
         "fkim@wilkerson.com",
         1592813023634831,
         1,
         940.5,
         1,
         [
          "NEWBED10",
          "M_STAN_Q",
          "Standard Queen Mattress",
          940.5,
          1045.0,
          1
         ]
        ],
        [
         316367,
         "reeddarrell@gmail.com",
         1592753164563865,
         1,
         850.5,
         1,
         [
          "NEWBED10",
          "M_STAN_F",
          "Standard Full Mattress",
          850.5,
          945.0,
          1
         ]
        ],
        [
         325134,
         "stevenwise@neal.com",
         1592811112096496,
         1,
         985.5,
         1,
         [
          "NEWBED10",
          "M_PREM_T",
          "Premium Twin Mattress",
          985.5,
          1095.0,
          1
         ]
        ],
        [
         326790,
         "blakeedwards@hotmail.com",
         1592830100207127,
         1,
         1075.5,
         1,
         [
          "NEWBED10",
          "M_STAN_K",
          "Standard King Mattress",
          1075.5,
          1195.0,
          1
         ]
        ],
        [
         336762,
         "hailey96@gmail.com",
         1592900562137374,
         1,
         940.5,
         1,
         [
          "NEWBED10",
          "M_STAN_Q",
          "Standard Queen Mattress",
          940.5,
          1045.0,
          1
         ]
        ],
        [
         343521,
         "schwartzkeith@gmail.com",
         1592940313797324,
         1,
         53.1,
         1,
         [
          "NEWBED10",
          "P_FOAM_S",
          "Standard Foam Pillow",
          53.1,
          59.0,
          1
         ]
        ],
        [
         344391,
         "uliu@yahoo.com",
         1592944150192613,
         1,
         1075.5,
         1,
         [
          "NEWBED10",
          "M_STAN_K",
          "Standard King Mattress",
          1075.5,
          1195.0,
          1
         ]
        ],
        [
         357540,
         "ywelch@richard-savage.com",
         1593035674582088,
         1,
         535.5,
         1,
         [
          "NEWBED10",
          "M_STAN_T",
          "Standard Twin Mattress",
          535.5,
          595.0,
          1
         ]
        ],
        [
         322961,
         "rbrown15@hotmail.com",
         1592783355491854,
         1,
         850.5,
         1,
         [
          "NEWBED10",
          "M_STAN_F",
          "Standard Full Mattress",
          850.5,
          945.0,
          1
         ]
        ],
        [
         360270,
         "carolyn25@thompson-hodges.com",
         1593061951121945,
         1,
         1075.5,
         1,
         [
          "NEWBED10",
          "M_STAN_K",
          "Standard King Mattress",
          1075.5,
          1195.0,
          1
         ]
        ],
        [
         359978,
         "rdaniels@yahoo.com",
         1593057966586788,
         1,
         1075.5,
         1,
         [
          "NEWBED10",
          "M_STAN_K",
          "Standard King Mattress",
          1075.5,
          1195.0,
          1
         ]
        ],
        [
         370182,
         "meredith59@fisher.com",
         1593134464602144,
         1,
         1525.5,
         1,
         [
          "NEWBED10",
          "M_PREM_F",
          "Premium Full Mattress",
          1525.5,
          1695.0,
          1
         ]
        ],
        [
         385596,
         "bradley68@hotmail.com",
         1593270210050623,
         1,
         143.1,
         1,
         [
          "NEWBED10",
          "P_DOWN_K",
          "King Down Pillow",
          143.1,
          159.0,
          1
         ]
        ],
        [
         381142,
         "masonrobinson@hotmail.com",
         1593224161402171,
         2,
         1476.0,
         2,
         [
          "NEWBED10",
          "M_STAN_Q",
          "Standard Queen Mattress",
          940.5,
          1045.0,
          1
         ]
        ],
        [
         381142,
         "masonrobinson@hotmail.com",
         1593224161402171,
         2,
         1476.0,
         2,
         [
          "NEWBED10",
          "M_STAN_T",
          "Standard Twin Mattress",
          535.5,
          595.0,
          1
         ]
        ],
        [
         368415,
         "richardvillegas@hotmail.com",
         1593120560131864,
         1,
         940.5,
         1,
         [
          "NEWBED10",
          "M_STAN_Q",
          "Standard Queen Mattress",
          940.5,
          1045.0,
          1
         ]
        ],
        [
         357560,
         "jonathan4020@gmail.com",
         1593035800111599,
         1,
         1075.5,
         1,
         [
          "NEWBED10",
          "M_STAN_K",
          "Standard King Mattress",
          1075.5,
          1195.0,
          1
         ]
        ],
        [
         395070,
         "carolmorgan@klein.biz",
         1593334507524928,
         1,
         535.5,
         1,
         [
          "NEWBED10",
          "M_STAN_T",
          "Standard Twin Mattress",
          535.5,
          595.0,
          1
         ]
        ],
        [
         358974,
         "hernandezandrea@west.org",
         1593046072267006,
         1,
         1075.5,
         1,
         [
          "NEWBED10",
          "M_STAN_K",
          "Standard King Mattress",
          1075.5,
          1195.0,
          1
         ]
        ],
        [
         393994,
         "lisaball@moreno.org",
         1593317325902348,
         1,
         1525.5,
         1,
         [
          "NEWBED10",
          "M_PREM_F",
          "Premium Full Mattress",
          1525.5,
          1695.0,
          1
         ]
        ],
        [
         397686,
         "matthewdavies@young.com",
         1593356008900633,
         1,
         940.5,
         1,
         [
          "NEWBED10",
          "M_STAN_Q",
          "Standard Queen Mattress",
          940.5,
          1045.0,
          1
         ]
        ],
        [
         392620,
         "yevans@bush-webster.com",
         1593301409767825,
         1,
         1075.5,
         1,
         [
          "NEWBED10",
          "M_STAN_K",
          "Standard King Mattress",
          1075.5,
          1195.0,
          1
         ]
        ],
        [
         409237,
         "nanderson97@hotmail.com",
         1593444438090363,
         1,
         1075.5,
         1,
         [
          "NEWBED10",
          "M_STAN_K",
          "Standard King Mattress",
          1075.5,
          1195.0,
          1
         ]
        ],
        [
         416445,
         "kimmichael@gmail.com",
         1593499302873807,
         1,
         940.5,
         1,
         [
          "NEWBED10",
          "M_STAN_Q",
          "Standard Queen Mattress",
          940.5,
          1045.0,
          1
         ]
        ],
        [
         430376,
         "henrylivingston@reed.info",
         1593608767737785,
         1,
         940.5,
         1,
         [
          "NEWBED10",
          "M_STAN_Q",
          "Standard Queen Mattress",
          940.5,
          1045.0,
          1
         ]
        ],
        [
         462666,
         "elizabeth11@brown.net",
         1593841786494475,
         1,
         1075.5,
         1,
         [
          "NEWBED10",
          "M_STAN_K",
          "Standard King Mattress",
          1075.5,
          1195.0,
          1
         ]
        ],
        [
         461672,
         "wyattwilliam@norris.com",
         1593827162868440,
         1,
         535.5,
         1,
         [
          "NEWBED10",
          "M_STAN_T",
          "Standard Twin Mattress",
          535.5,
          595.0,
          1
         ]
        ],
        [
         467276,
         "tina13@martin.com",
         1593877628282120,
         1,
         535.5,
         1,
         [
          "NEWBED10",
          "M_STAN_T",
          "Standard Twin Mattress",
          535.5,
          595.0,
          1
         ]
        ],
        [
         463820,
         "wrose@powell-velazquez.com",
         1593857336227296,
         1,
         535.5,
         1,
         [
          "NEWBED10",
          "M_STAN_T",
          "Standard Twin Mattress",
          535.5,
          595.0,
          1
         ]
        ],
        [
         463020,
         "ssmith@riley-turner.info",
         1593847250933872,
         1,
         1615.5,
         1,
         [
          "NEWBED10",
          "M_PREM_Q",
          "Premium Queen Mattress",
          1615.5,
          1795.0,
          1
         ]
        ],
        [
         465794,
         "pamelamckinney@bailey.com",
         1593871287753388,
         1,
         940.5,
         1,
         [
          "NEWBED10",
          "M_STAN_Q",
          "Standard Queen Mattress",
          940.5,
          1045.0,
          1
         ]
        ],
        [
         448999,
         "greertracey@yahoo.com",
         1593728449322703,
         1,
         107.10000000000001,
         1,
         [
          "NEWBED10",
          "P_DOWN_S",
          "Standard Down Pillow",
          107.10000000000001,
          119.0,
          1
         ]
        ],
        [
         464582,
         "adkinsjessica@gmail.com",
         1593864062244129,
         1,
         1075.5,
         1,
         [
          "NEWBED10",
          "M_STAN_K",
          "Standard King Mattress",
          1075.5,
          1195.0,
          1
         ]
        ],
        [
         285625,
         "mdawson83@yahoo.com",
         1592521311377263,
         1,
         940.5,
         1,
         [
          "NEWBED10",
          "M_STAN_Q",
          "Standard Queen Mattress",
          940.5,
          1045.0,
          1
         ]
        ],
        [
         285394,
         "shannon3962@yahoo.com",
         1592519691570221,
         1,
         1075.5,
         1,
         [
          "NEWBED10",
          "M_STAN_K",
          "Standard King Mattress",
          1075.5,
          1195.0,
          1
         ]
        ],
        [
         294546,
         "tbrady49@yahoo.com",
         1592596173181191,
         1,
         535.5,
         1,
         [
          "NEWBED10",
          "M_STAN_T",
          "Standard Twin Mattress",
          535.5,
          595.0,
          1
         ]
        ],
        [
         301063,
         "brandon4086@hotmail.com",
         1592657113864972,
         2,
         1092.6,
         2,
         [
          "NEWBED10",
          "M_PREM_T",
          "Premium Twin Mattress",
          985.5,
          1095.0,
          1
         ]
        ],
        [
         301063,
         "brandon4086@hotmail.com",
         1592657113864972,
         2,
         1092.6,
         2,
         [
          "NEWBED10",
          "P_DOWN_S",
          "Standard Down Pillow",
          107.10000000000001,
          119.0,
          1
         ]
        ],
        [
         327094,
         "victorbaxter@lucas.com",
         1592832265910438,
         1,
         535.5,
         1,
         [
          "NEWBED10",
          "M_STAN_T",
          "Standard Twin Mattress",
          535.5,
          595.0,
          1
         ]
        ],
        [
         336936,
         "ojoseph28@yahoo.com",
         1592902819769935,
         3,
         2011.5,
         2,
         [
          "NEWBED10",
          "M_STAN_Q",
          "Standard Queen Mattress",
          940.5,
          1045.0,
          1
         ]
        ],
        [
         336936,
         "ojoseph28@yahoo.com",
         1592902819769935,
         3,
         2011.5,
         2,
         [
          "NEWBED10",
          "M_STAN_T",
          "Standard Twin Mattress",
          1071.0,
          595.0,
          2
         ]
        ],
        [
         333823,
         "halevincent@gmail.com",
         1592866866919830,
         1,
         940.5,
         1,
         [
          "NEWBED10",
          "M_STAN_Q",
          "Standard Queen Mattress",
          940.5,
          1045.0,
          1
         ]
        ],
        [
         302784,
         "bennettjennifer@ramirez.com",
         1592665465528961,
         1,
         940.5,
         1,
         [
          "NEWBED10",
          "M_STAN_Q",
          "Standard Queen Mattress",
          940.5,
          1045.0,
          1
         ]
        ],
        [
         313420,
         "kylepearson@yahoo.com",
         1592733413728751,
         1,
         1615.5,
         1,
         [
          "NEWBED10",
          "M_PREM_Q",
          "Premium Queen Mattress",
          1615.5,
          1795.0,
          1
         ]
        ],
        [
         358132,
         "marytaylor@jones-zimmerman.info",
         1593039243263656,
         1,
         1075.5,
         1,
         [
          "NEWBED10",
          "M_STAN_K",
          "Standard King Mattress",
          1075.5,
          1195.0,
          1
         ]
        ],
        [
         347645,
         "lscott@campbell-wilson.net",
         1592965847902819,
         1,
         53.1,
         1,
         [
          "NEWBED10",
          "P_FOAM_S",
          "Standard Foam Pillow",
          53.1,
          59.0,
          1
         ]
        ],
        [
         347881,
         "raydanielle@hotmail.com",
         1592968174368487,
         1,
         535.5,
         1,
         [
          "NEWBED10",
          "M_STAN_T",
          "Standard Twin Mattress",
          535.5,
          595.0,
          1
         ]
        ],
        [
         359791,
         "kortiz@anderson.com",
         1593055093115588,
         1,
         535.5,
         1,
         [
          "NEWBED10",
          "M_STAN_T",
          "Standard Twin Mattress",
          535.5,
          595.0,
          1
         ]
        ],
        [
         356055,
         "alicia86@gmail.com",
         1593027960182873,
         1,
         535.5,
         1,
         [
          "NEWBED10",
          "M_STAN_T",
          "Standard Twin Mattress",
          535.5,
          595.0,
          1
         ]
        ],
        [
         372984,
         "speterson@wilson-hernandez.com",
         1593172719981095,
         1,
         535.5,
         1,
         [
          "NEWBED10",
          "M_STAN_T",
          "Standard Twin Mattress",
          535.5,
          595.0,
          1
         ]
        ],
        [
         354250,
         "samantha64@james-macias.biz",
         1593020074393138,
         1,
         1615.5,
         1,
         [
          "NEWBED10",
          "M_PREM_Q",
          "Premium Queen Mattress",
          1615.5,
          1795.0,
          1
         ]
        ],
        [
         354564,
         "morgankelly@hotmail.com",
         1593021511334383,
         1,
         985.5,
         1,
         [
          "NEWBED10",
          "M_PREM_T",
          "Premium Twin Mattress",
          985.5,
          1095.0,
          1
         ]
        ],
        [
         370976,
         "jonathan20@frost-smith.com",
         1593144906529700,
         1,
         850.5,
         1,
         [
          "NEWBED10",
          "M_STAN_F",
          "Standard Full Mattress",
          850.5,
          945.0,
          1
         ]
        ],
        [
         367457,
         "ashleyholland@yahoo.com",
         1593115340977249,
         1,
         53.1,
         1,
         [
          "NEWBED10",
          "P_FOAM_S",
          "Standard Foam Pillow",
          53.1,
          59.0,
          1
         ]
        ],
        [
         372231,
         "hortonmelanie@lang.org",
         1593164681249164,
         1,
         535.5,
         1,
         [
          "NEWBED10",
          "M_STAN_T",
          "Standard Twin Mattress",
          535.5,
          595.0,
          1
         ]
        ],
        [
         371290,
         "michael5314@gmail.com",
         1593149946837087,
         2,
         1128.6,
         2,
         [
          "NEWBED10",
          "M_PREM_T",
          "Premium Twin Mattress",
          985.5,
          1095.0,
          1
         ]
        ],
        [
         371290,
         "michael5314@gmail.com",
         1593149946837087,
         2,
         1128.6,
         2,
         [
          "NEWBED10",
          "P_DOWN_K",
          "King Down Pillow",
          143.1,
          159.0,
          1
         ]
        ],
        [
         371486,
         "jacob69@jones.com",
         1593153498036350,
         1,
         940.5,
         1,
         [
          "NEWBED10",
          "M_STAN_Q",
          "Standard Queen Mattress",
          940.5,
          1045.0,
          1
         ]
        ],
        [
         383837,
         "murphyreginald@hernandez.com",
         1593260050256239,
         1,
         985.5,
         1,
         [
          "NEWBED10",
          "M_PREM_T",
          "Premium Twin Mattress",
          985.5,
          1095.0,
          1
         ]
        ],
        [
         393061,
         "jacosta@gmail.com",
         1593304899640144,
         2,
         1071.0,
         1,
         [
          "NEWBED10",
          "M_STAN_T",
          "Standard Twin Mattress",
          1071.0,
          595.0,
          2
         ]
        ],
        [
         397895,
         "maxwelltim@yahoo.com",
         1593357038416452,
         2,
         1866.6,
         2,
         [
          "NEWBED10",
          "M_PREM_K",
          "Premium King Mattress",
          1795.5,
          1995.0,
          1
         ]
        ],
        [
         397895,
         "maxwelltim@yahoo.com",
         1593357038416452,
         2,
         1866.6,
         2,
         [
          "NEWBED10",
          "P_FOAM_K",
          "King Foam Pillow",
          71.10000000000001,
          79.0,
          1
         ]
        ],
        [
         406764,
         "josephboyd@calhoun.com",
         1593424367344109,
         1,
         850.5,
         1,
         [
          "NEWBED10",
          "M_STAN_F",
          "Standard Full Mattress",
          850.5,
          945.0,
          1
         ]
        ],
        [
         372204,
         "mckenziemichael@hotmail.com",
         1593164231908711,
         1,
         850.5,
         1,
         [
          "NEWBED10",
          "M_STAN_F",
          "Standard Full Mattress",
          850.5,
          945.0,
          1
         ]
        ],
        [
         401954,
         "richardscott@miller.biz",
         1593375554882271,
         1,
         940.5,
         1,
         [
          "NEWBED10",
          "M_STAN_Q",
          "Standard Queen Mattress",
          940.5,
          1045.0,
          1
         ]
        ],
        [
         384772,
         "brian12@jenkins-jackson.com",
         1593265889771895,
         1,
         850.5,
         1,
         [
          "NEWBED10",
          "M_STAN_F",
          "Standard Full Mattress",
          850.5,
          945.0,
          1
         ]
        ],
        [
         405725,
         "brownbrian@fernandez-sullivan.com",
         1593407746303006,
         1,
         1615.5,
         1,
         [
          "NEWBED10",
          "M_PREM_Q",
          "Premium Queen Mattress",
          1615.5,
          1795.0,
          1
         ]
        ],
        [
         420712,
         "ronnie39@yahoo.com",
         1593533354823978,
         1,
         1615.5,
         1,
         [
          "NEWBED10",
          "M_PREM_Q",
          "Premium Queen Mattress",
          1615.5,
          1795.0,
          1
         ]
        ],
        [
         399857,
         "jamesmartinez@kirk.info",
         1593365910182220,
         1,
         850.5,
         1,
         [
          "NEWBED10",
          "M_STAN_F",
          "Standard Full Mattress",
          850.5,
          945.0,
          1
         ]
        ],
        [
         417739,
         "allenkristina@yahoo.com",
         1593515756654447,
         1,
         940.5,
         1,
         [
          "NEWBED10",
          "M_STAN_Q",
          "Standard Queen Mattress",
          940.5,
          1045.0,
          1
         ]
        ],
        [
         441725,
         "combslisa@yahoo.com",
         1593696602469151,
         1,
         850.5,
         1,
         [
          "NEWBED10",
          "M_STAN_F",
          "Standard Full Mattress",
          850.5,
          945.0,
          1
         ]
        ],
        [
         428390,
         "chenderson86@hotmail.com",
         1593587591766848,
         1,
         535.5,
         1,
         [
          "NEWBED10",
          "M_STAN_T",
          "Standard Twin Mattress",
          535.5,
          595.0,
          1
         ]
        ],
        [
         460737,
         "kevinrobbins@warren.com",
         1593818335645265,
         1,
         940.5,
         1,
         [
          "NEWBED10",
          "M_STAN_Q",
          "Standard Queen Mattress",
          940.5,
          1045.0,
          1
         ]
        ],
        [
         460842,
         "youngashley@fischer-paul.com",
         1593819127824493,
         2,
         2736.0,
         2,
         [
          "NEWBED10",
          "M_PREM_K",
          "Premium King Mattress",
          1795.5,
          1995.0,
          1
         ]
        ],
        [
         460842,
         "youngashley@fischer-paul.com",
         1593819127824493,
         2,
         2736.0,
         2,
         [
          "NEWBED10",
          "M_STAN_Q",
          "Standard Queen Mattress",
          940.5,
          1045.0,
          1
         ]
        ],
        [
         455532,
         "kreilly98@yahoo.com",
         1593792473614434,
         1,
         940.5,
         1,
         [
          "NEWBED10",
          "M_STAN_Q",
          "Standard Queen Mattress",
          940.5,
          1045.0,
          1
         ]
        ],
        [
         441807,
         "slarson@knight-delgado.com",
         1593697040070130,
         1,
         940.5,
         1,
         [
          "NEWBED10",
          "M_STAN_Q",
          "Standard Queen Mattress",
          940.5,
          1045.0,
          1
         ]
        ],
        [
         461473,
         "garrettmeghan@shaw-peterson.biz",
         1593824755402802,
         1,
         53.1,
         1,
         [
          "NEWBED10",
          "P_FOAM_S",
          "Standard Foam Pillow",
          53.1,
          59.0,
          1
         ]
        ],
        [
         458525,
         "erikarussell@yahoo.com",
         1593806031211989,
         1,
         940.5,
         1,
         [
          "NEWBED10",
          "M_STAN_Q",
          "Standard Queen Mattress",
          940.5,
          1045.0,
          1
         ]
        ],
        [
         461033,
         "leecorey@hotmail.com",
         1593820541619083,
         1,
         940.5,
         1,
         [
          "NEWBED10",
          "M_STAN_Q",
          "Standard Queen Mattress",
          940.5,
          1045.0,
          1
         ]
        ],
        [
         461240,
         "hernandezalexandra28@hotmail.com",
         1593822342023120,
         1,
         535.5,
         1,
         [
          "NEWBED10",
          "M_STAN_T",
          "Standard Twin Mattress",
          535.5,
          595.0,
          1
         ]
        ],
        [
         270600,
         "nhogan@hotmail.com",
         1592371554498327,
         1,
         1075.5,
         1,
         [
          "NEWBED10",
          "M_STAN_K",
          "Standard King Mattress",
          1075.5,
          1195.0,
          1
         ]
        ],
        [
         287326,
         "ajackson@green-lindsey.com",
         1592542584746390,
         1,
         985.5,
         1,
         [
          "NEWBED10",
          "M_PREM_T",
          "Premium Twin Mattress",
          985.5,
          1095.0,
          1
         ]
        ],
        [
         287955,
         "jordanjames@white.biz",
         1592554927979458,
         1,
         940.5,
         1,
         [
          "NEWBED10",
          "M_STAN_Q",
          "Standard Queen Mattress",
          940.5,
          1045.0,
          1
         ]
        ],
        [
         286238,
         "davidjohnston42@yahoo.com",
         1592526978305892,
         1,
         940.5,
         1,
         [
          "NEWBED10",
          "M_STAN_Q",
          "Standard Queen Mattress",
          940.5,
          1045.0,
          1
         ]
        ],
        [
         277947,
         "hannahking@yahoo.com",
         1592459646520397,
         1,
         1525.5,
         1,
         [
          "NEWBED10",
          "M_PREM_F",
          "Premium Full Mattress",
          1525.5,
          1695.0,
          1
         ]
        ],
        [
         288237,
         "vlyons@kelley-dunn.com",
         1592559537543744,
         1,
         1795.5,
         1,
         [
          "NEWBED10",
          "M_PREM_K",
          "Premium King Mattress",
          1795.5,
          1995.0,
          1
         ]
        ],
        [
         304140,
         "rbecker@hotmail.com",
         1592670634529786,
         1,
         940.5,
         1,
         [
          "NEWBED10",
          "M_STAN_Q",
          "Standard Queen Mattress",
          940.5,
          1045.0,
          1
         ]
        ],
        [
         293808,
         "qwilson@jackson.com",
         1592592934673093,
         1,
         1075.5,
         1,
         [
          "NEWBED10",
          "M_STAN_K",
          "Standard King Mattress",
          1075.5,
          1195.0,
          1
         ]
        ],
        [
         307435,
         "diana06@wolf.com",
         1592682320408846,
         1,
         850.5,
         1,
         [
          "NEWBED10",
          "M_STAN_F",
          "Standard Full Mattress",
          850.5,
          945.0,
          1
         ]
        ],
        [
         322929,
         "yball@gmail.com",
         1592783098232277,
         1,
         940.5,
         1,
         [
          "NEWBED10",
          "M_STAN_Q",
          "Standard Queen Mattress",
          940.5,
          1045.0,
          1
         ]
        ],
        [
         288204,
         "edward1473@gmail.com",
         1592559061839097,
         1,
         850.5,
         1,
         [
          "NEWBED10",
          "M_STAN_F",
          "Standard Full Mattress",
          850.5,
          945.0,
          1
         ]
        ],
        [
         316592,
         "derrick8248@yahoo.com",
         1592754178491536,
         1,
         535.5,
         1,
         [
          "NEWBED10",
          "M_STAN_T",
          "Standard Twin Mattress",
          535.5,
          595.0,
          1
         ]
        ],
        [
         333309,
         "lowecaitlyn@keller.net",
         1592863586432158,
         1,
         940.5,
         1,
         [
          "NEWBED10",
          "M_STAN_Q",
          "Standard Queen Mattress",
          940.5,
          1045.0,
          1
         ]
        ],
        [
         324582,
         "thomaspaul@gmail.com",
         1592802205441156,
         1,
         940.5,
         1,
         [
          "NEWBED10",
          "M_STAN_Q",
          "Standard Queen Mattress",
          940.5,
          1045.0,
          1
         ]
        ],
        [
         348761,
         "traceybarrett@gmail.com",
         1592979372698119,
         1,
         535.5,
         1,
         [
          "NEWBED10",
          "M_STAN_T",
          "Standard Twin Mattress",
          535.5,
          595.0,
          1
         ]
        ],
        [
         337426,
         "thomas98@villegas.com",
         1592908836619972,
         2,
         588.6,
         2,
         [
          "NEWBED10",
          "M_STAN_T",
          "Standard Twin Mattress",
          535.5,
          595.0,
          1
         ]
        ],
        [
         337426,
         "thomas98@villegas.com",
         1592908836619972,
         2,
         588.6,
         2,
         [
          "NEWBED10",
          "P_FOAM_S",
          "Standard Foam Pillow",
          53.1,
          59.0,
          1
         ]
        ],
        [
         364042,
         "brandonburch@gmail.com",
         1593098330885252,
         1,
         53.1,
         1,
         [
          "NEWBED10",
          "P_FOAM_S",
          "Standard Foam Pillow",
          53.1,
          59.0,
          1
         ]
        ],
        [
         336532,
         "murphyjoseph@kelly-whitney.com",
         1592897874886299,
         1,
         1075.5,
         1,
         [
          "NEWBED10",
          "M_STAN_K",
          "Standard King Mattress",
          1075.5,
          1195.0,
          1
         ]
        ],
        [
         349742,
         "chodge@yahoo.com",
         1592992153535808,
         1,
         940.5,
         1,
         [
          "NEWBED10",
          "M_STAN_Q",
          "Standard Queen Mattress",
          940.5,
          1045.0,
          1
         ]
        ],
        [
         315337,
         "christopherhurst@hotmail.com",
         1592748082700910,
         1,
         985.5,
         1,
         [
          "NEWBED10",
          "M_PREM_T",
          "Premium Twin Mattress",
          985.5,
          1095.0,
          1
         ]
        ],
        [
         338480,
         "bryan29@lindsey.net",
         1592917272443561,
         1,
         71.10000000000001,
         1,
         [
          "NEWBED10",
          "P_FOAM_K",
          "King Foam Pillow",
          71.10000000000001,
          79.0,
          1
         ]
        ],
        [
         326013,
         "gjackson26@yahoo.com",
         1592823076281461,
         1,
         850.5,
         1,
         [
          "NEWBED10",
          "M_STAN_F",
          "Standard Full Mattress",
          850.5,
          945.0,
          1
         ]
        ],
        [
         354489,
         "tthomas78@yahoo.com",
         1593021154061966,
         1,
         535.5,
         1,
         [
          "NEWBED10",
          "M_STAN_T",
          "Standard Twin Mattress",
          535.5,
          595.0,
          1
         ]
        ],
        [
         340818,
         "karen21@hotmail.com",
         1592929148828900,
         1,
         940.5,
         1,
         [
          "NEWBED10",
          "M_STAN_Q",
          "Standard Queen Mattress",
          940.5,
          1045.0,
          1
         ]
        ],
        [
         382180,
         "iarnold@miranda-brown.com",
         1593240239388724,
         1,
         535.5,
         1,
         [
          "NEWBED10",
          "M_STAN_T",
          "Standard Twin Mattress",
          535.5,
          595.0,
          1
         ]
        ],
        [
         351083,
         "ipotter@brown.com",
         1593003843322524,
         1,
         850.5,
         1,
         [
          "NEWBED10",
          "M_STAN_F",
          "Standard Full Mattress",
          850.5,
          945.0,
          1
         ]
        ],
        [
         374329,
         "laurenmyers29@yahoo.com",
         1593182131274413,
         1,
         53.1,
         1,
         [
          "NEWBED10",
          "P_FOAM_S",
          "Standard Foam Pillow",
          53.1,
          59.0,
          1
         ]
        ],
        [
         357728,
         "aibarra@simon.com",
         1593036754718863,
         1,
         985.5,
         1,
         [
          "NEWBED10",
          "M_PREM_T",
          "Premium Twin Mattress",
          985.5,
          1095.0,
          1
         ]
        ],
        [
         379923,
         "richardallen@turner.com",
         1593211938940946,
         1,
         850.5,
         1,
         [
          "NEWBED10",
          "M_STAN_F",
          "Standard Full Mattress",
          850.5,
          945.0,
          1
         ]
        ],
        [
         373465,
         "zsanchez@williams.com",
         1593176743127087,
         1,
         535.5,
         1,
         [
          "NEWBED10",
          "M_STAN_T",
          "Standard Twin Mattress",
          535.5,
          595.0,
          1
         ]
        ],
        [
         397410,
         "dhoffman@hotmail.com",
         1593354495138721,
         2,
         2016.0,
         2,
         [
          "NEWBED10",
          "M_STAN_Q",
          "Standard Queen Mattress",
          940.5,
          1045.0,
          1
         ]
        ],
        [
         397410,
         "dhoffman@hotmail.com",
         1593354495138721,
         2,
         2016.0,
         2,
         [
          "NEWBED10",
          "M_STAN_K",
          "Standard King Mattress",
          1075.5,
          1195.0,
          1
         ]
        ],
        [
         386455,
         "ashley85@perez.org",
         1593273813349471,
         1,
         1795.5,
         1,
         [
          "NEWBED10",
          "M_PREM_K",
          "Premium King Mattress",
          1795.5,
          1995.0,
          1
         ]
        ],
        [
         382014,
         "jennifer18@harper.com",
         1593237332193723,
         2,
         1071.0,
         1,
         [
          "NEWBED10",
          "M_STAN_T",
          "Standard Twin Mattress",
          1071.0,
          595.0,
          2
         ]
        ],
        [
         398077,
         "xrobbins@yahoo.com",
         1593357938364730,
         1,
         940.5,
         1,
         [
          "NEWBED10",
          "M_STAN_Q",
          "Standard Queen Mattress",
          940.5,
          1045.0,
          1
         ]
        ],
        [
         393830,
         "kbaldwin@smith.com",
         1593314655598799,
         2,
         1146.6,
         2,
         [
          "NEWBED10",
          "M_STAN_K",
          "Standard King Mattress",
          1075.5,
          1195.0,
          1
         ]
        ],
        [
         393830,
         "kbaldwin@smith.com",
         1593314655598799,
         2,
         1146.6,
         2,
         [
          "NEWBED10",
          "P_FOAM_K",
          "King Foam Pillow",
          71.10000000000001,
          79.0,
          1
         ]
        ],
        [
         404408,
         "wwatson@rice.org",
         1593391207468207,
         1,
         535.5,
         1,
         [
          "NEWBED10",
          "M_STAN_T",
          "Standard Twin Mattress",
          535.5,
          595.0,
          1
         ]
        ],
        [
         423154,
         "watsonlauren@scott-gray.com",
         1593543982713945,
         1,
         940.5,
         1,
         [
          "NEWBED10",
          "M_STAN_Q",
          "Standard Queen Mattress",
          940.5,
          1045.0,
          1
         ]
        ],
        [
         407271,
         "adamsjennifer@warner.com",
         1593430231701754,
         1,
         1525.5,
         1,
         [
          "NEWBED10",
          "M_PREM_F",
          "Premium Full Mattress",
          1525.5,
          1695.0,
          1
         ]
        ],
        [
         445135,
         "christyfloyd@bishop-valdez.net",
         1593711508224059,
         1,
         1075.5,
         1,
         [
          "NEWBED10",
          "M_STAN_K",
          "Standard King Mattress",
          1075.5,
          1195.0,
          1
         ]
        ],
        [
         407101,
         "youngshawn@obrien.info",
         1593428438630988,
         1,
         985.5,
         1,
         [
          "NEWBED10",
          "M_PREM_T",
          "Premium Twin Mattress",
          985.5,
          1095.0,
          1
         ]
        ],
        [
         452489,
         "fullernicholas@wagner.com",
         1593770653942624,
         1,
         535.5,
         1,
         [
          "NEWBED10",
          "M_STAN_T",
          "Standard Twin Mattress",
          535.5,
          595.0,
          1
         ]
        ],
        [
         443764,
         "nicole0240@gmail.com",
         1593706159221472,
         1,
         940.5,
         1,
         [
          "NEWBED10",
          "M_STAN_Q",
          "Standard Queen Mattress",
          940.5,
          1045.0,
          1
         ]
        ],
        [
         439063,
         "livingstonsummer@porter-sanchez.com",
         1593668219950799,
         1,
         1075.5,
         1,
         [
          "NEWBED10",
          "M_STAN_K",
          "Standard King Mattress",
          1075.5,
          1195.0,
          1
         ]
        ],
        [
         451070,
         "brownsamantha@yahoo.com",
         1593747463999145,
         1,
         1075.5,
         1,
         [
          "NEWBED10",
          "M_STAN_K",
          "Standard King Mattress",
          1075.5,
          1195.0,
          1
         ]
        ],
        [
         439119,
         "aaron89@russell.com",
         1593669201304714,
         1,
         107.10000000000001,
         1,
         [
          "NEWBED10",
          "P_DOWN_S",
          "Standard Down Pillow",
          107.10000000000001,
          119.0,
          1
         ]
        ],
        [
         461289,
         "pfuentes@kaufman.com",
         1593822782167698,
         1,
         1075.5,
         1,
         [
          "NEWBED10",
          "M_STAN_K",
          "Standard King Mattress",
          1075.5,
          1195.0,
          1
         ]
        ],
        [
         462741,
         "davidfoster@miller-smith.net",
         1593842951042995,
         1,
         1075.5,
         1,
         [
          "NEWBED10",
          "M_STAN_K",
          "Standard King Mattress",
          1075.5,
          1195.0,
          1
         ]
        ],
        [
         301224,
         "ijones81@gmail.com",
         1592658025573953,
         1,
         1075.5,
         1,
         [
          "NEWBED10",
          "M_STAN_K",
          "Standard King Mattress",
          1075.5,
          1195.0,
          1
         ]
        ],
        [
         284568,
         "clarklaura17@hotmail.com",
         1592514192946219,
         2,
         642.6,
         2,
         [
          "NEWBED10",
          "M_STAN_T",
          "Standard Twin Mattress",
          535.5,
          595.0,
          1
         ]
        ],
        [
         284568,
         "clarklaura17@hotmail.com",
         1592514192946219,
         2,
         642.6,
         2,
         [
          "NEWBED10",
          "P_DOWN_S",
          "Standard Down Pillow",
          107.10000000000001,
          119.0,
          1
         ]
        ],
        [
         290098,
         "andrew48@horton.com",
         1592575880998009,
         1,
         535.5,
         1,
         [
          "NEWBED10",
          "M_STAN_T",
          "Standard Twin Mattress",
          535.5,
          595.0,
          1
         ]
        ],
        [
         294862,
         "owensnoah@watts.com",
         1592597517741159,
         1,
         850.5,
         1,
         [
          "NEWBED10",
          "M_STAN_F",
          "Standard Full Mattress",
          850.5,
          945.0,
          1
         ]
        ],
        [
         299119,
         "michaelbartlett@rivas-odonnell.org",
         1592638667593935,
         1,
         71.10000000000001,
         1,
         [
          "NEWBED10",
          "P_FOAM_K",
          "King Foam Pillow",
          71.10000000000001,
          79.0,
          1
         ]
        ],
        [
         294672,
         "elizabeth7644@yahoo.com",
         1592596753620378,
         1,
         850.5,
         1,
         [
          "NEWBED10",
          "M_STAN_F",
          "Standard Full Mattress",
          850.5,
          945.0,
          1
         ]
        ],
        [
         295120,
         "jennapatterson@gmail.com",
         1592598820854359,
         1,
         940.5,
         1,
         [
          "NEWBED10",
          "M_STAN_Q",
          "Standard Queen Mattress",
          940.5,
          1045.0,
          1
         ]
        ],
        [
         285546,
         "alicia8455@hotmail.com",
         1592520812157149,
         1,
         850.5,
         1,
         [
          "NEWBED10",
          "M_STAN_F",
          "Standard Full Mattress",
          850.5,
          945.0,
          1
         ]
        ],
        [
         312714,
         "fosteralan@ryan.net",
         1592724124837838,
         1,
         535.5,
         1,
         [
          "NEWBED10",
          "M_STAN_T",
          "Standard Twin Mattress",
          535.5,
          595.0,
          1
         ]
        ],
        [
         298399,
         "charles35@ramirez.com",
         1592626104567742,
         1,
         940.5,
         1,
         [
          "NEWBED10",
          "M_STAN_Q",
          "Standard Queen Mattress",
          940.5,
          1045.0,
          1
         ]
        ],
        [
         335511,
         "ambercervantes@thomas-miller.org",
         1592883710128480,
         1,
         535.5,
         1,
         [
          "NEWBED10",
          "M_STAN_T",
          "Standard Twin Mattress",
          535.5,
          595.0,
          1
         ]
        ],
        [
         321027,
         "huffdana@gmail.com",
         1592772107045595,
         1,
         985.5,
         1,
         [
          "NEWBED10",
          "M_PREM_T",
          "Premium Twin Mattress",
          985.5,
          1095.0,
          1
         ]
        ],
        [
         326890,
         "stownsend@gmail.com",
         1592830752546058,
         1,
         850.5,
         1,
         [
          "NEWBED10",
          "M_STAN_F",
          "Standard Full Mattress",
          850.5,
          945.0,
          1
         ]
        ],
        [
         296082,
         "vbutler@reyes-hall.org",
         1592603935958075,
         1,
         535.5,
         1,
         [
          "NEWBED10",
          "M_STAN_T",
          "Standard Twin Mattress",
          535.5,
          595.0,
          1
         ]
        ],
        [
         313949,
         "griffithmiguel@cruz-glover.com",
         1592738519845341,
         1,
         535.5,
         1,
         [
          "NEWBED10",
          "M_STAN_T",
          "Standard Twin Mattress",
          535.5,
          595.0,
          1
         ]
        ],
        [
         351834,
         "kkramer@hotmail.com",
         1593008535086282,
         2,
         993.6,
         2,
         [
          "NEWBED10",
          "M_STAN_Q",
          "Standard Queen Mattress",
          940.5,
          1045.0,
          1
         ]
        ],
        [
         351834,
         "kkramer@hotmail.com",
         1593008535086282,
         2,
         993.6,
         2,
         [
          "NEWBED10",
          "P_FOAM_S",
          "Standard Foam Pillow",
          53.1,
          59.0,
          1
         ]
        ],
        [
         342410,
         "steven7587@yahoo.com",
         1592935744169629,
         1,
         535.5,
         1,
         [
          "NEWBED10",
          "M_STAN_T",
          "Standard Twin Mattress",
          535.5,
          595.0,
          1
         ]
        ],
        [
         348144,
         "michaelklein@acosta.com",
         1592971335193082,
         2,
         2151.0,
         2,
         [
          "NEWBED10",
          "M_PREM_Q",
          "Premium Queen Mattress",
          1615.5,
          1795.0,
          1
         ]
        ],
        [
         348144,
         "michaelklein@acosta.com",
         1592971335193082,
         2,
         2151.0,
         2,
         [
          "NEWBED10",
          "M_STAN_T",
          "Standard Twin Mattress",
          535.5,
          595.0,
          1
         ]
        ],
        [
         337948,
         "carolynquinn@gmail.com",
         1592913267769070,
         1,
         1525.5,
         1,
         [
          "NEWBED10",
          "M_PREM_F",
          "Premium Full Mattress",
          1525.5,
          1695.0,
          1
         ]
        ],
        [
         345189,
         "james9311@gmail.com",
         1592948015360813,
         1,
         940.5,
         1,
         [
          "NEWBED10",
          "M_STAN_Q",
          "Standard Queen Mattress",
          940.5,
          1045.0,
          1
         ]
        ],
        [
         338071,
         "welchlawrence@gmail.com",
         1592914292082669,
         1,
         1075.5,
         1,
         [
          "NEWBED10",
          "M_STAN_K",
          "Standard King Mattress",
          1075.5,
          1195.0,
          1
         ]
        ],
        [
         369582,
         "igriffin@rowland-munoz.com",
         1593128730881325,
         1,
         850.5,
         1,
         [
          "NEWBED10",
          "M_STAN_F",
          "Standard Full Mattress",
          850.5,
          945.0,
          1
         ]
        ],
        [
         365371,
         "katherine55@gmail.com",
         1593105080012257,
         1,
         1075.5,
         1,
         [
          "NEWBED10",
          "M_STAN_K",
          "Standard King Mattress",
          1075.5,
          1195.0,
          1
         ]
        ],
        [
         376940,
         "truiz@evans.com",
         1593195360210470,
         1,
         1525.5,
         1,
         [
          "NEWBED10",
          "M_PREM_F",
          "Premium Full Mattress",
          1525.5,
          1695.0,
          1
         ]
        ],
        [
         367220,
         "lisaparrish@hotmail.com",
         1593114161874860,
         1,
         940.5,
         1,
         [
          "NEWBED10",
          "M_STAN_Q",
          "Standard Queen Mattress",
          940.5,
          1045.0,
          1
         ]
        ],
        [
         382258,
         "garciaelizabeth93@hotmail.com",
         1593241421963767,
         1,
         1615.5,
         1,
         [
          "NEWBED10",
          "M_PREM_Q",
          "Premium Queen Mattress",
          1615.5,
          1795.0,
          1
         ]
        ],
        [
         393393,
         "jcampbell@smith.com",
         1593308583123657,
         1,
         53.1,
         1,
         [
          "NEWBED10",
          "P_FOAM_S",
          "Standard Foam Pillow",
          53.1,
          59.0,
          1
         ]
        ],
        [
         396033,
         "donna1275@hotmail.com",
         1593345134496149,
         1,
         985.5,
         1,
         [
          "NEWBED10",
          "M_PREM_T",
          "Premium Twin Mattress",
          985.5,
          1095.0,
          1
         ]
        ],
        [
         404298,
         "jillperez@perez.com",
         1593390147271945,
         1,
         1075.5,
         1,
         [
          "NEWBED10",
          "M_STAN_K",
          "Standard King Mattress",
          1075.5,
          1195.0,
          1
         ]
        ],
        [
         382354,
         "edward94@hotmail.com",
         1593242926547888,
         1,
         535.5,
         1,
         [
          "NEWBED10",
          "M_STAN_T",
          "Standard Twin Mattress",
          535.5,
          595.0,
          1
         ]
        ],
        [
         398926,
         "zmason@hotmail.com",
         1593362072372631,
         1,
         850.5,
         1,
         [
          "NEWBED10",
          "M_STAN_F",
          "Standard Full Mattress",
          850.5,
          945.0,
          1
         ]
        ],
        [
         391415,
         "tiffanylarson@gmail.com",
         1593293919735098,
         1,
         1075.5,
         1,
         [
          "NEWBED10",
          "M_STAN_K",
          "Standard King Mattress",
          1075.5,
          1195.0,
          1
         ]
        ],
        [
         393887,
         "kyle49@lewis.com",
         1593315688323910,
         1,
         71.10000000000001,
         1,
         [
          "NEWBED10",
          "P_FOAM_K",
          "King Foam Pillow",
          71.10000000000001,
          79.0,
          1
         ]
        ],
        [
         394151,
         "gallaghersarah@hotmail.com",
         1593319919248185,
         1,
         850.5,
         1,
         [
          "NEWBED10",
          "M_STAN_F",
          "Standard Full Mattress",
          850.5,
          945.0,
          1
         ]
        ],
        [
         405516,
         "smithlori80@yahoo.com",
         1593404465025716,
         1,
         1795.5,
         1,
         [
          "NEWBED10",
          "M_PREM_K",
          "Premium King Mattress",
          1795.5,
          1995.0,
          1
         ]
        ],
        [
         407658,
         "rodriguezpeter@gmail.com",
         1593433886185793,
         1,
         1075.5,
         1,
         [
          "NEWBED10",
          "M_STAN_K",
          "Standard King Mattress",
          1075.5,
          1195.0,
          1
         ]
        ],
        [
         424142,
         "joseph9429@yahoo.com",
         1593548266718877,
         1,
         1525.5,
         1,
         [
          "NEWBED10",
          "M_PREM_F",
          "Premium Full Mattress",
          1525.5,
          1695.0,
          1
         ]
        ],
        [
         428504,
         "cherylyoung@bishop.biz",
         1593589363688848,
         1,
         940.5,
         1,
         [
          "NEWBED10",
          "M_STAN_Q",
          "Standard Queen Mattress",
          940.5,
          1045.0,
          1
         ]
        ],
        [
         428383,
         "dylan75@hotmail.com",
         1593587493968362,
         1,
         1525.5,
         1,
         [
          "NEWBED10",
          "M_PREM_F",
          "Premium Full Mattress",
          1525.5,
          1695.0,
          1
         ]
        ],
        [
         408515,
         "stephanie4114@gmail.com",
         1593440143005003,
         1,
         940.5,
         1,
         [
          "NEWBED10",
          "M_STAN_Q",
          "Standard Queen Mattress",
          940.5,
          1045.0,
          1
         ]
        ],
        [
         439914,
         "xwaller@hotmail.com",
         1593681041674826,
         1,
         535.5,
         1,
         [
          "NEWBED10",
          "M_STAN_T",
          "Standard Twin Mattress",
          535.5,
          595.0,
          1
         ]
        ],
        [
         422842,
         "vincent81@hotmail.com",
         1593542476951979,
         1,
         850.5,
         1,
         [
          "NEWBED10",
          "M_STAN_F",
          "Standard Full Mattress",
          850.5,
          945.0,
          1
         ]
        ],
        [
         435643,
         "tcervantes@smith-lopez.info",
         1593636295710968,
         1,
         985.5,
         1,
         [
          "NEWBED10",
          "M_PREM_T",
          "Premium Twin Mattress",
          985.5,
          1095.0,
          1
         ]
        ],
        [
         429062,
         "qballard83@yahoo.com",
         1593596783659462,
         1,
         107.10000000000001,
         1,
         [
          "NEWBED10",
          "P_DOWN_S",
          "Standard Down Pillow",
          107.10000000000001,
          119.0,
          1
         ]
        ],
        [
         440107,
         "brent80@yahoo.com",
         1593683424771554,
         2,
         588.6,
         2,
         [
          "NEWBED10",
          "M_STAN_T",
          "Standard Twin Mattress",
          535.5,
          595.0,
          1
         ]
        ],
        [
         440107,
         "brent80@yahoo.com",
         1593683424771554,
         2,
         588.6,
         2,
         [
          "NEWBED10",
          "P_FOAM_S",
          "Standard Foam Pillow",
          53.1,
          59.0,
          1
         ]
        ],
        [
         441285,
         "brandon978@gmail.com",
         1593693731066591,
         1,
         940.5,
         1,
         [
          "NEWBED10",
          "M_STAN_Q",
          "Standard Queen Mattress",
          940.5,
          1045.0,
          1
         ]
        ],
        [
         457245,
         "iturner@hotmail.com",
         1593800345222910,
         1,
         985.5,
         1,
         [
          "NEWBED10",
          "M_PREM_T",
          "Premium Twin Mattress",
          985.5,
          1095.0,
          1
         ]
        ],
        [
         449551,
         "cbooth@williams-reed.org",
         1593732150642286,
         2,
         588.6,
         2,
         [
          "NEWBED10",
          "M_STAN_T",
          "Standard Twin Mattress",
          535.5,
          595.0,
          1
         ]
        ],
        [
         449551,
         "cbooth@williams-reed.org",
         1593732150642286,
         2,
         588.6,
         2,
         [
          "NEWBED10",
          "P_FOAM_S",
          "Standard Foam Pillow",
          53.1,
          59.0,
          1
         ]
        ],
        [
         463226,
         "marshalltheresa@hotmail.com",
         1593850520048721,
         1,
         1075.5,
         1,
         [
          "NEWBED10",
          "M_STAN_K",
          "Standard King Mattress",
          1075.5,
          1195.0,
          1
         ]
        ],
        [
         453950,
         "danielpatel@hotmail.com",
         1593784055024822,
         1,
         1075.5,
         1,
         [
          "NEWBED10",
          "M_STAN_K",
          "Standard King Mattress",
          1075.5,
          1195.0,
          1
         ]
        ],
        [
         297809,
         "smithdonna@huerta.info",
         1592617718784032,
         1,
         1075.5,
         1,
         [
          "NEWBED10",
          "M_STAN_K",
          "Standard King Mattress",
          1075.5,
          1195.0,
          1
         ]
        ],
        [
         284227,
         "donna38@hotmail.com",
         1592512210283620,
         1,
         850.5,
         1,
         [
          "NEWBED10",
          "M_STAN_F",
          "Standard Full Mattress",
          850.5,
          945.0,
          1
         ]
        ],
        [
         272621,
         "diana14@gmail.com",
         1592408321710721,
         1,
         985.5,
         1,
         [
          "NEWBED10",
          "M_PREM_T",
          "Premium Twin Mattress",
          985.5,
          1095.0,
          1
         ]
        ],
        [
         271381,
         "ldouglas@richards.com",
         1592397219679235,
         1,
         535.5,
         1,
         [
          "NEWBED10",
          "M_STAN_T",
          "Standard Twin Mattress",
          535.5,
          595.0,
          1
         ]
        ],
        [
         297905,
         "jasoneverett@garcia.org",
         1592618913795229,
         1,
         1795.5,
         1,
         [
          "NEWBED10",
          "M_PREM_K",
          "Premium King Mattress",
          1795.5,
          1995.0,
          1
         ]
        ],
        [
         276821,
         "debra97@yahoo.com",
         1592436601739936,
         1,
         535.5,
         1,
         [
          "NEWBED10",
          "M_STAN_T",
          "Standard Twin Mattress",
          535.5,
          595.0,
          1
         ]
        ],
        [
         270808,
         "sdoyle@yahoo.com",
         1592385175503334,
         1,
         535.5,
         1,
         [
          "NEWBED10",
          "M_STAN_T",
          "Standard Twin Mattress",
          535.5,
          595.0,
          1
         ]
        ],
        [
         297455,
         "vpierce@cox.com",
         1592613810139522,
         1,
         535.5,
         1,
         [
          "NEWBED10",
          "M_STAN_T",
          "Standard Twin Mattress",
          535.5,
          595.0,
          1
         ]
        ],
        [
         286940,
         "hernandezsteven@gmail.com",
         1592536334925532,
         1,
         107.10000000000001,
         1,
         [
          "NEWBED10",
          "P_DOWN_S",
          "Standard Down Pillow",
          107.10000000000001,
          119.0,
          1
         ]
        ],
        [
         299617,
         "austin17@turner.net",
         1592645215701585,
         2,
         1596.6,
         2,
         [
          "NEWBED10",
          "M_PREM_F",
          "Premium Full Mattress",
          1525.5,
          1695.0,
          1
         ]
        ],
        [
         299617,
         "austin17@turner.net",
         1592645215701585,
         2,
         1596.6,
         2,
         [
          "NEWBED10",
          "P_FOAM_K",
          "King Foam Pillow",
          71.10000000000001,
          79.0,
          1
         ]
        ],
        [
         289886,
         "terriobrien@morgan-harper.org",
         1592574631625740,
         1,
         1075.5,
         1,
         [
          "NEWBED10",
          "M_STAN_K",
          "Standard King Mattress",
          1075.5,
          1195.0,
          1
         ]
        ],
        [
         315236,
         "james4887@yahoo.com",
         1592747517947563,
         1,
         1525.5,
         1,
         [
          "NEWBED10",
          "M_PREM_F",
          "Premium Full Mattress",
          1525.5,
          1695.0,
          1
         ]
        ],
        [
         331656,
         "vroth@morales-hunt.com",
         1592855390702347,
         1,
         1525.5,
         1,
         [
          "NEWBED10",
          "M_PREM_F",
          "Premium Full Mattress",
          1525.5,
          1695.0,
          1
         ]
        ],
        [
         332978,
         "matthew28@jones.com",
         1592861685560466,
         1,
         535.5,
         1,
         [
          "NEWBED10",
          "M_STAN_T",
          "Standard Twin Mattress",
          535.5,
          595.0,
          1
         ]
        ],
        [
         335330,
         "kschmidt@gmail.com",
         1592881121778800,
         1,
         985.5,
         1,
         [
          "NEWBED10",
          "M_PREM_T",
          "Premium Twin Mattress",
          985.5,
          1095.0,
          1
         ]
        ],
        [
         349123,
         "aprilbriggs@smith.com",
         1592984245914815,
         1,
         850.5,
         1,
         [
          "NEWBED10",
          "M_STAN_F",
          "Standard Full Mattress",
          850.5,
          945.0,
          1
         ]
        ],
        [
         361418,
         "pittschristopher@yahoo.com",
         1593078386345738,
         1,
         940.5,
         1,
         [
          "NEWBED10",
          "M_STAN_Q",
          "Standard Queen Mattress",
          940.5,
          1045.0,
          1
         ]
        ],
        [
         360169,
         "chad84@hotmail.com",
         1593060591883804,
         1,
         1075.5,
         1,
         [
          "NEWBED10",
          "M_STAN_K",
          "Standard King Mattress",
          1075.5,
          1195.0,
          1
         ]
        ],
        [
         364948,
         "ikrueger@gmail.com",
         1593102902645499,
         1,
         985.5,
         1,
         [
          "NEWBED10",
          "M_PREM_T",
          "Premium Twin Mattress",
          985.5,
          1095.0,
          1
         ]
        ],
        [
         336277,
         "parkeramy@orr.com",
         1592894301958554,
         1,
         850.5,
         1,
         [
          "NEWBED10",
          "M_STAN_F",
          "Standard Full Mattress",
          850.5,
          945.0,
          1
         ]
        ],
        [
         351810,
         "riosrichard@edwards-cummings.net",
         1593008386731253,
         1,
         1615.5,
         1,
         [
          "NEWBED10",
          "M_PREM_Q",
          "Premium Queen Mattress",
          1615.5,
          1795.0,
          1
         ]
        ],
        [
         349363,
         "allendavis@noble.com",
         1592987285669910,
         1,
         940.5,
         1,
         [
          "NEWBED10",
          "M_STAN_Q",
          "Standard Queen Mattress",
          940.5,
          1045.0,
          1
         ]
        ],
        [
         356620,
         "donnanavarro@kaiser-burnett.com",
         1593030786819417,
         1,
         535.5,
         1,
         [
          "NEWBED10",
          "M_STAN_T",
          "Standard Twin Mattress",
          535.5,
          595.0,
          1
         ]
        ],
        [
         346535,
         "jamesmahoney@hubbard.com",
         1592956195522982,
         1,
         940.5,
         1,
         [
          "NEWBED10",
          "M_STAN_Q",
          "Standard Queen Mattress",
          940.5,
          1045.0,
          1
         ]
        ],
        [
         358998,
         "juliavega@ortiz-stuart.org",
         1593046273364424,
         3,
         2573.1,
         3,
         [
          "NEWBED10",
          "M_PREM_F",
          "Premium Full Mattress",
          1525.5,
          1695.0,
          1
         ]
        ],
        [
         358998,
         "juliavega@ortiz-stuart.org",
         1593046273364424,
         3,
         2573.1,
         3,
         [
          "NEWBED10",
          "M_STAN_Q",
          "Standard Queen Mattress",
          940.5,
          1045.0,
          1
         ]
        ],
        [
         358998,
         "juliavega@ortiz-stuart.org",
         1593046273364424,
         3,
         2573.1,
         3,
         [
          "NEWBED10",
          "P_DOWN_S",
          "Standard Down Pillow",
          107.10000000000001,
          119.0,
          1
         ]
        ],
        [
         362444,
         "jessica60@hotmail.com",
         1593088214221588,
         2,
         1128.6,
         2,
         [
          "NEWBED10",
          "M_PREM_T",
          "Premium Twin Mattress",
          985.5,
          1095.0,
          1
         ]
        ],
        [
         362444,
         "jessica60@hotmail.com",
         1593088214221588,
         2,
         1128.6,
         2,
         [
          "NEWBED10",
          "P_DOWN_K",
          "King Down Pillow",
          143.1,
          159.0,
          1
         ]
        ],
        [
         382443,
         "johnsonsandra@williams.org",
         1593244504934533,
         1,
         850.5,
         1,
         [
          "NEWBED10",
          "M_STAN_F",
          "Standard Full Mattress",
          850.5,
          945.0,
          1
         ]
        ],
        [
         405543,
         "kathleenpatrick@murphy.net",
         1593404893147707,
         1,
         1075.5,
         1,
         [
          "NEWBED10",
          "M_STAN_K",
          "Standard King Mattress",
          1075.5,
          1195.0,
          1
         ]
        ],
        [
         415829,
         "gonzalestyler@cisneros.com",
         1593489814392833,
         1,
         850.5,
         1,
         [
          "NEWBED10",
          "M_STAN_F",
          "Standard Full Mattress",
          850.5,
          945.0,
          1
         ]
        ],
        [
         422923,
         "osanchez@hotmail.com",
         1593542838229149,
         1,
         1615.5,
         1,
         [
          "NEWBED10",
          "M_PREM_Q",
          "Premium Queen Mattress",
          1615.5,
          1795.0,
          1
         ]
        ],
        [
         410032,
         "leahlove@murray-green.net",
         1593448796451729,
         1,
         1075.5,
         1,
         [
          "NEWBED10",
          "M_STAN_K",
          "Standard King Mattress",
          1075.5,
          1195.0,
          1
         ]
        ],
        [
         416819,
         "jamesle@warren-kelley.info",
         1593505107821502,
         1,
         940.5,
         1,
         [
          "NEWBED10",
          "M_STAN_Q",
          "Standard Queen Mattress",
          940.5,
          1045.0,
          1
         ]
        ],
        [
         423825,
         "barbaramills@hotmail.com",
         1593546874043102,
         1,
         940.5,
         1,
         [
          "NEWBED10",
          "M_STAN_Q",
          "Standard Queen Mattress",
          940.5,
          1045.0,
          1
         ]
        ],
        [
         409097,
         "thomascunningham@hill.com",
         1593443686279730,
         2,
         1971.0,
         1,
         [
          "NEWBED10",
          "M_PREM_T",
          "Premium Twin Mattress",
          1971.0,
          1095.0,
          2
         ]
        ],
        [
         428246,
         "mark14@ortiz.info",
         1593585581848080,
         1,
         1525.5,
         1,
         [
          "NEWBED10",
          "M_PREM_F",
          "Premium Full Mattress",
          1525.5,
          1695.0,
          1
         ]
        ],
        [
         436273,
         "wolfebrittany@hotmail.com",
         1593639743528124,
         1,
         1075.5,
         1,
         [
          "NEWBED10",
          "M_STAN_K",
          "Standard King Mattress",
          1075.5,
          1195.0,
          1
         ]
        ],
        [
         449292,
         "kellysullivan@hotmail.com",
         1593730369858485,
         1,
         1075.5,
         1,
         [
          "NEWBED10",
          "M_STAN_K",
          "Standard King Mattress",
          1075.5,
          1195.0,
          1
         ]
        ],
        [
         454362,
         "edwardwilliams@yahoo.com",
         1593786463326879,
         1,
         940.5,
         1,
         [
          "NEWBED10",
          "M_STAN_Q",
          "Standard Queen Mattress",
          940.5,
          1045.0,
          1
         ]
        ],
        [
         465243,
         "kevin67@hotmail.com",
         1593868378251716,
         1,
         940.5,
         1,
         [
          "NEWBED10",
          "M_STAN_Q",
          "Standard Queen Mattress",
          940.5,
          1045.0,
          1
         ]
        ],
        [
         466398,
         "oaguilar@edwards.com",
         1593874049134889,
         1,
         535.5,
         1,
         [
          "NEWBED10",
          "M_STAN_T",
          "Standard Twin Mattress",
          535.5,
          595.0,
          1
         ]
        ],
        [
         298172,
         "gutierrezmatthew26@yahoo.com",
         1592622591921078,
         1,
         1075.5,
         1,
         [
          "NEWBED10",
          "M_STAN_K",
          "Standard King Mattress",
          1075.5,
          1195.0,
          1
         ]
        ],
        [
         277812,
         "devin44@hotmail.com",
         1592454837965563,
         1,
         1075.5,
         1,
         [
          "NEWBED10",
          "M_STAN_K",
          "Standard King Mattress",
          1075.5,
          1195.0,
          1
         ]
        ],
        [
         286090,
         "brettpeterson@hotmail.com",
         1592525531886831,
         1,
         1525.5,
         1,
         [
          "NEWBED10",
          "M_PREM_F",
          "Premium Full Mattress",
          1525.5,
          1695.0,
          1
         ]
        ],
        [
         285791,
         "hernandezbrett@yahoo.com",
         1592522506816491,
         1,
         850.5,
         1,
         [
          "NEWBED10",
          "M_STAN_F",
          "Standard Full Mattress",
          850.5,
          945.0,
          1
         ]
        ],
        [
         298434,
         "sgraves@sanchez.com",
         1592626848030488,
         1,
         535.5,
         1,
         [
          "NEWBED10",
          "M_STAN_T",
          "Standard Twin Mattress",
          535.5,
          595.0,
          1
         ]
        ],
        [
         298049,
         "jonesjacqueline@reed.org",
         1592620896430297,
         1,
         535.5,
         1,
         [
          "NEWBED10",
          "M_STAN_T",
          "Standard Twin Mattress",
          535.5,
          595.0,
          1
         ]
        ],
        [
         298284,
         "candace63@hotmail.com",
         1592624446562812,
         2,
         993.6,
         2,
         [
          "NEWBED10",
          "M_STAN_Q",
          "Standard Queen Mattress",
          940.5,
          1045.0,
          1
         ]
        ],
        [
         298284,
         "candace63@hotmail.com",
         1592624446562812,
         2,
         993.6,
         2,
         [
          "NEWBED10",
          "P_FOAM_S",
          "Standard Foam Pillow",
          53.1,
          59.0,
          1
         ]
        ],
        [
         288020,
         "mark9598@yahoo.com",
         1592556161969197,
         1,
         535.5,
         1,
         [
          "NEWBED10",
          "M_STAN_T",
          "Standard Twin Mattress",
          535.5,
          595.0,
          1
         ]
        ],
        [
         324282,
         "donna42@nguyen.com",
         1592797571132867,
         1,
         985.5,
         1,
         [
          "NEWBED10",
          "M_PREM_T",
          "Premium Twin Mattress",
          985.5,
          1095.0,
          1
         ]
        ],
        [
         296043,
         "debbie86@gmail.com",
         1592603730841638,
         1,
         850.5,
         1,
         [
          "NEWBED10",
          "M_STAN_F",
          "Standard Full Mattress",
          850.5,
          945.0,
          1
         ]
        ],
        [
         321069,
         "kennethwilliams@campbell.com",
         1592772313204172,
         1,
         1075.5,
         1,
         [
          "NEWBED10",
          "M_STAN_K",
          "Standard King Mattress",
          1075.5,
          1195.0,
          1
         ]
        ],
        [
         312185,
         "riversnatasha@nixon.com",
         1592715569325179,
         1,
         1795.5,
         1,
         [
          "NEWBED10",
          "M_PREM_K",
          "Premium King Mattress",
          1795.5,
          1995.0,
          1
         ]
        ],
        [
         325376,
         "michael0322@hotmail.com",
         1592814879046131,
         1,
         940.5,
         1,
         [
          "NEWBED10",
          "M_STAN_Q",
          "Standard Queen Mattress",
          940.5,
          1045.0,
          1
         ]
        ],
        [
         317000,
         "jessica525@hotmail.com",
         1592756018524277,
         1,
         940.5,
         1,
         [
          "NEWBED10",
          "M_STAN_Q",
          "Standard Queen Mattress",
          940.5,
          1045.0,
          1
         ]
        ],
        [
         304737,
         "vhuff@lowe.com",
         1592672740848856,
         1,
         535.5,
         1,
         [
          "NEWBED10",
          "M_STAN_T",
          "Standard Twin Mattress",
          535.5,
          595.0,
          1
         ]
        ],
        [
         317141,
         "riverapeter@hotmail.com",
         1592756629072707,
         1,
         535.5,
         1,
         [
          "NEWBED10",
          "M_STAN_T",
          "Standard Twin Mattress",
          535.5,
          595.0,
          1
         ]
        ],
        [
         311677,
         "susan11@taylor-cook.com",
         1592708705420110,
         1,
         850.5,
         1,
         [
          "NEWBED10",
          "M_STAN_F",
          "Standard Full Mattress",
          850.5,
          945.0,
          1
         ]
        ],
        [
         298486,
         "arroyocheryl@herrera.com",
         1592627650966031,
         1,
         940.5,
         1,
         [
          "NEWBED10",
          "M_STAN_Q",
          "Standard Queen Mattress",
          940.5,
          1045.0,
          1
         ]
        ],
        [
         329003,
         "tiffany006@gmail.com",
         1592843088808849,
         1,
         985.5,
         1,
         [
          "NEWBED10",
          "M_PREM_T",
          "Premium Twin Mattress",
          985.5,
          1095.0,
          1
         ]
        ],
        [
         341715,
         "savagerachel@hotmail.com",
         1592932927322643,
         2,
         1071.0,
         1,
         [
          "NEWBED10",
          "M_STAN_T",
          "Standard Twin Mattress",
          1071.0,
          595.0,
          2
         ]
        ],
        [
         320164,
         "brianarodriguez@yahoo.com",
         1592768564069097,
         1,
         940.5,
         1,
         [
          "NEWBED10",
          "M_STAN_Q",
          "Standard Queen Mattress",
          940.5,
          1045.0,
          1
         ]
        ],
        [
         334803,
         "carolynford@grant.com",
         1592875220285776,
         2,
         1668.6,
         2,
         [
          "NEWBED10",
          "M_PREM_Q",
          "Premium Queen Mattress",
          1615.5,
          1795.0,
          1
         ]
        ],
        [
         334803,
         "carolynford@grant.com",
         1592875220285776,
         2,
         1668.6,
         2,
         [
          "NEWBED10",
          "P_FOAM_S",
          "Standard Foam Pillow",
          53.1,
          59.0,
          1
         ]
        ],
        [
         358060,
         "michellehall@douglas.com",
         1593038763613157,
         1,
         940.5,
         1,
         [
          "NEWBED10",
          "M_STAN_Q",
          "Standard Queen Mattress",
          940.5,
          1045.0,
          1
         ]
        ],
        [
         367269,
         "ulindsey@cardenas.org",
         1593114387788918,
         1,
         940.5,
         1,
         [
          "NEWBED10",
          "M_STAN_Q",
          "Standard Queen Mattress",
          940.5,
          1045.0,
          1
         ]
        ],
        [
         335835,
         "anthonyjacobs@arnold.org",
         1592888300537445,
         1,
         850.5,
         1,
         [
          "NEWBED10",
          "M_STAN_F",
          "Standard Full Mattress",
          850.5,
          945.0,
          1
         ]
        ],
        [
         349856,
         "cooperdiana@hotmail.com",
         1592993436697396,
         1,
         985.5,
         1,
         [
          "NEWBED10",
          "M_PREM_T",
          "Premium Twin Mattress",
          985.5,
          1095.0,
          1
         ]
        ],
        [
         325096,
         "travishayes@hotmail.com",
         1592810376684811,
         1,
         1525.5,
         1,
         [
          "NEWBED10",
          "M_PREM_F",
          "Premium Full Mattress",
          1525.5,
          1695.0,
          1
         ]
        ],
        [
         349952,
         "miguelwashington@wise.com",
         1592994449402996,
         1,
         535.5,
         1,
         [
          "NEWBED10",
          "M_STAN_T",
          "Standard Twin Mattress",
          535.5,
          595.0,
          1
         ]
        ],
        [
         339447,
         "ravennelson@gmail.com",
         1592922852480788,
         1,
         1795.5,
         1,
         [
          "NEWBED10",
          "M_PREM_K",
          "Premium King Mattress",
          1795.5,
          1995.0,
          1
         ]
        ],
        [
         348335,
         "john07@gmail.com",
         1592973763173304,
         1,
         940.5,
         1,
         [
          "NEWBED10",
          "M_STAN_Q",
          "Standard Queen Mattress",
          940.5,
          1045.0,
          1
         ]
        ],
        [
         345086,
         "kristenhenson@yahoo.com",
         1592947533054621,
         1,
         535.5,
         1,
         [
          "NEWBED10",
          "M_STAN_T",
          "Standard Twin Mattress",
          535.5,
          595.0,
          1
         ]
        ],
        [
         346113,
         "james4183@yahoo.com",
         1592953231512772,
         1,
         940.5,
         1,
         [
          "NEWBED10",
          "M_STAN_Q",
          "Standard Queen Mattress",
          940.5,
          1045.0,
          1
         ]
        ],
        [
         372513,
         "zrobertson@white-johnson.com",
         1593168035222243,
         1,
         1075.5,
         1,
         [
          "NEWBED10",
          "M_STAN_K",
          "Standard King Mattress",
          1075.5,
          1195.0,
          1
         ]
        ],
        [
         367641,
         "kimberlywalker@evans.com",
         1593116238458693,
         2,
         1056.6,
         2,
         [
          "NEWBED10",
          "M_PREM_T",
          "Premium Twin Mattress",
          985.5,
          1095.0,
          1
         ]
        ],
        [
         367641,
         "kimberlywalker@evans.com",
         1593116238458693,
         2,
         1056.6,
         2,
         [
          "NEWBED10",
          "P_FOAM_K",
          "King Foam Pillow",
          71.10000000000001,
          79.0,
          1
         ]
        ],
        [
         354680,
         "christopher494@yahoo.com",
         1593021898114027,
         2,
         588.6,
         2,
         [
          "NEWBED10",
          "M_STAN_T",
          "Standard Twin Mattress",
          535.5,
          595.0,
          1
         ]
        ],
        [
         354680,
         "christopher494@yahoo.com",
         1593021898114027,
         2,
         588.6,
         2,
         [
          "NEWBED10",
          "P_FOAM_S",
          "Standard Foam Pillow",
          53.1,
          59.0,
          1
         ]
        ],
        [
         336452,
         "billy64@gmail.com",
         1592896683697168,
         1,
         850.5,
         1,
         [
          "NEWBED10",
          "M_STAN_F",
          "Standard Full Mattress",
          850.5,
          945.0,
          1
         ]
        ],
        [
         391454,
         "hwilliams@frazier-ross.biz",
         1593294084163735,
         1,
         850.5,
         1,
         [
          "NEWBED10",
          "M_STAN_F",
          "Standard Full Mattress",
          850.5,
          945.0,
          1
         ]
        ],
        [
         367651,
         "sanchezsheena@gmail.com",
         1593116283571857,
         2,
         1971.0,
         1,
         [
          "NEWBED10",
          "M_PREM_T",
          "Premium Twin Mattress",
          1971.0,
          1095.0,
          2
         ]
        ],
        [
         382791,
         "knightjustin@perry-guerra.info",
         1593249768732607,
         1,
         940.5,
         1,
         [
          "NEWBED10",
          "M_STAN_Q",
          "Standard Queen Mattress",
          940.5,
          1045.0,
          1
         ]
        ],
        [
         370999,
         "frazieramy@wallace.info",
         1593145097150532,
         2,
         1071.0,
         1,
         [
          "NEWBED10",
          "M_STAN_T",
          "Standard Twin Mattress",
          1071.0,
          595.0,
          2
         ]
        ],
        [
         395104,
         "nicole99@soto.biz",
         1593335048450004,
         1,
         1795.5,
         1,
         [
          "NEWBED10",
          "M_PREM_K",
          "Premium King Mattress",
          1795.5,
          1995.0,
          1
         ]
        ],
        [
         376231,
         "breed@campbell-riddle.com",
         1593192053053847,
         1,
         1525.5,
         1,
         [
          "NEWBED10",
          "M_PREM_F",
          "Premium Full Mattress",
          1525.5,
          1695.0,
          1
         ]
        ],
        [
         381451,
         "serranocarlos@ramirez.com",
         1593228424520215,
         1,
         1075.5,
         1,
         [
          "NEWBED10",
          "M_STAN_K",
          "Standard King Mattress",
          1075.5,
          1195.0,
          1
         ]
        ],
        [
         396364,
         "millercharles@sullivan.org",
         1593347591793732,
         1,
         1795.5,
         1,
         [
          "NEWBED10",
          "M_PREM_K",
          "Premium King Mattress",
          1795.5,
          1995.0,
          1
         ]
        ],
        [
         404991,
         "rdavis@johnson-ware.com",
         1593397151919612,
         1,
         1795.5,
         1,
         [
          "NEWBED10",
          "M_PREM_K",
          "Premium King Mattress",
          1795.5,
          1995.0,
          1
         ]
        ],
        [
         438385,
         "jenniferthornton@cook.com",
         1593658371051750,
         1,
         535.5,
         1,
         [
          "NEWBED10",
          "M_STAN_T",
          "Standard Twin Mattress",
          535.5,
          595.0,
          1
         ]
        ],
        [
         414479,
         "paige26@garcia.com",
         1593473850099111,
         1,
         940.5,
         1,
         [
          "NEWBED10",
          "M_STAN_Q",
          "Standard Queen Mattress",
          940.5,
          1045.0,
          1
         ]
        ],
        [
         388941,
         "gturner@crawford-evans.com",
         1593283280386234,
         1,
         940.5,
         1,
         [
          "NEWBED10",
          "M_STAN_Q",
          "Standard Queen Mattress",
          940.5,
          1045.0,
          1
         ]
        ],
        [
         429252,
         "samuelhopkins@yahoo.com",
         1593598995669388,
         1,
         1075.5,
         1,
         [
          "NEWBED10",
          "M_STAN_K",
          "Standard King Mattress",
          1075.5,
          1195.0,
          1
         ]
        ],
        [
         439642,
         "sharper42@yahoo.com",
         1593677043956250,
         1,
         535.5,
         1,
         [
          "NEWBED10",
          "M_STAN_T",
          "Standard Twin Mattress",
          535.5,
          595.0,
          1
         ]
        ],
        [
         395190,
         "deborah83@gmail.com",
         1593336266947493,
         1,
         535.5,
         1,
         [
          "NEWBED10",
          "M_STAN_T",
          "Standard Twin Mattress",
          535.5,
          595.0,
          1
         ]
        ],
        [
         417746,
         "oburns38@gmail.com",
         1593515830755138,
         1,
         850.5,
         1,
         [
          "NEWBED10",
          "M_STAN_F",
          "Standard Full Mattress",
          850.5,
          945.0,
          1
         ]
        ],
        [
         439608,
         "bstafford@reed-west.biz",
         1593676544843942,
         1,
         1525.5,
         1,
         [
          "NEWBED10",
          "M_PREM_F",
          "Premium Full Mattress",
          1525.5,
          1695.0,
          1
         ]
        ],
        [
         424389,
         "ashley08@nguyen.org",
         1593549444055756,
         1,
         1615.5,
         1,
         [
          "NEWBED10",
          "M_PREM_Q",
          "Premium Queen Mattress",
          1615.5,
          1795.0,
          1
         ]
        ],
        [
         428768,
         "jessicaduran@hotmail.com",
         1593593342551060,
         1,
         985.5,
         1,
         [
          "NEWBED10",
          "M_PREM_T",
          "Premium Twin Mattress",
          985.5,
          1095.0,
          1
         ]
        ],
        [
         451281,
         "stephaniesullivan58@hotmail.com",
         1593750755086567,
         1,
         1795.5,
         1,
         [
          "NEWBED10",
          "M_PREM_K",
          "Premium King Mattress",
          1795.5,
          1995.0,
          1
         ]
        ],
        [
         446674,
         "maria02@benton-wiley.com",
         1593717562959201,
         1,
         985.5,
         1,
         [
          "NEWBED10",
          "M_PREM_T",
          "Premium Twin Mattress",
          985.5,
          1095.0,
          1
         ]
        ],
        [
         461928,
         "rgonzalez@castillo.com",
         1593830195203624,
         1,
         535.5,
         1,
         [
          "NEWBED10",
          "M_STAN_T",
          "Standard Twin Mattress",
          535.5,
          595.0,
          1
         ]
        ],
        [
         276675,
         "jamesrose@young.info",
         1592434895685408,
         1,
         1075.5,
         1,
         [
          "NEWBED10",
          "M_STAN_K",
          "Standard King Mattress",
          1075.5,
          1195.0,
          1
         ]
        ],
        [
         294150,
         "eric7117@hotmail.com",
         1592594363892277,
         1,
         1075.5,
         1,
         [
          "NEWBED10",
          "M_STAN_K",
          "Standard King Mattress",
          1075.5,
          1195.0,
          1
         ]
        ],
        [
         282571,
         "ashleypalmer@hotmail.com",
         1592504024583885,
         3,
         3136.5,
         2,
         [
          "NEWBED10",
          "M_STAN_K",
          "Standard King Mattress",
          2151.0,
          1195.0,
          2
         ]
        ],
        [
         282571,
         "ashleypalmer@hotmail.com",
         1592504024583885,
         3,
         3136.5,
         2,
         [
          "NEWBED10",
          "M_PREM_T",
          "Premium Twin Mattress",
          985.5,
          1095.0,
          1
         ]
        ],
        [
         298817,
         "brandonlopez@sanchez-weaver.com",
         1592633281515006,
         1,
         535.5,
         1,
         [
          "NEWBED10",
          "M_STAN_T",
          "Standard Twin Mattress",
          535.5,
          595.0,
          1
         ]
        ],
        [
         304924,
         "sandovalvalerie@hernandez-rangel.com",
         1592673356767557,
         1,
         940.5,
         1,
         [
          "NEWBED10",
          "M_STAN_Q",
          "Standard Queen Mattress",
          940.5,
          1045.0,
          1
         ]
        ],
        [
         297587,
         "twagner@hotmail.com",
         1592614990296209,
         1,
         940.5,
         1,
         [
          "NEWBED10",
          "M_STAN_Q",
          "Standard Queen Mattress",
          940.5,
          1045.0,
          1
         ]
        ],
        [
         288907,
         "susan7270@yahoo.com",
         1592567175071322,
         1,
         1075.5,
         1,
         [
          "NEWBED10",
          "M_STAN_K",
          "Standard King Mattress",
          1075.5,
          1195.0,
          1
         ]
        ],
        [
         299293,
         "michaelfoster@kennedy.com",
         1592641229501745,
         1,
         1075.5,
         1,
         [
          "NEWBED10",
          "M_STAN_K",
          "Standard King Mattress",
          1075.5,
          1195.0,
          1
         ]
        ],
        [
         293381,
         "dawnblackburn@christensen.biz",
         1592591126271580,
         1,
         535.5,
         1,
         [
          "NEWBED10",
          "M_STAN_T",
          "Standard Twin Mattress",
          535.5,
          595.0,
          1
         ]
        ],
        [
         333466,
         "whitelawrence@hotmail.com",
         1592864518727027,
         1,
         1075.5,
         1,
         [
          "NEWBED10",
          "M_STAN_K",
          "Standard King Mattress",
          1075.5,
          1195.0,
          1
         ]
        ],
        [
         335411,
         "rodriguezlori30@gmail.com",
         1592882285159720,
         1,
         1075.5,
         1,
         [
          "NEWBED10",
          "M_STAN_K",
          "Standard King Mattress",
          1075.5,
          1195.0,
          1
         ]
        ],
        [
         308490,
         "moorecarol@harris.com",
         1592686503881505,
         1,
         535.5,
         1,
         [
          "NEWBED10",
          "M_STAN_T",
          "Standard Twin Mattress",
          535.5,
          595.0,
          1
         ]
        ],
        [
         327080,
         "williamsmith@walsh.com",
         1592832175695993,
         1,
         535.5,
         1,
         [
          "NEWBED10",
          "M_STAN_T",
          "Standard Twin Mattress",
          535.5,
          595.0,
          1
         ]
        ],
        [
         325233,
         "waltersseth@hotmail.com",
         1592812766639414,
         1,
         535.5,
         1,
         [
          "NEWBED10",
          "M_STAN_T",
          "Standard Twin Mattress",
          535.5,
          595.0,
          1
         ]
        ],
        [
         340403,
         "leblancbobby@hotmail.com",
         1592927254062403,
         1,
         850.5,
         1,
         [
          "NEWBED10",
          "M_STAN_F",
          "Standard Full Mattress",
          850.5,
          945.0,
          1
         ]
        ],
        [
         343729,
         "collinstammy@norton-bell.com",
         1592941158875630,
         1,
         1075.5,
         1,
         [
          "NEWBED10",
          "M_STAN_K",
          "Standard King Mattress",
          1075.5,
          1195.0,
          1
         ]
        ],
        [
         339147,
         "amandacline@rangel-castro.com",
         1592921327884397,
         1,
         850.5,
         1,
         [
          "NEWBED10",
          "M_STAN_F",
          "Standard Full Mattress",
          850.5,
          945.0,
          1
         ]
        ],
        [
         325378,
         "mark70@yahoo.com",
         1592814896582986,
         1,
         940.5,
         1,
         [
          "NEWBED10",
          "M_STAN_Q",
          "Standard Queen Mattress",
          940.5,
          1045.0,
          1
         ]
        ],
        [
         347182,
         "hernandezmartin@thomas.com",
         1592961360909949,
         1,
         1525.5,
         1,
         [
          "NEWBED10",
          "M_PREM_F",
          "Premium Full Mattress",
          1525.5,
          1695.0,
          1
         ]
        ],
        [
         360490,
         "traceygaines@anderson.com",
         1593065428942360,
         1,
         535.5,
         1,
         [
          "NEWBED10",
          "M_STAN_T",
          "Standard Twin Mattress",
          535.5,
          595.0,
          1
         ]
        ],
        [
         346869,
         "grahamcody@gmail.com",
         1592958852847924,
         2,
         2331.0,
         2,
         [
          "NEWBED10",
          "M_STAN_T",
          "Standard Twin Mattress",
          535.5,
          595.0,
          1
         ]
        ],
        [
         346869,
         "grahamcody@gmail.com",
         1592958852847924,
         2,
         2331.0,
         2,
         [
          "NEWBED10",
          "M_PREM_K",
          "Premium King Mattress",
          1795.5,
          1995.0,
          1
         ]
        ],
        [
         357376,
         "elizabethpace@koch.com",
         1593034708313244,
         1,
         985.5,
         1,
         [
          "NEWBED10",
          "M_PREM_T",
          "Premium Twin Mattress",
          985.5,
          1095.0,
          1
         ]
        ],
        [
         376800,
         "brucecrawford@hotmail.com",
         1593194691755686,
         1,
         940.5,
         1,
         [
          "NEWBED10",
          "M_STAN_Q",
          "Standard Queen Mattress",
          940.5,
          1045.0,
          1
         ]
        ],
        [
         349334,
         "barbarafuentes@johnson.com",
         1592986941262479,
         1,
         1075.5,
         1,
         [
          "NEWBED10",
          "M_STAN_K",
          "Standard King Mattress",
          1075.5,
          1195.0,
          1
         ]
        ],
        [
         371100,
         "gary92@morales.net",
         1593146597799894,
         1,
         1075.5,
         1,
         [
          "NEWBED10",
          "M_STAN_K",
          "Standard King Mattress",
          1075.5,
          1195.0,
          1
         ]
        ],
        [
         363604,
         "katiegonzalez@hotmail.com",
         1593095878118429,
         1,
         535.5,
         1,
         [
          "NEWBED10",
          "M_STAN_T",
          "Standard Twin Mattress",
          535.5,
          595.0,
          1
         ]
        ],
        [
         372962,
         "amberrogers46@yahoo.com",
         1593172505910485,
         1,
         850.5,
         1,
         [
          "NEWBED10",
          "M_STAN_F",
          "Standard Full Mattress",
          850.5,
          945.0,
          1
         ]
        ],
        [
         391462,
         "abigail8231@gmail.com",
         1593294105467878,
         1,
         535.5,
         1,
         [
          "NEWBED10",
          "M_STAN_T",
          "Standard Twin Mattress",
          535.5,
          595.0,
          1
         ]
        ],
        [
         409649,
         "danielphillips@boyd.com",
         1593446720029731,
         1,
         535.5,
         1,
         [
          "NEWBED10",
          "M_STAN_T",
          "Standard Twin Mattress",
          535.5,
          595.0,
          1
         ]
        ],
        [
         391357,
         "ynelson77@gmail.com",
         1593293609750921,
         1,
         1795.5,
         1,
         [
          "NEWBED10",
          "M_PREM_K",
          "Premium King Mattress",
          1795.5,
          1995.0,
          1
         ]
        ],
        [
         400150,
         "erika00@olsen.org",
         1593367263916917,
         1,
         940.5,
         1,
         [
          "NEWBED10",
          "M_STAN_Q",
          "Standard Queen Mattress",
          940.5,
          1045.0,
          1
         ]
        ],
        [
         405527,
         "williamgiles@carr.com",
         1593404704389650,
         1,
         940.5,
         1,
         [
          "NEWBED10",
          "M_STAN_Q",
          "Standard Queen Mattress",
          940.5,
          1045.0,
          1
         ]
        ],
        [
         399820,
         "westes@davis.com",
         1593365792799696,
         1,
         940.5,
         1,
         [
          "NEWBED10",
          "M_STAN_Q",
          "Standard Queen Mattress",
          940.5,
          1045.0,
          1
         ]
        ],
        [
         409876,
         "jessica52@bennett-bell.com",
         1593447961614691,
         2,
         1128.6,
         2,
         [
          "NEWBED10",
          "M_STAN_K",
          "Standard King Mattress",
          1075.5,
          1195.0,
          1
         ]
        ],
        [
         409876,
         "jessica52@bennett-bell.com",
         1593447961614691,
         2,
         1128.6,
         2,
         [
          "NEWBED10",
          "P_FOAM_S",
          "Standard Foam Pillow",
          53.1,
          59.0,
          1
         ]
        ],
        [
         418668,
         "smalltimothy@jackson.com",
         1593522602243091,
         1,
         535.5,
         1,
         [
          "NEWBED10",
          "M_STAN_T",
          "Standard Twin Mattress",
          535.5,
          595.0,
          1
         ]
        ],
        [
         451701,
         "daniel7231@gmail.com",
         1593757581041275,
         1,
         107.10000000000001,
         1,
         [
          "NEWBED10",
          "P_DOWN_S",
          "Standard Down Pillow",
          107.10000000000001,
          119.0,
          1
         ]
        ],
        [
         464211,
         "zwarren@gmail.com",
         1593861178333249,
         1,
         985.5,
         1,
         [
          "NEWBED10",
          "M_PREM_T",
          "Premium Twin Mattress",
          985.5,
          1095.0,
          1
         ]
        ],
        [
         465556,
         "greynolds@patel.com",
         1593870138124733,
         1,
         535.5,
         1,
         [
          "NEWBED10",
          "M_STAN_T",
          "Standard Twin Mattress",
          535.5,
          595.0,
          1
         ]
        ],
        [
         294598,
         "moorepatricia@ryan-price.biz",
         1592596427665939,
         2,
         642.6,
         2,
         [
          "NEWBED10",
          "M_STAN_T",
          "Standard Twin Mattress",
          535.5,
          595.0,
          1
         ]
        ],
        [
         294598,
         "moorepatricia@ryan-price.biz",
         1592596427665939,
         2,
         642.6,
         2,
         [
          "NEWBED10",
          "P_DOWN_S",
          "Standard Down Pillow",
          107.10000000000001,
          119.0,
          1
         ]
        ],
        [
         277431,
         "justincombs@combs.com",
         1592445502988216,
         1,
         850.5,
         1,
         [
          "NEWBED10",
          "M_STAN_F",
          "Standard Full Mattress",
          850.5,
          945.0,
          1
         ]
        ],
        [
         282614,
         "pittmandanielle@stevenson.com",
         1592504253054729,
         1,
         850.5,
         1,
         [
          "NEWBED10",
          "M_STAN_F",
          "Standard Full Mattress",
          850.5,
          945.0,
          1
         ]
        ],
        [
         286425,
         "jessicashepherd@smith-johnson.com",
         1592529179566550,
         2,
         1578.6,
         2,
         [
          "NEWBED10",
          "M_PREM_F",
          "Premium Full Mattress",
          1525.5,
          1695.0,
          1
         ]
        ],
        [
         286425,
         "jessicashepherd@smith-johnson.com",
         1592529179566550,
         2,
         1578.6,
         2,
         [
          "NEWBED10",
          "P_FOAM_S",
          "Standard Foam Pillow",
          53.1,
          59.0,
          1
         ]
        ],
        [
         273035,
         "margaret49@spence.com",
         1592411064955745,
         1,
         850.5,
         1,
         [
          "NEWBED10",
          "M_STAN_F",
          "Standard Full Mattress",
          850.5,
          945.0,
          1
         ]
        ],
        [
         299739,
         "yfigueroa@yahoo.com",
         1592646648534271,
         1,
         535.5,
         1,
         [
          "NEWBED10",
          "M_STAN_T",
          "Standard Twin Mattress",
          535.5,
          595.0,
          1
         ]
        ],
        [
         284903,
         "joymurray@hotmail.com",
         1592516139146890,
         1,
         1075.5,
         1,
         [
          "NEWBED10",
          "M_STAN_K",
          "Standard King Mattress",
          1075.5,
          1195.0,
          1
         ]
        ],
        [
         312468,
         "hunterricky@gmail.com",
         1592720004771724,
         1,
         850.5,
         1,
         [
          "NEWBED10",
          "M_STAN_F",
          "Standard Full Mattress",
          850.5,
          945.0,
          1
         ]
        ],
        [
         298671,
         "katherinenguyen@melendez.com",
         1592630835276521,
         1,
         940.5,
         1,
         [
          "NEWBED10",
          "M_STAN_Q",
          "Standard Queen Mattress",
          940.5,
          1045.0,
          1
         ]
        ],
        [
         311326,
         "lawsongordon@yahoo.com",
         1592704567838437,
         1,
         940.5,
         1,
         [
          "NEWBED10",
          "M_STAN_Q",
          "Standard Queen Mattress",
          940.5,
          1045.0,
          1
         ]
        ],
        [
         309105,
         "james63@knox.com",
         1592689437273248,
         2,
         1092.6,
         2,
         [
          "NEWBED10",
          "M_PREM_T",
          "Premium Twin Mattress",
          985.5,
          1095.0,
          1
         ]
        ],
        [
         309105,
         "james63@knox.com",
         1592689437273248,
         2,
         1092.6,
         2,
         [
          "NEWBED10",
          "P_DOWN_S",
          "Standard Down Pillow",
          107.10000000000001,
          119.0,
          1
         ]
        ],
        [
         295055,
         "nicolecox@white.com",
         1592598441044565,
         1,
         1795.5,
         1,
         [
          "NEWBED10",
          "M_PREM_K",
          "Premium King Mattress",
          1795.5,
          1995.0,
          1
         ]
        ],
        [
         334934,
         "corey28@hotmail.com",
         1592876588827157,
         1,
         535.5,
         1,
         [
          "NEWBED10",
          "M_STAN_T",
          "Standard Twin Mattress",
          535.5,
          595.0,
          1
         ]
        ],
        [
         315391,
         "ajohnson@calderon.info",
         1592748438615059,
         1,
         850.5,
         1,
         [
          "NEWBED10",
          "M_STAN_F",
          "Standard Full Mattress",
          850.5,
          945.0,
          1
         ]
        ],
        [
         316285,
         "donaldglenn@nichols.com",
         1592752784713886,
         1,
         1795.5,
         1,
         [
          "NEWBED10",
          "M_PREM_K",
          "Premium King Mattress",
          1795.5,
          1995.0,
          1
         ]
        ],
        [
         334431,
         "rachael94@wilson-boyd.info",
         1592871649222315,
         1,
         850.5,
         1,
         [
          "NEWBED10",
          "M_STAN_F",
          "Standard Full Mattress",
          850.5,
          945.0,
          1
         ]
        ],
        [
         326503,
         "amberharris60@yahoo.com",
         1592827757189995,
         1,
         940.5,
         1,
         [
          "NEWBED10",
          "M_STAN_Q",
          "Standard Queen Mattress",
          940.5,
          1045.0,
          1
         ]
        ],
        [
         353851,
         "iwright66@gmail.com",
         1593018365217326,
         1,
         850.5,
         1,
         [
          "NEWBED10",
          "M_STAN_F",
          "Standard Full Mattress",
          850.5,
          945.0,
          1
         ]
        ],
        [
         346518,
         "qwade@jones.biz",
         1592956094670612,
         1,
         1615.5,
         1,
         [
          "NEWBED10",
          "M_PREM_Q",
          "Premium Queen Mattress",
          1615.5,
          1795.0,
          1
         ]
        ],
        [
         341641,
         "mkrause@gmail.com",
         1592932626340895,
         1,
         940.5,
         1,
         [
          "NEWBED10",
          "M_STAN_Q",
          "Standard Queen Mattress",
          940.5,
          1045.0,
          1
         ]
        ],
        [
         332874,
         "clewis@martinez.com",
         1592861177544647,
         1,
         850.5,
         1,
         [
          "NEWBED10",
          "M_STAN_F",
          "Standard Full Mattress",
          850.5,
          945.0,
          1
         ]
        ],
        [
         339131,
         "selenarodriguez@yahoo.com",
         1592921216239143,
         1,
         107.10000000000001,
         1,
         [
          "NEWBED10",
          "P_DOWN_S",
          "Standard Down Pillow",
          107.10000000000001,
          119.0,
          1
         ]
        ],
        [
         372856,
         "kristiewilliams@coleman-garcia.com",
         1593171596152062,
         1,
         1525.5,
         1,
         [
          "NEWBED10",
          "M_PREM_F",
          "Premium Full Mattress",
          1525.5,
          1695.0,
          1
         ]
        ],
        [
         361585,
         "sandrarussell@gmail.com",
         1593080572854328,
         1,
         940.5,
         1,
         [
          "NEWBED10",
          "M_STAN_Q",
          "Standard Queen Mattress",
          940.5,
          1045.0,
          1
         ]
        ],
        [
         373189,
         "josephjohnson@hartman.com",
         1593174565442530,
         1,
         535.5,
         1,
         [
          "NEWBED10",
          "M_STAN_T",
          "Standard Twin Mattress",
          535.5,
          595.0,
          1
         ]
        ],
        [
         390116,
         "sara20@yahoo.com",
         1593287907063621,
         2,
         903.6,
         2,
         [
          "NEWBED10",
          "M_STAN_F",
          "Standard Full Mattress",
          850.5,
          945.0,
          1
         ]
        ],
        [
         390116,
         "sara20@yahoo.com",
         1593287907063621,
         2,
         903.6,
         2,
         [
          "NEWBED10",
          "P_FOAM_S",
          "Standard Foam Pillow",
          53.1,
          59.0,
          1
         ]
        ],
        [
         392146,
         "mwalton@williams-hickman.com",
         1593298152259278,
         1,
         850.5,
         1,
         [
          "NEWBED10",
          "M_STAN_F",
          "Standard Full Mattress",
          850.5,
          945.0,
          1
         ]
        ],
        [
         402247,
         "lesliegaines@gmail.com",
         1593377106239560,
         1,
         1075.5,
         1,
         [
          "NEWBED10",
          "M_STAN_K",
          "Standard King Mattress",
          1075.5,
          1195.0,
          1
         ]
        ],
        [
         407192,
         "ugomez@garcia.info",
         1593429379452004,
         1,
         535.5,
         1,
         [
          "NEWBED10",
          "M_STAN_T",
          "Standard Twin Mattress",
          535.5,
          595.0,
          1
         ]
        ],
        [
         417394,
         "bushcynthia@hinton-williams.com",
         1593512313674722,
         1,
         1525.5,
         1,
         [
          "NEWBED10",
          "M_PREM_F",
          "Premium Full Mattress",
          1525.5,
          1695.0,
          1
         ]
        ],
        [
         405919,
         "williamswilliam7@gmail.com",
         1593411136386651,
         2,
         1182.6,
         2,
         [
          "NEWBED10",
          "M_STAN_K",
          "Standard King Mattress",
          1075.5,
          1195.0,
          1
         ]
        ],
        [
         405919,
         "williamswilliam7@gmail.com",
         1593411136386651,
         2,
         1182.6,
         2,
         [
          "NEWBED10",
          "P_DOWN_S",
          "Standard Down Pillow",
          107.10000000000001,
          119.0,
          1
         ]
        ],
        [
         419303,
         "nhernandez@vaughn.info",
         1593526460923807,
         1,
         850.5,
         1,
         [
          "NEWBED10",
          "M_STAN_F",
          "Standard Full Mattress",
          850.5,
          945.0,
          1
         ]
        ],
        [
         443277,
         "ashleycoleman@garcia.com",
         1593704195723550,
         1,
         940.5,
         1,
         [
          "NEWBED10",
          "M_STAN_Q",
          "Standard Queen Mattress",
          940.5,
          1045.0,
          1
         ]
        ],
        [
         416157,
         "christiangonzales@hotmail.com",
         1593494601108172,
         1,
         940.5,
         1,
         [
          "NEWBED10",
          "M_STAN_Q",
          "Standard Queen Mattress",
          940.5,
          1045.0,
          1
         ]
        ],
        [
         406841,
         "matthew66@hotmail.com",
         1593425367216551,
         1,
         985.5,
         1,
         [
          "NEWBED10",
          "M_PREM_T",
          "Premium Twin Mattress",
          985.5,
          1095.0,
          1
         ]
        ],
        [
         432868,
         "youngkeith@grant-pitts.com",
         1593622450622394,
         2,
         957.6,
         2,
         [
          "NEWBED10",
          "M_STAN_F",
          "Standard Full Mattress",
          850.5,
          945.0,
          1
         ]
        ],
        [
         432868,
         "youngkeith@grant-pitts.com",
         1593622450622394,
         2,
         957.6,
         2,
         [
          "NEWBED10",
          "P_DOWN_S",
          "Standard Down Pillow",
          107.10000000000001,
          119.0,
          1
         ]
        ],
        [
         435789,
         "gstone@yahoo.com",
         1593637080812100,
         2,
         1083.6,
         2,
         [
          "NEWBED10",
          "M_STAN_Q",
          "Standard Queen Mattress",
          940.5,
          1045.0,
          1
         ]
        ],
        [
         435789,
         "gstone@yahoo.com",
         1593637080812100,
         2,
         1083.6,
         2,
         [
          "NEWBED10",
          "P_DOWN_K",
          "King Down Pillow",
          143.1,
          159.0,
          1
         ]
        ],
        [
         430110,
         "aguilarcraig@yahoo.com",
         1593606987904261,
         1,
         107.10000000000001,
         1,
         [
          "NEWBED10",
          "P_DOWN_S",
          "Standard Down Pillow",
          107.10000000000001,
          119.0,
          1
         ]
        ],
        [
         435129,
         "brenda35@reilly.com",
         1593633447913086,
         1,
         1615.5,
         1,
         [
          "NEWBED10",
          "M_PREM_Q",
          "Premium Queen Mattress",
          1615.5,
          1795.0,
          1
         ]
        ],
        [
         458518,
         "tfrancis@hotmail.com",
         1593806009750530,
         1,
         535.5,
         1,
         [
          "NEWBED10",
          "M_STAN_T",
          "Standard Twin Mattress",
          535.5,
          595.0,
          1
         ]
        ],
        [
         450115,
         "angelafernandez@hess-austin.com",
         1593736753934410,
         1,
         535.5,
         1,
         [
          "NEWBED10",
          "M_STAN_T",
          "Standard Twin Mattress",
          535.5,
          595.0,
          1
         ]
        ],
        [
         443370,
         "jburke@russell-johnston.com",
         1593704579729452,
         1,
         940.5,
         1,
         [
          "NEWBED10",
          "M_STAN_Q",
          "Standard Queen Mattress",
          940.5,
          1045.0,
          1
         ]
        ],
        [
         450543,
         "joseph83@yahoo.com",
         1593740898879965,
         1,
         143.1,
         1,
         [
          "NEWBED10",
          "P_DOWN_K",
          "King Down Pillow",
          143.1,
          159.0,
          1
         ]
        ],
        [
         450861,
         "ronald9911@gmail.com",
         1593744958948253,
         2,
         1182.6,
         2,
         [
          "NEWBED10",
          "M_STAN_K",
          "Standard King Mattress",
          1075.5,
          1195.0,
          1
         ]
        ],
        [
         450861,
         "ronald9911@gmail.com",
         1593744958948253,
         2,
         1182.6,
         2,
         [
          "NEWBED10",
          "P_DOWN_S",
          "Standard Down Pillow",
          107.10000000000001,
          119.0,
          1
         ]
        ],
        [
         435300,
         "leslie0898@hotmail.com",
         1593634344936762,
         1,
         940.5,
         1,
         [
          "NEWBED10",
          "M_STAN_Q",
          "Standard Queen Mattress",
          940.5,
          1045.0,
          1
         ]
        ],
        [
         447715,
         "lindseybryant@hotmail.com",
         1593721933454440,
         2,
         588.6,
         2,
         [
          "NEWBED10",
          "M_STAN_T",
          "Standard Twin Mattress",
          535.5,
          595.0,
          1
         ]
        ],
        [
         447715,
         "lindseybryant@hotmail.com",
         1593721933454440,
         2,
         588.6,
         2,
         [
          "NEWBED10",
          "P_FOAM_S",
          "Standard Foam Pillow",
          53.1,
          59.0,
          1
         ]
        ],
        [
         445492,
         "martingutierrez@wilson-olson.com",
         1593712917989759,
         1,
         940.5,
         1,
         [
          "NEWBED10",
          "M_STAN_Q",
          "Standard Queen Mattress",
          940.5,
          1045.0,
          1
         ]
        ],
        [
         462676,
         "fbell@jackson-mahoney.com",
         1593841901439519,
         2,
         1128.6,
         2,
         [
          "NEWBED10",
          "M_STAN_K",
          "Standard King Mattress",
          1075.5,
          1195.0,
          1
         ]
        ],
        [
         462676,
         "fbell@jackson-mahoney.com",
         1593841901439519,
         2,
         1128.6,
         2,
         [
          "NEWBED10",
          "P_FOAM_S",
          "Standard Foam Pillow",
          53.1,
          59.0,
          1
         ]
        ],
        [
         453451,
         "davidgarcia58@hotmail.com",
         1593780450653262,
         1,
         985.5,
         1,
         [
          "NEWBED10",
          "M_PREM_T",
          "Premium Twin Mattress",
          985.5,
          1095.0,
          1
         ]
        ],
        [
         292133,
         "stevenmiller@jackson.com",
         1592585684643183,
         1,
         1075.5,
         1,
         [
          "NEWBED10",
          "M_STAN_K",
          "Standard King Mattress",
          1075.5,
          1195.0,
          1
         ]
        ],
        [
         271495,
         "philip07@yahoo.com",
         1592398489237964,
         1,
         940.5,
         1,
         [
          "NEWBED10",
          "M_STAN_Q",
          "Standard Queen Mattress",
          940.5,
          1045.0,
          1
         ]
        ],
        [
         294663,
         "westheather@thomas.net",
         1592596730134363,
         1,
         535.5,
         1,
         [
          "NEWBED10",
          "M_STAN_T",
          "Standard Twin Mattress",
          535.5,
          595.0,
          1
         ]
        ],
        [
         287224,
         "johnsonronald@morgan-miller.com",
         1592541188012453,
         2,
         1926.0,
         2,
         [
          "NEWBED10",
          "M_STAN_Q",
          "Standard Queen Mattress",
          940.5,
          1045.0,
          1
         ]
        ],
        [
         287224,
         "johnsonronald@morgan-miller.com",
         1592541188012453,
         2,
         1926.0,
         2,
         [
          "NEWBED10",
          "M_PREM_T",
          "Premium Twin Mattress",
          985.5,
          1095.0,
          1
         ]
        ],
        [
         270908,
         "pwallace@martin-burke.com",
         1592388327136913,
         2,
         1611.0,
         2,
         [
          "NEWBED10",
          "M_STAN_K",
          "Standard King Mattress",
          1075.5,
          1195.0,
          1
         ]
        ],
        [
         270908,
         "pwallace@martin-burke.com",
         1592388327136913,
         2,
         1611.0,
         2,
         [
          "NEWBED10",
          "M_STAN_T",
          "Standard Twin Mattress",
          535.5,
          595.0,
          1
         ]
        ],
        [
         299805,
         "manderson@vance-colon.info",
         1592647458916966,
         1,
         535.5,
         1,
         [
          "NEWBED10",
          "M_STAN_T",
          "Standard Twin Mattress",
          535.5,
          595.0,
          1
         ]
        ],
        [
         290003,
         "ihernandez@warren.com",
         1592575325164839,
         1,
         940.5,
         1,
         [
          "NEWBED10",
          "M_STAN_Q",
          "Standard Queen Mattress",
          940.5,
          1045.0,
          1
         ]
        ],
        [
         311781,
         "taylorronald@gmail.com",
         1592710170187774,
         2,
         2061.0,
         2,
         [
          "NEWBED10",
          "M_PREM_T",
          "Premium Twin Mattress",
          985.5,
          1095.0,
          1
         ]
        ],
        [
         311781,
         "taylorronald@gmail.com",
         1592710170187774,
         2,
         2061.0,
         2,
         [
          "NEWBED10",
          "M_STAN_K",
          "Standard King Mattress",
          1075.5,
          1195.0,
          1
         ]
        ],
        [
         299696,
         "debraadams@little.biz",
         1592646005230340,
         1,
         1615.5,
         1,
         [
          "NEWBED10",
          "M_PREM_Q",
          "Premium Queen Mattress",
          1615.5,
          1795.0,
          1
         ]
        ],
        [
         324727,
         "michael50@yahoo.com",
         1592804649217528,
         1,
         1075.5,
         1,
         [
          "NEWBED10",
          "M_STAN_K",
          "Standard King Mattress",
          1075.5,
          1195.0,
          1
         ]
        ],
        [
         326814,
         "jennifer32@brennan.com",
         1592830301087332,
         1,
         940.5,
         1,
         [
          "NEWBED10",
          "M_STAN_Q",
          "Standard Queen Mattress",
          940.5,
          1045.0,
          1
         ]
        ],
        [
         326866,
         "tracie86@smith.com",
         1592830574780440,
         1,
         535.5,
         1,
         [
          "NEWBED10",
          "M_STAN_T",
          "Standard Twin Mattress",
          535.5,
          595.0,
          1
         ]
        ],
        [
         322748,
         "sawyerkayla@mclaughlin-meadows.com",
         1592781808039614,
         1,
         535.5,
         1,
         [
          "NEWBED10",
          "M_STAN_T",
          "Standard Twin Mattress",
          535.5,
          595.0,
          1
         ]
        ],
        [
         300628,
         "andrewedwards@goodwin-flores.info",
         1592654421620259,
         2,
         2736.0,
         2,
         [
          "NEWBED10",
          "M_PREM_K",
          "Premium King Mattress",
          1795.5,
          1995.0,
          1
         ]
        ],
        [
         300628,
         "andrewedwards@goodwin-flores.info",
         1592654421620259,
         2,
         2736.0,
         2,
         [
          "NEWBED10",
          "M_STAN_Q",
          "Standard Queen Mattress",
          940.5,
          1045.0,
          1
         ]
        ],
        [
         312820,
         "wilsonderek@medina-lopez.net",
         1592725825426722,
         1,
         1615.5,
         1,
         [
          "NEWBED10",
          "M_PREM_Q",
          "Premium Queen Mattress",
          1615.5,
          1795.0,
          1
         ]
        ],
        [
         305643,
         "ppope@yahoo.com",
         1592675912710306,
         1,
         1075.5,
         1,
         [
          "NEWBED10",
          "M_STAN_K",
          "Standard King Mattress",
          1075.5,
          1195.0,
          1
         ]
        ],
        [
         326952,
         "michael41@richardson-roberts.com",
         1592831196284356,
         1,
         1075.5,
         1,
         [
          "NEWBED10",
          "M_STAN_K",
          "Standard King Mattress",
          1075.5,
          1195.0,
          1
         ]
        ],
        [
         343019,
         "jjones27@yahoo.com",
         1592938226927793,
         2,
         1038.6,
         2,
         [
          "NEWBED10",
          "M_PREM_T",
          "Premium Twin Mattress",
          985.5,
          1095.0,
          1
         ]
        ],
        [
         343019,
         "jjones27@yahoo.com",
         1592938226927793,
         2,
         1038.6,
         2,
         [
          "NEWBED10",
          "P_FOAM_S",
          "Standard Foam Pillow",
          53.1,
          59.0,
          1
         ]
        ],
        [
         360885,
         "elliottrodney@hart.org",
         1593071443022546,
         1,
         1525.5,
         1,
         [
          "NEWBED10",
          "M_PREM_F",
          "Premium Full Mattress",
          1525.5,
          1695.0,
          1
         ]
        ],
        [
         347686,
         "gpeterson@campos.org",
         1592966214678786,
         1,
         850.5,
         1,
         [
          "NEWBED10",
          "M_STAN_F",
          "Standard Full Mattress",
          850.5,
          945.0,
          1
         ]
        ],
        [
         346972,
         "kathryndavis@anderson.com",
         1592959583756296,
         1,
         985.5,
         1,
         [
          "NEWBED10",
          "M_PREM_T",
          "Premium Twin Mattress",
          985.5,
          1095.0,
          1
         ]
        ],
        [
         330138,
         "rhernandez97@hotmail.com",
         1592848218334308,
         1,
         1075.5,
         1,
         [
          "NEWBED10",
          "M_STAN_K",
          "Standard King Mattress",
          1075.5,
          1195.0,
          1
         ]
        ],
        [
         362662,
         "smcconnell@gmail.com",
         1593089859319955,
         1,
         1525.5,
         1,
         [
          "NEWBED10",
          "M_PREM_F",
          "Premium Full Mattress",
          1525.5,
          1695.0,
          1
         ]
        ],
        [
         373475,
         "ocox65@gmail.com",
         1593176829210089,
         1,
         940.5,
         1,
         [
          "NEWBED10",
          "M_STAN_Q",
          "Standard Queen Mattress",
          940.5,
          1045.0,
          1
         ]
        ],
        [
         350833,
         "davidwang56@gmail.com",
         1593002125556319,
         2,
         1791.0,
         2,
         [
          "NEWBED10",
          "M_STAN_F",
          "Standard Full Mattress",
          850.5,
          945.0,
          1
         ]
        ],
        [
         350833,
         "davidwang56@gmail.com",
         1593002125556319,
         2,
         1791.0,
         2,
         [
          "NEWBED10",
          "M_STAN_Q",
          "Standard Queen Mattress",
          940.5,
          1045.0,
          1
         ]
        ],
        [
         382271,
         "lisamartinez@hotmail.com",
         1593241574325522,
         1,
         1615.5,
         1,
         [
          "NEWBED10",
          "M_PREM_Q",
          "Premium Queen Mattress",
          1615.5,
          1795.0,
          1
         ]
        ],
        [
         380908,
         "erica9148@gmail.com",
         1593221323883568,
         1,
         1075.5,
         1,
         [
          "NEWBED10",
          "M_STAN_K",
          "Standard King Mattress",
          1075.5,
          1195.0,
          1
         ]
        ],
        [
         357366,
         "janetmcgrath@hotmail.com",
         1593034652192744,
         1,
         1615.5,
         1,
         [
          "NEWBED10",
          "M_PREM_Q",
          "Premium Queen Mattress",
          1615.5,
          1795.0,
          1
         ]
        ],
        [
         382562,
         "hjones@deleon.com",
         1593246322089335,
         3,
         1124.1,
         2,
         [
          "NEWBED10",
          "M_STAN_T",
          "Standard Twin Mattress",
          1071.0,
          595.0,
          2
         ]
        ],
        [
         382562,
         "hjones@deleon.com",
         1593246322089335,
         3,
         1124.1,
         2,
         [
          "NEWBED10",
          "P_FOAM_S",
          "Standard Foam Pillow",
          53.1,
          59.0,
          1
         ]
        ],
        [
         404887,
         "floreskelly@hicks-gonzales.biz",
         1593395775091935,
         1,
         985.5,
         1,
         [
          "NEWBED10",
          "M_PREM_T",
          "Premium Twin Mattress",
          985.5,
          1095.0,
          1
         ]
        ],
        [
         370948,
         "fmartin@crawford.info",
         1593144462703640,
         1,
         1075.5,
         1,
         [
          "NEWBED10",
          "M_STAN_K",
          "Standard King Mattress",
          1075.5,
          1195.0,
          1
         ]
        ],
        [
         394295,
         "keith37@garcia.com",
         1593322253985444,
         1,
         53.1,
         1,
         [
          "NEWBED10",
          "P_FOAM_S",
          "Standard Foam Pillow",
          53.1,
          59.0,
          1
         ]
        ],
        [
         404530,
         "hpittman98@gmail.com",
         1593392264027718,
         1,
         940.5,
         1,
         [
          "NEWBED10",
          "M_STAN_Q",
          "Standard Queen Mattress",
          940.5,
          1045.0,
          1
         ]
        ],
        [
         396634,
         "sullivananna@martin-wood.com",
         1593349546601112,
         1,
         535.5,
         1,
         [
          "NEWBED10",
          "M_STAN_T",
          "Standard Twin Mattress",
          535.5,
          595.0,
          1
         ]
        ],
        [
         405109,
         "monica68@hotmail.com",
         1593398588490258,
         1,
         940.5,
         1,
         [
          "NEWBED10",
          "M_STAN_Q",
          "Standard Queen Mattress",
          940.5,
          1045.0,
          1
         ]
        ],
        [
         404406,
         "leblanctammy@yahoo.com",
         1593391190983400,
         1,
         535.5,
         1,
         [
          "NEWBED10",
          "M_STAN_T",
          "Standard Twin Mattress",
          535.5,
          595.0,
          1
         ]
        ],
        [
         402452,
         "luis62@yahoo.com",
         1593378117604857,
         1,
         940.5,
         1,
         [
          "NEWBED10",
          "M_STAN_Q",
          "Standard Queen Mattress",
          940.5,
          1045.0,
          1
         ]
        ],
        [
         412651,
         "crystalmcdonald@logan.biz",
         1593461704084632,
         1,
         940.5,
         1,
         [
          "NEWBED10",
          "M_STAN_Q",
          "Standard Queen Mattress",
          940.5,
          1045.0,
          1
         ]
        ],
        [
         407397,
         "petersenmegan@yahoo.com",
         1593431488359874,
         1,
         535.5,
         1,
         [
          "NEWBED10",
          "M_STAN_T",
          "Standard Twin Mattress",
          535.5,
          595.0,
          1
         ]
        ],
        [
         415118,
         "daughertyrichard@yahoo.com",
         1593480294677738,
         1,
         940.5,
         1,
         [
          "NEWBED10",
          "M_STAN_Q",
          "Standard Queen Mattress",
          940.5,
          1045.0,
          1
         ]
        ],
        [
         441761,
         "jamiepittman@yahoo.com",
         1593696805715406,
         1,
         1075.5,
         1,
         [
          "NEWBED10",
          "M_STAN_K",
          "Standard King Mattress",
          1075.5,
          1195.0,
          1
         ]
        ],
        [
         437520,
         "pamela1472@hotmail.com",
         1593648780688703,
         1,
         535.5,
         1,
         [
          "NEWBED10",
          "M_STAN_T",
          "Standard Twin Mattress",
          535.5,
          595.0,
          1
         ]
        ],
        [
         415624,
         "ghawkins75@yahoo.com",
         1593486589195571,
         1,
         850.5,
         1,
         [
          "NEWBED10",
          "M_STAN_F",
          "Standard Full Mattress",
          850.5,
          945.0,
          1
         ]
        ],
        [
         407478,
         "rossjoseph92@yahoo.com",
         1593432207573798,
         1,
         535.5,
         1,
         [
          "NEWBED10",
          "M_STAN_T",
          "Standard Twin Mattress",
          535.5,
          595.0,
          1
         ]
        ],
        [
         412984,
         "scott9724@hotmail.com",
         1593463690087156,
         1,
         1075.5,
         1,
         [
          "NEWBED10",
          "M_STAN_K",
          "Standard King Mattress",
          1075.5,
          1195.0,
          1
         ]
        ],
        [
         413871,
         "fespinoza@smith.com",
         1593469072821175,
         1,
         850.5,
         1,
         [
          "NEWBED10",
          "M_STAN_F",
          "Standard Full Mattress",
          850.5,
          945.0,
          1
         ]
        ],
        [
         428935,
         "karina51@gmail.com",
         1593595266709890,
         2,
         1521.0,
         2,
         [
          "NEWBED10",
          "M_STAN_T",
          "Standard Twin Mattress",
          535.5,
          595.0,
          1
         ]
        ],
        [
         428935,
         "karina51@gmail.com",
         1593595266709890,
         2,
         1521.0,
         2,
         [
          "NEWBED10",
          "M_PREM_T",
          "Premium Twin Mattress",
          985.5,
          1095.0,
          1
         ]
        ],
        [
         437368,
         "laurencisneros@gmail.com",
         1593647456439777,
         1,
         535.5,
         1,
         [
          "NEWBED10",
          "M_STAN_T",
          "Standard Twin Mattress",
          535.5,
          595.0,
          1
         ]
        ],
        [
         427832,
         "juliasanchez@gmail.com",
         1593579324805091,
         1,
         850.5,
         1,
         [
          "NEWBED10",
          "M_STAN_F",
          "Standard Full Mattress",
          850.5,
          945.0,
          1
         ]
        ],
        [
         416309,
         "cantrellkaren@owens.com",
         1593496962252165,
         1,
         535.5,
         1,
         [
          "NEWBED10",
          "M_STAN_T",
          "Standard Twin Mattress",
          535.5,
          595.0,
          1
         ]
        ],
        [
         419192,
         "wcampbell24@hotmail.com",
         1593525890026939,
         1,
         940.5,
         1,
         [
          "NEWBED10",
          "M_STAN_Q",
          "Standard Queen Mattress",
          940.5,
          1045.0,
          1
         ]
        ],
        [
         438358,
         "robertburnett@hotmail.com",
         1593658027749221,
         1,
         107.10000000000001,
         1,
         [
          "NEWBED10",
          "P_DOWN_S",
          "Standard Down Pillow",
          107.10000000000001,
          119.0,
          1
         ]
        ],
        [
         465996,
         "jennifer3810@yahoo.com",
         1593872146760454,
         1,
         535.5,
         1,
         [
          "NEWBED10",
          "M_STAN_T",
          "Standard Twin Mattress",
          535.5,
          595.0,
          1
         ]
        ],
        [
         451437,
         "norrismichelle@yahoo.com",
         1593753218936363,
         1,
         1075.5,
         1,
         [
          "NEWBED10",
          "M_STAN_K",
          "Standard King Mattress",
          1075.5,
          1195.0,
          1
         ]
        ],
        [
         461494,
         "fblevins81@hotmail.com",
         1593825078641779,
         1,
         535.5,
         1,
         [
          "NEWBED10",
          "M_STAN_T",
          "Standard Twin Mattress",
          535.5,
          595.0,
          1
         ]
        ],
        [
         467579,
         "jreese@yahoo.com",
         1593878609389927,
         1,
         985.5,
         1,
         [
          "NEWBED10",
          "M_PREM_T",
          "Premium Twin Mattress",
          985.5,
          1095.0,
          1
         ]
        ],
        [
         271803,
         "irwintimothy@hall.com",
         1592401590697033,
         1,
         850.5,
         1,
         [
          "NEWBED10",
          "M_STAN_F",
          "Standard Full Mattress",
          850.5,
          945.0,
          1
         ]
        ],
        [
         273511,
         "heidi09@hotmail.com",
         1592413874607434,
         1,
         850.5,
         1,
         [
          "NEWBED10",
          "M_STAN_F",
          "Standard Full Mattress",
          850.5,
          945.0,
          1
         ]
        ],
        [
         279783,
         "anthony02@webb.net",
         1592488420558254,
         3,
         2866.5,
         2,
         [
          "NEWBED10",
          "M_STAN_T",
          "Standard Twin Mattress",
          1071.0,
          595.0,
          2
         ]
        ],
        [
         279783,
         "anthony02@webb.net",
         1592488420558254,
         3,
         2866.5,
         2,
         [
          "NEWBED10",
          "M_PREM_K",
          "Premium King Mattress",
          1795.5,
          1995.0,
          1
         ]
        ],
        [
         283939,
         "frederick81@bennett.info",
         1592510670017367,
         2,
         1071.0,
         1,
         [
          "NEWBED10",
          "M_STAN_T",
          "Standard Twin Mattress",
          1071.0,
          595.0,
          2
         ]
        ],
        [
         290901,
         "kellie92@hotmail.com",
         1592580232942072,
         1,
         107.10000000000001,
         1,
         [
          "NEWBED10",
          "P_DOWN_S",
          "Standard Down Pillow",
          107.10000000000001,
          119.0,
          1
         ]
        ],
        [
         311262,
         "emilycardenas@perez.com",
         1592703881961011,
         1,
         985.5,
         1,
         [
          "NEWBED10",
          "M_PREM_T",
          "Premium Twin Mattress",
          985.5,
          1095.0,
          1
         ]
        ],
        [
         313880,
         "aaronhunter@willis-green.biz",
         1592737833040326,
         1,
         940.5,
         1,
         [
          "NEWBED10",
          "M_STAN_Q",
          "Standard Queen Mattress",
          940.5,
          1045.0,
          1
         ]
        ],
        [
         304457,
         "barry46@hotmail.com",
         1592671753293437,
         1,
         940.5,
         1,
         [
          "NEWBED10",
          "M_STAN_Q",
          "Standard Queen Mattress",
          940.5,
          1045.0,
          1
         ]
        ],
        [
         331497,
         "keith28@davis.info",
         1592854597418131,
         1,
         985.5,
         1,
         [
          "NEWBED10",
          "M_PREM_T",
          "Premium Twin Mattress",
          985.5,
          1095.0,
          1
         ]
        ],
        [
         311685,
         "woodsdanny@montgomery.biz",
         1592708833680256,
         1,
         535.5,
         1,
         [
          "NEWBED10",
          "M_STAN_T",
          "Standard Twin Mattress",
          535.5,
          595.0,
          1
         ]
        ],
        [
         313983,
         "castanedaanna@cooper-turner.com",
         1592738816196201,
         1,
         535.5,
         1,
         [
          "NEWBED10",
          "M_STAN_T",
          "Standard Twin Mattress",
          535.5,
          595.0,
          1
         ]
        ],
        [
         322938,
         "theresa71@gmail.com",
         1592783167391753,
         1,
         940.5,
         1,
         [
          "NEWBED10",
          "M_STAN_Q",
          "Standard Queen Mattress",
          940.5,
          1045.0,
          1
         ]
        ],
        [
         338440,
         "hansengabriela@yahoo.com",
         1592917023239023,
         2,
         903.6,
         2,
         [
          "NEWBED10",
          "M_STAN_F",
          "Standard Full Mattress",
          850.5,
          945.0,
          1
         ]
        ],
        [
         338440,
         "hansengabriela@yahoo.com",
         1592917023239023,
         2,
         903.6,
         2,
         [
          "NEWBED10",
          "P_FOAM_S",
          "Standard Foam Pillow",
          53.1,
          59.0,
          1
         ]
        ],
        [
         335067,
         "christopherjackson@ortiz.net",
         1592877864473047,
         1,
         1075.5,
         1,
         [
          "NEWBED10",
          "M_STAN_K",
          "Standard King Mattress",
          1075.5,
          1195.0,
          1
         ]
        ],
        [
         348369,
         "randy10@jensen.com",
         1592974174864659,
         2,
         1071.0,
         1,
         [
          "NEWBED10",
          "M_STAN_T",
          "Standard Twin Mattress",
          1071.0,
          595.0,
          2
         ]
        ],
        [
         359350,
         "williamsongeorge@mcdonald-lawrence.com",
         1593049761351044,
         2,
         993.6,
         2,
         [
          "NEWBED10",
          "M_STAN_Q",
          "Standard Queen Mattress",
          940.5,
          1045.0,
          1
         ]
        ],
        [
         359350,
         "williamsongeorge@mcdonald-lawrence.com",
         1593049761351044,
         2,
         993.6,
         2,
         [
          "NEWBED10",
          "P_FOAM_S",
          "Standard Foam Pillow",
          53.1,
          59.0,
          1
         ]
        ],
        [
         369567,
         "brian28@yahoo.com",
         1593128639966746,
         1,
         940.5,
         1,
         [
          "NEWBED10",
          "M_STAN_Q",
          "Standard Queen Mattress",
          940.5,
          1045.0,
          1
         ]
        ],
        [
         374057,
         "seananderson@franklin-jackson.biz",
         1593180588755435,
         1,
         940.5,
         1,
         [
          "NEWBED10",
          "M_STAN_Q",
          "Standard Queen Mattress",
          940.5,
          1045.0,
          1
         ]
        ],
        [
         371565,
         "rthomas@mcdonald.com",
         1593154685639560,
         1,
         1075.5,
         1,
         [
          "NEWBED10",
          "M_STAN_K",
          "Standard King Mattress",
          1075.5,
          1195.0,
          1
         ]
        ],
        [
         361375,
         "davidmorgan@thompson-freeman.com",
         1593077980840825,
         1,
         1075.5,
         1,
         [
          "NEWBED10",
          "M_STAN_K",
          "Standard King Mattress",
          1075.5,
          1195.0,
          1
         ]
        ],
        [
         371494,
         "mhogan@hotmail.com",
         1593153610978923,
         1,
         535.5,
         1,
         [
          "NEWBED10",
          "M_STAN_T",
          "Standard Twin Mattress",
          535.5,
          595.0,
          1
         ]
        ],
        [
         368237,
         "wramos@gmail.com",
         1593119492827817,
         1,
         940.5,
         1,
         [
          "NEWBED10",
          "M_STAN_Q",
          "Standard Queen Mattress",
          940.5,
          1045.0,
          1
         ]
        ],
        [
         390890,
         "justin31@ruiz-lewis.org",
         1593291385824548,
         1,
         850.5,
         1,
         [
          "NEWBED10",
          "M_STAN_F",
          "Standard Full Mattress",
          850.5,
          945.0,
          1
         ]
        ],
        [
         359557,
         "ramirezchristopher@gmail.com",
         1593052213578871,
         1,
         1075.5,
         1,
         [
          "NEWBED10",
          "M_STAN_K",
          "Standard King Mattress",
          1075.5,
          1195.0,
          1
         ]
        ],
        [
         398707,
         "yphelps@hotmail.com",
         1593360967324733,
         1,
         850.5,
         1,
         [
          "NEWBED10",
          "M_STAN_F",
          "Standard Full Mattress",
          850.5,
          945.0,
          1
         ]
        ],
        [
         407690,
         "nguyenchristopher@lewis.biz",
         1593434229524718,
         1,
         850.5,
         1,
         [
          "NEWBED10",
          "M_STAN_F",
          "Standard Full Mattress",
          850.5,
          945.0,
          1
         ]
        ],
        [
         406257,
         "thomas84@wheeler.com",
         1593416194463716,
         1,
         535.5,
         1,
         [
          "NEWBED10",
          "M_STAN_T",
          "Standard Twin Mattress",
          535.5,
          595.0,
          1
         ]
        ],
        [
         424087,
         "zacharyrivera@yahoo.com",
         1593547974759881,
         1,
         535.5,
         1,
         [
          "NEWBED10",
          "M_STAN_T",
          "Standard Twin Mattress",
          535.5,
          595.0,
          1
         ]
        ],
        [
         403028,
         "collinskatherine@gmail.com",
         1593380999536763,
         1,
         940.5,
         1,
         [
          "NEWBED10",
          "M_STAN_Q",
          "Standard Queen Mattress",
          940.5,
          1045.0,
          1
         ]
        ],
        [
         416858,
         "vclark31@yahoo.com",
         1593505728571716,
         1,
         535.5,
         1,
         [
          "NEWBED10",
          "M_STAN_T",
          "Standard Twin Mattress",
          535.5,
          595.0,
          1
         ]
        ],
        [
         427905,
         "mccartykevin@hotmail.com",
         1593580371374386,
         1,
         1525.5,
         1,
         [
          "NEWBED10",
          "M_PREM_F",
          "Premium Full Mattress",
          1525.5,
          1695.0,
          1
         ]
        ],
        [
         425893,
         "fernandezallison@ramirez.com",
         1593558342060724,
         1,
         1075.5,
         1,
         [
          "NEWBED10",
          "M_STAN_K",
          "Standard King Mattress",
          1075.5,
          1195.0,
          1
         ]
        ],
        [
         427984,
         "dalton20@hall.net",
         1593581751518533,
         1,
         1075.5,
         1,
         [
          "NEWBED10",
          "M_STAN_K",
          "Standard King Mattress",
          1075.5,
          1195.0,
          1
         ]
        ],
        [
         450924,
         "tanyawagner@valdez-graham.net",
         1593745765474505,
         1,
         1075.5,
         1,
         [
          "NEWBED10",
          "M_STAN_K",
          "Standard King Mattress",
          1075.5,
          1195.0,
          1
         ]
        ],
        [
         436828,
         "johnmonroe@yahoo.com",
         1593643440193064,
         1,
         985.5,
         1,
         [
          "NEWBED10",
          "M_PREM_T",
          "Premium Twin Mattress",
          985.5,
          1095.0,
          1
         ]
        ],
        [
         439055,
         "stephanie63@carter-lee.com",
         1593668021604094,
         1,
         940.5,
         1,
         [
          "NEWBED10",
          "M_STAN_Q",
          "Standard Queen Mattress",
          940.5,
          1045.0,
          1
         ]
        ],
        [
         450502,
         "lgrimes@hotmail.com",
         1593740583207410,
         1,
         1525.5,
         1,
         [
          "NEWBED10",
          "M_PREM_F",
          "Premium Full Mattress",
          1525.5,
          1695.0,
          1
         ]
        ],
        [
         465985,
         "mckinneycheryl@hotmail.com",
         1593872112840565,
         1,
         1075.5,
         1,
         [
          "NEWBED10",
          "M_STAN_K",
          "Standard King Mattress",
          1075.5,
          1195.0,
          1
         ]
        ],
        [
         464472,
         "bellangela@williams.com",
         1593863264268588,
         1,
         850.5,
         1,
         [
          "NEWBED10",
          "M_STAN_F",
          "Standard Full Mattress",
          850.5,
          945.0,
          1
         ]
        ],
        [
         276774,
         "dawn45@harris.com",
         1592436047207506,
         1,
         850.5,
         1,
         [
          "NEWBED10",
          "M_STAN_F",
          "Standard Full Mattress",
          850.5,
          945.0,
          1
         ]
        ],
        [
         296283,
         "cynthiawilson@gmail.com",
         1592605189160233,
         1,
         940.5,
         1,
         [
          "NEWBED10",
          "M_STAN_Q",
          "Standard Queen Mattress",
          940.5,
          1045.0,
          1
         ]
        ],
        [
         276535,
         "pamelamitchell@hunt.com",
         1592433428639216,
         1,
         940.5,
         1,
         [
          "NEWBED10",
          "M_STAN_Q",
          "Standard Queen Mattress",
          940.5,
          1045.0,
          1
         ]
        ],
        [
         307210,
         "adrian86@gmail.com",
         1592681426251077,
         1,
         985.5,
         1,
         [
          "NEWBED10",
          "M_PREM_T",
          "Premium Twin Mattress",
          985.5,
          1095.0,
          1
         ]
        ],
        [
         295336,
         "santiagosusan@harris.org",
         1592599927839242,
         1,
         535.5,
         1,
         [
          "NEWBED10",
          "M_STAN_T",
          "Standard Twin Mattress",
          535.5,
          595.0,
          1
         ]
        ],
        [
         300973,
         "matthewconner@king.com",
         1592656657887769,
         1,
         850.5,
         1,
         [
          "NEWBED10",
          "M_STAN_F",
          "Standard Full Mattress",
          850.5,
          945.0,
          1
         ]
        ],
        [
         314590,
         "xmacdonald@gmail.com",
         1592743653826398,
         1,
         940.5,
         1,
         [
          "NEWBED10",
          "M_STAN_Q",
          "Standard Queen Mattress",
          940.5,
          1045.0,
          1
         ]
        ],
        [
         306174,
         "rlutz@evans.com",
         1592677736369430,
         1,
         1075.5,
         1,
         [
          "NEWBED10",
          "M_STAN_K",
          "Standard King Mattress",
          1075.5,
          1195.0,
          1
         ]
        ],
        [
         286200,
         "xsanchez@odom.com",
         1592526587721538,
         1,
         535.5,
         1,
         [
          "NEWBED10",
          "M_STAN_T",
          "Standard Twin Mattress",
          535.5,
          595.0,
          1
         ]
        ],
        [
         283174,
         "pbradley93@gmail.com",
         1592506952924915,
         1,
         1075.5,
         1,
         [
          "NEWBED10",
          "M_STAN_K",
          "Standard King Mattress",
          1075.5,
          1195.0,
          1
         ]
        ],
        [
         328085,
         "iferguson96@hotmail.com",
         1592838498855352,
         1,
         1075.5,
         1,
         [
          "NEWBED10",
          "M_STAN_K",
          "Standard King Mattress",
          1075.5,
          1195.0,
          1
         ]
        ],
        [
         312547,
         "ulewis@kline.com",
         1592721550303836,
         1,
         535.5,
         1,
         [
          "NEWBED10",
          "M_STAN_T",
          "Standard Twin Mattress",
          535.5,
          595.0,
          1
         ]
        ],
        [
         324235,
         "willie95@yahoo.com",
         1592796755840029,
         1,
         1525.5,
         1,
         [
          "NEWBED10",
          "M_PREM_F",
          "Premium Full Mattress",
          1525.5,
          1695.0,
          1
         ]
        ],
        [
         330416,
         "gabriel47@tyler.com",
         1592849457123305,
         3,
         2024.1,
         2,
         [
          "NEWBED10",
          "M_PREM_T",
          "Premium Twin Mattress",
          1971.0,
          1095.0,
          2
         ]
        ],
        [
         330416,
         "gabriel47@tyler.com",
         1592849457123305,
         3,
         2024.1,
         2,
         [
          "NEWBED10",
          "P_FOAM_S",
          "Standard Foam Pillow",
          53.1,
          59.0,
          1
         ]
        ],
        [
         324069,
         "kathryn63@hall.com",
         1592794507003577,
         1,
         535.5,
         1,
         [
          "NEWBED10",
          "M_STAN_T",
          "Standard Twin Mattress",
          535.5,
          595.0,
          1
         ]
        ],
        [
         337068,
         "deborah37@gould.biz",
         1592904563304431,
         1,
         1615.5,
         1,
         [
          "NEWBED10",
          "M_PREM_Q",
          "Premium Queen Mattress",
          1615.5,
          1795.0,
          1
         ]
        ],
        [
         348880,
         "cobbmaria@yahoo.com",
         1592981034290940,
         1,
         850.5,
         1,
         [
          "NEWBED10",
          "M_STAN_F",
          "Standard Full Mattress",
          850.5,
          945.0,
          1
         ]
        ],
        [
         333094,
         "valerie69@hotmail.com",
         1592862372967893,
         1,
         985.5,
         1,
         [
          "NEWBED10",
          "M_PREM_T",
          "Premium Twin Mattress",
          985.5,
          1095.0,
          1
         ]
        ],
        [
         364059,
         "hinesmargaret@gmail.com",
         1593098419636035,
         2,
         1056.6,
         2,
         [
          "NEWBED10",
          "M_PREM_T",
          "Premium Twin Mattress",
          985.5,
          1095.0,
          1
         ]
        ],
        [
         364059,
         "hinesmargaret@gmail.com",
         1593098419636035,
         2,
         1056.6,
         2,
         [
          "NEWBED10",
          "P_FOAM_K",
          "King Foam Pillow",
          71.10000000000001,
          79.0,
          1
         ]
        ],
        [
         340919,
         "williamsjeremiah@nelson-jones.biz",
         1592929630554607,
         1,
         535.5,
         1,
         [
          "NEWBED10",
          "M_STAN_T",
          "Standard Twin Mattress",
          535.5,
          595.0,
          1
         ]
        ],
        [
         358070,
         "bnguyen98@gmail.com",
         1593038828623521,
         1,
         535.5,
         1,
         [
          "NEWBED10",
          "M_STAN_T",
          "Standard Twin Mattress",
          535.5,
          595.0,
          1
         ]
        ],
        [
         353680,
         "fullerkrista@hotmail.com",
         1593017622847973,
         2,
         2466.0,
         2,
         [
          "NEWBED10",
          "M_STAN_Q",
          "Standard Queen Mattress",
          940.5,
          1045.0,
          1
         ]
        ],
        [
         353680,
         "fullerkrista@hotmail.com",
         1593017622847973,
         2,
         2466.0,
         2,
         [
          "NEWBED10",
          "M_PREM_F",
          "Premium Full Mattress",
          1525.5,
          1695.0,
          1
         ]
        ],
        [
         359595,
         "rachel58@miles.com",
         1593052577416030,
         1,
         535.5,
         1,
         [
          "NEWBED10",
          "M_STAN_T",
          "Standard Twin Mattress",
          535.5,
          595.0,
          1
         ]
        ],
        [
         409532,
         "victoria9964@campbell.com",
         1593446048400071,
         1,
         1795.5,
         1,
         [
          "NEWBED10",
          "M_PREM_K",
          "Premium King Mattress",
          1795.5,
          1995.0,
          1
         ]
        ],
        [
         395600,
         "clarkpaul@vance-reed.com",
         1593341189014970,
         1,
         940.5,
         1,
         [
          "NEWBED10",
          "M_STAN_Q",
          "Standard Queen Mattress",
          940.5,
          1045.0,
          1
         ]
        ],
        [
         401713,
         "christopherjames@mason.net",
         1593374346368240,
         2,
         2466.0,
         2,
         [
          "NEWBED10",
          "M_PREM_F",
          "Premium Full Mattress",
          1525.5,
          1695.0,
          1
         ]
        ],
        [
         401713,
         "christopherjames@mason.net",
         1593374346368240,
         2,
         2466.0,
         2,
         [
          "NEWBED10",
          "M_STAN_Q",
          "Standard Queen Mattress",
          940.5,
          1045.0,
          1
         ]
        ],
        [
         390863,
         "qmejia@hotmail.com",
         1593291252427051,
         1,
         1075.5,
         1,
         [
          "NEWBED10",
          "M_STAN_K",
          "Standard King Mattress",
          1075.5,
          1195.0,
          1
         ]
        ],
        [
         407712,
         "isimmons@hammond.net",
         1593434364171246,
         1,
         1075.5,
         1,
         [
          "NEWBED10",
          "M_STAN_K",
          "Standard King Mattress",
          1075.5,
          1195.0,
          1
         ]
        ],
        [
         399185,
         "mduran@gmail.com",
         1593363201069236,
         1,
         535.5,
         1,
         [
          "NEWBED10",
          "M_STAN_T",
          "Standard Twin Mattress",
          535.5,
          595.0,
          1
         ]
        ],
        [
         409821,
         "fgonzalez@ortiz.net",
         1593447699900660,
         1,
         535.5,
         1,
         [
          "NEWBED10",
          "M_STAN_T",
          "Standard Twin Mattress",
          535.5,
          595.0,
          1
         ]
        ],
        [
         403978,
         "davissteven@hotmail.com",
         1593387443214559,
         2,
         993.6,
         2,
         [
          "NEWBED10",
          "M_STAN_Q",
          "Standard Queen Mattress",
          940.5,
          1045.0,
          1
         ]
        ],
        [
         403978,
         "davissteven@hotmail.com",
         1593387443214559,
         2,
         993.6,
         2,
         [
          "NEWBED10",
          "P_FOAM_S",
          "Standard Foam Pillow",
          53.1,
          59.0,
          1
         ]
        ],
        [
         428559,
         "norrisjessica@reed.net",
         1593590380893962,
         2,
         1836.0,
         2,
         [
          "NEWBED10",
          "M_STAN_F",
          "Standard Full Mattress",
          850.5,
          945.0,
          1
         ]
        ],
        [
         428559,
         "norrisjessica@reed.net",
         1593590380893962,
         2,
         1836.0,
         2,
         [
          "NEWBED10",
          "M_PREM_T",
          "Premium Twin Mattress",
          985.5,
          1095.0,
          1
         ]
        ],
        [
         421830,
         "thomas28@henderson.org",
         1593538432674599,
         1,
         1615.5,
         1,
         [
          "NEWBED10",
          "M_PREM_Q",
          "Premium Queen Mattress",
          1615.5,
          1795.0,
          1
         ]
        ],
        [
         429273,
         "rodgerscatherine@hotmail.com",
         1593599190288586,
         1,
         535.5,
         1,
         [
          "NEWBED10",
          "M_STAN_T",
          "Standard Twin Mattress",
          535.5,
          595.0,
          1
         ]
        ],
        [
         406504,
         "collin44@gmail.com",
         1593420285217012,
         1,
         940.5,
         1,
         [
          "NEWBED10",
          "M_STAN_Q",
          "Standard Queen Mattress",
          940.5,
          1045.0,
          1
         ]
        ],
        [
         416945,
         "coreyromero@strickland-butler.com",
         1593506959614918,
         1,
         535.5,
         1,
         [
          "NEWBED10",
          "M_STAN_T",
          "Standard Twin Mattress",
          535.5,
          595.0,
          1
         ]
        ],
        [
         417572,
         "christopheraustin@yahoo.com",
         1593514091585374,
         1,
         1075.5,
         1,
         [
          "NEWBED10",
          "M_STAN_K",
          "Standard King Mattress",
          1075.5,
          1195.0,
          1
         ]
        ],
        [
         395072,
         "asingh@gill-harris.com",
         1593334527893529,
         2,
         1521.0,
         2,
         [
          "NEWBED10",
          "M_STAN_T",
          "Standard Twin Mattress",
          535.5,
          595.0,
          1
         ]
        ],
        [
         395072,
         "asingh@gill-harris.com",
         1593334527893529,
         2,
         1521.0,
         2,
         [
          "NEWBED10",
          "M_PREM_T",
          "Premium Twin Mattress",
          985.5,
          1095.0,
          1
         ]
        ],
        [
         445028,
         "ljohnston31@gmail.com",
         1593711158267845,
         1,
         985.5,
         1,
         [
          "NEWBED10",
          "M_PREM_T",
          "Premium Twin Mattress",
          985.5,
          1095.0,
          1
         ]
        ],
        [
         425708,
         "leekelsey@floyd.com",
         1593557249643696,
         2,
         642.6,
         2,
         [
          "NEWBED10",
          "M_STAN_T",
          "Standard Twin Mattress",
          535.5,
          595.0,
          1
         ]
        ],
        [
         425708,
         "leekelsey@floyd.com",
         1593557249643696,
         2,
         642.6,
         2,
         [
          "NEWBED10",
          "P_DOWN_S",
          "Standard Down Pillow",
          107.10000000000001,
          119.0,
          1
         ]
        ],
        [
         447487,
         "isingh@foster.com",
         1593720870220272,
         1,
         1075.5,
         1,
         [
          "NEWBED10",
          "M_STAN_K",
          "Standard King Mattress",
          1075.5,
          1195.0,
          1
         ]
        ],
        [
         425996,
         "christinaharrison@hotmail.com",
         1593559096609278,
         1,
         1795.5,
         1,
         [
          "NEWBED10",
          "M_PREM_K",
          "Premium King Mattress",
          1795.5,
          1995.0,
          1
         ]
        ],
        [
         460336,
         "kristen4334@gmail.com",
         1593815436666346,
         1,
         53.1,
         1,
         [
          "NEWBED10",
          "P_FOAM_S",
          "Standard Foam Pillow",
          53.1,
          59.0,
          1
         ]
        ],
        [
         433713,
         "thomas18@brown.com",
         1593626558408125,
         1,
         850.5,
         1,
         [
          "NEWBED10",
          "M_STAN_F",
          "Standard Full Mattress",
          850.5,
          945.0,
          1
         ]
        ],
        [
         462384,
         "fmeza@strickland.com",
         1593836858048686,
         1,
         850.5,
         1,
         [
          "NEWBED10",
          "M_STAN_F",
          "Standard Full Mattress",
          850.5,
          945.0,
          1
         ]
        ],
        [
         457447,
         "theresa69@harris-haynes.net",
         1593801097696680,
         1,
         535.5,
         1,
         [
          "NEWBED10",
          "M_STAN_T",
          "Standard Twin Mattress",
          535.5,
          595.0,
          1
         ]
        ],
        [
         441191,
         "yperry@murphy.com",
         1593693114755299,
         1,
         1075.5,
         1,
         [
          "NEWBED10",
          "M_STAN_K",
          "Standard King Mattress",
          1075.5,
          1195.0,
          1
         ]
        ],
        [
         459230,
         "williamjackson@jones.org",
         1593809376172263,
         1,
         985.5,
         1,
         [
          "NEWBED10",
          "M_PREM_T",
          "Premium Twin Mattress",
          985.5,
          1095.0,
          1
         ]
        ],
        [
         455901,
         "michaeljoseph@gmail.com",
         1593794362351160,
         1,
         535.5,
         1,
         [
          "NEWBED10",
          "M_STAN_T",
          "Standard Twin Mattress",
          535.5,
          595.0,
          1
         ]
        ],
        [
         460268,
         "crystal61@williams-cruz.info",
         1593814953041619,
         2,
         903.6,
         2,
         [
          "NEWBED10",
          "M_STAN_F",
          "Standard Full Mattress",
          850.5,
          945.0,
          1
         ]
        ],
        [
         460268,
         "crystal61@williams-cruz.info",
         1593814953041619,
         2,
         903.6,
         2,
         [
          "NEWBED10",
          "P_FOAM_S",
          "Standard Foam Pillow",
          53.1,
          59.0,
          1
         ]
        ],
        [
         462477,
         "steven95@gmail.com",
         1593838696972117,
         1,
         850.5,
         1,
         [
          "NEWBED10",
          "M_STAN_F",
          "Standard Full Mattress",
          850.5,
          945.0,
          1
         ]
        ],
        [
         462065,
         "bbell@lutz.info",
         1593832159071905,
         1,
         1075.5,
         1,
         [
          "NEWBED10",
          "M_STAN_K",
          "Standard King Mattress",
          1075.5,
          1195.0,
          1
         ]
        ],
        [
         277142,
         "carterrobert@brown.org",
         1592440759593821,
         1,
         850.5,
         1,
         [
          "NEWBED10",
          "M_STAN_F",
          "Standard Full Mattress",
          850.5,
          945.0,
          1
         ]
        ],
        [
         279184,
         "jessicagonzalez31@gmail.com",
         1592483005105114,
         2,
         921.6,
         2,
         [
          "NEWBED10",
          "M_STAN_F",
          "Standard Full Mattress",
          850.5,
          945.0,
          1
         ]
        ],
        [
         279184,
         "jessicagonzalez31@gmail.com",
         1592483005105114,
         2,
         921.6,
         2,
         [
          "NEWBED10",
          "P_FOAM_K",
          "King Foam Pillow",
          71.10000000000001,
          79.0,
          1
         ]
        ],
        [
         270589,
         "carremily@hotmail.com",
         1592370976109092,
         1,
         535.5,
         1,
         [
          "NEWBED10",
          "M_STAN_T",
          "Standard Twin Mattress",
          535.5,
          595.0,
          1
         ]
        ],
        [
         294780,
         "calvin05@gmail.com",
         1592597222265273,
         1,
         535.5,
         1,
         [
          "NEWBED10",
          "M_STAN_T",
          "Standard Twin Mattress",
          535.5,
          595.0,
          1
         ]
        ],
        [
         295275,
         "ashleysexton@gmail.com",
         1592599583368665,
         1,
         850.5,
         1,
         [
          "NEWBED10",
          "M_STAN_F",
          "Standard Full Mattress",
          850.5,
          945.0,
          1
         ]
        ],
        [
         303207,
         "hardingjimmy@yahoo.com",
         1592667102776327,
         1,
         107.10000000000001,
         1,
         [
          "NEWBED10",
          "P_DOWN_S",
          "Standard Down Pillow",
          107.10000000000001,
          119.0,
          1
         ]
        ],
        [
         297393,
         "james9011@yahoo.com",
         1592613107812758,
         1,
         535.5,
         1,
         [
          "NEWBED10",
          "M_STAN_T",
          "Standard Twin Mattress",
          535.5,
          595.0,
          1
         ]
        ],
        [
         277046,
         "fritzalexandra@hotmail.com",
         1592439239464937,
         2,
         2331.0,
         2,
         [
          "NEWBED10",
          "M_PREM_K",
          "Premium King Mattress",
          1795.5,
          1995.0,
          1
         ]
        ]
       ],
       "datasetInfos": [],
       "dbfsResultPath": null,
       "isJsonSchema": true,
       "metadata": {},
       "overflow": true,
       "plotOptions": {
        "customPlotOptions": {},
        "displayType": "table",
        "pivotAggregation": null,
        "pivotColumns": null,
        "xColumns": null,
        "yColumns": null
       },
       "removedWidgets": [],
       "schema": [
        {
         "metadata": "{}",
         "name": "order_id",
         "type": "\"long\""
        },
        {
         "metadata": "{}",
         "name": "email",
         "type": "\"string\""
        },
        {
         "metadata": "{}",
         "name": "transaction_timestamp",
         "type": "\"long\""
        },
        {
         "metadata": "{}",
         "name": "total_item_quantity",
         "type": "\"long\""
        },
        {
         "metadata": "{}",
         "name": "purchase_revenue_in_usd",
         "type": "\"double\""
        },
        {
         "metadata": "{}",
         "name": "unique_items",
         "type": "\"long\""
        },
        {
         "metadata": "{}",
         "name": "items",
         "type": "{\"type\":\"struct\",\"fields\":[{\"name\":\"coupon\",\"type\":\"string\",\"nullable\":true,\"metadata\":{}},{\"name\":\"item_id\",\"type\":\"string\",\"nullable\":true,\"metadata\":{}},{\"name\":\"item_name\",\"type\":\"string\",\"nullable\":true,\"metadata\":{}},{\"name\":\"item_revenue_in_usd\",\"type\":\"double\",\"nullable\":true,\"metadata\":{}},{\"name\":\"price_in_usd\",\"type\":\"double\",\"nullable\":true,\"metadata\":{}},{\"name\":\"quantity\",\"type\":\"long\",\"nullable\":true,\"metadata\":{}}]}"
        }
       ],
       "type": "table"
      }
     },
     "output_type": "display_data"
    }
   ],
   "source": [
    "df_notnull = df_explodido.filter(col('items.coupon').isNotNull())\n",
    "\n",
    "df = df.select(col('order_id'),\n",
    "              col('email'),\n",
    "              col('transaction_timestamp'),\n",
    "              col('total_item_quantity'),\n",
    "              col('purchase_revenue_in_usd'),\n",
    "              col('unique_items'))\n",
    "\n",
    "coupon_sales_df = df.join(df_notnull,'order_id','inner')\n",
    "display(coupon_sales_df)\n"
   ]
  },
  {
   "cell_type": "markdown",
   "metadata": {
    "application/vnd.databricks.v1+cell": {
     "cellMetadata": {
      "byteLimit": 2048000,
      "rowLimit": 10000
     },
     "inputWidgets": {},
     "nuid": "23ebeb51-d201-48c5-a8e0-a47251e67a22",
     "showTitle": false,
     "title": "--i18n-37e4766a-e845-4b4e-9e7e-82d63fbfc29f"
    }
   },
   "source": [
    "\n",
    "\n",
    "\n",
    "**2.1: CHECK YOUR WORK**"
   ]
  },
  {
   "cell_type": "code",
   "execution_count": 0,
   "metadata": {
    "application/vnd.databricks.v1+cell": {
     "cellMetadata": {
      "byteLimit": 2048000,
      "rowLimit": 10000
     },
     "inputWidgets": {},
     "nuid": "21370676-e94c-4ce5-9ce8-c340dacc911c",
     "showTitle": false,
     "title": ""
    }
   },
   "outputs": [
    {
     "output_type": "display_data",
     "data": {
      "text/html": [
       "<style>\n",
       "      table { text-align: left; border-collapse: collapse; margin: 1em; caption-side: bottom; font-family: Sans-Serif; font-size: 16px}\n",
       "      caption { text-align: left; padding: 5px }\n",
       "      th, td { border: 1px solid #ddd; padding: 5px }\n",
       "      th { background-color: #ddd }\n",
       "      .passed { background-color: #97d897 }\n",
       "      .failed { background-color: #e2716c }\n",
       "      .skipped { background-color: #f9d275 }\n",
       "      .results .points { display: none }\n",
       "      .results .message { display: block; font-size:smaller; color:gray }\n",
       "      .results .note { display: block; font-size:smaller; font-decoration:italics }\n",
       "      .results .passed::before  { content: \"Passed\" }\n",
       "      .results .failed::before  { content: \"Failed\" }\n",
       "      .results .skipped::before { content: \"Skipped\" }\n",
       "      .grade .passed  .message:empty::before { content:\"Passed\" }\n",
       "      .grade .failed  .message:empty::before { content:\"Failed\" }\n",
       "      .grade .skipped .message:empty::before { content:\"Skipped\" }\n",
       "    </style>\n",
       "<table class='results'>\n",
       "  <tr><th class='points'>Points</th><th class='test'>Test</th><th class='result'>Result</th></tr>\n",
       "<tr>\n",
       "  <td class='points'>1</td>\n",
       "  <td class='test'>\n",
       "    Schema is of type StructType\n",
       "  </td>\n",
       "  <td class='result passed'></td>\n",
       "</tr>\n",
       "<tr>\n",
       "  <td class='points'>1</td>\n",
       "  <td class='test'>\n",
       "    Schema contians seven fields\n",
       "  </td>\n",
       "  <td class='result passed'></td>\n",
       "</tr>\n",
       "<tr>\n",
       "  <td class='points'>1</td>\n",
       "  <td class='test'>\n",
       "    Schema contains \"order_id\" of type LongType\n",
       "  </td>\n",
       "  <td class='result passed'></td>\n",
       "</tr>\n",
       "<tr>\n",
       "  <td class='points'>1</td>\n",
       "  <td class='test'>\n",
       "    Schema contains \"email\" of type StringType\n",
       "  </td>\n",
       "  <td class='result passed'></td>\n",
       "</tr>\n",
       "<tr>\n",
       "  <td class='points'>1</td>\n",
       "  <td class='test'>\n",
       "    Schema contains \"transaction_timestamp\" of type LongType\n",
       "  </td>\n",
       "  <td class='result passed'></td>\n",
       "</tr>\n",
       "<tr>\n",
       "  <td class='points'>1</td>\n",
       "  <td class='test'>\n",
       "    Schema contains \"total_item_quantity\" of type LongType\n",
       "  </td>\n",
       "  <td class='result passed'></td>\n",
       "</tr>\n",
       "<tr>\n",
       "  <td class='points'>1</td>\n",
       "  <td class='test'>\n",
       "    Schema contains \"purchase_revenue_in_usd\" of type DoubleType\n",
       "  </td>\n",
       "  <td class='result passed'></td>\n",
       "</tr>\n",
       "<tr>\n",
       "  <td class='points'>1</td>\n",
       "  <td class='test'>\n",
       "    Schema contains \"unique_items\" of type LongType\n",
       "  </td>\n",
       "  <td class='result passed'></td>\n",
       "</tr>\n",
       "<tr>\n",
       "  <td class='points'>1</td>\n",
       "  <td class='test'>\n",
       "    Schema contains \"items\" of type StructType\n",
       "  </td>\n",
       "  <td class='result passed'></td>\n",
       "</tr>\n",
       "  <caption class='points'>Score: 9</caption>\n",
       "</table>"
      ]
     },
     "metadata": {
      "application/vnd.databricks.v1+output": {
       "addedWidgets": {},
       "arguments": {},
       "data": "<style>\n      table { text-align: left; border-collapse: collapse; margin: 1em; caption-side: bottom; font-family: Sans-Serif; font-size: 16px}\n      caption { text-align: left; padding: 5px }\n      th, td { border: 1px solid #ddd; padding: 5px }\n      th { background-color: #ddd }\n      .passed { background-color: #97d897 }\n      .failed { background-color: #e2716c }\n      .skipped { background-color: #f9d275 }\n      .results .points { display: none }\n      .results .message { display: block; font-size:smaller; color:gray }\n      .results .note { display: block; font-size:smaller; font-decoration:italics }\n      .results .passed::before  { content: \"Passed\" }\n      .results .failed::before  { content: \"Failed\" }\n      .results .skipped::before { content: \"Skipped\" }\n      .grade .passed  .message:empty::before { content:\"Passed\" }\n      .grade .failed  .message:empty::before { content:\"Failed\" }\n      .grade .skipped .message:empty::before { content:\"Skipped\" }\n    </style>\n<table class='results'>\n  <tr><th class='points'>Points</th><th class='test'>Test</th><th class='result'>Result</th></tr>\n<tr>\n  <td class='points'>1</td>\n  <td class='test'>\n    Schema is of type StructType\n  </td>\n  <td class='result passed'></td>\n</tr>\n<tr>\n  <td class='points'>1</td>\n  <td class='test'>\n    Schema contians seven fields\n  </td>\n  <td class='result passed'></td>\n</tr>\n<tr>\n  <td class='points'>1</td>\n  <td class='test'>\n    Schema contains \"order_id\" of type LongType\n  </td>\n  <td class='result passed'></td>\n</tr>\n<tr>\n  <td class='points'>1</td>\n  <td class='test'>\n    Schema contains \"email\" of type StringType\n  </td>\n  <td class='result passed'></td>\n</tr>\n<tr>\n  <td class='points'>1</td>\n  <td class='test'>\n    Schema contains \"transaction_timestamp\" of type LongType\n  </td>\n  <td class='result passed'></td>\n</tr>\n<tr>\n  <td class='points'>1</td>\n  <td class='test'>\n    Schema contains \"total_item_quantity\" of type LongType\n  </td>\n  <td class='result passed'></td>\n</tr>\n<tr>\n  <td class='points'>1</td>\n  <td class='test'>\n    Schema contains \"purchase_revenue_in_usd\" of type DoubleType\n  </td>\n  <td class='result passed'></td>\n</tr>\n<tr>\n  <td class='points'>1</td>\n  <td class='test'>\n    Schema contains \"unique_items\" of type LongType\n  </td>\n  <td class='result passed'></td>\n</tr>\n<tr>\n  <td class='points'>1</td>\n  <td class='test'>\n    Schema contains \"items\" of type StructType\n  </td>\n  <td class='result passed'></td>\n</tr>\n  <caption class='points'>Score: 9</caption>\n</table>",
       "datasetInfos": [],
       "metadata": {},
       "removedWidgets": [],
       "textData": null,
       "type": "htmlSandbox"
      }
     },
     "output_type": "display_data"
    }
   ],
   "source": [
    "DA.tests.validate_2_1(coupon_sales_df.schema)"
   ]
  },
  {
   "cell_type": "markdown",
   "metadata": {
    "application/vnd.databricks.v1+cell": {
     "cellMetadata": {
      "byteLimit": 2048000,
      "rowLimit": 10000
     },
     "inputWidgets": {},
     "nuid": "25084a34-170e-4741-95e9-8df4477162ee",
     "showTitle": false,
     "title": "--i18n-793d6d02-ac0b-4dfa-b711-b4a01636e099"
    }
   },
   "source": [
    "\n",
    "\n",
    "### 3. Write streaming query results to Delta\n",
    "- Configure the streaming query to write Delta format files in \"append\" mode\n",
    "- Set the query name to \"coupon_sales\"\n",
    "- Set a trigger interval of 1 second\n",
    "- Set the checkpoint location to **`coupons_checkpoint_path`**\n",
    "- Set the output path to **`coupons_output_path`**\n",
    "\n",
    "Start the streaming query and assign the resulting handle to **`coupon_sales_query`**.\n",
    "\n",
    "\n",
    "\n",
    "​\n",
    "402 / 5.000\n",
    "Resultados de tradução\n",
    "Resultado da tradução\n",
    "### 3. Grave os resultados da consulta de streaming no Delta\n",
    "- Configure a consulta de streaming para gravar arquivos no formato Delta no modo \"anexar\"\n",
    "- Defina o nome da consulta como \"coupon_sales\"\n",
    "- Defina um intervalo de disparo de 1 segundo\n",
    "- Defina o local do ponto de verificação como **`coupons_checkpoint_path`**\n",
    "- Defina o caminho de saída para **`coupons_output_path`**\n",
    "\n",
    "Inicie a consulta de streaming e atribua o identificador resultante a **`coupon_sales_query`**.\n",
    "\n"
   ]
  },
  {
   "cell_type": "code",
   "execution_count": 0,
   "metadata": {
    "application/vnd.databricks.v1+cell": {
     "cellMetadata": {
      "byteLimit": 2048000,
      "rowLimit": 10000
     },
     "inputWidgets": {},
     "nuid": "e9dbbb0c-b54a-47df-8de2-485d64a636c0",
     "showTitle": false,
     "title": ""
    }
   },
   "outputs": [],
   "source": [
    "# TODO\n",
    "coupons_checkpoint_path = f\"{DA.paths.checkpoints}/coupon-sales\"\n",
    "coupons_output_path = f\"{DA.paths.working_dir}/coupon-sales/output\"\n",
    "\n",
    "coupon_sales_query = (coupon_sales_df.writeStream\n",
    "                 .outputMode(\"append\")\n",
    "                 .format(\"delta\")\n",
    "                 .queryName(\"coupon_sales\")\n",
    "                 .trigger(processingTime=\"1 seconds\")\n",
    "                 .option(\"checkpointLocation\", coupons_checkpoint_path)\n",
    "                 .start(coupons_output_path))\n"
   ]
  },
  {
   "cell_type": "markdown",
   "metadata": {
    "application/vnd.databricks.v1+cell": {
     "cellMetadata": {
      "byteLimit": 2048000,
      "rowLimit": 10000
     },
     "inputWidgets": {},
     "nuid": "1fd4b682-5e83-42d2-801d-4fddafb26cff",
     "showTitle": false,
     "title": "--i18n-204ee663-db1b-441a-9084-a58a9aa88a9c"
    }
   },
   "source": [
    "\n",
    "\n",
    "\n",
    "**3.1: CHECK YOUR WORK**"
   ]
  },
  {
   "cell_type": "code",
   "execution_count": 0,
   "metadata": {
    "application/vnd.databricks.v1+cell": {
     "cellMetadata": {
      "byteLimit": 2048000,
      "rowLimit": 10000
     },
     "inputWidgets": {},
     "nuid": "0f197490-0127-4398-ac02-f6a16467d97d",
     "showTitle": false,
     "title": ""
    }
   },
   "outputs": [
    {
     "output_type": "display_data",
     "data": {
      "text/html": [
       "<style>\n",
       "      table { text-align: left; border-collapse: collapse; margin: 1em; caption-side: bottom; font-family: Sans-Serif; font-size: 16px}\n",
       "      caption { text-align: left; padding: 5px }\n",
       "      th, td { border: 1px solid #ddd; padding: 5px }\n",
       "      th { background-color: #ddd }\n",
       "      .passed { background-color: #97d897 }\n",
       "      .failed { background-color: #e2716c }\n",
       "      .skipped { background-color: #f9d275 }\n",
       "      .results .points { display: none }\n",
       "      .results .message { display: block; font-size:smaller; color:gray }\n",
       "      .results .note { display: block; font-size:smaller; font-decoration:italics }\n",
       "      .results .passed::before  { content: \"Passed\" }\n",
       "      .results .failed::before  { content: \"Failed\" }\n",
       "      .results .skipped::before { content: \"Skipped\" }\n",
       "      .grade .passed  .message:empty::before { content:\"Passed\" }\n",
       "      .grade .failed  .message:empty::before { content:\"Failed\" }\n",
       "      .grade .skipped .message:empty::before { content:\"Skipped\" }\n",
       "    </style>\n",
       "<table class='results'>\n",
       "  <tr><th class='points'>Points</th><th class='test'>Test</th><th class='result'>Result</th></tr>\n",
       "<tr>\n",
       "  <td class='points'>1</td>\n",
       "  <td class='test'>\n",
       "    The query is active\n",
       "  </td>\n",
       "  <td class='result passed'></td>\n",
       "</tr>\n",
       "<tr>\n",
       "  <td class='points'>1</td>\n",
       "  <td class='test'>\n",
       "    The query name is \"coupon_sales\".\n",
       "  </td>\n",
       "  <td class='result passed'></td>\n",
       "</tr>\n",
       "<tr>\n",
       "  <td class='points'>1</td>\n",
       "  <td class='test'>\n",
       "    Found at least one file in .../coupon-sales/output\n",
       "  </td>\n",
       "  <td class='result passed'></td>\n",
       "</tr>\n",
       "<tr>\n",
       "  <td class='points'>1</td>\n",
       "  <td class='test'>\n",
       "    Found at least one file in .../coupon-sales\n",
       "  </td>\n",
       "  <td class='result passed'></td>\n",
       "</tr>\n",
       "  <caption class='points'>Score: 4</caption>\n",
       "</table>"
      ]
     },
     "metadata": {
      "application/vnd.databricks.v1+output": {
       "addedWidgets": {},
       "arguments": {},
       "data": "<style>\n      table { text-align: left; border-collapse: collapse; margin: 1em; caption-side: bottom; font-family: Sans-Serif; font-size: 16px}\n      caption { text-align: left; padding: 5px }\n      th, td { border: 1px solid #ddd; padding: 5px }\n      th { background-color: #ddd }\n      .passed { background-color: #97d897 }\n      .failed { background-color: #e2716c }\n      .skipped { background-color: #f9d275 }\n      .results .points { display: none }\n      .results .message { display: block; font-size:smaller; color:gray }\n      .results .note { display: block; font-size:smaller; font-decoration:italics }\n      .results .passed::before  { content: \"Passed\" }\n      .results .failed::before  { content: \"Failed\" }\n      .results .skipped::before { content: \"Skipped\" }\n      .grade .passed  .message:empty::before { content:\"Passed\" }\n      .grade .failed  .message:empty::before { content:\"Failed\" }\n      .grade .skipped .message:empty::before { content:\"Skipped\" }\n    </style>\n<table class='results'>\n  <tr><th class='points'>Points</th><th class='test'>Test</th><th class='result'>Result</th></tr>\n<tr>\n  <td class='points'>1</td>\n  <td class='test'>\n    The query is active\n  </td>\n  <td class='result passed'></td>\n</tr>\n<tr>\n  <td class='points'>1</td>\n  <td class='test'>\n    The query name is \"coupon_sales\".\n  </td>\n  <td class='result passed'></td>\n</tr>\n<tr>\n  <td class='points'>1</td>\n  <td class='test'>\n    Found at least one file in .../coupon-sales/output\n  </td>\n  <td class='result passed'></td>\n</tr>\n<tr>\n  <td class='points'>1</td>\n  <td class='test'>\n    Found at least one file in .../coupon-sales\n  </td>\n  <td class='result passed'></td>\n</tr>\n  <caption class='points'>Score: 4</caption>\n</table>",
       "datasetInfos": [],
       "metadata": {},
       "removedWidgets": [],
       "textData": null,
       "type": "htmlSandbox"
      }
     },
     "output_type": "display_data"
    }
   ],
   "source": [
    "DA.tests.validate_3_1(coupon_sales_query)"
   ]
  },
  {
   "cell_type": "markdown",
   "metadata": {
    "application/vnd.databricks.v1+cell": {
     "cellMetadata": {
      "byteLimit": 2048000,
      "rowLimit": 10000
     },
     "inputWidgets": {},
     "nuid": "85a62b6a-962a-4d2b-86da-5c153a13c83f",
     "showTitle": false,
     "title": "--i18n-a8c6095a-6725-4ecc-8c23-f85832d548f9"
    }
   },
   "source": [
    "\n",
    "\n",
    "### 4. Monitor streaming query\n",
    "- Get the ID of streaming query and store it in **`queryID`**\n",
    "- Get the status of streaming query and store it in **`queryStatus`**\n",
    "\n",
    "4. Monitore a consulta de streaming\n",
    "- Obtenha o ID da consulta de streaming e armazene-o em queryID\n",
    "- Obtenha o status da consulta de streaming e armazene-o em queryStatus"
   ]
  },
  {
   "cell_type": "code",
   "execution_count": 0,
   "metadata": {
    "application/vnd.databricks.v1+cell": {
     "cellMetadata": {
      "byteLimit": 2048000,
      "rowLimit": 10000
     },
     "inputWidgets": {},
     "nuid": "1a1e2d46-4543-4278-9573-82972fcfc427",
     "showTitle": false,
     "title": ""
    }
   },
   "outputs": [
    {
     "output_type": "stream",
     "name": "stdout",
     "output_type": "stream",
     "text": [
      "Out[84]: '87560679-732e-4f9a-86b0-20deab37e287'"
     ]
    }
   ],
   "source": [
    "# TODO\n",
    "query_id = coupon_sales_query.id\n",
    "query_id"
   ]
  },
  {
   "cell_type": "code",
   "execution_count": 0,
   "metadata": {
    "application/vnd.databricks.v1+cell": {
     "cellMetadata": {
      "byteLimit": 2048000,
      "rowLimit": 10000
     },
     "inputWidgets": {},
     "nuid": "5ad6278d-1416-41e3-b6ac-a159283f003f",
     "showTitle": false,
     "title": ""
    }
   },
   "outputs": [
    {
     "output_type": "stream",
     "name": "stdout",
     "output_type": "stream",
     "text": [
      "Out[85]: {'message': 'Waiting for next trigger',\n 'isDataAvailable': False,\n 'isTriggerActive': False}"
     ]
    }
   ],
   "source": [
    "# TODO\n",
    "query_status = coupon_sales_query.status\n",
    "query_status"
   ]
  },
  {
   "cell_type": "markdown",
   "metadata": {
    "application/vnd.databricks.v1+cell": {
     "cellMetadata": {
      "byteLimit": 2048000,
      "rowLimit": 10000
     },
     "inputWidgets": {},
     "nuid": "1ece207d-ecf7-43a0-8b21-308fe944d71a",
     "showTitle": false,
     "title": "--i18n-80d700dc-c312-4c0d-8997-1ce7fe69aefd"
    }
   },
   "source": [
    "\n",
    "\n",
    "\n",
    "**4.1: CHECK YOUR WORK**"
   ]
  },
  {
   "cell_type": "code",
   "execution_count": 0,
   "metadata": {
    "application/vnd.databricks.v1+cell": {
     "cellMetadata": {
      "byteLimit": 2048000,
      "rowLimit": 10000
     },
     "inputWidgets": {},
     "nuid": "01f11927-c86c-4af3-95b0-1ce00ad994bb",
     "showTitle": false,
     "title": ""
    }
   },
   "outputs": [
    {
     "output_type": "display_data",
     "data": {
      "text/html": [
       "<style>\n",
       "      table { text-align: left; border-collapse: collapse; margin: 1em; caption-side: bottom; font-family: Sans-Serif; font-size: 16px}\n",
       "      caption { text-align: left; padding: 5px }\n",
       "      th, td { border: 1px solid #ddd; padding: 5px }\n",
       "      th { background-color: #ddd }\n",
       "      .passed { background-color: #97d897 }\n",
       "      .failed { background-color: #e2716c }\n",
       "      .skipped { background-color: #f9d275 }\n",
       "      .results .points { display: none }\n",
       "      .results .message { display: block; font-size:smaller; color:gray }\n",
       "      .results .note { display: block; font-size:smaller; font-decoration:italics }\n",
       "      .results .passed::before  { content: \"Passed\" }\n",
       "      .results .failed::before  { content: \"Failed\" }\n",
       "      .results .skipped::before { content: \"Skipped\" }\n",
       "      .grade .passed  .message:empty::before { content:\"Passed\" }\n",
       "      .grade .failed  .message:empty::before { content:\"Failed\" }\n",
       "      .grade .skipped .message:empty::before { content:\"Skipped\" }\n",
       "    </style>\n",
       "<table class='results'>\n",
       "  <tr><th class='points'>Points</th><th class='test'>Test</th><th class='result'>Result</th></tr>\n",
       "<tr>\n",
       "  <td class='points'>1</td>\n",
       "  <td class='test'>\n",
       "    Valid status value.\n",
       "  </td>\n",
       "  <td class='result passed'></td>\n",
       "</tr>\n",
       "<tr>\n",
       "  <td class='points'>1</td>\n",
       "  <td class='test'>\n",
       "    Valid query_id value.\n",
       "  </td>\n",
       "  <td class='result passed'></td>\n",
       "</tr>\n",
       "  <caption class='points'>Score: 2</caption>\n",
       "</table>"
      ]
     },
     "metadata": {
      "application/vnd.databricks.v1+output": {
       "addedWidgets": {},
       "arguments": {},
       "data": "<style>\n      table { text-align: left; border-collapse: collapse; margin: 1em; caption-side: bottom; font-family: Sans-Serif; font-size: 16px}\n      caption { text-align: left; padding: 5px }\n      th, td { border: 1px solid #ddd; padding: 5px }\n      th { background-color: #ddd }\n      .passed { background-color: #97d897 }\n      .failed { background-color: #e2716c }\n      .skipped { background-color: #f9d275 }\n      .results .points { display: none }\n      .results .message { display: block; font-size:smaller; color:gray }\n      .results .note { display: block; font-size:smaller; font-decoration:italics }\n      .results .passed::before  { content: \"Passed\" }\n      .results .failed::before  { content: \"Failed\" }\n      .results .skipped::before { content: \"Skipped\" }\n      .grade .passed  .message:empty::before { content:\"Passed\" }\n      .grade .failed  .message:empty::before { content:\"Failed\" }\n      .grade .skipped .message:empty::before { content:\"Skipped\" }\n    </style>\n<table class='results'>\n  <tr><th class='points'>Points</th><th class='test'>Test</th><th class='result'>Result</th></tr>\n<tr>\n  <td class='points'>1</td>\n  <td class='test'>\n    Valid status value.\n  </td>\n  <td class='result passed'></td>\n</tr>\n<tr>\n  <td class='points'>1</td>\n  <td class='test'>\n    Valid query_id value.\n  </td>\n  <td class='result passed'></td>\n</tr>\n  <caption class='points'>Score: 2</caption>\n</table>",
       "datasetInfos": [],
       "metadata": {},
       "removedWidgets": [],
       "textData": null,
       "type": "htmlSandbox"
      }
     },
     "output_type": "display_data"
    }
   ],
   "source": [
    "DA.tests.validate_4_1(query_id, query_status)"
   ]
  },
  {
   "cell_type": "markdown",
   "metadata": {
    "application/vnd.databricks.v1+cell": {
     "cellMetadata": {
      "byteLimit": 2048000,
      "rowLimit": 10000
     },
     "inputWidgets": {},
     "nuid": "f533ac89-1907-4db1-8004-341eaddea0a9",
     "showTitle": false,
     "title": "--i18n-fac79dfb-738f-4c44-ae25-8e9439866be6"
    }
   },
   "source": [
    "\n",
    "\n",
    "### 5. Stop streaming query\n",
    "- Stop the streaming query\n",
    "\n"
   ]
  },
  {
   "cell_type": "code",
   "execution_count": 0,
   "metadata": {
    "application/vnd.databricks.v1+cell": {
     "cellMetadata": {
      "byteLimit": 2048000,
      "rowLimit": 10000
     },
     "inputWidgets": {},
     "nuid": "3c97e30e-6bb6-4be6-bc2e-2b54d9179bb1",
     "showTitle": false,
     "title": ""
    }
   },
   "outputs": [],
   "source": [
    "# TODO\n",
    "coupon_sales_query.stop()"
   ]
  },
  {
   "cell_type": "markdown",
   "metadata": {
    "application/vnd.databricks.v1+cell": {
     "cellMetadata": {
      "byteLimit": 2048000,
      "rowLimit": 10000
     },
     "inputWidgets": {},
     "nuid": "342a9565-76e1-44d4-be18-23c1345bb906",
     "showTitle": false,
     "title": "--i18n-4b582543-cdec-47f0-9ee3-55a8b2dc42db"
    }
   },
   "source": [
    "\n",
    "\n",
    "\n",
    "**5.1: CHECK YOUR WORK**"
   ]
  },
  {
   "cell_type": "code",
   "execution_count": 0,
   "metadata": {
    "application/vnd.databricks.v1+cell": {
     "cellMetadata": {
      "byteLimit": 2048000,
      "rowLimit": 10000
     },
     "inputWidgets": {},
     "nuid": "391b2514-9ceb-422f-a42d-082d2ac6eb19",
     "showTitle": false,
     "title": ""
    }
   },
   "outputs": [
    {
     "output_type": "display_data",
     "data": {
      "text/html": [
       "<style>\n",
       "      table { text-align: left; border-collapse: collapse; margin: 1em; caption-side: bottom; font-family: Sans-Serif; font-size: 16px}\n",
       "      caption { text-align: left; padding: 5px }\n",
       "      th, td { border: 1px solid #ddd; padding: 5px }\n",
       "      th { background-color: #ddd }\n",
       "      .passed { background-color: #97d897 }\n",
       "      .failed { background-color: #e2716c }\n",
       "      .skipped { background-color: #f9d275 }\n",
       "      .results .points { display: none }\n",
       "      .results .message { display: block; font-size:smaller; color:gray }\n",
       "      .results .note { display: block; font-size:smaller; font-decoration:italics }\n",
       "      .results .passed::before  { content: \"Passed\" }\n",
       "      .results .failed::before  { content: \"Failed\" }\n",
       "      .results .skipped::before { content: \"Skipped\" }\n",
       "      .grade .passed  .message:empty::before { content:\"Passed\" }\n",
       "      .grade .failed  .message:empty::before { content:\"Failed\" }\n",
       "      .grade .skipped .message:empty::before { content:\"Skipped\" }\n",
       "    </style>\n",
       "<table class='results'>\n",
       "  <tr><th class='points'>Points</th><th class='test'>Test</th><th class='result'>Result</th></tr>\n",
       "<tr>\n",
       "  <td class='points'>1</td>\n",
       "  <td class='test'>\n",
       "    The query is not active\n",
       "  </td>\n",
       "  <td class='result passed'></td>\n",
       "</tr>\n",
       "  <caption class='points'>Score: 1</caption>\n",
       "</table>"
      ]
     },
     "metadata": {
      "application/vnd.databricks.v1+output": {
       "addedWidgets": {},
       "arguments": {},
       "data": "<style>\n      table { text-align: left; border-collapse: collapse; margin: 1em; caption-side: bottom; font-family: Sans-Serif; font-size: 16px}\n      caption { text-align: left; padding: 5px }\n      th, td { border: 1px solid #ddd; padding: 5px }\n      th { background-color: #ddd }\n      .passed { background-color: #97d897 }\n      .failed { background-color: #e2716c }\n      .skipped { background-color: #f9d275 }\n      .results .points { display: none }\n      .results .message { display: block; font-size:smaller; color:gray }\n      .results .note { display: block; font-size:smaller; font-decoration:italics }\n      .results .passed::before  { content: \"Passed\" }\n      .results .failed::before  { content: \"Failed\" }\n      .results .skipped::before { content: \"Skipped\" }\n      .grade .passed  .message:empty::before { content:\"Passed\" }\n      .grade .failed  .message:empty::before { content:\"Failed\" }\n      .grade .skipped .message:empty::before { content:\"Skipped\" }\n    </style>\n<table class='results'>\n  <tr><th class='points'>Points</th><th class='test'>Test</th><th class='result'>Result</th></tr>\n<tr>\n  <td class='points'>1</td>\n  <td class='test'>\n    The query is not active\n  </td>\n  <td class='result passed'></td>\n</tr>\n  <caption class='points'>Score: 1</caption>\n</table>",
       "datasetInfos": [],
       "metadata": {},
       "removedWidgets": [],
       "textData": null,
       "type": "htmlSandbox"
      }
     },
     "output_type": "display_data"
    }
   ],
   "source": [
    "DA.tests.validate_5_1(coupon_sales_query)"
   ]
  },
  {
   "cell_type": "markdown",
   "metadata": {
    "application/vnd.databricks.v1+cell": {
     "cellMetadata": {
      "byteLimit": 2048000,
      "rowLimit": 10000
     },
     "inputWidgets": {},
     "nuid": "814b8ae4-e7fe-437e-8376-6331fccd556c",
     "showTitle": false,
     "title": "--i18n-9e759d24-b277-4237-86ff-92650fdac8f7"
    }
   },
   "source": [
    "\n",
    "\n",
    "### 6. Verify the records were written in Delta format"
   ]
  },
  {
   "cell_type": "code",
   "execution_count": 0,
   "metadata": {
    "application/vnd.databricks.v1+cell": {
     "cellMetadata": {
      "byteLimit": 2048000,
      "rowLimit": 10000
     },
     "inputWidgets": {},
     "nuid": "5b0a5b62-4ef8-4a70-8ce3-d7adcad8030d",
     "showTitle": false,
     "title": ""
    }
   },
   "outputs": [
    {
     "output_type": "display_data",
     "data": {
      "text/plain": [
       ""
      ]
     },
     "metadata": {
      "application/vnd.databricks.v1+output": {
       "arguments": {},
       "data": "",
       "errorSummary": "Command skipped",
       "errorTraceType": "ansi",
       "metadata": {},
       "type": "ipynbError"
      }
     },
     "output_type": "display_data"
    }
   ],
   "source": [
    "# TODO\n"
   ]
  },
  {
   "cell_type": "markdown",
   "metadata": {
    "application/vnd.databricks.v1+cell": {
     "cellMetadata": {
      "byteLimit": 2048000,
      "rowLimit": 10000
     },
     "inputWidgets": {},
     "nuid": "f7fdfe60-a6a7-4b57-b56b-461b2b8d75e0",
     "showTitle": false,
     "title": "--i18n-7917bc49-1f8c-404a-b37c-76fa3d945620"
    }
   },
   "source": [
    "\n",
    "\n",
    "### Classroom Cleanup\n",
    "Run the cell below to clean up resources."
   ]
  },
  {
   "cell_type": "code",
   "execution_count": 0,
   "metadata": {
    "application/vnd.databricks.v1+cell": {
     "cellMetadata": {
      "byteLimit": 2048000,
      "rowLimit": 10000
     },
     "inputWidgets": {},
     "nuid": "694cf8d5-d379-4b34-ac6e-6e86a6c7d30a",
     "showTitle": false,
     "title": ""
    }
   },
   "outputs": [
    {
     "output_type": "stream",
     "name": "stdout",
     "output_type": "stream",
     "text": [
      "Resetting the learning environment:\n| stopping the stream \"display_query_7\"...(2 seconds)\n| dropping the schema \"anacadriano20_6ryf_da_asp\"...(0 seconds)\n| removing the working directory \"dbfs:/mnt/dbacademy-users/anacadriano20@gmail.com/apache-spark-programming-with-databricks\"...(2 seconds)\n\nValidating the locally installed datasets:\n| listing local files...(3 seconds)\n| validation completed...(3 seconds total)\n"
     ]
    }
   ],
   "source": [
    "DA.cleanup()"
   ]
  },
  {
   "cell_type": "markdown",
   "metadata": {
    "application/vnd.databricks.v1+cell": {
     "cellMetadata": {
      "byteLimit": 2048000,
      "rowLimit": 10000
     },
     "inputWidgets": {},
     "nuid": "5692aa55-6c24-4569-abff-56cbf5131d71",
     "showTitle": false,
     "title": ""
    }
   },
   "source": [
    "&copy; 2023 Databricks, Inc. All rights reserved.<br/>\n",
    "Apache, Apache Spark, Spark and the Spark logo are trademarks of the <a href=\"https://www.apache.org/\">Apache Software Foundation</a>.<br/>\n",
    "<br/>\n",
    "<a href=\"https://databricks.com/privacy-policy\">Privacy Policy</a> | <a href=\"https://databricks.com/terms-of-use\">Terms of Use</a> | <a href=\"https://help.databricks.com/\">Support</a>"
   ]
  }
 ],
 "metadata": {
  "application/vnd.databricks.v1+notebook": {
   "dashboards": [],
   "language": "python",
   "notebookMetadata": {
    "pythonIndentUnit": 2
   },
   "notebookName": "ASP 5.1aL - Coupon Sales Lab",
   "widgets": {}
  }
 },
 "nbformat": 4,
 "nbformat_minor": 0
}
