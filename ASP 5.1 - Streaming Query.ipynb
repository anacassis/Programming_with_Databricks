{
 "cells": [
  {
   "cell_type": "markdown",
   "metadata": {
    "application/vnd.databricks.v1+cell": {
     "cellMetadata": {
      "byteLimit": 2048000,
      "rowLimit": 10000
     },
     "inputWidgets": {},
     "nuid": "0ff749f7-dd35-4f92-8d51-0d4923fc049b",
     "showTitle": false,
     "title": ""
    }
   },
   "source": [
    "\n",
    "<div style=\"text-align: center; line-height: 0; padding-top: 9px;\">\n",
    "  <img src=\"https://databricks.com/wp-content/uploads/2018/03/db-academy-rgb-1200px.png\" alt=\"Databricks Learning\" style=\"width: 600px\">\n",
    "</div>"
   ]
  },
  {
   "cell_type": "markdown",
   "metadata": {
    "application/vnd.databricks.v1+cell": {
     "cellMetadata": {
      "byteLimit": 2048000,
      "rowLimit": 10000
     },
     "inputWidgets": {},
     "nuid": "777dda0e-69ba-4fb1-829e-eefdf524e596",
     "showTitle": false,
     "title": "--i18n-c27a0f32-d70b-4289-b9cb-0b3f57d6a883"
    }
   },
   "source": [
    "\n",
    "\n",
    "# Streaming Query\n",
    "\n",
    "##### Objectives\n",
    "1. Build streaming DataFrames\n",
    "1. Display streaming query results\n",
    "1. Write streaming query results\n",
    "1. Monitor streaming query\n",
    "\n",
    "##### Classes\n",
    "- <a href=\"https://spark.apache.org/docs/latest/api/python/reference/pyspark.ss/api/pyspark.sql.streaming.DataStreamReader.html\" target=\"_blank\">DataStreamReader</a>\n",
    "- <a href=\"https://spark.apache.org/docs/latest/api/python/reference/pyspark.ss/api/pyspark.sql.streaming.DataStreamWriter.html\" target=\"_blank\">DataStreamWriter</a>\n",
    "- <a href=\"https://spark.apache.org/docs/latest/api/python/reference/pyspark.ss/api/pyspark.sql.streaming.StreamingQuery.html\" target=\"_blank\">StreamingQuery</a>\n",
    "\n",
    "(pt-br)\n",
    "\n",
    "##### Objetivos\n",
    "1. Construir DataFrames de streaming\n",
    "1. Exibir resultados da consulta de streaming\n",
    "1. Escreva os resultados da consulta de streaming\n",
    "1. Monitore a consulta de streaming"
   ]
  },
  {
   "cell_type": "code",
   "execution_count": 0,
   "metadata": {
    "application/vnd.databricks.v1+cell": {
     "cellMetadata": {
      "byteLimit": 2048000,
      "rowLimit": 10000
     },
     "inputWidgets": {},
     "nuid": "1694de2a-bffd-45ac-8666-48b295fc884c",
     "showTitle": false,
     "title": ""
    }
   },
   "outputs": [
    {
     "output_type": "stream",
     "name": "stdout",
     "output_type": "stream",
     "text": [
      "Python interpreter will be restarted.\nPython interpreter will be restarted.\n"
     ]
    },
    {
     "output_type": "stream",
     "name": "stdout",
     "output_type": "stream",
     "text": [
      "Resetting the learning environment:\n| No action taken\n\nSkipping install of existing datasets to \"dbfs:/mnt/dbacademy-datasets/apache-spark-programming-with-databricks/v03\"\n\nValidating the locally installed datasets:\n| listing local files...(3 seconds)\n| validation completed...(3 seconds total)\n\nCreating & using the schema \"anacadriano20_6ryf_da_asp\" in the catalog \"spark_catalog\"...(0 seconds)\n\nPredefined tables in \"anacadriano20_6ryf_da_asp\":\n| -none-\n\nPredefined paths variables:\n| DA.paths.working_dir: dbfs:/mnt/dbacademy-users/anacadriano20@gmail.com/apache-spark-programming-with-databricks\n| DA.paths.user_db:     dbfs:/mnt/dbacademy-users/anacadriano20@gmail.com/apache-spark-programming-with-databricks/database.db\n| DA.paths.datasets:    dbfs:/mnt/dbacademy-datasets/apache-spark-programming-with-databricks/v03\n| DA.paths.checkpoints: dbfs:/mnt/dbacademy-users/anacadriano20@gmail.com/apache-spark-programming-with-databricks/_checkpoints\n\nSetup completed (5 seconds)\n\nPredefined tables in \"anacadriano20_6ryf_da_asp\":\n| -none-\n\nPredefined paths variables:\n| DA.paths.working_dir: dbfs:/mnt/dbacademy-users/anacadriano20@gmail.com/apache-spark-programming-with-databricks\n| DA.paths.user_db:     dbfs:/mnt/dbacademy-users/anacadriano20@gmail.com/apache-spark-programming-with-databricks/database.db\n| DA.paths.datasets:    dbfs:/mnt/dbacademy-datasets/apache-spark-programming-with-databricks/v03\n| DA.paths.checkpoints: dbfs:/mnt/dbacademy-users/anacadriano20@gmail.com/apache-spark-programming-with-databricks/_checkpoints\n| DA.paths.sales:       dbfs:/mnt/dbacademy-datasets/apache-spark-programming-with-databricks/v03/ecommerce/sales/sales.delta\n| DA.paths.users:       dbfs:/mnt/dbacademy-datasets/apache-spark-programming-with-databricks/v03/ecommerce/users/users.delta\n| DA.paths.events:      dbfs:/mnt/dbacademy-datasets/apache-spark-programming-with-databricks/v03/ecommerce/events/events.delta\n| DA.paths.products:    dbfs:/mnt/dbacademy-datasets/apache-spark-programming-with-databricks/v03/products/products.delta\n\nSetup completed (5 seconds)\n"
     ]
    }
   ],
   "source": [
    "%run ../Includes/Classroom-Setup"
   ]
  },
  {
   "cell_type": "markdown",
   "metadata": {
    "application/vnd.databricks.v1+cell": {
     "cellMetadata": {
      "byteLimit": 2048000,
      "rowLimit": 10000
     },
     "inputWidgets": {},
     "nuid": "17830cdd-6e74-4d22-88bc-2e89e9842358",
     "showTitle": false,
     "title": "--i18n-d483091a-0eff-4095-b07c-b7616d03e03f"
    }
   },
   "source": [
    "\n",
    "\n",
    "### Build streaming DataFrames\n",
    "\n",
    "Obtain an initial streaming DataFrame from a Delta-format file source."
   ]
  },
  {
   "cell_type": "code",
   "execution_count": 0,
   "metadata": {
    "application/vnd.databricks.v1+cell": {
     "cellMetadata": {
      "byteLimit": 2048000,
      "rowLimit": 10000
     },
     "inputWidgets": {},
     "nuid": "d4eeefb4-6677-46bb-a79f-c221f6d80d52",
     "showTitle": false,
     "title": ""
    }
   },
   "outputs": [
    {
     "output_type": "stream",
     "name": "stdout",
     "output_type": "stream",
     "text": [
      "Out[4]: True"
     ]
    }
   ],
   "source": [
    "df = (spark\n",
    "      .readStream\n",
    "      .option(\"maxFilesPerTrigger\", 1)\n",
    "      .format(\"delta\")\n",
    "      .load(DA.paths.events)\n",
    "     )\n",
    "\n",
    "df.isStreaming"
   ]
  },
  {
   "cell_type": "markdown",
   "metadata": {
    "application/vnd.databricks.v1+cell": {
     "cellMetadata": {
      "byteLimit": 2048000,
      "rowLimit": 10000
     },
     "inputWidgets": {},
     "nuid": "b4dd690e-2e38-435f-a2fb-60c5fd3619b6",
     "showTitle": false,
     "title": "--i18n-71d3e0bc-7405-4115-8603-467e56dd9c9e"
    }
   },
   "source": [
    "\n",
    "\n",
    "Apply some transformations, producing new streaming DataFrames."
   ]
  },
  {
   "cell_type": "code",
   "execution_count": 0,
   "metadata": {
    "application/vnd.databricks.v1+cell": {
     "cellMetadata": {
      "byteLimit": 2048000,
      "rowLimit": 10000
     },
     "inputWidgets": {},
     "nuid": "f137671e-5cac-4882-8140-4a3a5fe4444f",
     "showTitle": false,
     "title": ""
    }
   },
   "outputs": [
    {
     "output_type": "stream",
     "name": "stdout",
     "output_type": "stream",
     "text": [
      "Out[5]: True"
     ]
    }
   ],
   "source": [
    "from pyspark.sql.functions import col, approx_count_distinct, count\n",
    "\n",
    "email_traffic_df = (df\n",
    "                    .filter(col(\"traffic_source\") == \"email\")\n",
    "                    .withColumn(\"mobile\", col(\"device\").isin([\"iOS\", \"Android\"]))\n",
    "                    .select(\"user_id\", \"event_timestamp\", \"mobile\")\n",
    "                   )\n",
    "\n",
    "email_traffic_df.isStreaming"
   ]
  },
  {
   "cell_type": "markdown",
   "metadata": {
    "application/vnd.databricks.v1+cell": {
     "cellMetadata": {
      "byteLimit": 2048000,
      "rowLimit": 10000
     },
     "inputWidgets": {},
     "nuid": "d0963ab2-3d94-4e73-a5f5-9756c530becc",
     "showTitle": false,
     "title": "--i18n-2afbce6a-e773-49c9-b693-95db2257ead2"
    }
   },
   "source": [
    "\n",
    "\n",
    "### Write streaming query results\n",
    "\n",
    "Take the final streaming DataFrame (our result table) and write it to a file sink in \"append\" mode."
   ]
  },
  {
   "cell_type": "code",
   "execution_count": 0,
   "metadata": {
    "application/vnd.databricks.v1+cell": {
     "cellMetadata": {
      "byteLimit": 2048000,
      "rowLimit": 10000
     },
     "inputWidgets": {},
     "nuid": "aad65e56-e782-433a-8d1d-169182655e36",
     "showTitle": false,
     "title": ""
    }
   },
   "outputs": [],
   "source": [
    "checkpoint_path = f\"{DA.paths.checkpoints}/email_traffic\"\n",
    "output_path = f\"{DA.paths.working_dir}/email_traffic/output\"\n",
    "\n",
    "devices_query = (email_traffic_df\n",
    "                 .writeStream\n",
    "                 .outputMode(\"append\")\n",
    "                 .format(\"delta\")\n",
    "                 .queryName(\"email_traffic\")\n",
    "                 .trigger(processingTime=\"1 second\")\n",
    "                 .option(\"checkpointLocation\", checkpoint_path)\n",
    "                 .start(output_path)\n",
    "                )"
   ]
  },
  {
   "cell_type": "markdown",
   "metadata": {
    "application/vnd.databricks.v1+cell": {
     "cellMetadata": {
      "byteLimit": 2048000,
      "rowLimit": 10000
     },
     "inputWidgets": {},
     "nuid": "e35b4ab9-4c04-4940-8ccc-1e16e9f6d8f2",
     "showTitle": false,
     "title": "--i18n-abebb6ba-cc8b-49a5-8976-07aa5736f81b"
    }
   },
   "source": [
    "\n",
    "\n",
    "### Monitor streaming query\n",
    "\n",
    "Use the streaming query \"handle\" to monitor and control it."
   ]
  },
  {
   "cell_type": "code",
   "execution_count": 0,
   "metadata": {
    "application/vnd.databricks.v1+cell": {
     "cellMetadata": {
      "byteLimit": 2048000,
      "rowLimit": 10000
     },
     "inputWidgets": {},
     "nuid": "8f260c4e-2ed3-4dff-8b97-4802e9f6a408",
     "showTitle": false,
     "title": ""
    }
   },
   "outputs": [
    {
     "output_type": "stream",
     "name": "stdout",
     "output_type": "stream",
     "text": [
      "Out[14]: 'f0311035-9ad7-4d91-92ad-197935e86741'"
     ]
    }
   ],
   "source": [
    "devices_query.id"
   ]
  },
  {
   "cell_type": "code",
   "execution_count": 0,
   "metadata": {
    "application/vnd.databricks.v1+cell": {
     "cellMetadata": {
      "byteLimit": 2048000,
      "rowLimit": 10000
     },
     "inputWidgets": {},
     "nuid": "9802a367-8c88-4edb-9918-ecff6d5fe7ac",
     "showTitle": false,
     "title": ""
    }
   },
   "outputs": [
    {
     "output_type": "stream",
     "name": "stdout",
     "output_type": "stream",
     "text": [
      "Out[15]: {'message': 'Processing new data',\n 'isDataAvailable': True,\n 'isTriggerActive': True}"
     ]
    }
   ],
   "source": [
    "devices_query.status"
   ]
  },
  {
   "cell_type": "code",
   "execution_count": 0,
   "metadata": {
    "application/vnd.databricks.v1+cell": {
     "cellMetadata": {
      "byteLimit": 2048000,
      "rowLimit": 10000
     },
     "inputWidgets": {},
     "nuid": "599e0d27-61c1-4dbd-a631-856d8f42dda1",
     "showTitle": false,
     "title": ""
    }
   },
   "outputs": [],
   "source": [
    "devices_query.lastProgress"
   ]
  },
  {
   "cell_type": "code",
   "execution_count": 0,
   "metadata": {
    "application/vnd.databricks.v1+cell": {
     "cellMetadata": {
      "byteLimit": 2048000,
      "rowLimit": 10000
     },
     "inputWidgets": {},
     "nuid": "c9c8081d-8125-4a82-80df-8ab02a70bd5e",
     "showTitle": false,
     "title": ""
    }
   },
   "outputs": [],
   "source": [
    "import time\n",
    "# Run for 10 more seconds\n",
    "time.sleep(10) \n",
    "\n",
    "devices_query.stop()"
   ]
  },
  {
   "cell_type": "code",
   "execution_count": 0,
   "metadata": {
    "application/vnd.databricks.v1+cell": {
     "cellMetadata": {
      "byteLimit": 2048000,
      "rowLimit": 10000
     },
     "inputWidgets": {},
     "nuid": "3d41bee2-e9b8-4e49-83f8-025d1ecde055",
     "showTitle": false,
     "title": ""
    }
   },
   "outputs": [],
   "source": [
    "devices_query.awaitTermination()"
   ]
  },
  {
   "cell_type": "markdown",
   "metadata": {
    "application/vnd.databricks.v1+cell": {
     "cellMetadata": {
      "byteLimit": 2048000,
      "rowLimit": 10000
     },
     "inputWidgets": {},
     "nuid": "e91aeb2b-13c7-40f3-b59e-bb5bfeecd3d2",
     "showTitle": false,
     "title": "--i18n-a0ccbda9-14ff-4209-97a2-725dcee960cd"
    }
   },
   "source": [
    "\n",
    "\n",
    "### Classroom Cleanup\n",
    "Run the cell below to clean up resources."
   ]
  },
  {
   "cell_type": "code",
   "execution_count": 0,
   "metadata": {
    "application/vnd.databricks.v1+cell": {
     "cellMetadata": {
      "byteLimit": 2048000,
      "rowLimit": 10000
     },
     "inputWidgets": {},
     "nuid": "9cd80f0c-e8eb-498c-9f32-3103a2de7948",
     "showTitle": false,
     "title": ""
    }
   },
   "outputs": [
    {
     "output_type": "stream",
     "name": "stdout",
     "output_type": "stream",
     "text": [
      "Resetting the learning environment:\n| removing the working directory \"dbfs:/mnt/dbacademy-users/anacadriano20@gmail.com/apache-spark-programming-with-databricks\"...(0 seconds)\n\nValidating the locally installed datasets:\n| listing local files...(3 seconds)\n| validation completed...(3 seconds total)\n"
     ]
    }
   ],
   "source": [
    "DA.cleanup()"
   ]
  },
  {
   "cell_type": "markdown",
   "metadata": {
    "application/vnd.databricks.v1+cell": {
     "cellMetadata": {
      "byteLimit": 2048000,
      "rowLimit": 10000
     },
     "inputWidgets": {},
     "nuid": "c6bfae8c-6755-4697-ab08-1f0aaef57ff6",
     "showTitle": false,
     "title": ""
    }
   },
   "source": [
    "&copy; 2023 Databricks, Inc. All rights reserved.<br/>\n",
    "Apache, Apache Spark, Spark and the Spark logo are trademarks of the <a href=\"https://www.apache.org/\">Apache Software Foundation</a>.<br/>\n",
    "<br/>\n",
    "<a href=\"https://databricks.com/privacy-policy\">Privacy Policy</a> | <a href=\"https://databricks.com/terms-of-use\">Terms of Use</a> | <a href=\"https://help.databricks.com/\">Support</a>"
   ]
  }
 ],
 "metadata": {
  "application/vnd.databricks.v1+notebook": {
   "dashboards": [],
   "language": "python",
   "notebookMetadata": {
    "pythonIndentUnit": 2
   },
   "notebookName": "ASP 5.1 - Streaming Query",
   "widgets": {}
  }
 },
 "nbformat": 4,
 "nbformat_minor": 0
}
