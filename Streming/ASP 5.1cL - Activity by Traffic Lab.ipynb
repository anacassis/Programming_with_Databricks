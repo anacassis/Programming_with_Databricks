{
 "cells": [
  {
   "cell_type": "markdown",
   "metadata": {
    "application/vnd.databricks.v1+cell": {
     "cellMetadata": {},
     "inputWidgets": {},
     "nuid": "21c2b954-1af6-4b60-bf14-88207518663d",
     "showTitle": false,
     "title": ""
    }
   },
   "source": [
    "\n",
    "<div style=\"text-align: center; line-height: 0; padding-top: 9px;\">\n",
    "  <img src=\"https://databricks.com/wp-content/uploads/2018/03/db-academy-rgb-1200px.png\" alt=\"Databricks Learning\" style=\"width: 600px\">\n",
    "</div>"
   ]
  },
  {
   "cell_type": "markdown",
   "metadata": {
    "application/vnd.databricks.v1+cell": {
     "cellMetadata": {},
     "inputWidgets": {},
     "nuid": "8338e2f5-65bc-4b49-bc6e-f63e9d9a7e9b",
     "showTitle": false,
     "title": "--i18n-7490cd7f-a3a1-41ac-8fa8-b126983ae4f5"
    }
   },
   "source": [
    "\n",
    "\n",
    "# Activity by Traffic Lab\n",
    "Process streaming data to display total active users by traffic source.\n",
    "\n",
    "##### Objectives\n",
    "1. Read data stream\n",
    "2. Get active users by traffic source\n",
    "3. Execute query with display() and plot results\n",
    "4. Execute the same streaming query with DataStreamWriter\n",
    "5. View results being updated in the query table\n",
    "6. List and stop all active streams\n",
    "\n",
    "##### Classes\n",
    "- <a href=\"https://spark.apache.org/docs/latest/api/python/reference/pyspark.ss/api/pyspark.sql.streaming.DataStreamReader.html\" target=\"_blank\">DataStreamReader</a>\n",
    "- <a href=\"https://spark.apache.org/docs/latest/api/python/reference/pyspark.ss/api/pyspark.sql.streaming.DataStreamWriter.html\" target=\"_blank\">DataStreamWriter</a>\n",
    "- <a href=\"https://spark.apache.org/docs/latest/api/python/reference/pyspark.ss/api/pyspark.sql.streaming.StreamingQuery.html\" target=\"_blank\">StreamingQuery</a>\n",
    "\n",
    "(pt-br)\n",
    "##### Objetivos\n",
    "1. Leia o fluxo de dados\n",
    "2. Obtenha usuários ativos por origem de tráfego\n",
    "3. Execute a consulta com display() e plote os resultados\n",
    "4. Execute a mesma consulta de streaming com DataStreamWriter\n",
    "5. Veja os resultados sendo atualizados na tabela de consulta\n",
    "6. Liste e interrompa todos os streams ativos"
   ]
  },
  {
   "cell_type": "markdown",
   "metadata": {
    "application/vnd.databricks.v1+cell": {
     "cellMetadata": {},
     "inputWidgets": {},
     "nuid": "ee1206dd-4e1c-4732-a85e-8f01d28064d5",
     "showTitle": false,
     "title": "--i18n-ffb260b5-eef7-435a-94da-f43d123719f2"
    }
   },
   "source": [
    "\n",
    "\n",
    "### Setup\n",
    "Run the cells below to generate data and create the **`schema`** string needed for this lab."
   ]
  },
  {
   "cell_type": "code",
   "execution_count": 0,
   "metadata": {
    "application/vnd.databricks.v1+cell": {
     "cellMetadata": {
      "byteLimit": 2048000,
      "rowLimit": 10000
     },
     "inputWidgets": {},
     "nuid": "77c0fd08-9b35-44f1-9f71-635434193f26",
     "showTitle": false,
     "title": ""
    }
   },
   "outputs": [
    {
     "output_type": "stream",
     "name": "stdout",
     "output_type": "stream",
     "text": [
      "Python interpreter will be restarted.\nPython interpreter will be restarted.\n"
     ]
    },
    {
     "output_type": "stream",
     "name": "stdout",
     "output_type": "stream",
     "text": [
      "Resetting the learning environment:\n| removing the working directory \"dbfs:/mnt/dbacademy-users/anacadriano20@gmail.com/apache-spark-programming-with-databricks\"...(0 seconds)\n\nSkipping install of existing datasets to \"dbfs:/mnt/dbacademy-datasets/apache-spark-programming-with-databricks/v03\"\n\nValidating the locally installed datasets:\n| listing local files...(4 seconds)\n| validation completed...(4 seconds total)\n\nCreating & using the schema \"anacadriano20_6ryf_da_asp\" in the catalog \"spark_catalog\"...(2 seconds)\n\nPredefined tables in \"anacadriano20_6ryf_da_asp\":\n| -none-\n\nPredefined paths variables:\n| DA.paths.working_dir: dbfs:/mnt/dbacademy-users/anacadriano20@gmail.com/apache-spark-programming-with-databricks\n| DA.paths.user_db:     dbfs:/mnt/dbacademy-users/anacadriano20@gmail.com/apache-spark-programming-with-databricks/database.db\n| DA.paths.datasets:    dbfs:/mnt/dbacademy-datasets/apache-spark-programming-with-databricks/v03\n| DA.paths.checkpoints: dbfs:/mnt/dbacademy-users/anacadriano20@gmail.com/apache-spark-programming-with-databricks/_checkpoints\n\nSetup completed (27 seconds)\n\nPredefined tables in \"anacadriano20_6ryf_da_asp\":\n| -none-\n\nPredefined paths variables:\n| DA.paths.working_dir: dbfs:/mnt/dbacademy-users/anacadriano20@gmail.com/apache-spark-programming-with-databricks\n| DA.paths.user_db:     dbfs:/mnt/dbacademy-users/anacadriano20@gmail.com/apache-spark-programming-with-databricks/database.db\n| DA.paths.datasets:    dbfs:/mnt/dbacademy-datasets/apache-spark-programming-with-databricks/v03\n| DA.paths.checkpoints: dbfs:/mnt/dbacademy-users/anacadriano20@gmail.com/apache-spark-programming-with-databricks/_checkpoints\n| DA.paths.sales:       dbfs:/mnt/dbacademy-datasets/apache-spark-programming-with-databricks/v03/ecommerce/sales/sales.delta\n| DA.paths.users:       dbfs:/mnt/dbacademy-datasets/apache-spark-programming-with-databricks/v03/ecommerce/users/users.delta\n| DA.paths.events:      dbfs:/mnt/dbacademy-datasets/apache-spark-programming-with-databricks/v03/ecommerce/events/events.delta\n| DA.paths.products:    dbfs:/mnt/dbacademy-datasets/apache-spark-programming-with-databricks/v03/products/products.delta\n\nSetup completed (27 seconds)\n"
     ]
    }
   ],
   "source": [
    "%run ../Includes/Classroom-Setup-5.1c"
   ]
  },
  {
   "cell_type": "markdown",
   "metadata": {
    "application/vnd.databricks.v1+cell": {
     "cellMetadata": {},
     "inputWidgets": {},
     "nuid": "2319c026-e6b5-49ac-906e-a8e7982cb1d2",
     "showTitle": false,
     "title": "--i18n-5cc77c5c-04f9-4306-a0f2-a8848bf79e60"
    }
   },
   "source": [
    "\n",
    "\n",
    "### 1. Read data stream\n",
    "- Set to process 1 file per trigger\n",
    "- Read from Delta with filepath stored in **`DA.paths.events`**\n",
    "\n",
    "Assign the resulting Query to **`df`**.\n",
    "\n",
    "\n",
    "1. Leia o fluxo de dados\n",
    "Definido para processar 1 arquivo por gatilho\n",
    "\n",
    "Leia do Delta com caminho de arquivo armazenado em DA.paths.events\n",
    "\n",
    "Atribuir a consulta resultante ao df\n"
   ]
  },
  {
   "cell_type": "code",
   "execution_count": 0,
   "metadata": {
    "application/vnd.databricks.v1+cell": {
     "cellMetadata": {
      "byteLimit": 2048000,
      "rowLimit": 10000
     },
     "inputWidgets": {},
     "nuid": "8e1757d5-cc00-4f53-88cd-1ccff1e644e2",
     "showTitle": false,
     "title": ""
    }
   },
   "outputs": [],
   "source": [
    "# TODO\n",
    "df = (spark.readStream\n",
    "      .option(\"maxFilesPerTrigger\",1)\n",
    "      .format('delta')\n",
    "      .load(DA.paths.events))"
   ]
  },
  {
   "cell_type": "markdown",
   "metadata": {
    "application/vnd.databricks.v1+cell": {
     "cellMetadata": {},
     "inputWidgets": {},
     "nuid": "a92fc538-6ace-4af2-8e8e-546ad6076d46",
     "showTitle": false,
     "title": "--i18n-d1dbded3-bf92-4f51-882f-ff7354079ca4"
    }
   },
   "source": [
    "\n",
    "\n",
    "\n",
    "**1.1: CHECK YOUR WORK**"
   ]
  },
  {
   "cell_type": "code",
   "execution_count": 0,
   "metadata": {
    "application/vnd.databricks.v1+cell": {
     "cellMetadata": {
      "byteLimit": 2048000,
      "rowLimit": 10000
     },
     "inputWidgets": {},
     "nuid": "1bf026e8-4184-4480-8fec-ff0bd4ed752c",
     "showTitle": false,
     "title": ""
    }
   },
   "outputs": [
    {
     "output_type": "display_data",
     "data": {
      "text/html": [
       "<style>\n",
       "      table { text-align: left; border-collapse: collapse; margin: 1em; caption-side: bottom; font-family: Sans-Serif; font-size: 16px}\n",
       "      caption { text-align: left; padding: 5px }\n",
       "      th, td { border: 1px solid #ddd; padding: 5px }\n",
       "      th { background-color: #ddd }\n",
       "      .passed { background-color: #97d897 }\n",
       "      .failed { background-color: #e2716c }\n",
       "      .skipped { background-color: #f9d275 }\n",
       "      .results .points { display: none }\n",
       "      .results .message { display: block; font-size:smaller; color:gray }\n",
       "      .results .note { display: block; font-size:smaller; font-decoration:italics }\n",
       "      .results .passed::before  { content: \"Passed\" }\n",
       "      .results .failed::before  { content: \"Failed\" }\n",
       "      .results .skipped::before { content: \"Skipped\" }\n",
       "      .grade .passed  .message:empty::before { content:\"Passed\" }\n",
       "      .grade .failed  .message:empty::before { content:\"Failed\" }\n",
       "      .grade .skipped .message:empty::before { content:\"Skipped\" }\n",
       "    </style>\n",
       "<table class='results'>\n",
       "  <tr><th class='points'>Points</th><th class='test'>Test</th><th class='result'>Result</th></tr>\n",
       "<tr>\n",
       "  <td class='points'>1</td>\n",
       "  <td class='test'>\n",
       "    The query is streaming\n",
       "  </td>\n",
       "  <td class='result passed'></td>\n",
       "</tr>\n",
       "<tr>\n",
       "  <td class='points'>1</td>\n",
       "  <td class='test'>\n",
       "    DataFrame contains all 10 columns\n",
       "  </td>\n",
       "  <td class='result passed'></td>\n",
       "</tr>\n",
       "  <caption class='points'>Score: 2</caption>\n",
       "</table>"
      ]
     },
     "metadata": {
      "application/vnd.databricks.v1+output": {
       "addedWidgets": {},
       "arguments": {},
       "data": "<style>\n      table { text-align: left; border-collapse: collapse; margin: 1em; caption-side: bottom; font-family: Sans-Serif; font-size: 16px}\n      caption { text-align: left; padding: 5px }\n      th, td { border: 1px solid #ddd; padding: 5px }\n      th { background-color: #ddd }\n      .passed { background-color: #97d897 }\n      .failed { background-color: #e2716c }\n      .skipped { background-color: #f9d275 }\n      .results .points { display: none }\n      .results .message { display: block; font-size:smaller; color:gray }\n      .results .note { display: block; font-size:smaller; font-decoration:italics }\n      .results .passed::before  { content: \"Passed\" }\n      .results .failed::before  { content: \"Failed\" }\n      .results .skipped::before { content: \"Skipped\" }\n      .grade .passed  .message:empty::before { content:\"Passed\" }\n      .grade .failed  .message:empty::before { content:\"Failed\" }\n      .grade .skipped .message:empty::before { content:\"Skipped\" }\n    </style>\n<table class='results'>\n  <tr><th class='points'>Points</th><th class='test'>Test</th><th class='result'>Result</th></tr>\n<tr>\n  <td class='points'>1</td>\n  <td class='test'>\n    The query is streaming\n  </td>\n  <td class='result passed'></td>\n</tr>\n<tr>\n  <td class='points'>1</td>\n  <td class='test'>\n    DataFrame contains all 10 columns\n  </td>\n  <td class='result passed'></td>\n</tr>\n  <caption class='points'>Score: 2</caption>\n</table>",
       "datasetInfos": [],
       "metadata": {},
       "removedWidgets": [],
       "textData": null,
       "type": "htmlSandbox"
      }
     },
     "output_type": "display_data"
    }
   ],
   "source": [
    "DA.tests.validate_1_1(df)"
   ]
  },
  {
   "cell_type": "markdown",
   "metadata": {
    "application/vnd.databricks.v1+cell": {
     "cellMetadata": {},
     "inputWidgets": {},
     "nuid": "4fbb8f83-152c-461f-b628-883baa9de582",
     "showTitle": false,
     "title": "--i18n-a6dada0b-e17f-4491-8b55-de63101d60c4"
    }
   },
   "source": [
    "\n",
    "\n",
    "### 2. Get active users by traffic source\n",
    "- Set default shuffle partitions to number of cores on your cluster (not required, but runs faster)\n",
    "- Group by **`traffic_source`**\n",
    "  - Aggregate the approximate count of distinct users and alias with \"active_users\"\n",
    "- Sort by **`traffic_source`**\n",
    "\n",
    "\n",
    "2. Obtenha usuários ativos por origem de tráfego\n",
    "\n",
    "Defina partições aleatórias padrão para o número de núcleos em seu cluster (não é obrigatório, mas é executado mais rapidamente)\n",
    "\n",
    "Agrupar por tráfego_fonte\n",
    "\n",
    "- Agregue a contagem aproximada de usuários distintos e alias com \"active_users\"\n",
    "\n",
    "Classificar por fonte_de_tráfego"
   ]
  },
  {
   "cell_type": "code",
   "execution_count": 0,
   "metadata": {
    "application/vnd.databricks.v1+cell": {
     "cellMetadata": {
      "byteLimit": 2048000,
      "rowLimit": 10000
     },
     "inputWidgets": {},
     "nuid": "23ead0b8-efc1-4179-92bc-06da4cc48a43",
     "showTitle": false,
     "title": ""
    }
   },
   "outputs": [
    {
     "output_type": "display_data",
     "data": {
      "text/html": [
       "<style scoped>\n",
       "  .table-result-container {\n",
       "    max-height: 300px;\n",
       "    overflow: auto;\n",
       "  }\n",
       "  table, th, td {\n",
       "    border: 1px solid black;\n",
       "    border-collapse: collapse;\n",
       "  }\n",
       "  th, td {\n",
       "    padding: 5px;\n",
       "  }\n",
       "  th {\n",
       "    text-align: left;\n",
       "  }\n",
       "</style><div class='table-result-container'><table class='table-result'><thead style='background-color: white'><tr><th>traffic_source</th><th>active_users</th></tr></thead><tbody><tr><td>direct</td><td>438886</td></tr><tr><td>email</td><td>281525</td></tr><tr><td>facebook</td><td>956769</td></tr><tr><td>google</td><td>1781961</td></tr><tr><td>instagram</td><td>530050</td></tr><tr><td>youtube</td><td>253321</td></tr></tbody></table></div>"
      ]
     },
     "metadata": {
      "application/vnd.databricks.v1+output": {
       "addedWidgets": {},
       "aggData": [],
       "aggError": "",
       "aggOverflow": false,
       "aggSchema": [],
       "aggSeriesLimitReached": false,
       "aggType": "",
       "arguments": {},
       "columnCustomDisplayInfos": {},
       "data": [
        [
         "direct",
         438886
        ],
        [
         "email",
         281525
        ],
        [
         "facebook",
         956769
        ],
        [
         "google",
         1781961
        ],
        [
         "instagram",
         530050
        ],
        [
         "youtube",
         253321
        ]
       ],
       "datasetInfos": [],
       "dbfsResultPath": null,
       "isJsonSchema": true,
       "metadata": {
        "isDbfsCommandResult": false
       },
       "overflow": false,
       "plotOptions": {
        "customPlotOptions": {},
        "displayType": "table",
        "pivotAggregation": null,
        "pivotColumns": null,
        "xColumns": null,
        "yColumns": null
       },
       "removedWidgets": [],
       "schema": [
        {
         "metadata": "{}",
         "name": "traffic_source",
         "type": "\"string\""
        },
        {
         "metadata": "{}",
         "name": "active_users",
         "type": "\"long\""
        }
       ],
       "type": "table"
      }
     },
     "output_type": "display_data"
    }
   ],
   "source": [
    "# TODO\n",
    "from pyspark.sql.functions import col, approx_count_distinct, count\n",
    "\n",
    "#partitions\n",
    "spark.conf.set(\"spark.sql.shuffle.partitions\", spark.sparkContext.defaultParallelism)\n",
    "\n",
    "traffic_df = (df\n",
    "              .groupBy(\"traffic_source\")\n",
    "              .agg(approx_count_distinct(\"user_id\").alias(\"active_users\"))\n",
    "              .sort(\"traffic_source\")\n",
    "             )\n",
    "display(traffic_df)"
   ]
  },
  {
   "cell_type": "markdown",
   "metadata": {
    "application/vnd.databricks.v1+cell": {
     "cellMetadata": {},
     "inputWidgets": {},
     "nuid": "7b946d84-0dfd-4989-863b-32fb82d7dbc2",
     "showTitle": false,
     "title": "--i18n-b202f51b-7b0c-48bc-a705-fd43b08abd6b"
    }
   },
   "source": [
    "\n",
    "\n",
    "\n",
    "**2.1: CHECK YOUR WORK**"
   ]
  },
  {
   "cell_type": "code",
   "execution_count": 0,
   "metadata": {
    "application/vnd.databricks.v1+cell": {
     "cellMetadata": {
      "byteLimit": 2048000,
      "rowLimit": 10000
     },
     "inputWidgets": {},
     "nuid": "6fc44443-d2d2-45fc-b4fd-c7c952b3a0f6",
     "showTitle": false,
     "title": ""
    }
   },
   "outputs": [
    {
     "output_type": "display_data",
     "data": {
      "text/html": [
       "<style>\n",
       "      table { text-align: left; border-collapse: collapse; margin: 1em; caption-side: bottom; font-family: Sans-Serif; font-size: 16px}\n",
       "      caption { text-align: left; padding: 5px }\n",
       "      th, td { border: 1px solid #ddd; padding: 5px }\n",
       "      th { background-color: #ddd }\n",
       "      .passed { background-color: #97d897 }\n",
       "      .failed { background-color: #e2716c }\n",
       "      .skipped { background-color: #f9d275 }\n",
       "      .results .points { display: none }\n",
       "      .results .message { display: block; font-size:smaller; color:gray }\n",
       "      .results .note { display: block; font-size:smaller; font-decoration:italics }\n",
       "      .results .passed::before  { content: \"Passed\" }\n",
       "      .results .failed::before  { content: \"Failed\" }\n",
       "      .results .skipped::before { content: \"Skipped\" }\n",
       "      .grade .passed  .message:empty::before { content:\"Passed\" }\n",
       "      .grade .failed  .message:empty::before { content:\"Failed\" }\n",
       "      .grade .skipped .message:empty::before { content:\"Skipped\" }\n",
       "    </style>\n",
       "<table class='results'>\n",
       "  <tr><th class='points'>Points</th><th class='test'>Test</th><th class='result'>Result</th></tr>\n",
       "<tr>\n",
       "  <td class='points'>1</td>\n",
       "  <td class='test'>\n",
       "    Schema is of type StructType\n",
       "  </td>\n",
       "  <td class='result passed'></td>\n",
       "</tr>\n",
       "<tr>\n",
       "  <td class='points'>1</td>\n",
       "  <td class='test'>\n",
       "    Schema contians two fields\n",
       "  </td>\n",
       "  <td class='result passed'></td>\n",
       "</tr>\n",
       "<tr>\n",
       "  <td class='points'>1</td>\n",
       "  <td class='test'>\n",
       "    Schema contains \"traffic_source\" of type StringType\n",
       "  </td>\n",
       "  <td class='result passed'></td>\n",
       "</tr>\n",
       "<tr>\n",
       "  <td class='points'>1</td>\n",
       "  <td class='test'>\n",
       "    Schema contains \"active_users\" of type LongType\n",
       "  </td>\n",
       "  <td class='result passed'></td>\n",
       "</tr>\n",
       "  <caption class='points'>Score: 4</caption>\n",
       "</table>"
      ]
     },
     "metadata": {
      "application/vnd.databricks.v1+output": {
       "addedWidgets": {},
       "arguments": {},
       "data": "<style>\n      table { text-align: left; border-collapse: collapse; margin: 1em; caption-side: bottom; font-family: Sans-Serif; font-size: 16px}\n      caption { text-align: left; padding: 5px }\n      th, td { border: 1px solid #ddd; padding: 5px }\n      th { background-color: #ddd }\n      .passed { background-color: #97d897 }\n      .failed { background-color: #e2716c }\n      .skipped { background-color: #f9d275 }\n      .results .points { display: none }\n      .results .message { display: block; font-size:smaller; color:gray }\n      .results .note { display: block; font-size:smaller; font-decoration:italics }\n      .results .passed::before  { content: \"Passed\" }\n      .results .failed::before  { content: \"Failed\" }\n      .results .skipped::before { content: \"Skipped\" }\n      .grade .passed  .message:empty::before { content:\"Passed\" }\n      .grade .failed  .message:empty::before { content:\"Failed\" }\n      .grade .skipped .message:empty::before { content:\"Skipped\" }\n    </style>\n<table class='results'>\n  <tr><th class='points'>Points</th><th class='test'>Test</th><th class='result'>Result</th></tr>\n<tr>\n  <td class='points'>1</td>\n  <td class='test'>\n    Schema is of type StructType\n  </td>\n  <td class='result passed'></td>\n</tr>\n<tr>\n  <td class='points'>1</td>\n  <td class='test'>\n    Schema contians two fields\n  </td>\n  <td class='result passed'></td>\n</tr>\n<tr>\n  <td class='points'>1</td>\n  <td class='test'>\n    Schema contains \"traffic_source\" of type StringType\n  </td>\n  <td class='result passed'></td>\n</tr>\n<tr>\n  <td class='points'>1</td>\n  <td class='test'>\n    Schema contains \"active_users\" of type LongType\n  </td>\n  <td class='result passed'></td>\n</tr>\n  <caption class='points'>Score: 4</caption>\n</table>",
       "datasetInfos": [],
       "metadata": {},
       "removedWidgets": [],
       "textData": null,
       "type": "htmlSandbox"
      }
     },
     "output_type": "display_data"
    }
   ],
   "source": [
    "DA.tests.validate_2_1(traffic_df.schema)"
   ]
  },
  {
   "cell_type": "markdown",
   "metadata": {
    "application/vnd.databricks.v1+cell": {
     "cellMetadata": {},
     "inputWidgets": {},
     "nuid": "a6655fcf-a0bb-4bd2-b053-31e9a9a8ff0e",
     "showTitle": false,
     "title": "--i18n-048e3d16-65a1-4502-b76a-b5605b454df7"
    }
   },
   "source": [
    "\n",
    "\n",
    "### 3. Execute query with display() and plot results\n",
    "- Execute results for **`traffic_df`** using display()\n",
    "- Plot the streaming query results as a bar graph\n",
    "\n",
    "3. Execute a consulta com display() e plote os resultados\n",
    "\n",
    "Execute resultados para tráfego_df usando display()\n",
    "\n",
    "Plote os resultados da consulta de streaming como um gráfico de barras"
   ]
  },
  {
   "cell_type": "code",
   "execution_count": 0,
   "metadata": {
    "application/vnd.databricks.v1+cell": {
     "cellMetadata": {
      "byteLimit": 2048000,
      "rowLimit": 10000
     },
     "inputWidgets": {},
     "nuid": "8ab6efd0-5f00-4017-9e44-8020986d5450",
     "showTitle": false,
     "title": ""
    }
   },
   "outputs": [
    {
     "output_type": "display_data",
     "data": {
      "text/html": [
       "<style scoped>\n",
       "  .table-result-container {\n",
       "    max-height: 300px;\n",
       "    overflow: auto;\n",
       "  }\n",
       "  table, th, td {\n",
       "    border: 1px solid black;\n",
       "    border-collapse: collapse;\n",
       "  }\n",
       "  th, td {\n",
       "    padding: 5px;\n",
       "  }\n",
       "  th {\n",
       "    text-align: left;\n",
       "  }\n",
       "</style><div class='table-result-container'><table class='table-result'><thead style='background-color: white'><tr><th>traffic_source</th><th>active_users</th></tr></thead><tbody><tr><td>direct</td><td>438886</td></tr><tr><td>email</td><td>281525</td></tr><tr><td>facebook</td><td>956769</td></tr><tr><td>google</td><td>1781961</td></tr><tr><td>instagram</td><td>530050</td></tr><tr><td>youtube</td><td>253321</td></tr></tbody></table></div>"
      ]
     },
     "metadata": {
      "application/vnd.databricks.v1+output": {
       "addedWidgets": {},
       "aggData": [],
       "aggError": "",
       "aggOverflow": false,
       "aggSchema": [],
       "aggSeriesLimitReached": false,
       "aggType": "",
       "arguments": {},
       "columnCustomDisplayInfos": {},
       "data": [
        [
         "direct",
         438886
        ],
        [
         "email",
         281525
        ],
        [
         "facebook",
         956769
        ],
        [
         "google",
         1781961
        ],
        [
         "instagram",
         530050
        ],
        [
         "youtube",
         253321
        ]
       ],
       "datasetInfos": [],
       "dbfsResultPath": null,
       "isJsonSchema": true,
       "metadata": {
        "isDbfsCommandResult": false
       },
       "overflow": false,
       "plotOptions": {
        "customPlotOptions": {},
        "displayType": "table",
        "pivotAggregation": null,
        "pivotColumns": null,
        "xColumns": null,
        "yColumns": null
       },
       "removedWidgets": [],
       "schema": [
        {
         "metadata": "{}",
         "name": "traffic_source",
         "type": "\"string\""
        },
        {
         "metadata": "{}",
         "name": "active_users",
         "type": "\"long\""
        }
       ],
       "type": "table"
      }
     },
     "output_type": "display_data"
    },
    {
     "output_type": "display_data",
     "data": {
      "text/plain": [
       "Databricks visualization. Run in Databricks to view."
      ]
     },
     "metadata": {
      "application/vnd.databricks.v1.subcommand+json": {
       "baseErrorDetails": null,
       "bindings": {},
       "collapsed": false,
       "command": "# Databricks no-op command",
       "commandTitle": "Visualization 1",
       "commandType": "auto",
       "commandVersion": 0,
       "commentThread": [],
       "commentsVisible": false,
       "contentSha256Hex": null,
       "customPlotOptions": {
        "redashChart": [
         {
          "key": "type",
          "value": "CHART"
         },
         {
          "key": "options",
          "value": {
           "alignYAxesAtZero": false,
           "coefficient": 1,
           "columnConfigurationMap": {
            "x": {
             "column": "traffic_source",
             "id": "column_74921e821"
            },
            "y": [
             {
              "column": "active_users",
              "id": "column_74921e822",
              "transform": "SUM"
             }
            ]
           },
           "dateTimeFormat": "DD/MM/YYYY HH:mm",
           "direction": {
            "type": "counterclockwise"
           },
           "error_y": {
            "type": "data",
            "visible": true
           },
           "globalSeriesType": "column",
           "hideXAxis": false,
           "hideYAxes": false,
           "isAggregationOn": true,
           "legend": {
            "traceorder": "normal"
           },
           "missingValuesAsZero": true,
           "numberFormat": "0,0.[00000]",
           "percentFormat": "0[.]00%",
           "reverseX": false,
           "series": {
            "error_y": {
             "type": "data",
             "visible": true
            },
            "percentValues": false,
            "stacking": null
           },
           "seriesOptions": {
            "column_74921e822": {
             "color": "#C63FA9",
             "name": "active_users",
             "type": "column",
             "yAxis": 0
            }
           },
           "showDataLabels": false,
           "sizemode": "diameter",
           "sortX": true,
           "sortY": true,
           "swappedAxes": true,
           "textFormat": "",
           "useAggregationsUi": true,
           "valuesOptions": {},
           "version": 2,
           "xAxis": {
            "labels": {
             "enabled": true
            },
            "type": "category"
           },
           "yAxis": [
            {
             "rangeMin": 7,
             "type": "-"
            },
            {
             "opposite": true,
             "type": "-"
            }
           ]
          }
         }
        ]
       },
       "datasetPreviewNameToCmdIdMap": {},
       "diffDeletes": [],
       "diffInserts": [],
       "displayType": "redashChart",
       "error": null,
       "errorDetails": null,
       "errorSummary": null,
       "errorTraceType": null,
       "finishTime": 0,
       "globalVars": {},
       "guid": "",
       "height": "auto",
       "hideCommandCode": false,
       "hideCommandResult": false,
       "iPythonMetadata": null,
       "inputWidgets": {},
       "isLockedInExamMode": false,
       "latestUser": "a user",
       "latestUserId": null,
       "listResultMetadata": null,
       "metadata": {},
       "nuid": "38dbec29-daaa-47c2-921b-02a05f5956e7",
       "origId": 0,
       "parentHierarchy": [],
       "pivotAggregation": null,
       "pivotColumns": null,
       "position": 16.0,
       "resultDbfsErrorMessage": null,
       "resultDbfsStatus": "INLINED_IN_TREE",
       "results": null,
       "showCommandTitle": false,
       "startTime": 0,
       "state": "input",
       "streamStates": {},
       "subcommandOptions": {
        "queryPlan": {
         "groups": [
          {
           "column": "traffic_source",
           "type": "column"
          }
         ],
         "selects": [
          {
           "column": "traffic_source",
           "type": "column"
          },
          {
           "alias": "column_74921e822",
           "args": [
            {
             "column": "active_users",
             "type": "column"
            }
           ],
           "function": "SUM",
           "type": "function"
          }
         ]
        }
       },
       "submitTime": 0,
       "subtype": "tableResultSubCmd.visualization",
       "tableResultIndex": 0,
       "useConsistentColors": false,
       "version": "CommandV1",
       "width": "auto",
       "workflows": [],
       "xColumns": null,
       "yColumns": null
      }
     },
     "output_type": "display_data"
    }
   ],
   "source": [
    "# TODO\n",
    "display(traffic_df)"
   ]
  },
  {
   "cell_type": "markdown",
   "metadata": {
    "application/vnd.databricks.v1+cell": {
     "cellMetadata": {},
     "inputWidgets": {},
     "nuid": "99b2e77a-9487-47d6-ad96-b2d7e541f59d",
     "showTitle": false,
     "title": "--i18n-7ba01b58-dfa9-4554-9d33-94edb188a718"
    }
   },
   "source": [
    "\n",
    "\n",
    "\n",
    "**3.1: CHECK YOUR WORK**\n",
    "- You bar chart should plot **`traffic_source`** on the x-axis and **`active_users`** on the y-axis\n",
    "- The top three traffic sources in descending order should be **`google`**, **`facebook`**, and **`instagram`**.\n",
    "\n",
    "\n",
    "3.1: VERIFIQUE SEU TRABALHO\n",
    "\n",
    "Seu gráfico de barras deve traçar tráfego_fonte no eixo x e usuários ativos no eixo y\n",
    "\n",
    "As três principais fontes de tráfego em ordem decrescente devem ser Google, Facebook e Instagram."
   ]
  },
  {
   "cell_type": "markdown",
   "metadata": {
    "application/vnd.databricks.v1+cell": {
     "cellMetadata": {},
     "inputWidgets": {},
     "nuid": "6bceacdb-0d68-4b6a-869d-b7f07cf3197f",
     "showTitle": false,
     "title": "--i18n-d5695c83-1fc1-478d-8319-ee6a57f16793"
    }
   },
   "source": [
    "\n",
    "\n",
    "### 4. Execute the same streaming query with DataStreamWriter\n",
    "- Name the query \"active_users_by_traffic\"\n",
    "- Set to \"memory\" format and \"complete\" output mode\n",
    "- Set a trigger interval of 1 second\n",
    "\n",
    "4. Execute a mesma consulta de streaming com DataStreamWriter\n",
    "\n",
    "Nomeie a consulta como \"active_users_by_traffic\"\n",
    "\n",
    "Defina o formato \"memória\" e o modo de saída \"completo\"\n",
    "\n",
    "Defina um intervalo de disparo de 1 segundo\n",
    "​"
   ]
  },
  {
   "cell_type": "code",
   "execution_count": 0,
   "metadata": {
    "application/vnd.databricks.v1+cell": {
     "cellMetadata": {
      "byteLimit": 2048000,
      "rowLimit": 10000
     },
     "inputWidgets": {},
     "nuid": "8a252bf0-6845-4327-9147-ca7451377040",
     "showTitle": false,
     "title": ""
    }
   },
   "outputs": [],
   "source": [
    "# TODO\n",
    "traffic_query = (traffic_df\n",
    "                 .writeStream\n",
    "                  .queryName('active_users_by_traffic')\n",
    "                 .format('memory')\n",
    "                 .outputMode('complete')\n",
    "                 .trigger(processingTime = \"1 seconds\")\n",
    "                 .start())\n",
    "\n",
    "#DA.block_until_stream_is_ready(\"active_users_by_traffic\")"
   ]
  },
  {
   "cell_type": "markdown",
   "metadata": {
    "application/vnd.databricks.v1+cell": {
     "cellMetadata": {},
     "inputWidgets": {},
     "nuid": "79f1f5a1-f94e-4d76-80bc-2ecbee3c5af3",
     "showTitle": false,
     "title": "--i18n-ff33fa6a-26e6-48eb-be38-4a035fe15829"
    }
   },
   "source": [
    "\n",
    "\n",
    "\n",
    "**4.1: CHECK YOUR WORK**"
   ]
  },
  {
   "cell_type": "code",
   "execution_count": 0,
   "metadata": {
    "application/vnd.databricks.v1+cell": {
     "cellMetadata": {
      "byteLimit": 2048000,
      "rowLimit": 10000
     },
     "inputWidgets": {},
     "nuid": "f93e2e69-70a7-4dc6-8182-76262cde1aa4",
     "showTitle": false,
     "title": ""
    }
   },
   "outputs": [
    {
     "output_type": "display_data",
     "data": {
      "text/html": [
       "<style>\n",
       "      table { text-align: left; border-collapse: collapse; margin: 1em; caption-side: bottom; font-family: Sans-Serif; font-size: 16px}\n",
       "      caption { text-align: left; padding: 5px }\n",
       "      th, td { border: 1px solid #ddd; padding: 5px }\n",
       "      th { background-color: #ddd }\n",
       "      .passed { background-color: #97d897 }\n",
       "      .failed { background-color: #e2716c }\n",
       "      .skipped { background-color: #f9d275 }\n",
       "      .results .points { display: none }\n",
       "      .results .message { display: block; font-size:smaller; color:gray }\n",
       "      .results .note { display: block; font-size:smaller; font-decoration:italics }\n",
       "      .results .passed::before  { content: \"Passed\" }\n",
       "      .results .failed::before  { content: \"Failed\" }\n",
       "      .results .skipped::before { content: \"Skipped\" }\n",
       "      .grade .passed  .message:empty::before { content:\"Passed\" }\n",
       "      .grade .failed  .message:empty::before { content:\"Failed\" }\n",
       "      .grade .skipped .message:empty::before { content:\"Skipped\" }\n",
       "    </style>\n",
       "<table class='results'>\n",
       "  <tr><th class='points'>Points</th><th class='test'>Test</th><th class='result'>Result</th></tr>\n",
       "<tr>\n",
       "  <td class='points'>1</td>\n",
       "  <td class='test'>\n",
       "    The query is active\n",
       "  </td>\n",
       "  <td class='result passed'></td>\n",
       "</tr>\n",
       "<tr>\n",
       "  <td class='points'>1</td>\n",
       "  <td class='test'>\n",
       "    The query name is \"active_users_by_traffic\".\n",
       "  </td>\n",
       "  <td class='result passed'></td>\n",
       "</tr>\n",
       "<tr>\n",
       "  <td class='points'>1</td>\n",
       "  <td class='test'>\n",
       "    The format is \"MemorySink\".\n",
       "  </td>\n",
       "  <td class='result passed'></td>\n",
       "</tr>\n",
       "  <caption class='points'>Score: 3</caption>\n",
       "</table>"
      ]
     },
     "metadata": {
      "application/vnd.databricks.v1+output": {
       "addedWidgets": {},
       "arguments": {},
       "data": "<style>\n      table { text-align: left; border-collapse: collapse; margin: 1em; caption-side: bottom; font-family: Sans-Serif; font-size: 16px}\n      caption { text-align: left; padding: 5px }\n      th, td { border: 1px solid #ddd; padding: 5px }\n      th { background-color: #ddd }\n      .passed { background-color: #97d897 }\n      .failed { background-color: #e2716c }\n      .skipped { background-color: #f9d275 }\n      .results .points { display: none }\n      .results .message { display: block; font-size:smaller; color:gray }\n      .results .note { display: block; font-size:smaller; font-decoration:italics }\n      .results .passed::before  { content: \"Passed\" }\n      .results .failed::before  { content: \"Failed\" }\n      .results .skipped::before { content: \"Skipped\" }\n      .grade .passed  .message:empty::before { content:\"Passed\" }\n      .grade .failed  .message:empty::before { content:\"Failed\" }\n      .grade .skipped .message:empty::before { content:\"Skipped\" }\n    </style>\n<table class='results'>\n  <tr><th class='points'>Points</th><th class='test'>Test</th><th class='result'>Result</th></tr>\n<tr>\n  <td class='points'>1</td>\n  <td class='test'>\n    The query is active\n  </td>\n  <td class='result passed'></td>\n</tr>\n<tr>\n  <td class='points'>1</td>\n  <td class='test'>\n    The query name is \"active_users_by_traffic\".\n  </td>\n  <td class='result passed'></td>\n</tr>\n<tr>\n  <td class='points'>1</td>\n  <td class='test'>\n    The format is \"MemorySink\".\n  </td>\n  <td class='result passed'></td>\n</tr>\n  <caption class='points'>Score: 3</caption>\n</table>",
       "datasetInfos": [],
       "metadata": {},
       "removedWidgets": [],
       "textData": null,
       "type": "htmlSandbox"
      }
     },
     "output_type": "display_data"
    }
   ],
   "source": [
    "DA.tests.validate_4_1(traffic_query)"
   ]
  },
  {
   "cell_type": "markdown",
   "metadata": {
    "application/vnd.databricks.v1+cell": {
     "cellMetadata": {},
     "inputWidgets": {},
     "nuid": "22440d92-8bfd-490e-a873-e42afc9622f5",
     "showTitle": false,
     "title": "--i18n-5560d8c5-5acb-477d-ab0c-c7403560cf25"
    }
   },
   "source": [
    "\n",
    "\n",
    "### 5. View results being updated in the query table\n",
    "Run a query in a SQL cell to display the results from the **`active_users_by_traffic`** table"
   ]
  },
  {
   "cell_type": "code",
   "execution_count": 0,
   "metadata": {
    "application/vnd.databricks.v1+cell": {
     "cellMetadata": {
      "byteLimit": 2048000,
      "implicitDf": true,
      "rowLimit": 10000
     },
     "inputWidgets": {},
     "nuid": "ec492409-ae38-4598-87b2-5bd2e4c93a59",
     "showTitle": false,
     "title": ""
    }
   },
   "outputs": [
    {
     "output_type": "display_data",
     "data": {
      "text/html": [
       "<style scoped>\n",
       "  .table-result-container {\n",
       "    max-height: 300px;\n",
       "    overflow: auto;\n",
       "  }\n",
       "  table, th, td {\n",
       "    border: 1px solid black;\n",
       "    border-collapse: collapse;\n",
       "  }\n",
       "  th, td {\n",
       "    padding: 5px;\n",
       "  }\n",
       "  th {\n",
       "    text-align: left;\n",
       "  }\n",
       "</style><div class='table-result-container'><table class='table-result'><thead style='background-color: white'><tr><th>traffic_source</th><th>active_users</th></tr></thead><tbody><tr><td>google</td><td>1781961</td></tr><tr><td>facebook</td><td>956769</td></tr><tr><td>instagram</td><td>530050</td></tr><tr><td>direct</td><td>438886</td></tr><tr><td>email</td><td>281525</td></tr><tr><td>youtube</td><td>253321</td></tr></tbody></table></div>"
      ]
     },
     "metadata": {
      "application/vnd.databricks.v1+output": {
       "addedWidgets": {},
       "aggData": [],
       "aggError": "",
       "aggOverflow": false,
       "aggSchema": [],
       "aggSeriesLimitReached": false,
       "aggType": "",
       "arguments": {},
       "columnCustomDisplayInfos": {},
       "data": [
        [
         "google",
         1781961
        ],
        [
         "facebook",
         956769
        ],
        [
         "instagram",
         530050
        ],
        [
         "direct",
         438886
        ],
        [
         "email",
         281525
        ],
        [
         "youtube",
         253321
        ]
       ],
       "datasetInfos": [],
       "dbfsResultPath": null,
       "isJsonSchema": true,
       "metadata": {},
       "overflow": false,
       "plotOptions": {
        "customPlotOptions": {},
        "displayType": "table",
        "pivotAggregation": null,
        "pivotColumns": null,
        "xColumns": null,
        "yColumns": null
       },
       "removedWidgets": [],
       "schema": [
        {
         "metadata": "{}",
         "name": "traffic_source",
         "type": "\"string\""
        },
        {
         "metadata": "{}",
         "name": "active_users",
         "type": "\"long\""
        }
       ],
       "type": "table"
      }
     },
     "output_type": "display_data"
    }
   ],
   "source": [
    "%sql\n",
    "SELECT * FROM active_users_by_traffic\n",
    "ORDER BY active_users DESC ;"
   ]
  },
  {
   "cell_type": "markdown",
   "metadata": {
    "application/vnd.databricks.v1+cell": {
     "cellMetadata": {},
     "inputWidgets": {},
     "nuid": "719c8ce5-203d-4086-9f50-38cd31a04db9",
     "showTitle": false,
     "title": "--i18n-2c5cd18b-39f8-40fc-9d3b-9d313034ec10"
    }
   },
   "source": [
    "\n",
    "\n",
    "\n",
    "**5.1: CHECK YOUR WORK**\n",
    "Your query should eventually result in the following values.\n",
    "\n",
    "|traffic_source|active_users|\n",
    "|---|---|\n",
    "|direct|438886|\n",
    "|email|281525|\n",
    "|facebook|956769|\n",
    "|google|1781961|\n",
    "|instagram|530050|\n",
    "|youtube|253321|"
   ]
  },
  {
   "cell_type": "markdown",
   "metadata": {
    "application/vnd.databricks.v1+cell": {
     "cellMetadata": {},
     "inputWidgets": {},
     "nuid": "fa2b77ea-c023-4207-9477-f864c49a59bd",
     "showTitle": false,
     "title": "--i18n-efd51cf5-f848-4440-9ab7-ebe2650922ae"
    }
   },
   "source": [
    "\n",
    "\n",
    "### 6. List and stop all active streams\n",
    "- Use SparkSession to get list of all active streams\n",
    "- Iterate over the list and stop each query\n",
    "\n",
    "\n",
    "6. Liste e interrompa todos os streams ativos\n",
    "\n",
    "Use SparkSession para obter uma lista de todos os streams ativos\n",
    "\n",
    "Iterar na lista e interromper cada consulta"
   ]
  },
  {
   "cell_type": "code",
   "execution_count": 0,
   "metadata": {
    "application/vnd.databricks.v1+cell": {
     "cellMetadata": {
      "byteLimit": 2048000,
      "rowLimit": 10000
     },
     "inputWidgets": {},
     "nuid": "1738ed3a-cdbd-4c9c-ba00-b09be14b7f6b",
     "showTitle": false,
     "title": ""
    }
   },
   "outputs": [
    {
     "output_type": "stream",
     "name": "stdout",
     "output_type": "stream",
     "text": [
      "Interrompendo consultas ativas <pyspark.sql.streaming.query.StreamingQuery object at 0x7fc415dc35e0>\nInterrompendo consultas ativas <pyspark.sql.streaming.query.StreamingQuery object at 0x7fc415dc3970>\nInterrompendo consultas ativas <pyspark.sql.streaming.query.StreamingQuery object at 0x7fc415dc35b0>\n"
     ]
    }
   ],
   "source": [
    "# TODO\n",
    "consultas_ativas = spark.streams.active\n",
    "consultas_ativas\n",
    "\n",
    "for s in consultas_ativas:\n",
    "  print(f'Interrompendo consultas ativas {s}')\n",
    "  s.stop()"
   ]
  },
  {
   "cell_type": "markdown",
   "metadata": {
    "application/vnd.databricks.v1+cell": {
     "cellMetadata": {},
     "inputWidgets": {},
     "nuid": "4e50e453-6560-4f7a-a021-2d893538992b",
     "showTitle": false,
     "title": "--i18n-3d8b9236-eb09-415a-976e-4098c513043c"
    }
   },
   "source": [
    "\n",
    "\n",
    "\n",
    "**6.1: CHECK YOUR WORK**"
   ]
  },
  {
   "cell_type": "code",
   "execution_count": 0,
   "metadata": {
    "application/vnd.databricks.v1+cell": {
     "cellMetadata": {
      "byteLimit": 2048000,
      "rowLimit": 10000
     },
     "inputWidgets": {},
     "nuid": "d197c1c7-4e44-4fd8-bfcc-2be0d6fd50dd",
     "showTitle": false,
     "title": ""
    }
   },
   "outputs": [
    {
     "output_type": "display_data",
     "data": {
      "text/html": [
       "<style>\n",
       "      table { text-align: left; border-collapse: collapse; margin: 1em; caption-side: bottom; font-family: Sans-Serif; font-size: 16px}\n",
       "      caption { text-align: left; padding: 5px }\n",
       "      th, td { border: 1px solid #ddd; padding: 5px }\n",
       "      th { background-color: #ddd }\n",
       "      .passed { background-color: #97d897 }\n",
       "      .failed { background-color: #e2716c }\n",
       "      .skipped { background-color: #f9d275 }\n",
       "      .results .points { display: none }\n",
       "      .results .message { display: block; font-size:smaller; color:gray }\n",
       "      .results .note { display: block; font-size:smaller; font-decoration:italics }\n",
       "      .results .passed::before  { content: \"Passed\" }\n",
       "      .results .failed::before  { content: \"Failed\" }\n",
       "      .results .skipped::before { content: \"Skipped\" }\n",
       "      .grade .passed  .message:empty::before { content:\"Passed\" }\n",
       "      .grade .failed  .message:empty::before { content:\"Failed\" }\n",
       "      .grade .skipped .message:empty::before { content:\"Skipped\" }\n",
       "    </style>\n",
       "<table class='results'>\n",
       "  <tr><th class='points'>Points</th><th class='test'>Test</th><th class='result'>Result</th></tr>\n",
       "<tr>\n",
       "  <td class='points'>1</td>\n",
       "  <td class='test'>\n",
       "    The query has been stopped\n",
       "  </td>\n",
       "  <td class='result passed'></td>\n",
       "</tr>\n",
       "  <caption class='points'>Score: 1</caption>\n",
       "</table>"
      ]
     },
     "metadata": {
      "application/vnd.databricks.v1+output": {
       "addedWidgets": {},
       "arguments": {},
       "data": "<style>\n      table { text-align: left; border-collapse: collapse; margin: 1em; caption-side: bottom; font-family: Sans-Serif; font-size: 16px}\n      caption { text-align: left; padding: 5px }\n      th, td { border: 1px solid #ddd; padding: 5px }\n      th { background-color: #ddd }\n      .passed { background-color: #97d897 }\n      .failed { background-color: #e2716c }\n      .skipped { background-color: #f9d275 }\n      .results .points { display: none }\n      .results .message { display: block; font-size:smaller; color:gray }\n      .results .note { display: block; font-size:smaller; font-decoration:italics }\n      .results .passed::before  { content: \"Passed\" }\n      .results .failed::before  { content: \"Failed\" }\n      .results .skipped::before { content: \"Skipped\" }\n      .grade .passed  .message:empty::before { content:\"Passed\" }\n      .grade .failed  .message:empty::before { content:\"Failed\" }\n      .grade .skipped .message:empty::before { content:\"Skipped\" }\n    </style>\n<table class='results'>\n  <tr><th class='points'>Points</th><th class='test'>Test</th><th class='result'>Result</th></tr>\n<tr>\n  <td class='points'>1</td>\n  <td class='test'>\n    The query has been stopped\n  </td>\n  <td class='result passed'></td>\n</tr>\n  <caption class='points'>Score: 1</caption>\n</table>",
       "datasetInfos": [],
       "metadata": {},
       "removedWidgets": [],
       "textData": null,
       "type": "htmlSandbox"
      }
     },
     "output_type": "display_data"
    }
   ],
   "source": [
    "DA.tests.validate_6_1(traffic_query)"
   ]
  },
  {
   "cell_type": "markdown",
   "metadata": {
    "application/vnd.databricks.v1+cell": {
     "cellMetadata": {},
     "inputWidgets": {},
     "nuid": "408413c6-783f-4845-92f4-523eb5905811",
     "showTitle": false,
     "title": "--i18n-778b92a6-160a-4210-8e9d-c49ef0621fb7"
    }
   },
   "source": [
    "\n",
    "\n",
    "### Classroom Cleanup\n",
    "Run the cell below to clean up resources."
   ]
  },
  {
   "cell_type": "code",
   "execution_count": 0,
   "metadata": {
    "application/vnd.databricks.v1+cell": {
     "cellMetadata": {
      "byteLimit": 2048000,
      "rowLimit": 10000
     },
     "inputWidgets": {},
     "nuid": "6c4dc398-263d-4f8e-b81a-daf931becc28",
     "showTitle": false,
     "title": ""
    }
   },
   "outputs": [
    {
     "output_type": "stream",
     "name": "stdout",
     "output_type": "stream",
     "text": [
      "Resetting the learning environment:\n| dropping the schema \"anacadriano20_6ryf_da_asp\"...(1 seconds)\n| removing the working directory \"dbfs:/mnt/dbacademy-users/anacadriano20@gmail.com/apache-spark-programming-with-databricks\"...(0 seconds)\n\nValidating the locally installed datasets:\n| listing local files...(3 seconds)\n| validation completed...(3 seconds total)\n"
     ]
    }
   ],
   "source": [
    "DA.cleanup()"
   ]
  },
  {
   "cell_type": "markdown",
   "metadata": {
    "application/vnd.databricks.v1+cell": {
     "cellMetadata": {},
     "inputWidgets": {},
     "nuid": "9bc83da8-1762-48ae-ab42-35fecfe6af77",
     "showTitle": false,
     "title": ""
    }
   },
   "source": [
    "&copy; 2023 Databricks, Inc. All rights reserved.<br/>\n",
    "Apache, Apache Spark, Spark and the Spark logo are trademarks of the <a href=\"https://www.apache.org/\">Apache Software Foundation</a>.<br/>\n",
    "<br/>\n",
    "<a href=\"https://databricks.com/privacy-policy\">Privacy Policy</a> | <a href=\"https://databricks.com/terms-of-use\">Terms of Use</a> | <a href=\"https://help.databricks.com/\">Support</a>"
   ]
  }
 ],
 "metadata": {
  "application/vnd.databricks.v1+notebook": {
   "dashboards": [],
   "language": "python",
   "notebookMetadata": {
    "mostRecentlyExecutedCommandWithImplicitDF": {
     "commandId": 3323948954514558,
     "dataframes": [
      "_sqldf"
     ]
    },
    "pythonIndentUnit": 2
   },
   "notebookName": "ASP 5.1cL - Activity by Traffic Lab",
   "widgets": {}
  }
 },
 "nbformat": 4,
 "nbformat_minor": 0
}
