{
 "cells": [
  {
   "cell_type": "markdown",
   "metadata": {
    "application/vnd.databricks.v1+cell": {
     "cellMetadata": {
      "byteLimit": 2048000,
      "rowLimit": 10000
     },
     "inputWidgets": {},
     "nuid": "45461a01-bd4f-49ec-93b8-7abc510ab3d6",
     "showTitle": false,
     "title": ""
    }
   },
   "source": [
    "\n",
    "<div style=\"text-align: center; line-height: 0; padding-top: 9px;\">\n",
    "  <img src=\"https://databricks.com/wp-content/uploads/2018/03/db-academy-rgb-1200px.png\" alt=\"Databricks Learning\" style=\"width: 600px\">\n",
    "</div>"
   ]
  },
  {
   "cell_type": "markdown",
   "metadata": {
    "application/vnd.databricks.v1+cell": {
     "cellMetadata": {
      "byteLimit": 2048000,
      "rowLimit": 10000
     },
     "inputWidgets": {},
     "nuid": "04b44d25-b5fa-4834-942f-dfa96dbfc351",
     "showTitle": false,
     "title": "--i18n-5d844227-898e-41b2-adf0-bdc282c32a19"
    }
   },
   "source": [
    "\n",
    "\n",
    "## Hourly Activity by Traffic Lab\n",
    "Process streaming data to display the total active users by traffic source with a 1 hour window.\n",
    "1. Cast to timestamp and add watermark for 2 hours\n",
    "2. Aggregate active users by traffic source for 1 hour windows\n",
    "3. Execute query with **`display`** and plot results\n",
    "5. Use query name to stop streaming query\n",
    "\n",
    "(pt-br)\n",
    "\n",
    "## Atividade por hora do Traffic Lab\n",
    "Processe dados de streaming para exibir o total de usuários ativos por origem de tráfego com uma janela de 1 hora.\n",
    "1. Transmita para carimbo de data/hora e adicione marca d'água por 2 horas\n",
    "2. Agregue usuários ativos por origem de tráfego em janelas de 1 hora\n",
    "3. Execute a consulta com **`display`** e plote os resultados\n",
    "5. Use o nome da consulta para interromper a consulta de streaming"
   ]
  },
  {
   "cell_type": "markdown",
   "metadata": {
    "application/vnd.databricks.v1+cell": {
     "cellMetadata": {
      "byteLimit": 2048000,
      "rowLimit": 10000
     },
     "inputWidgets": {},
     "nuid": "d9a79a25-e5d8-4298-9c94-dde2e5b4b7aa",
     "showTitle": false,
     "title": "--i18n-734c8d4c-5d28-4370-9403-1531ae27fd3c"
    }
   },
   "source": [
    "\n",
    "\n",
    "### Setup\n",
    "Run the cells below to generate hourly JSON files of event data for July 3, 2020."
   ]
  },
  {
   "cell_type": "code",
   "execution_count": 0,
   "metadata": {
    "application/vnd.databricks.v1+cell": {
     "cellMetadata": {
      "byteLimit": 2048000,
      "rowLimit": 10000
     },
     "inputWidgets": {},
     "nuid": "754ab287-a5c2-4a9e-829e-1b67fb35edbc",
     "showTitle": false,
     "title": ""
    }
   },
   "outputs": [
    {
     "output_type": "stream",
     "name": "stdout",
     "output_type": "stream",
     "text": [
      "Python interpreter will be restarted.\nPython interpreter will be restarted.\n"
     ]
    },
    {
     "output_type": "stream",
     "name": "stdout",
     "output_type": "stream",
     "text": [
      "Resetting the learning environment:\n| removing the working directory \"dbfs:/mnt/dbacademy-users/anacadriano20@gmail.com/apache-spark-programming-with-databricks\"...(0 seconds)\n\nSkipping install of existing datasets to \"dbfs:/mnt/dbacademy-datasets/apache-spark-programming-with-databricks/v03\"\n\nValidating the locally installed datasets:\n| listing local files...(4 seconds)\n| validation completed...(4 seconds total)\n\nCreating & using the schema \"anacadriano20_6ryf_da_asp\" in the catalog \"spark_catalog\"...(2 seconds)\n\nPredefined tables in \"anacadriano20_6ryf_da_asp\":\n| -none-\n\nPredefined paths variables:\n| DA.paths.working_dir: dbfs:/mnt/dbacademy-users/anacadriano20@gmail.com/apache-spark-programming-with-databricks\n| DA.paths.user_db:     dbfs:/mnt/dbacademy-users/anacadriano20@gmail.com/apache-spark-programming-with-databricks/database.db\n| DA.paths.datasets:    dbfs:/mnt/dbacademy-datasets/apache-spark-programming-with-databricks/v03\n| DA.paths.checkpoints: dbfs:/mnt/dbacademy-users/anacadriano20@gmail.com/apache-spark-programming-with-databricks/_checkpoints\n\nSetup completed (13 seconds)\n\nPredefined tables in \"anacadriano20_6ryf_da_asp\":\n| -none-\n\nPredefined paths variables:\n| DA.paths.working_dir: dbfs:/mnt/dbacademy-users/anacadriano20@gmail.com/apache-spark-programming-with-databricks\n| DA.paths.user_db:     dbfs:/mnt/dbacademy-users/anacadriano20@gmail.com/apache-spark-programming-with-databricks/database.db\n| DA.paths.datasets:    dbfs:/mnt/dbacademy-datasets/apache-spark-programming-with-databricks/v03\n| DA.paths.checkpoints: dbfs:/mnt/dbacademy-users/anacadriano20@gmail.com/apache-spark-programming-with-databricks/_checkpoints\n| DA.paths.sales:       dbfs:/mnt/dbacademy-datasets/apache-spark-programming-with-databricks/v03/ecommerce/sales/sales.delta\n| DA.paths.users:       dbfs:/mnt/dbacademy-datasets/apache-spark-programming-with-databricks/v03/ecommerce/users/users.delta\n| DA.paths.events:      dbfs:/mnt/dbacademy-datasets/apache-spark-programming-with-databricks/v03/ecommerce/events/events.delta\n| DA.paths.products:    dbfs:/mnt/dbacademy-datasets/apache-spark-programming-with-databricks/v03/products/products.delta\n\nSetup completed (13 seconds)\n"
     ]
    }
   ],
   "source": [
    "%run ../Includes/Classroom-Setup-5.1b"
   ]
  },
  {
   "cell_type": "code",
   "execution_count": 0,
   "metadata": {
    "application/vnd.databricks.v1+cell": {
     "cellMetadata": {
      "byteLimit": 2048000,
      "rowLimit": 10000
     },
     "inputWidgets": {},
     "nuid": "b3a6b676-96de-4360-a4cb-3787609e04c2",
     "showTitle": false,
     "title": ""
    }
   },
   "outputs": [],
   "source": [
    "schema = \"device STRING, ecommerce STRUCT<purchase_revenue_in_usd: DOUBLE, total_item_quantity: BIGINT, unique_items: BIGINT>, event_name STRING, event_previous_timestamp BIGINT, event_timestamp BIGINT, geo STRUCT<city: STRING, state: STRING>, items ARRAY<STRUCT<coupon: STRING, item_id: STRING, item_name: STRING, item_revenue_in_usd: DOUBLE, price_in_usd: DOUBLE, quantity: BIGINT>>, traffic_source STRING, user_first_touch_timestamp BIGINT, user_id STRING\"\n",
    "\n",
    "# Directory of hourly events logged from the BedBricks website on July 3, 2020\n",
    "hourly_events_path = f\"{DA.paths.datasets}/ecommerce/events/events-2020-07-03.json\"\n",
    "\n",
    "df = (spark.readStream\n",
    "           .schema(schema)\n",
    "           .option(\"maxFilesPerTrigger\", 1)\n",
    "           .json(hourly_events_path))"
   ]
  },
  {
   "cell_type": "markdown",
   "metadata": {
    "application/vnd.databricks.v1+cell": {
     "cellMetadata": {
      "byteLimit": 2048000,
      "rowLimit": 10000
     },
     "inputWidgets": {},
     "nuid": "edf3f506-ff5a-46f0-aefd-13f1f6afd6a7",
     "showTitle": false,
     "title": "--i18n-99264197-aba0-4df5-8346-8501cd6efba0"
    }
   },
   "source": [
    "\n",
    "\n",
    "### 1. Cast to timestamp and add watermark for 2 hours\n",
    "- Add a **`createdAt`** column by dividing **`event_timestamp`** by 1M and casting to timestamp\n",
    "- Set a watermark of 2 hours on the **`createdAt`** column\n",
    "\n",
    "Assign the resulting DataFrame to **`events_df`**."
   ]
  },
  {
   "cell_type": "code",
   "execution_count": 0,
   "metadata": {
    "application/vnd.databricks.v1+cell": {
     "cellMetadata": {
      "byteLimit": 2048000,
      "rowLimit": 10000
     },
     "inputWidgets": {},
     "nuid": "8e107bf4-cc4a-42e5-8c80-15d140b3a629",
     "showTitle": false,
     "title": ""
    }
   },
   "outputs": [],
   "source": [
    "# ANSWER\n",
    "from pyspark.sql.functions import col\n",
    "\n",
    "events_df = (df.withColumn(\"createdAt\", (col(\"event_timestamp\") / 1e6).cast(\"timestamp\"))\n",
    "               .withWatermark(\"createdAt\", \"2 hours\"))"
   ]
  },
  {
   "cell_type": "code",
   "execution_count": 0,
   "metadata": {
    "application/vnd.databricks.v1+cell": {
     "cellMetadata": {
      "byteLimit": 2048000,
      "rowLimit": 10000
     },
     "inputWidgets": {},
     "nuid": "e569af0d-b666-4d95-8311-70e4dfa279e7",
     "showTitle": false,
     "title": ""
    }
   },
   "outputs": [
    {
     "output_type": "display_data",
     "data": {
      "text/html": [
       "<style scoped>\n",
       "  .ansiout {\n",
       "    display: block;\n",
       "    unicode-bidi: embed;\n",
       "    white-space: pre-wrap;\n",
       "    word-wrap: break-word;\n",
       "    word-break: break-all;\n",
       "    font-family: \"Menlo\", \"Monaco\", \"Consolas\", \"Ubuntu Mono\", \"Source Code Pro\", monospace;\n",
       "    font-size: 13px;\n",
       "    color: #555;\n",
       "    margin-left: 4px;\n",
       "    line-height: 19px;\n",
       "  }\n",
       "</style>\n",
       "java.net.NoRouteToHostException: No route to host\n",
       "\tat java.base/sun.nio.ch.SocketChannelImpl.checkConnect(Native Method)\n",
       "\tat java.base/sun.nio.ch.SocketChannelImpl.finishConnect(SocketChannelImpl.java:777)\n",
       "\tat shaded.v9_4.org.eclipse.jetty.io.SelectorManager.doFinishConnect(SelectorManager.java:355)\n",
       "\tat shaded.v9_4.org.eclipse.jetty.io.ManagedSelector.processConnect(ManagedSelector.java:347)\n",
       "\tat shaded.v9_4.org.eclipse.jetty.io.ManagedSelector.access$1700(ManagedSelector.java:65)\n",
       "\tat shaded.v9_4.org.eclipse.jetty.io.ManagedSelector$SelectorProducer.processSelected(ManagedSelector.java:676)\n",
       "\tat shaded.v9_4.org.eclipse.jetty.io.ManagedSelector$SelectorProducer.produce(ManagedSelector.java:535)\n",
       "\tat shaded.v9_4.org.eclipse.jetty.util.thread.strategy.EatWhatYouKill.produceTask(EatWhatYouKill.java:362)\n",
       "\tat shaded.v9_4.org.eclipse.jetty.util.thread.strategy.EatWhatYouKill.doProduce(EatWhatYouKill.java:186)\n",
       "\tat shaded.v9_4.org.eclipse.jetty.util.thread.strategy.EatWhatYouKill.tryProduce(EatWhatYouKill.java:173)\n",
       "\tat shaded.v9_4.org.eclipse.jetty.util.thread.strategy.EatWhatYouKill.run(EatWhatYouKill.java:131)\n",
       "\tat shaded.v9_4.org.eclipse.jetty.util.thread.ReservedThreadExecutor$ReservedThread.run(ReservedThreadExecutor.java:409)\n",
       "\tat com.databricks.rpc.ShadedInstrumentedQueuedThreadPool$$anon$2.$anonfun$run$7(InstrumentedQueuedThreadPool.scala:158)\n",
       "\tat scala.runtime.java8.JFunction0$mcV$sp.apply(JFunction0$mcV$sp.java:23)\n",
       "\tat com.databricks.instrumentation.QueuedThreadPoolInstrumenter.trackActiveThreads(QueuedThreadPoolInstrumenter.scala:66)\n",
       "\tat com.databricks.instrumentation.QueuedThreadPoolInstrumenter.trackActiveThreads$(QueuedThreadPoolInstrumenter.scala:63)\n",
       "\tat com.databricks.rpc.ShadedInstrumentedQueuedThreadPool.trackActiveThreads(InstrumentedQueuedThreadPool.scala:124)\n",
       "\tat com.databricks.rpc.ShadedInstrumentedQueuedThreadPool$$anon$2.run(InstrumentedQueuedThreadPool.scala:153)\n",
       "\tat shaded.v9_4.org.eclipse.jetty.util.thread.QueuedThreadPool.runJob(QueuedThreadPool.java:883)\n",
       "\tat shaded.v9_4.org.eclipse.jetty.util.thread.QueuedThreadPool$Runner.run(QueuedThreadPool.java:1034)\n",
       "\tat java.base/java.lang.Thread.run(Thread.java:829)"
      ]
     },
     "metadata": {
      "application/vnd.databricks.v1+output": {
       "arguments": {},
       "data": "java.net.NoRouteToHostException: No route to host\n\tat java.base/sun.nio.ch.SocketChannelImpl.checkConnect(Native Method)\n\tat java.base/sun.nio.ch.SocketChannelImpl.finishConnect(SocketChannelImpl.java:777)\n\tat shaded.v9_4.org.eclipse.jetty.io.SelectorManager.doFinishConnect(SelectorManager.java:355)\n\tat shaded.v9_4.org.eclipse.jetty.io.ManagedSelector.processConnect(ManagedSelector.java:347)\n\tat shaded.v9_4.org.eclipse.jetty.io.ManagedSelector.access$1700(ManagedSelector.java:65)\n\tat shaded.v9_4.org.eclipse.jetty.io.ManagedSelector$SelectorProducer.processSelected(ManagedSelector.java:676)\n\tat shaded.v9_4.org.eclipse.jetty.io.ManagedSelector$SelectorProducer.produce(ManagedSelector.java:535)\n\tat shaded.v9_4.org.eclipse.jetty.util.thread.strategy.EatWhatYouKill.produceTask(EatWhatYouKill.java:362)\n\tat shaded.v9_4.org.eclipse.jetty.util.thread.strategy.EatWhatYouKill.doProduce(EatWhatYouKill.java:186)\n\tat shaded.v9_4.org.eclipse.jetty.util.thread.strategy.EatWhatYouKill.tryProduce(EatWhatYouKill.java:173)\n\tat shaded.v9_4.org.eclipse.jetty.util.thread.strategy.EatWhatYouKill.run(EatWhatYouKill.java:131)\n\tat shaded.v9_4.org.eclipse.jetty.util.thread.ReservedThreadExecutor$ReservedThread.run(ReservedThreadExecutor.java:409)\n\tat com.databricks.rpc.ShadedInstrumentedQueuedThreadPool$$anon$2.$anonfun$run$7(InstrumentedQueuedThreadPool.scala:158)\n\tat scala.runtime.java8.JFunction0$mcV$sp.apply(JFunction0$mcV$sp.java:23)\n\tat com.databricks.instrumentation.QueuedThreadPoolInstrumenter.trackActiveThreads(QueuedThreadPoolInstrumenter.scala:66)\n\tat com.databricks.instrumentation.QueuedThreadPoolInstrumenter.trackActiveThreads$(QueuedThreadPoolInstrumenter.scala:63)\n\tat com.databricks.rpc.ShadedInstrumentedQueuedThreadPool.trackActiveThreads(InstrumentedQueuedThreadPool.scala:124)\n\tat com.databricks.rpc.ShadedInstrumentedQueuedThreadPool$$anon$2.run(InstrumentedQueuedThreadPool.scala:153)\n\tat shaded.v9_4.org.eclipse.jetty.util.thread.QueuedThreadPool.runJob(QueuedThreadPool.java:883)\n\tat shaded.v9_4.org.eclipse.jetty.util.thread.QueuedThreadPool$Runner.run(QueuedThreadPool.java:1034)\n\tat java.base/java.lang.Thread.run(Thread.java:829)\n",
       "errorSummary": "Internal error. Attach your notebook to a different compute or restart the current compute.",
       "errorTraceType": null,
       "metadata": {},
       "type": "ipynbError"
      }
     },
     "output_type": "display_data"
    }
   ],
   "source": [
    "display(events_df)"
   ]
  },
  {
   "cell_type": "markdown",
   "metadata": {
    "application/vnd.databricks.v1+cell": {
     "cellMetadata": {
      "byteLimit": 2048000,
      "rowLimit": 10000
     },
     "inputWidgets": {},
     "nuid": "6a8fa2df-8277-4a29-a2f5-96f9deb782d3",
     "showTitle": false,
     "title": "--i18n-73d176cb-bf2f-450b-bdaf-a72427e0947d"
    }
   },
   "source": [
    "\n",
    "\n",
    "\n",
    "**1.1: CHECK YOUR WORK**"
   ]
  },
  {
   "cell_type": "code",
   "execution_count": 0,
   "metadata": {
    "application/vnd.databricks.v1+cell": {
     "cellMetadata": {
      "byteLimit": 2048000,
      "rowLimit": 10000
     },
     "inputWidgets": {},
     "nuid": "b412c155-a5a3-4470-ad93-6b0b311da24b",
     "showTitle": false,
     "title": ""
    }
   },
   "outputs": [
    {
     "output_type": "display_data",
     "data": {
      "text/html": [
       "<style>\n",
       "      table { text-align: left; border-collapse: collapse; margin: 1em; caption-side: bottom; font-family: Sans-Serif; font-size: 16px}\n",
       "      caption { text-align: left; padding: 5px }\n",
       "      th, td { border: 1px solid #ddd; padding: 5px }\n",
       "      th { background-color: #ddd }\n",
       "      .passed { background-color: #97d897 }\n",
       "      .failed { background-color: #e2716c }\n",
       "      .skipped { background-color: #f9d275 }\n",
       "      .results .points { display: none }\n",
       "      .results .message { display: block; font-size:smaller; color:gray }\n",
       "      .results .note { display: block; font-size:smaller; font-decoration:italics }\n",
       "      .results .passed::before  { content: \"Passed\" }\n",
       "      .results .failed::before  { content: \"Failed\" }\n",
       "      .results .skipped::before { content: \"Skipped\" }\n",
       "      .grade .passed  .message:empty::before { content:\"Passed\" }\n",
       "      .grade .failed  .message:empty::before { content:\"Failed\" }\n",
       "      .grade .skipped .message:empty::before { content:\"Skipped\" }\n",
       "    </style>\n",
       "<table class='results'>\n",
       "  <tr><th class='points'>Points</th><th class='test'>Test</th><th class='result'>Result</th></tr>\n",
       "<tr>\n",
       "  <td class='points'>1</td>\n",
       "  <td class='test'>\n",
       "    Schema is of type StructType\n",
       "  </td>\n",
       "  <td class='result passed'></td>\n",
       "</tr>\n",
       "<tr>\n",
       "  <td class='points'>1</td>\n",
       "  <td class='test'>\n",
       "    Schema contians 12 field\n",
       "  </td>\n",
       "  <td class='result passed'></td>\n",
       "</tr>\n",
       "<tr>\n",
       "  <td class='points'>1</td>\n",
       "  <td class='test'>\n",
       "    Schema contains \"device\" of type StringType\n",
       "  </td>\n",
       "  <td class='result passed'></td>\n",
       "</tr>\n",
       "<tr>\n",
       "  <td class='points'>1</td>\n",
       "  <td class='test'>\n",
       "    Schema contains \"ecommerce\" of type StructType\n",
       "  </td>\n",
       "  <td class='result passed'></td>\n",
       "</tr>\n",
       "<tr>\n",
       "  <td class='points'>1</td>\n",
       "  <td class='test'>\n",
       "    Schema contains \"event_name\" of type StringType\n",
       "  </td>\n",
       "  <td class='result passed'></td>\n",
       "</tr>\n",
       "<tr>\n",
       "  <td class='points'>1</td>\n",
       "  <td class='test'>\n",
       "    Schema contains \"event_previous_timestamp\" of type LongType\n",
       "  </td>\n",
       "  <td class='result passed'></td>\n",
       "</tr>\n",
       "<tr>\n",
       "  <td class='points'>1</td>\n",
       "  <td class='test'>\n",
       "    Schema contains \"event_timestamp\" of type LongType\n",
       "  </td>\n",
       "  <td class='result passed'></td>\n",
       "</tr>\n",
       "<tr>\n",
       "  <td class='points'>1</td>\n",
       "  <td class='test'>\n",
       "    Schema contains \"geo\" of type StructType\n",
       "  </td>\n",
       "  <td class='result passed'></td>\n",
       "</tr>\n",
       "<tr>\n",
       "  <td class='points'>1</td>\n",
       "  <td class='test'>\n",
       "    Schema contains \"items\" of type ArrayType\n",
       "  </td>\n",
       "  <td class='result passed'></td>\n",
       "</tr>\n",
       "<tr>\n",
       "  <td class='points'>1</td>\n",
       "  <td class='test'>\n",
       "    Schema contains \"traffic_source\" of type StringType\n",
       "  </td>\n",
       "  <td class='result passed'></td>\n",
       "</tr>\n",
       "<tr>\n",
       "  <td class='points'>1</td>\n",
       "  <td class='test'>\n",
       "    Schema contains \"user_first_touch_timestamp\" of type LongType\n",
       "  </td>\n",
       "  <td class='result passed'></td>\n",
       "</tr>\n",
       "<tr>\n",
       "  <td class='points'>1</td>\n",
       "  <td class='test'>\n",
       "    Schema contains \"user_id\" of type StringType\n",
       "  </td>\n",
       "  <td class='result passed'></td>\n",
       "</tr>\n",
       "<tr>\n",
       "  <td class='points'>1</td>\n",
       "  <td class='test'>\n",
       "    Schema contains \"hour\" of type IntegerType\n",
       "  </td>\n",
       "  <td class='result passed'></td>\n",
       "</tr>\n",
       "<tr>\n",
       "  <td class='points'>1</td>\n",
       "  <td class='test'>\n",
       "    Schema contains \"createdAt\" of type TimestampType\n",
       "  </td>\n",
       "  <td class='result passed'></td>\n",
       "</tr>\n",
       "  <caption class='points'>Score: 14</caption>\n",
       "</table>"
      ]
     },
     "metadata": {
      "application/vnd.databricks.v1+output": {
       "addedWidgets": {},
       "arguments": {},
       "data": "<style>\n      table { text-align: left; border-collapse: collapse; margin: 1em; caption-side: bottom; font-family: Sans-Serif; font-size: 16px}\n      caption { text-align: left; padding: 5px }\n      th, td { border: 1px solid #ddd; padding: 5px }\n      th { background-color: #ddd }\n      .passed { background-color: #97d897 }\n      .failed { background-color: #e2716c }\n      .skipped { background-color: #f9d275 }\n      .results .points { display: none }\n      .results .message { display: block; font-size:smaller; color:gray }\n      .results .note { display: block; font-size:smaller; font-decoration:italics }\n      .results .passed::before  { content: \"Passed\" }\n      .results .failed::before  { content: \"Failed\" }\n      .results .skipped::before { content: \"Skipped\" }\n      .grade .passed  .message:empty::before { content:\"Passed\" }\n      .grade .failed  .message:empty::before { content:\"Failed\" }\n      .grade .skipped .message:empty::before { content:\"Skipped\" }\n    </style>\n<table class='results'>\n  <tr><th class='points'>Points</th><th class='test'>Test</th><th class='result'>Result</th></tr>\n<tr>\n  <td class='points'>1</td>\n  <td class='test'>\n    Schema is of type StructType\n  </td>\n  <td class='result passed'></td>\n</tr>\n<tr>\n  <td class='points'>1</td>\n  <td class='test'>\n    Schema contians 12 field\n  </td>\n  <td class='result passed'></td>\n</tr>\n<tr>\n  <td class='points'>1</td>\n  <td class='test'>\n    Schema contains \"device\" of type StringType\n  </td>\n  <td class='result passed'></td>\n</tr>\n<tr>\n  <td class='points'>1</td>\n  <td class='test'>\n    Schema contains \"ecommerce\" of type StructType\n  </td>\n  <td class='result passed'></td>\n</tr>\n<tr>\n  <td class='points'>1</td>\n  <td class='test'>\n    Schema contains \"event_name\" of type StringType\n  </td>\n  <td class='result passed'></td>\n</tr>\n<tr>\n  <td class='points'>1</td>\n  <td class='test'>\n    Schema contains \"event_previous_timestamp\" of type LongType\n  </td>\n  <td class='result passed'></td>\n</tr>\n<tr>\n  <td class='points'>1</td>\n  <td class='test'>\n    Schema contains \"event_timestamp\" of type LongType\n  </td>\n  <td class='result passed'></td>\n</tr>\n<tr>\n  <td class='points'>1</td>\n  <td class='test'>\n    Schema contains \"geo\" of type StructType\n  </td>\n  <td class='result passed'></td>\n</tr>\n<tr>\n  <td class='points'>1</td>\n  <td class='test'>\n    Schema contains \"items\" of type ArrayType\n  </td>\n  <td class='result passed'></td>\n</tr>\n<tr>\n  <td class='points'>1</td>\n  <td class='test'>\n    Schema contains \"traffic_source\" of type StringType\n  </td>\n  <td class='result passed'></td>\n</tr>\n<tr>\n  <td class='points'>1</td>\n  <td class='test'>\n    Schema contains \"user_first_touch_timestamp\" of type LongType\n  </td>\n  <td class='result passed'></td>\n</tr>\n<tr>\n  <td class='points'>1</td>\n  <td class='test'>\n    Schema contains \"user_id\" of type StringType\n  </td>\n  <td class='result passed'></td>\n</tr>\n<tr>\n  <td class='points'>1</td>\n  <td class='test'>\n    Schema contains \"hour\" of type IntegerType\n  </td>\n  <td class='result passed'></td>\n</tr>\n<tr>\n  <td class='points'>1</td>\n  <td class='test'>\n    Schema contains \"createdAt\" of type TimestampType\n  </td>\n  <td class='result passed'></td>\n</tr>\n  <caption class='points'>Score: 14</caption>\n</table>",
       "datasetInfos": [],
       "metadata": {},
       "removedWidgets": [],
       "textData": null,
       "type": "htmlSandbox"
      }
     },
     "output_type": "display_data"
    }
   ],
   "source": [
    "DA.tests.validate_1_1(events_df.schema)"
   ]
  },
  {
   "cell_type": "markdown",
   "metadata": {
    "application/vnd.databricks.v1+cell": {
     "cellMetadata": {
      "byteLimit": 2048000,
      "rowLimit": 10000
     },
     "inputWidgets": {},
     "nuid": "816b843a-6400-4d2a-b417-791be4ecc6fc",
     "showTitle": false,
     "title": "--i18n-db2b1906-b389-4f49-889c-c9474d381a3f"
    }
   },
   "source": [
    "\n",
    "\n",
    "### 2. Aggregate active users by traffic source for 1 hour windows\n",
    "\n",
    "- Set the default shuffle partitions to the number of cores on your cluster\n",
    "- Group by **`traffic_source`** with 1-hour tumbling windows based on the **`createdAt`** column\n",
    "- Aggregate the approximate count of distinct users per **`user_id`** and alias the resulting column to **`active_users`**\n",
    "- Select **`traffic_source`**, **`active_users`**, and the **`hour`** extracted from **`window.start`** with an alias of **`hour`**\n",
    "- Sort by **`hour`** in ascending order\n",
    "Assign the resulting DataFrame to **`traffic_df`**."
   ]
  },
  {
   "cell_type": "code",
   "execution_count": 0,
   "metadata": {
    "application/vnd.databricks.v1+cell": {
     "cellMetadata": {
      "byteLimit": 2048000,
      "rowLimit": 10000
     },
     "inputWidgets": {},
     "nuid": "b290267f-3aba-4712-9f50-bafa4bf5a6bb",
     "showTitle": false,
     "title": ""
    }
   },
   "outputs": [],
   "source": [
    "# ANSWER\n",
    "from pyspark.sql.functions import approx_count_distinct, hour, window\n",
    "\n",
    "spark.conf.set(\"spark.sql.shuffle.partitions\", spark.sparkContext.defaultParallelism)\n",
    "\n",
    "traffic_df = (events_df\n",
    "              .groupBy(\"traffic_source\", window(col(\"createdAt\"), \"1 hour\"))\n",
    "              .agg(approx_count_distinct(\"user_id\").alias(\"active_users\"))\n",
    "              .select(col(\"traffic_source\"), col(\"active_users\"), hour(col(\"window.start\")).alias(\"hour\"))\n",
    "              .sort(\"hour\")\n",
    "             )"
   ]
  },
  {
   "cell_type": "code",
   "execution_count": 0,
   "metadata": {
    "application/vnd.databricks.v1+cell": {
     "cellMetadata": {
      "byteLimit": 2048000,
      "rowLimit": 10000
     },
     "inputWidgets": {},
     "nuid": "42f5db87-6a82-431b-b50e-04fce5b95fce",
     "showTitle": false,
     "title": ""
    }
   },
   "outputs": [
    {
     "output_type": "display_data",
     "data": {
      "text/html": [
       "<style scoped>\n",
       "  .ansiout {\n",
       "    display: block;\n",
       "    unicode-bidi: embed;\n",
       "    white-space: pre-wrap;\n",
       "    word-wrap: break-word;\n",
       "    word-break: break-all;\n",
       "    font-family: \"Menlo\", \"Monaco\", \"Consolas\", \"Ubuntu Mono\", \"Source Code Pro\", monospace;\n",
       "    font-size: 13px;\n",
       "    color: #555;\n",
       "    margin-left: 4px;\n",
       "    line-height: 19px;\n",
       "  }\n",
       "</style>\n",
       "java.net.NoRouteToHostException: No route to host\n",
       "\tat java.base/sun.nio.ch.SocketChannelImpl.checkConnect(Native Method)\n",
       "\tat java.base/sun.nio.ch.SocketChannelImpl.finishConnect(SocketChannelImpl.java:777)\n",
       "\tat shaded.v9_4.org.eclipse.jetty.io.SelectorManager.doFinishConnect(SelectorManager.java:355)\n",
       "\tat shaded.v9_4.org.eclipse.jetty.io.ManagedSelector.processConnect(ManagedSelector.java:347)\n",
       "\tat shaded.v9_4.org.eclipse.jetty.io.ManagedSelector.access$1700(ManagedSelector.java:65)\n",
       "\tat shaded.v9_4.org.eclipse.jetty.io.ManagedSelector$SelectorProducer.processSelected(ManagedSelector.java:676)\n",
       "\tat shaded.v9_4.org.eclipse.jetty.io.ManagedSelector$SelectorProducer.produce(ManagedSelector.java:535)\n",
       "\tat shaded.v9_4.org.eclipse.jetty.util.thread.strategy.EatWhatYouKill.produceTask(EatWhatYouKill.java:362)\n",
       "\tat shaded.v9_4.org.eclipse.jetty.util.thread.strategy.EatWhatYouKill.doProduce(EatWhatYouKill.java:186)\n",
       "\tat shaded.v9_4.org.eclipse.jetty.util.thread.strategy.EatWhatYouKill.tryProduce(EatWhatYouKill.java:173)\n",
       "\tat shaded.v9_4.org.eclipse.jetty.util.thread.strategy.EatWhatYouKill.run(EatWhatYouKill.java:131)\n",
       "\tat shaded.v9_4.org.eclipse.jetty.util.thread.ReservedThreadExecutor$ReservedThread.run(ReservedThreadExecutor.java:409)\n",
       "\tat com.databricks.rpc.ShadedInstrumentedQueuedThreadPool$$anon$2.$anonfun$run$7(InstrumentedQueuedThreadPool.scala:158)\n",
       "\tat scala.runtime.java8.JFunction0$mcV$sp.apply(JFunction0$mcV$sp.java:23)\n",
       "\tat com.databricks.instrumentation.QueuedThreadPoolInstrumenter.trackActiveThreads(QueuedThreadPoolInstrumenter.scala:66)\n",
       "\tat com.databricks.instrumentation.QueuedThreadPoolInstrumenter.trackActiveThreads$(QueuedThreadPoolInstrumenter.scala:63)\n",
       "\tat com.databricks.rpc.ShadedInstrumentedQueuedThreadPool.trackActiveThreads(InstrumentedQueuedThreadPool.scala:124)\n",
       "\tat com.databricks.rpc.ShadedInstrumentedQueuedThreadPool$$anon$2.run(InstrumentedQueuedThreadPool.scala:153)\n",
       "\tat shaded.v9_4.org.eclipse.jetty.util.thread.QueuedThreadPool.runJob(QueuedThreadPool.java:883)\n",
       "\tat shaded.v9_4.org.eclipse.jetty.util.thread.QueuedThreadPool$Runner.run(QueuedThreadPool.java:1034)\n",
       "\tat java.base/java.lang.Thread.run(Thread.java:829)"
      ]
     },
     "metadata": {
      "application/vnd.databricks.v1+output": {
       "arguments": {},
       "data": "java.net.NoRouteToHostException: No route to host\n\tat java.base/sun.nio.ch.SocketChannelImpl.checkConnect(Native Method)\n\tat java.base/sun.nio.ch.SocketChannelImpl.finishConnect(SocketChannelImpl.java:777)\n\tat shaded.v9_4.org.eclipse.jetty.io.SelectorManager.doFinishConnect(SelectorManager.java:355)\n\tat shaded.v9_4.org.eclipse.jetty.io.ManagedSelector.processConnect(ManagedSelector.java:347)\n\tat shaded.v9_4.org.eclipse.jetty.io.ManagedSelector.access$1700(ManagedSelector.java:65)\n\tat shaded.v9_4.org.eclipse.jetty.io.ManagedSelector$SelectorProducer.processSelected(ManagedSelector.java:676)\n\tat shaded.v9_4.org.eclipse.jetty.io.ManagedSelector$SelectorProducer.produce(ManagedSelector.java:535)\n\tat shaded.v9_4.org.eclipse.jetty.util.thread.strategy.EatWhatYouKill.produceTask(EatWhatYouKill.java:362)\n\tat shaded.v9_4.org.eclipse.jetty.util.thread.strategy.EatWhatYouKill.doProduce(EatWhatYouKill.java:186)\n\tat shaded.v9_4.org.eclipse.jetty.util.thread.strategy.EatWhatYouKill.tryProduce(EatWhatYouKill.java:173)\n\tat shaded.v9_4.org.eclipse.jetty.util.thread.strategy.EatWhatYouKill.run(EatWhatYouKill.java:131)\n\tat shaded.v9_4.org.eclipse.jetty.util.thread.ReservedThreadExecutor$ReservedThread.run(ReservedThreadExecutor.java:409)\n\tat com.databricks.rpc.ShadedInstrumentedQueuedThreadPool$$anon$2.$anonfun$run$7(InstrumentedQueuedThreadPool.scala:158)\n\tat scala.runtime.java8.JFunction0$mcV$sp.apply(JFunction0$mcV$sp.java:23)\n\tat com.databricks.instrumentation.QueuedThreadPoolInstrumenter.trackActiveThreads(QueuedThreadPoolInstrumenter.scala:66)\n\tat com.databricks.instrumentation.QueuedThreadPoolInstrumenter.trackActiveThreads$(QueuedThreadPoolInstrumenter.scala:63)\n\tat com.databricks.rpc.ShadedInstrumentedQueuedThreadPool.trackActiveThreads(InstrumentedQueuedThreadPool.scala:124)\n\tat com.databricks.rpc.ShadedInstrumentedQueuedThreadPool$$anon$2.run(InstrumentedQueuedThreadPool.scala:153)\n\tat shaded.v9_4.org.eclipse.jetty.util.thread.QueuedThreadPool.runJob(QueuedThreadPool.java:883)\n\tat shaded.v9_4.org.eclipse.jetty.util.thread.QueuedThreadPool$Runner.run(QueuedThreadPool.java:1034)\n\tat java.base/java.lang.Thread.run(Thread.java:829)\n",
       "errorSummary": "Internal error. Attach your notebook to a different compute or restart the current compute.",
       "errorTraceType": null,
       "metadata": {},
       "type": "ipynbError"
      }
     },
     "output_type": "display_data"
    }
   ],
   "source": [
    "display(traffic_df)"
   ]
  },
  {
   "cell_type": "markdown",
   "metadata": {
    "application/vnd.databricks.v1+cell": {
     "cellMetadata": {
      "byteLimit": 2048000,
      "rowLimit": 10000
     },
     "inputWidgets": {},
     "nuid": "6db11978-d0f3-4b24-8a1c-7c10ac5d67cb",
     "showTitle": false,
     "title": "--i18n-2a1ee964-474d-450f-99e2-9c023406fa73"
    }
   },
   "source": [
    "\n",
    "\n",
    "\n",
    "**2.1: CHECK YOUR WORK**"
   ]
  },
  {
   "cell_type": "code",
   "execution_count": 0,
   "metadata": {
    "application/vnd.databricks.v1+cell": {
     "cellMetadata": {
      "byteLimit": 2048000,
      "rowLimit": 10000
     },
     "inputWidgets": {},
     "nuid": "48b5b3ff-e045-4fda-bc70-58e509b6e664",
     "showTitle": false,
     "title": ""
    }
   },
   "outputs": [
    {
     "output_type": "display_data",
     "data": {
      "text/html": [
       "<style>\n",
       "      table { text-align: left; border-collapse: collapse; margin: 1em; caption-side: bottom; font-family: Sans-Serif; font-size: 16px}\n",
       "      caption { text-align: left; padding: 5px }\n",
       "      th, td { border: 1px solid #ddd; padding: 5px }\n",
       "      th { background-color: #ddd }\n",
       "      .passed { background-color: #97d897 }\n",
       "      .failed { background-color: #e2716c }\n",
       "      .skipped { background-color: #f9d275 }\n",
       "      .results .points { display: none }\n",
       "      .results .message { display: block; font-size:smaller; color:gray }\n",
       "      .results .note { display: block; font-size:smaller; font-decoration:italics }\n",
       "      .results .passed::before  { content: \"Passed\" }\n",
       "      .results .failed::before  { content: \"Failed\" }\n",
       "      .results .skipped::before { content: \"Skipped\" }\n",
       "      .grade .passed  .message:empty::before { content:\"Passed\" }\n",
       "      .grade .failed  .message:empty::before { content:\"Failed\" }\n",
       "      .grade .skipped .message:empty::before { content:\"Skipped\" }\n",
       "    </style>\n",
       "<table class='results'>\n",
       "  <tr><th class='points'>Points</th><th class='test'>Test</th><th class='result'>Result</th></tr>\n",
       "<tr>\n",
       "  <td class='points'>1</td>\n",
       "  <td class='test'>\n",
       "    Schema is of type StructType\n",
       "  </td>\n",
       "  <td class='result passed'></td>\n",
       "</tr>\n",
       "<tr>\n",
       "  <td class='points'>1</td>\n",
       "  <td class='test'>\n",
       "    Schema contians three field\n",
       "  </td>\n",
       "  <td class='result passed'></td>\n",
       "</tr>\n",
       "<tr>\n",
       "  <td class='points'>1</td>\n",
       "  <td class='test'>\n",
       "    Schema contains \"traffic_source\" of type StringType\n",
       "  </td>\n",
       "  <td class='result passed'></td>\n",
       "</tr>\n",
       "<tr>\n",
       "  <td class='points'>1</td>\n",
       "  <td class='test'>\n",
       "    Schema contains \"active_users\" of type LongType\n",
       "  </td>\n",
       "  <td class='result passed'></td>\n",
       "</tr>\n",
       "<tr>\n",
       "  <td class='points'>1</td>\n",
       "  <td class='test'>\n",
       "    Schema contains \"hour\" of type IntegerType\n",
       "  </td>\n",
       "  <td class='result passed'></td>\n",
       "</tr>\n",
       "  <caption class='points'>Score: 5</caption>\n",
       "</table>"
      ]
     },
     "metadata": {
      "application/vnd.databricks.v1+output": {
       "addedWidgets": {},
       "arguments": {},
       "data": "<style>\n      table { text-align: left; border-collapse: collapse; margin: 1em; caption-side: bottom; font-family: Sans-Serif; font-size: 16px}\n      caption { text-align: left; padding: 5px }\n      th, td { border: 1px solid #ddd; padding: 5px }\n      th { background-color: #ddd }\n      .passed { background-color: #97d897 }\n      .failed { background-color: #e2716c }\n      .skipped { background-color: #f9d275 }\n      .results .points { display: none }\n      .results .message { display: block; font-size:smaller; color:gray }\n      .results .note { display: block; font-size:smaller; font-decoration:italics }\n      .results .passed::before  { content: \"Passed\" }\n      .results .failed::before  { content: \"Failed\" }\n      .results .skipped::before { content: \"Skipped\" }\n      .grade .passed  .message:empty::before { content:\"Passed\" }\n      .grade .failed  .message:empty::before { content:\"Failed\" }\n      .grade .skipped .message:empty::before { content:\"Skipped\" }\n    </style>\n<table class='results'>\n  <tr><th class='points'>Points</th><th class='test'>Test</th><th class='result'>Result</th></tr>\n<tr>\n  <td class='points'>1</td>\n  <td class='test'>\n    Schema is of type StructType\n  </td>\n  <td class='result passed'></td>\n</tr>\n<tr>\n  <td class='points'>1</td>\n  <td class='test'>\n    Schema contians three field\n  </td>\n  <td class='result passed'></td>\n</tr>\n<tr>\n  <td class='points'>1</td>\n  <td class='test'>\n    Schema contains \"traffic_source\" of type StringType\n  </td>\n  <td class='result passed'></td>\n</tr>\n<tr>\n  <td class='points'>1</td>\n  <td class='test'>\n    Schema contains \"active_users\" of type LongType\n  </td>\n  <td class='result passed'></td>\n</tr>\n<tr>\n  <td class='points'>1</td>\n  <td class='test'>\n    Schema contains \"hour\" of type IntegerType\n  </td>\n  <td class='result passed'></td>\n</tr>\n  <caption class='points'>Score: 5</caption>\n</table>",
       "datasetInfos": [],
       "metadata": {},
       "removedWidgets": [],
       "textData": null,
       "type": "htmlSandbox"
      }
     },
     "output_type": "display_data"
    }
   ],
   "source": [
    "DA.tests.validate_2_1(traffic_df.schema)"
   ]
  },
  {
   "cell_type": "markdown",
   "metadata": {
    "application/vnd.databricks.v1+cell": {
     "cellMetadata": {
      "byteLimit": 2048000,
      "rowLimit": 10000
     },
     "inputWidgets": {},
     "nuid": "7ed25253-1fca-401a-aac9-1fca374280ae",
     "showTitle": false,
     "title": "--i18n-690240f6-4981-405c-8719-2f24054c889d"
    }
   },
   "source": [
    "\n",
    "\n",
    "### 3. Execute query with display() and plot results\n",
    "- Use **`display`** to start **`traffic_df`** as a streaming query and display the resulting memory sink\n",
    "  - Assign \"hourly_traffic\" as the name of the query by setting the **`streamName`** parameter of **`display`**\n",
    "- Plot the streaming query results as a bar graph\n",
    "- Configure the following plot options:\n",
    "  - Keys: **`hour`**\n",
    "  - Series groupings: **`traffic_source`**\n",
    "  - Values: **`active_users`**"
   ]
  },
  {
   "cell_type": "code",
   "execution_count": 0,
   "metadata": {
    "application/vnd.databricks.v1+cell": {
     "cellMetadata": {
      "byteLimit": 2048000,
      "rowLimit": 10000
     },
     "inputWidgets": {},
     "nuid": "42101535-e76a-402e-9500-78f6a0cf2bd7",
     "showTitle": false,
     "title": ""
    }
   },
   "outputs": [
    {
     "output_type": "display_data",
     "data": {
      "text/html": [
       "<style scoped>\n",
       "  .table-result-container {\n",
       "    max-height: 300px;\n",
       "    overflow: auto;\n",
       "  }\n",
       "  table, th, td {\n",
       "    border: 1px solid black;\n",
       "    border-collapse: collapse;\n",
       "  }\n",
       "  th, td {\n",
       "    padding: 5px;\n",
       "  }\n",
       "  th {\n",
       "    text-align: left;\n",
       "  }\n",
       "</style><div class='table-result-container'><table class='table-result'><thead style='background-color: white'><tr><th>traffic_source</th><th>active_users</th><th>hour</th></tr></thead><tbody><tr><td>youtube</td><td>479</td><td>0</td></tr><tr><td>facebook</td><td>1503</td><td>0</td></tr><tr><td>instagram</td><td>907</td><td>0</td></tr><tr><td>google</td><td>2523</td><td>0</td></tr><tr><td>email</td><td>787</td><td>0</td></tr><tr><td>direct</td><td>806</td><td>0</td></tr></tbody></table></div>"
      ]
     },
     "metadata": {
      "application/vnd.databricks.v1+output": {
       "addedWidgets": {},
       "aggData": [],
       "aggError": "",
       "aggOverflow": false,
       "aggSchema": [],
       "aggSeriesLimitReached": false,
       "aggType": "",
       "arguments": {},
       "columnCustomDisplayInfos": {},
       "data": [
        [
         "youtube",
         479,
         0
        ],
        [
         "facebook",
         1503,
         0
        ],
        [
         "instagram",
         907,
         0
        ],
        [
         "google",
         2523,
         0
        ],
        [
         "email",
         787,
         0
        ],
        [
         "direct",
         806,
         0
        ]
       ],
       "datasetInfos": [],
       "dbfsResultPath": null,
       "isJsonSchema": true,
       "metadata": {
        "isDbfsCommandResult": false
       },
       "overflow": false,
       "plotOptions": {
        "customPlotOptions": {},
        "displayType": "table",
        "pivotAggregation": null,
        "pivotColumns": null,
        "xColumns": null,
        "yColumns": null
       },
       "removedWidgets": [],
       "schema": [
        {
         "metadata": "{}",
         "name": "traffic_source",
         "type": "\"string\""
        },
        {
         "metadata": "{}",
         "name": "active_users",
         "type": "\"long\""
        },
        {
         "metadata": "{}",
         "name": "hour",
         "type": "\"integer\""
        }
       ],
       "type": "table"
      }
     },
     "output_type": "display_data"
    }
   ],
   "source": [
    "# ANSWER\n",
    "display(traffic_df, streamName=\"hourly_traffic\")"
   ]
  },
  {
   "cell_type": "markdown",
   "metadata": {
    "application/vnd.databricks.v1+cell": {
     "cellMetadata": {
      "byteLimit": 2048000,
      "rowLimit": 10000
     },
     "inputWidgets": {},
     "nuid": "bc967637-62b0-42b1-9aab-0ba791b582e2",
     "showTitle": false,
     "title": "--i18n-80df0c45-6643-4933-816a-3c63b68719a0"
    }
   },
   "source": [
    "\n",
    "\n",
    "\n",
    "**3.1: CHECK YOUR WORK**\n",
    "\n",
    "- The bar chart should plot **`hour`** on the x-axis and **`active_users`** on the y-axis\n",
    "- Six bars should appear at every hour for all traffic sources\n",
    "- The chart should stop at hour 23"
   ]
  },
  {
   "cell_type": "markdown",
   "metadata": {
    "application/vnd.databricks.v1+cell": {
     "cellMetadata": {
      "byteLimit": 2048000,
      "rowLimit": 10000
     },
     "inputWidgets": {},
     "nuid": "d718c502-2a1c-483d-b0fa-817331d689d7",
     "showTitle": false,
     "title": "--i18n-f9ef0d57-9b71-4bfa-ae83-b854770c603d"
    }
   },
   "source": [
    "\n",
    "\n",
    "### 4. Manage streaming query\n",
    "- Iterate over SparkSession's list of active streams to find one with name \"hourly_traffic\"\n",
    "- Stop the streaming query"
   ]
  },
  {
   "cell_type": "code",
   "execution_count": 0,
   "metadata": {
    "application/vnd.databricks.v1+cell": {
     "cellMetadata": {
      "byteLimit": 2048000,
      "rowLimit": 10000
     },
     "inputWidgets": {},
     "nuid": "cef4d11b-996c-46f6-a0ce-423de5ed2c5c",
     "showTitle": false,
     "title": ""
    }
   },
   "outputs": [
    {
     "output_type": "stream",
     "name": "stdout",
     "output_type": "stream",
     "text": [
      "Processed 0 of 2 batches...\nProcessed 0 of 2 batches...\nProcessed 0 of 2 batches...\nProcessed 1 of 2 batches...\nProcessed 2 of 2 batches...\nThe stream is now active with 2 batches having been processed.\n"
     ]
    }
   ],
   "source": [
    "# ANSWER\n",
    "DA.block_until_stream_is_ready(\"hourly_traffic\")\n",
    "\n",
    "for s in spark.streams.active:\n",
    "    if s.name == \"hourly_traffic\":\n",
    "        s.stop()\n",
    "        s.awaitTermination()"
   ]
  },
  {
   "cell_type": "markdown",
   "metadata": {
    "application/vnd.databricks.v1+cell": {
     "cellMetadata": {
      "byteLimit": 2048000,
      "rowLimit": 10000
     },
     "inputWidgets": {},
     "nuid": "f9e4b96a-9a44-4d08-a1ee-93b81f8d3cf6",
     "showTitle": false,
     "title": "--i18n-9ecfd9e1-edfd-4964-b45e-fa207f194320"
    }
   },
   "source": [
    "\n",
    "\n",
    "\n",
    "**4.1: CHECK YOUR WORK**\n",
    "Print all active streams to check that \"hourly_traffic\" is no longer there"
   ]
  },
  {
   "cell_type": "code",
   "execution_count": 0,
   "metadata": {
    "application/vnd.databricks.v1+cell": {
     "cellMetadata": {
      "byteLimit": 2048000,
      "rowLimit": 10000
     },
     "inputWidgets": {},
     "nuid": "e6d43839-68bd-43f4-a84c-7b0df7a7348d",
     "showTitle": false,
     "title": ""
    }
   },
   "outputs": [
    {
     "output_type": "display_data",
     "data": {
      "text/html": [
       "<style>\n",
       "      table { text-align: left; border-collapse: collapse; margin: 1em; caption-side: bottom; font-family: Sans-Serif; font-size: 16px}\n",
       "      caption { text-align: left; padding: 5px }\n",
       "      th, td { border: 1px solid #ddd; padding: 5px }\n",
       "      th { background-color: #ddd }\n",
       "      .passed { background-color: #97d897 }\n",
       "      .failed { background-color: #e2716c }\n",
       "      .skipped { background-color: #f9d275 }\n",
       "      .results .points { display: none }\n",
       "      .results .message { display: block; font-size:smaller; color:gray }\n",
       "      .results .note { display: block; font-size:smaller; font-decoration:italics }\n",
       "      .results .passed::before  { content: \"Passed\" }\n",
       "      .results .failed::before  { content: \"Failed\" }\n",
       "      .results .skipped::before { content: \"Skipped\" }\n",
       "      .grade .passed  .message:empty::before { content:\"Passed\" }\n",
       "      .grade .failed  .message:empty::before { content:\"Failed\" }\n",
       "      .grade .skipped .message:empty::before { content:\"Skipped\" }\n",
       "    </style>\n",
       "<table class='results'>\n",
       "  <tr><th class='points'>Points</th><th class='test'>Test</th><th class='result'>Result</th></tr>\n",
       "<tr>\n",
       "  <td class='points'>1</td>\n",
       "  <td class='test'>\n",
       "    All queries have stopped streaming\n",
       "  </td>\n",
       "  <td class='result passed'></td>\n",
       "</tr>\n",
       "  <caption class='points'>Score: 1</caption>\n",
       "</table>"
      ]
     },
     "metadata": {
      "application/vnd.databricks.v1+output": {
       "addedWidgets": {},
       "arguments": {},
       "data": "<style>\n      table { text-align: left; border-collapse: collapse; margin: 1em; caption-side: bottom; font-family: Sans-Serif; font-size: 16px}\n      caption { text-align: left; padding: 5px }\n      th, td { border: 1px solid #ddd; padding: 5px }\n      th { background-color: #ddd }\n      .passed { background-color: #97d897 }\n      .failed { background-color: #e2716c }\n      .skipped { background-color: #f9d275 }\n      .results .points { display: none }\n      .results .message { display: block; font-size:smaller; color:gray }\n      .results .note { display: block; font-size:smaller; font-decoration:italics }\n      .results .passed::before  { content: \"Passed\" }\n      .results .failed::before  { content: \"Failed\" }\n      .results .skipped::before { content: \"Skipped\" }\n      .grade .passed  .message:empty::before { content:\"Passed\" }\n      .grade .failed  .message:empty::before { content:\"Failed\" }\n      .grade .skipped .message:empty::before { content:\"Skipped\" }\n    </style>\n<table class='results'>\n  <tr><th class='points'>Points</th><th class='test'>Test</th><th class='result'>Result</th></tr>\n<tr>\n  <td class='points'>1</td>\n  <td class='test'>\n    All queries have stopped streaming\n  </td>\n  <td class='result passed'></td>\n</tr>\n  <caption class='points'>Score: 1</caption>\n</table>",
       "datasetInfos": [],
       "metadata": {},
       "removedWidgets": [],
       "textData": null,
       "type": "htmlSandbox"
      }
     },
     "output_type": "display_data"
    }
   ],
   "source": [
    "DA.tests.validate_4_1()"
   ]
  },
  {
   "cell_type": "markdown",
   "metadata": {
    "application/vnd.databricks.v1+cell": {
     "cellMetadata": {
      "byteLimit": 2048000,
      "rowLimit": 10000
     },
     "inputWidgets": {},
     "nuid": "3e841112-5733-4b8e-b998-1a4575b221e2",
     "showTitle": false,
     "title": "--i18n-a78e18c1-6071-4759-9e57-61060aab83bc"
    }
   },
   "source": [
    "\n",
    "\n",
    "### Classroom Cleanup\n",
    "Run the cell below to clean up resources."
   ]
  },
  {
   "cell_type": "code",
   "execution_count": 0,
   "metadata": {
    "application/vnd.databricks.v1+cell": {
     "cellMetadata": {
      "byteLimit": 2048000,
      "rowLimit": 10000
     },
     "inputWidgets": {},
     "nuid": "4f62913d-1b99-4276-b081-843a45fdf82d",
     "showTitle": false,
     "title": ""
    }
   },
   "outputs": [
    {
     "output_type": "stream",
     "name": "stdout",
     "output_type": "stream",
     "text": [
      "Resetting the learning environment:\n| dropping the schema \"anacadriano20_6ryf_da_asp\"...(1 seconds)\n| removing the working directory \"dbfs:/mnt/dbacademy-users/anacadriano20@gmail.com/apache-spark-programming-with-databricks\"...(1 seconds)\n\nValidating the locally installed datasets:\n| listing local files...(3 seconds)\n| validation completed...(3 seconds total)\n"
     ]
    }
   ],
   "source": [
    "DA.cleanup()"
   ]
  },
  {
   "cell_type": "markdown",
   "metadata": {
    "application/vnd.databricks.v1+cell": {
     "cellMetadata": {
      "byteLimit": 2048000,
      "rowLimit": 10000
     },
     "inputWidgets": {},
     "nuid": "b68d01dd-a4cf-4656-a900-4b1030ae6b08",
     "showTitle": false,
     "title": ""
    }
   },
   "source": [
    "&copy; 2023 Databricks, Inc. All rights reserved.<br/>\n",
    "Apache, Apache Spark, Spark and the Spark logo are trademarks of the <a href=\"https://www.apache.org/\">Apache Software Foundation</a>.<br/>\n",
    "<br/>\n",
    "<a href=\"https://databricks.com/privacy-policy\">Privacy Policy</a> | <a href=\"https://databricks.com/terms-of-use\">Terms of Use</a> | <a href=\"https://help.databricks.com/\">Support</a>"
   ]
  }
 ],
 "metadata": {
  "application/vnd.databricks.v1+notebook": {
   "dashboards": [],
   "language": "python",
   "notebookMetadata": {
    "pythonIndentUnit": 2
   },
   "notebookName": "ASP 5.1bL - Hourly Activity by Traffic Lab",
   "widgets": {}
  }
 },
 "nbformat": 4,
 "nbformat_minor": 0
}
